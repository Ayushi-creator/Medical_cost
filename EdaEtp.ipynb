{
  "nbformat": 4,
  "nbformat_minor": 0,
  "metadata": {
    "colab": {
      "provenance": [],
      "authorship_tag": "ABX9TyM5ikH0SAAQQ8M7Dsem6dww",
      "include_colab_link": true
    },
    "kernelspec": {
      "name": "python3",
      "display_name": "Python 3"
    },
    "language_info": {
      "name": "python"
    }
  },
  "cells": [
    {
      "cell_type": "markdown",
      "metadata": {
        "id": "view-in-github",
        "colab_type": "text"
      },
      "source": [
        "<a href=\"https://colab.research.google.com/github/Ayushi-creator/Medical_cost/blob/main/EdaEtp.ipynb\" target=\"_parent\"><img src=\"https://colab.research.google.com/assets/colab-badge.svg\" alt=\"Open In Colab\"/></a>"
      ]
    },
    {
      "cell_type": "markdown",
      "source": [
        "# Medical Cost Personal Datasets"
      ],
      "metadata": {
        "id": "q5rJPT83QdHe"
      }
    },
    {
      "cell_type": "markdown",
      "source": [
        "**Content**\n",
        "\n",
        "---\n",
        "\n",
        "\n",
        "\n",
        "---\n",
        "\n"
      ],
      "metadata": {
        "id": "3AnvB_rhQrt3"
      }
    },
    {
      "cell_type": "markdown",
      "source": [
        "**Columns**"
      ],
      "metadata": {
        "id": "NqiW3IZ5Q2bw"
      }
    },
    {
      "cell_type": "markdown",
      "source": [
        "age: age of primary beneficiary\n",
        "\n",
        "sex: insurance contractor gender, female, male\n",
        "\n",
        "bmi: Body mass index, providing an understanding of body, weights that are relatively high or low relative to height,\n",
        "\n",
        "objective index of body weight (kg / m ^ 2) using the ratio of height to weight, ideally 18.5 to 24.9\n",
        "\n",
        "children: Number of children covered by health insurance / Number of dependents\n",
        "\n",
        "smoker: Smoking\n",
        "\n",
        "region: the beneficiary's residential area in the US, northeast, southeast, southwest, northwest.\n",
        "\n",
        "charges: Individual medical costs billed by health insurance\n",
        "\n",
        "\n",
        "---\n",
        "\n",
        "\n",
        "\n",
        "---\n",
        "\n",
        "\n"
      ],
      "metadata": {
        "id": "3ENpOBGQQ8uD"
      }
    },
    {
      "cell_type": "markdown",
      "source": [
        "# Import data"
      ],
      "metadata": {
        "id": "cwIc__9cRVYO"
      }
    },
    {
      "cell_type": "markdown",
      "source": [
        "As a first step, we need to have to do some Data Cleaning and EDA (exploratory data analysis).\n",
        "\n",
        "The process of modifying data means try to find information that fits the criteria for the specific problem/objective."
      ],
      "metadata": {
        "id": "SZjWIe6FRVN5"
      }
    },
    {
      "cell_type": "code",
      "source": [
        "import pandas as pd\n",
        "import numpy as np\n",
        "import matplotlib.pyplot as plt\n",
        "from scipy import stats\n",
        "import plotly.express as px\n",
        "import seaborn as sns"
      ],
      "metadata": {
        "id": "fNhRL80QS-HB"
      },
      "execution_count": 32,
      "outputs": []
    },
    {
      "cell_type": "code",
      "source": [
        "# Import data\n",
        "df = pd.read_csv('https://raw.githubusercontent.com/Ramanand-Yadav/DataSet/main/Medical_Cost.csv')\n",
        "df"
      ],
      "metadata": {
        "id": "LwYpxoezS-na",
        "colab": {
          "base_uri": "https://localhost:8080/",
          "height": 424
        },
        "outputId": "1152c237-ff93-4b2f-ecbc-ba44633e5d30"
      },
      "execution_count": 5,
      "outputs": [
        {
          "output_type": "execute_result",
          "data": {
            "text/plain": [
              "      age     sex     bmi  children smoker     region      charges\n",
              "0      19  female  27.900         0    yes  southwest  16884.92400\n",
              "1      18    male  33.770         1     no  southeast   1725.55230\n",
              "2      28    male  33.000         3     no  southeast   4449.46200\n",
              "3      33    male  22.705         0     no  northwest  21984.47061\n",
              "4      32    male  28.880         0     no  northwest   3866.85520\n",
              "...   ...     ...     ...       ...    ...        ...          ...\n",
              "1333   50    male  30.970         3     no  northwest  10600.54830\n",
              "1334   18  female  31.920         0     no  northeast   2205.98080\n",
              "1335   18  female  36.850         0     no  southeast   1629.83350\n",
              "1336   21  female  25.800         0     no  southwest   2007.94500\n",
              "1337   61  female  29.070         0    yes  northwest  29141.36030\n",
              "\n",
              "[1338 rows x 7 columns]"
            ],
            "text/html": [
              "\n",
              "  <div id=\"df-47ad7850-a03c-4bd2-86e9-2689272425df\">\n",
              "    <div class=\"colab-df-container\">\n",
              "      <div>\n",
              "<style scoped>\n",
              "    .dataframe tbody tr th:only-of-type {\n",
              "        vertical-align: middle;\n",
              "    }\n",
              "\n",
              "    .dataframe tbody tr th {\n",
              "        vertical-align: top;\n",
              "    }\n",
              "\n",
              "    .dataframe thead th {\n",
              "        text-align: right;\n",
              "    }\n",
              "</style>\n",
              "<table border=\"1\" class=\"dataframe\">\n",
              "  <thead>\n",
              "    <tr style=\"text-align: right;\">\n",
              "      <th></th>\n",
              "      <th>age</th>\n",
              "      <th>sex</th>\n",
              "      <th>bmi</th>\n",
              "      <th>children</th>\n",
              "      <th>smoker</th>\n",
              "      <th>region</th>\n",
              "      <th>charges</th>\n",
              "    </tr>\n",
              "  </thead>\n",
              "  <tbody>\n",
              "    <tr>\n",
              "      <th>0</th>\n",
              "      <td>19</td>\n",
              "      <td>female</td>\n",
              "      <td>27.900</td>\n",
              "      <td>0</td>\n",
              "      <td>yes</td>\n",
              "      <td>southwest</td>\n",
              "      <td>16884.92400</td>\n",
              "    </tr>\n",
              "    <tr>\n",
              "      <th>1</th>\n",
              "      <td>18</td>\n",
              "      <td>male</td>\n",
              "      <td>33.770</td>\n",
              "      <td>1</td>\n",
              "      <td>no</td>\n",
              "      <td>southeast</td>\n",
              "      <td>1725.55230</td>\n",
              "    </tr>\n",
              "    <tr>\n",
              "      <th>2</th>\n",
              "      <td>28</td>\n",
              "      <td>male</td>\n",
              "      <td>33.000</td>\n",
              "      <td>3</td>\n",
              "      <td>no</td>\n",
              "      <td>southeast</td>\n",
              "      <td>4449.46200</td>\n",
              "    </tr>\n",
              "    <tr>\n",
              "      <th>3</th>\n",
              "      <td>33</td>\n",
              "      <td>male</td>\n",
              "      <td>22.705</td>\n",
              "      <td>0</td>\n",
              "      <td>no</td>\n",
              "      <td>northwest</td>\n",
              "      <td>21984.47061</td>\n",
              "    </tr>\n",
              "    <tr>\n",
              "      <th>4</th>\n",
              "      <td>32</td>\n",
              "      <td>male</td>\n",
              "      <td>28.880</td>\n",
              "      <td>0</td>\n",
              "      <td>no</td>\n",
              "      <td>northwest</td>\n",
              "      <td>3866.85520</td>\n",
              "    </tr>\n",
              "    <tr>\n",
              "      <th>...</th>\n",
              "      <td>...</td>\n",
              "      <td>...</td>\n",
              "      <td>...</td>\n",
              "      <td>...</td>\n",
              "      <td>...</td>\n",
              "      <td>...</td>\n",
              "      <td>...</td>\n",
              "    </tr>\n",
              "    <tr>\n",
              "      <th>1333</th>\n",
              "      <td>50</td>\n",
              "      <td>male</td>\n",
              "      <td>30.970</td>\n",
              "      <td>3</td>\n",
              "      <td>no</td>\n",
              "      <td>northwest</td>\n",
              "      <td>10600.54830</td>\n",
              "    </tr>\n",
              "    <tr>\n",
              "      <th>1334</th>\n",
              "      <td>18</td>\n",
              "      <td>female</td>\n",
              "      <td>31.920</td>\n",
              "      <td>0</td>\n",
              "      <td>no</td>\n",
              "      <td>northeast</td>\n",
              "      <td>2205.98080</td>\n",
              "    </tr>\n",
              "    <tr>\n",
              "      <th>1335</th>\n",
              "      <td>18</td>\n",
              "      <td>female</td>\n",
              "      <td>36.850</td>\n",
              "      <td>0</td>\n",
              "      <td>no</td>\n",
              "      <td>southeast</td>\n",
              "      <td>1629.83350</td>\n",
              "    </tr>\n",
              "    <tr>\n",
              "      <th>1336</th>\n",
              "      <td>21</td>\n",
              "      <td>female</td>\n",
              "      <td>25.800</td>\n",
              "      <td>0</td>\n",
              "      <td>no</td>\n",
              "      <td>southwest</td>\n",
              "      <td>2007.94500</td>\n",
              "    </tr>\n",
              "    <tr>\n",
              "      <th>1337</th>\n",
              "      <td>61</td>\n",
              "      <td>female</td>\n",
              "      <td>29.070</td>\n",
              "      <td>0</td>\n",
              "      <td>yes</td>\n",
              "      <td>northwest</td>\n",
              "      <td>29141.36030</td>\n",
              "    </tr>\n",
              "  </tbody>\n",
              "</table>\n",
              "<p>1338 rows × 7 columns</p>\n",
              "</div>\n",
              "      <button class=\"colab-df-convert\" onclick=\"convertToInteractive('df-47ad7850-a03c-4bd2-86e9-2689272425df')\"\n",
              "              title=\"Convert this dataframe to an interactive table.\"\n",
              "              style=\"display:none;\">\n",
              "        \n",
              "  <svg xmlns=\"http://www.w3.org/2000/svg\" height=\"24px\"viewBox=\"0 0 24 24\"\n",
              "       width=\"24px\">\n",
              "    <path d=\"M0 0h24v24H0V0z\" fill=\"none\"/>\n",
              "    <path d=\"M18.56 5.44l.94 2.06.94-2.06 2.06-.94-2.06-.94-.94-2.06-.94 2.06-2.06.94zm-11 1L8.5 8.5l.94-2.06 2.06-.94-2.06-.94L8.5 2.5l-.94 2.06-2.06.94zm10 10l.94 2.06.94-2.06 2.06-.94-2.06-.94-.94-2.06-.94 2.06-2.06.94z\"/><path d=\"M17.41 7.96l-1.37-1.37c-.4-.4-.92-.59-1.43-.59-.52 0-1.04.2-1.43.59L10.3 9.45l-7.72 7.72c-.78.78-.78 2.05 0 2.83L4 21.41c.39.39.9.59 1.41.59.51 0 1.02-.2 1.41-.59l7.78-7.78 2.81-2.81c.8-.78.8-2.07 0-2.86zM5.41 20L4 18.59l7.72-7.72 1.47 1.35L5.41 20z\"/>\n",
              "  </svg>\n",
              "      </button>\n",
              "      \n",
              "  <style>\n",
              "    .colab-df-container {\n",
              "      display:flex;\n",
              "      flex-wrap:wrap;\n",
              "      gap: 12px;\n",
              "    }\n",
              "\n",
              "    .colab-df-convert {\n",
              "      background-color: #E8F0FE;\n",
              "      border: none;\n",
              "      border-radius: 50%;\n",
              "      cursor: pointer;\n",
              "      display: none;\n",
              "      fill: #1967D2;\n",
              "      height: 32px;\n",
              "      padding: 0 0 0 0;\n",
              "      width: 32px;\n",
              "    }\n",
              "\n",
              "    .colab-df-convert:hover {\n",
              "      background-color: #E2EBFA;\n",
              "      box-shadow: 0px 1px 2px rgba(60, 64, 67, 0.3), 0px 1px 3px 1px rgba(60, 64, 67, 0.15);\n",
              "      fill: #174EA6;\n",
              "    }\n",
              "\n",
              "    [theme=dark] .colab-df-convert {\n",
              "      background-color: #3B4455;\n",
              "      fill: #D2E3FC;\n",
              "    }\n",
              "\n",
              "    [theme=dark] .colab-df-convert:hover {\n",
              "      background-color: #434B5C;\n",
              "      box-shadow: 0px 1px 3px 1px rgba(0, 0, 0, 0.15);\n",
              "      filter: drop-shadow(0px 1px 2px rgba(0, 0, 0, 0.3));\n",
              "      fill: #FFFFFF;\n",
              "    }\n",
              "  </style>\n",
              "\n",
              "      <script>\n",
              "        const buttonEl =\n",
              "          document.querySelector('#df-47ad7850-a03c-4bd2-86e9-2689272425df button.colab-df-convert');\n",
              "        buttonEl.style.display =\n",
              "          google.colab.kernel.accessAllowed ? 'block' : 'none';\n",
              "\n",
              "        async function convertToInteractive(key) {\n",
              "          const element = document.querySelector('#df-47ad7850-a03c-4bd2-86e9-2689272425df');\n",
              "          const dataTable =\n",
              "            await google.colab.kernel.invokeFunction('convertToInteractive',\n",
              "                                                     [key], {});\n",
              "          if (!dataTable) return;\n",
              "\n",
              "          const docLinkHtml = 'Like what you see? Visit the ' +\n",
              "            '<a target=\"_blank\" href=https://colab.research.google.com/notebooks/data_table.ipynb>data table notebook</a>'\n",
              "            + ' to learn more about interactive tables.';\n",
              "          element.innerHTML = '';\n",
              "          dataTable['output_type'] = 'display_data';\n",
              "          await google.colab.output.renderOutput(dataTable, element);\n",
              "          const docLink = document.createElement('div');\n",
              "          docLink.innerHTML = docLinkHtml;\n",
              "          element.appendChild(docLink);\n",
              "        }\n",
              "      </script>\n",
              "    </div>\n",
              "  </div>\n",
              "  "
            ]
          },
          "metadata": {},
          "execution_count": 5
        }
      ]
    },
    {
      "cell_type": "code",
      "source": [
        "# Get columns' data type\n",
        "df.info()"
      ],
      "metadata": {
        "colab": {
          "base_uri": "https://localhost:8080/"
        },
        "id": "TQeRura5R8zT",
        "outputId": "dedec212-6bca-46fd-8d88-1a94c5545b07"
      },
      "execution_count": 6,
      "outputs": [
        {
          "output_type": "stream",
          "name": "stdout",
          "text": [
            "<class 'pandas.core.frame.DataFrame'>\n",
            "RangeIndex: 1338 entries, 0 to 1337\n",
            "Data columns (total 7 columns):\n",
            " #   Column    Non-Null Count  Dtype  \n",
            "---  ------    --------------  -----  \n",
            " 0   age       1338 non-null   int64  \n",
            " 1   sex       1338 non-null   object \n",
            " 2   bmi       1338 non-null   float64\n",
            " 3   children  1338 non-null   int64  \n",
            " 4   smoker    1338 non-null   object \n",
            " 5   region    1338 non-null   object \n",
            " 6   charges   1338 non-null   float64\n",
            "dtypes: float64(2), int64(2), object(3)\n",
            "memory usage: 73.3+ KB\n"
          ]
        }
      ]
    },
    {
      "cell_type": "code",
      "source": [
        "# More info about the data\n",
        "df.describe().T.round(2)"
      ],
      "metadata": {
        "colab": {
          "base_uri": "https://localhost:8080/",
          "height": 175
        },
        "id": "8EVbrSymSE4s",
        "outputId": "1a8cd8e1-a67e-485f-a1ec-e21d4959e17d"
      },
      "execution_count": 7,
      "outputs": [
        {
          "output_type": "execute_result",
          "data": {
            "text/plain": [
              "           count      mean       std      min      25%      50%       75%  \\\n",
              "age       1338.0     39.21     14.05    18.00    27.00    39.00     51.00   \n",
              "bmi       1338.0     30.66      6.10    15.96    26.30    30.40     34.69   \n",
              "children  1338.0      1.09      1.21     0.00     0.00     1.00      2.00   \n",
              "charges   1338.0  13270.42  12110.01  1121.87  4740.29  9382.03  16639.91   \n",
              "\n",
              "               max  \n",
              "age          64.00  \n",
              "bmi          53.13  \n",
              "children      5.00  \n",
              "charges   63770.43  "
            ],
            "text/html": [
              "\n",
              "  <div id=\"df-a61633fc-9af2-4e9b-a5cc-cfe36f7f7fda\">\n",
              "    <div class=\"colab-df-container\">\n",
              "      <div>\n",
              "<style scoped>\n",
              "    .dataframe tbody tr th:only-of-type {\n",
              "        vertical-align: middle;\n",
              "    }\n",
              "\n",
              "    .dataframe tbody tr th {\n",
              "        vertical-align: top;\n",
              "    }\n",
              "\n",
              "    .dataframe thead th {\n",
              "        text-align: right;\n",
              "    }\n",
              "</style>\n",
              "<table border=\"1\" class=\"dataframe\">\n",
              "  <thead>\n",
              "    <tr style=\"text-align: right;\">\n",
              "      <th></th>\n",
              "      <th>count</th>\n",
              "      <th>mean</th>\n",
              "      <th>std</th>\n",
              "      <th>min</th>\n",
              "      <th>25%</th>\n",
              "      <th>50%</th>\n",
              "      <th>75%</th>\n",
              "      <th>max</th>\n",
              "    </tr>\n",
              "  </thead>\n",
              "  <tbody>\n",
              "    <tr>\n",
              "      <th>age</th>\n",
              "      <td>1338.0</td>\n",
              "      <td>39.21</td>\n",
              "      <td>14.05</td>\n",
              "      <td>18.00</td>\n",
              "      <td>27.00</td>\n",
              "      <td>39.00</td>\n",
              "      <td>51.00</td>\n",
              "      <td>64.00</td>\n",
              "    </tr>\n",
              "    <tr>\n",
              "      <th>bmi</th>\n",
              "      <td>1338.0</td>\n",
              "      <td>30.66</td>\n",
              "      <td>6.10</td>\n",
              "      <td>15.96</td>\n",
              "      <td>26.30</td>\n",
              "      <td>30.40</td>\n",
              "      <td>34.69</td>\n",
              "      <td>53.13</td>\n",
              "    </tr>\n",
              "    <tr>\n",
              "      <th>children</th>\n",
              "      <td>1338.0</td>\n",
              "      <td>1.09</td>\n",
              "      <td>1.21</td>\n",
              "      <td>0.00</td>\n",
              "      <td>0.00</td>\n",
              "      <td>1.00</td>\n",
              "      <td>2.00</td>\n",
              "      <td>5.00</td>\n",
              "    </tr>\n",
              "    <tr>\n",
              "      <th>charges</th>\n",
              "      <td>1338.0</td>\n",
              "      <td>13270.42</td>\n",
              "      <td>12110.01</td>\n",
              "      <td>1121.87</td>\n",
              "      <td>4740.29</td>\n",
              "      <td>9382.03</td>\n",
              "      <td>16639.91</td>\n",
              "      <td>63770.43</td>\n",
              "    </tr>\n",
              "  </tbody>\n",
              "</table>\n",
              "</div>\n",
              "      <button class=\"colab-df-convert\" onclick=\"convertToInteractive('df-a61633fc-9af2-4e9b-a5cc-cfe36f7f7fda')\"\n",
              "              title=\"Convert this dataframe to an interactive table.\"\n",
              "              style=\"display:none;\">\n",
              "        \n",
              "  <svg xmlns=\"http://www.w3.org/2000/svg\" height=\"24px\"viewBox=\"0 0 24 24\"\n",
              "       width=\"24px\">\n",
              "    <path d=\"M0 0h24v24H0V0z\" fill=\"none\"/>\n",
              "    <path d=\"M18.56 5.44l.94 2.06.94-2.06 2.06-.94-2.06-.94-.94-2.06-.94 2.06-2.06.94zm-11 1L8.5 8.5l.94-2.06 2.06-.94-2.06-.94L8.5 2.5l-.94 2.06-2.06.94zm10 10l.94 2.06.94-2.06 2.06-.94-2.06-.94-.94-2.06-.94 2.06-2.06.94z\"/><path d=\"M17.41 7.96l-1.37-1.37c-.4-.4-.92-.59-1.43-.59-.52 0-1.04.2-1.43.59L10.3 9.45l-7.72 7.72c-.78.78-.78 2.05 0 2.83L4 21.41c.39.39.9.59 1.41.59.51 0 1.02-.2 1.41-.59l7.78-7.78 2.81-2.81c.8-.78.8-2.07 0-2.86zM5.41 20L4 18.59l7.72-7.72 1.47 1.35L5.41 20z\"/>\n",
              "  </svg>\n",
              "      </button>\n",
              "      \n",
              "  <style>\n",
              "    .colab-df-container {\n",
              "      display:flex;\n",
              "      flex-wrap:wrap;\n",
              "      gap: 12px;\n",
              "    }\n",
              "\n",
              "    .colab-df-convert {\n",
              "      background-color: #E8F0FE;\n",
              "      border: none;\n",
              "      border-radius: 50%;\n",
              "      cursor: pointer;\n",
              "      display: none;\n",
              "      fill: #1967D2;\n",
              "      height: 32px;\n",
              "      padding: 0 0 0 0;\n",
              "      width: 32px;\n",
              "    }\n",
              "\n",
              "    .colab-df-convert:hover {\n",
              "      background-color: #E2EBFA;\n",
              "      box-shadow: 0px 1px 2px rgba(60, 64, 67, 0.3), 0px 1px 3px 1px rgba(60, 64, 67, 0.15);\n",
              "      fill: #174EA6;\n",
              "    }\n",
              "\n",
              "    [theme=dark] .colab-df-convert {\n",
              "      background-color: #3B4455;\n",
              "      fill: #D2E3FC;\n",
              "    }\n",
              "\n",
              "    [theme=dark] .colab-df-convert:hover {\n",
              "      background-color: #434B5C;\n",
              "      box-shadow: 0px 1px 3px 1px rgba(0, 0, 0, 0.15);\n",
              "      filter: drop-shadow(0px 1px 2px rgba(0, 0, 0, 0.3));\n",
              "      fill: #FFFFFF;\n",
              "    }\n",
              "  </style>\n",
              "\n",
              "      <script>\n",
              "        const buttonEl =\n",
              "          document.querySelector('#df-a61633fc-9af2-4e9b-a5cc-cfe36f7f7fda button.colab-df-convert');\n",
              "        buttonEl.style.display =\n",
              "          google.colab.kernel.accessAllowed ? 'block' : 'none';\n",
              "\n",
              "        async function convertToInteractive(key) {\n",
              "          const element = document.querySelector('#df-a61633fc-9af2-4e9b-a5cc-cfe36f7f7fda');\n",
              "          const dataTable =\n",
              "            await google.colab.kernel.invokeFunction('convertToInteractive',\n",
              "                                                     [key], {});\n",
              "          if (!dataTable) return;\n",
              "\n",
              "          const docLinkHtml = 'Like what you see? Visit the ' +\n",
              "            '<a target=\"_blank\" href=https://colab.research.google.com/notebooks/data_table.ipynb>data table notebook</a>'\n",
              "            + ' to learn more about interactive tables.';\n",
              "          element.innerHTML = '';\n",
              "          dataTable['output_type'] = 'display_data';\n",
              "          await google.colab.output.renderOutput(dataTable, element);\n",
              "          const docLink = document.createElement('div');\n",
              "          docLink.innerHTML = docLinkHtml;\n",
              "          element.appendChild(docLink);\n",
              "        }\n",
              "      </script>\n",
              "    </div>\n",
              "  </div>\n",
              "  "
            ]
          },
          "metadata": {},
          "execution_count": 7
        }
      ]
    },
    {
      "cell_type": "code",
      "source": [
        "# Remove any duplicated rows\n",
        "#return a series with True and False value that describe which row in the Dataframe are duplicated and not.\n",
        "s=df.drop(index=df[df.duplicated()].index, inplace=True)\n",
        "print(s)"
      ],
      "metadata": {
        "colab": {
          "base_uri": "https://localhost:8080/"
        },
        "id": "mQrzCibRSItu",
        "outputId": "f6e5768c-6dde-4868-80bd-c85c1c857d83"
      },
      "execution_count": 13,
      "outputs": [
        {
          "output_type": "stream",
          "name": "stdout",
          "text": [
            "None\n"
          ]
        }
      ]
    },
    {
      "cell_type": "code",
      "source": [
        "# Check for NaN/null values\n",
        "df.isna().sum()"
      ],
      "metadata": {
        "colab": {
          "base_uri": "https://localhost:8080/"
        },
        "id": "Ok4R2DJdSPs6",
        "outputId": "c7f2e42d-c154-4120-edcf-82436753c6a7"
      },
      "execution_count": 14,
      "outputs": [
        {
          "output_type": "execute_result",
          "data": {
            "text/plain": [
              "age         0\n",
              "sex         0\n",
              "bmi         0\n",
              "children    0\n",
              "smoker      0\n",
              "region      0\n",
              "charges     0\n",
              "dtype: int64"
            ]
          },
          "metadata": {},
          "execution_count": 14
        }
      ]
    },
    {
      "cell_type": "markdown",
      "source": [
        "# Finding outliers"
      ],
      "metadata": {
        "id": "WkaBZ-y1Tz8X"
      }
    },
    {
      "cell_type": "markdown",
      "source": [
        "What is an outlier?\n",
        "\n",
        "An outlier is a data point in a data set that is distant from all other observations. A data point that lies outside the overall distribution of the dataset."
      ],
      "metadata": {
        "id": "CFs8fSd8T2rW"
      }
    },
    {
      "cell_type": "markdown",
      "source": [
        "What is the reason for an outlier to exists in a dataset?\n",
        "\n",
        "Variability in the data\n",
        "\n",
        "An experimental measurement error"
      ],
      "metadata": {
        "id": "byDQsINYT6vv"
      }
    },
    {
      "cell_type": "markdown",
      "source": [
        "What impact an outlier can bring?\n",
        "\n",
        "skew the data,\n",
        "data that create an asymmetrical,skewed on a graph\n",
        "\n",
        "significant impact on mean\n",
        "\n",
        "significant impact on standard deviation."
      ],
      "metadata": {
        "id": "eN9bn52zUBJm"
      }
    },
    {
      "cell_type": "markdown",
      "source": [
        "How can we identify an outlier?\n",
        "\n",
        "using scatter plots\n",
        "\n",
        "using Z score\n",
        "\n",
        "Formula for Z score = (Observation — Mean)/Standard Deviation ---> z = (X — μ) / σ"
      ],
      "metadata": {
        "id": "aA3VpG9RU1Z-"
      }
    },
    {
      "cell_type": "code",
      "source": [
        "px.scatter(df, x='age', y='bmi', title='Age vs BMI - find outliers', color='charges', template='plotly_dark')#(providing a palette for the colors and define the new background color)\n"
      ],
      "metadata": {
        "colab": {
          "base_uri": "https://localhost:8080/",
          "height": 542
        },
        "id": "HESBxBRpZw8z",
        "outputId": "08f18fa1-a642-4cc1-da79-0ea05b5c8c92"
      },
      "execution_count": 41,
      "outputs": [
        {
          "output_type": "display_data",
          "data": {
            "text/html": [
              "<html>\n",
              "<head><meta charset=\"utf-8\" /></head>\n",
              "<body>\n",
              "    <div>            <script src=\"https://cdnjs.cloudflare.com/ajax/libs/mathjax/2.7.5/MathJax.js?config=TeX-AMS-MML_SVG\"></script><script type=\"text/javascript\">if (window.MathJax) {MathJax.Hub.Config({SVG: {font: \"STIX-Web\"}});}</script>                <script type=\"text/javascript\">window.PlotlyConfig = {MathJaxConfig: 'local'};</script>\n",
              "        <script src=\"https://cdn.plot.ly/plotly-2.8.3.min.js\"></script>                <div id=\"b5084718-3c9d-48fe-89f3-5baacf5936a6\" class=\"plotly-graph-div\" style=\"height:525px; width:100%;\"></div>            <script type=\"text/javascript\">                                    window.PLOTLYENV=window.PLOTLYENV || {};                                    if (document.getElementById(\"b5084718-3c9d-48fe-89f3-5baacf5936a6\")) {                    Plotly.newPlot(                        \"b5084718-3c9d-48fe-89f3-5baacf5936a6\",                        [{\"hovertemplate\":\"age=%{x}<br>bmi=%{y}<br>charges=%{marker.color}<extra></extra>\",\"legendgroup\":\"\",\"marker\":{\"color\":[16884.924,1725.5523,4449.462,21984.47061,3866.8552,3756.6216,8240.5896,7281.5056,6406.4107,28923.13692,2721.3208,27808.7251,1826.843,11090.7178,39611.7577,1837.237,10797.3362,2395.17155,10602.385,36837.467,13228.84695,4149.736,1137.011,37701.8768,6203.90175,14001.1338,14451.83515,12268.63225,2775.19215,38711.0,35585.576,2198.18985,4687.797,13770.0979,51194.55914,1625.43375,15612.19335,2302.3,39774.2763,48173.361,3046.062,4949.7587,6272.4772,6313.759,6079.6715,20630.28351,3393.35635,3556.9223,12629.8967,38709.176,2211.13075,3579.8287,23568.272,37742.5757,8059.6791,47496.49445,13607.36875,34303.1672,23244.7902,5989.52365,8606.2174,4504.6624,30166.61817,4133.64165,14711.7438,1743.214,14235.072,6389.37785,5920.1041,17663.1442,16577.7795,6799.458,11741.726,11946.6259,7726.854,11356.6609,3947.4131,1532.4697,2755.02095,6571.02435,4441.21315,7935.29115,37165.1638,11033.6617,39836.519,21098.55405,43578.9394,11073.176,8026.6666,11082.5772,2026.9741,10942.13205,30184.9367,5729.0053,47291.055,3766.8838,12105.32,10226.2842,22412.6485,15820.699,6186.127,3645.0894,21344.8467,30942.1918,5003.853,17560.37975,2331.519,3877.30425,2867.1196,47055.5321,10825.2537,11881.358,4646.759,2404.7338,11488.31695,30259.99556,11381.3254,19107.7796,8601.3293,6686.4313,7740.337,1705.6245,2257.47525,39556.4945,10115.00885,3385.39915,17081.08,9634.538,32734.1863,6082.405,12815.44495,13616.3586,11163.568,1632.56445,2457.21115,2155.6815,1261.442,2045.68525,27322.73386,2166.732,27375.90478,3490.5491,18972.495,18157.876,20745.9891,5138.2567,40720.55105,9877.6077,10959.6947,1842.519,5125.2157,7789.635,6334.34355,19964.7463,7077.1894,6948.7008,21223.6758,15518.18025,36950.2567,19749.38338,21348.706,36149.4835,10450.552,5152.134,5028.1466,10407.08585,4830.63,6128.79745,2719.27975,4827.90495,13405.3903,8116.68,1694.7964,5246.047,2855.43755,48824.45,6455.86265,10436.096,8823.279,8538.28845,11735.87905,1631.8212,4005.4225,7419.4779,7731.4271,43753.33705,3981.9768,5325.651,6775.961,4922.9159,12557.6053,4883.866,2137.6536,12044.342,1137.4697,1639.5631,5649.715,8516.829,9644.2525,14901.5167,2130.6759,8871.1517,13012.20865,37133.8982,7147.105,4337.7352,11743.299,20984.0936,13880.949,6610.1097,1980.07,8162.71625,3537.703,5002.7827,8520.026,7371.772,10355.641,2483.736,3392.9768,25081.76784,5012.471,10564.8845,5253.524,34779.615,19515.5416,11987.1682,2689.4954,24227.33724,7358.17565,9225.2564,7443.64305,14001.2867,1727.785,12333.828,6710.1919,19444.2658,1615.7667,4463.2051,17352.6803,7152.6714,38511.6283,5354.07465,35160.13457,7196.867,29523.1656,24476.47851,12648.7034,1986.9334,1832.094,4040.55825,12829.4551,47305.305,44260.7499,4260.744,41097.16175,13047.33235,43921.1837,5400.9805,11520.09985,33750.2918,11837.16,17085.2676,24869.8368,36219.40545,20462.99766,46151.1245,17179.522,14590.63205,7441.053,9282.4806,1719.4363,42856.838,7265.7025,9617.66245,2523.1695,9715.841,2803.69785,2150.469,12928.7911,9855.1314,22331.5668,48549.17835,4237.12655,11879.10405,9625.92,7742.1098,9432.9253,14256.1928,47896.79135,25992.82104,3172.018,20277.80751,42112.2356,2156.7518,3906.127,1704.5681,16297.846,21978.6769,38746.3551,9249.4952,6746.7425,24873.3849,12265.5069,4349.462,12646.207,19442.3535,20177.67113,4151.0287,11944.59435,7749.1564,8444.474,1737.376,42124.5153,8124.4084,34838.873,9722.7695,8835.26495,10435.06525,7421.19455,4667.60765,4894.7533,24671.66334,35491.64,11566.30055,2866.091,6600.20595,3561.8889,42760.5022,47928.03,9144.565,48517.56315,24393.6224,13429.0354,11658.37915,19144.57652,13822.803,12142.5786,13937.6665,41919.097,8232.6388,18955.22017,13352.0998,13217.0945,13981.85035,10977.2063,6184.2994,4889.9995,8334.45755,5478.0368,1635.73365,11830.6072,8932.084,3554.203,12404.8791,14133.03775,24603.04837,8944.1151,9620.3307,1837.2819,1607.5101,10043.249,4751.07,13844.506,2597.779,3180.5101,9778.3472,13430.265,8017.06115,8116.26885,3481.868,13415.0381,12029.2867,7639.41745,36085.219,1391.5287,18033.9679,21659.9301,38126.2465,16455.70785,27000.98473,15006.57945,42303.69215,20781.48892,5846.9176,8302.53565,1261.859,11856.4115,30284.64294,3176.8159,4618.0799,10736.87075,2138.0707,8964.06055,9290.1395,9411.005,7526.70645,8522.003,16586.49771,14988.432,1631.6683,9264.797,8083.9198,14692.66935,10269.46,3260.199,11396.9002,4185.0979,8539.671,6652.5288,4074.4537,1621.3402,19594.80965,14455.64405,5080.096,2134.9015,7345.7266,9140.951,18608.262,14418.2804,28950.4692,46889.2612,46599.1084,39125.33225,2727.3951,8968.33,9788.8659,6555.07035,7323.734819,3167.45585,18804.7524,23082.95533,4906.40965,5969.723,12638.195,4243.59005,13919.8229,2254.7967,5926.846,12592.5345,2897.3235,4738.2682,37079.372,1149.3959,28287.89766,26109.32905,7345.084,12730.9996,11454.0215,5910.944,4762.329,7512.267,4032.2407,1969.614,1769.53165,4686.3887,21797.0004,11881.9696,11840.77505,10601.412,7682.67,10381.4787,22144.032,15230.32405,11165.41765,1632.03625,19521.9682,13224.693,12643.3778,23288.9284,2201.0971,2497.0383,2203.47185,1744.465,20878.78443,25382.297,28868.6639,35147.52848,2534.39375,1534.3045,1824.2854,15555.18875,9304.7019,1622.1885,9880.068,9563.029,4347.02335,12475.3513,1253.936,48885.13561,10461.9794,1748.774,24513.09126,2196.4732,12574.049,17942.106,1967.0227,4931.647,8027.968,8211.1002,13470.86,36197.699,6837.3687,22218.1149,32548.3405,5974.3847,6796.86325,2643.2685,3077.0955,3044.2133,11455.28,11763.0009,2498.4144,9361.3268,1256.299,21082.16,11362.755,27724.28875,8413.46305,5240.765,3857.75925,25656.57526,3994.1778,9866.30485,5397.6167,38245.59327,11482.63485,24059.68019,9861.025,8342.90875,1708.0014,48675.5177,14043.4767,12925.886,19214.70553,13831.1152,6067.12675,5972.378,8825.086,8233.0975,27346.04207,6196.448,3056.3881,13887.204,63770.42801,10231.4999,23807.2406,3268.84665,11538.421,3213.62205,45863.205,13390.559,3972.9247,12957.118,11187.6567,17878.90068,3847.674,8334.5896,3935.1799,39983.42595,1646.4297,9193.8385,10923.9332,2494.022,9058.7303,2801.2588,2128.43105,6373.55735,7256.7231,11552.904,45702.02235,3761.292,2219.4451,4753.6368,31620.00106,13224.05705,12222.8983,1664.9996,58571.07448,9724.53,3206.49135,12913.9924,6356.2707,17626.23951,1242.816,4779.6023,3861.20965,43943.8761,13635.6379,5976.8311,11842.442,8428.0693,2566.4707,15359.1045,5709.1644,8823.98575,7640.3092,5594.8455,7441.501,33471.97189,1633.0444,9174.13565,11070.535,16085.1275,17468.9839,9283.562,3558.62025,25678.77845,4435.0942,39241.442,8547.6913,6571.544,2207.69745,6753.038,1880.07,42969.8527,11658.11505,23306.547,34439.8559,10713.644,3659.346,40182.246,9182.17,34617.84065,12129.61415,3736.4647,6748.5912,11326.71487,11365.952,42983.4585,10085.846,1977.815,3366.6697,7173.35995,9391.346,14410.9321,2709.1119,24915.04626,20149.3229,12949.1554,6666.243,32787.45859,13143.86485,4466.6214,18806.14547,10141.1362,6123.5688,8252.2843,1712.227,12430.95335,9800.8882,10579.711,8280.6227,8527.532,12244.531,24667.419,3410.324,4058.71245,26392.26029,14394.39815,6435.6237,22192.43711,5148.5526,1136.3994,27037.9141,42560.4304,8703.456,40003.33225,45710.20785,6500.2359,4837.5823,3943.5954,4399.731,6185.3208,46200.9851,7222.78625,12485.8009,46130.5265,12363.547,10156.7832,2585.269,1242.26,40103.89,9863.4718,4766.022,11244.3769,7729.64575,5438.7491,26236.57997,34806.4677,2104.1134,8068.185,2362.22905,2352.96845,3577.999,3201.24515,29186.48236,40273.6455,10976.24575,3500.6123,2020.5523,9541.69555,9504.3103,5385.3379,8930.93455,5375.038,44400.4064,10264.4421,6113.23105,5469.0066,1727.54,10107.2206,8310.83915,1984.4533,2457.502,12146.971,9566.9909,13112.6048,10848.1343,12231.6136,9875.6804,11264.541,12979.358,1263.249,10106.13425,40932.4295,6664.68595,16657.71745,2217.6012,6781.3542,19361.9988,10065.413,4234.927,9447.25035,14007.222,9583.8933,40419.0191,3484.331,36189.1017,44585.45587,8604.48365,18246.4955,43254.41795,3757.8448,8827.2099,9910.35985,11737.84884,1627.28245,8556.907,3062.50825,19539.243,1906.35825,14210.53595,11833.7823,17128.42608,5031.26955,7985.815,23065.4207,5428.7277,36307.7983,3925.7582,2416.955,19040.876,3070.8087,9095.06825,11842.62375,8062.764,7050.642,14319.031,6933.24225,27941.28758,11150.78,12797.20962,17748.5062,7261.741,10560.4917,6986.697,7448.40395,5934.3798,9869.8102,18259.216,1146.7966,9386.1613,24520.264,4350.5144,6414.178,12741.16745,1917.3184,5209.57885,13457.9608,5662.225,1252.407,2731.9122,21195.818,7209.4918,18310.742,4266.1658,4719.52405,11848.141,17904.52705,7046.7222,14313.8463,2103.08,38792.6856,1815.8759,7731.85785,28476.73499,2136.88225,1131.5066,3309.7926,9414.92,6360.9936,11013.7119,4428.88785,5584.3057,1877.9294,2842.76075,3597.596,23401.30575,55135.40209,7445.918,2680.9493,1621.8827,8219.2039,12523.6048,16069.08475,43813.8661,20773.62775,39597.4072,6117.4945,13393.756,5266.3656,4719.73655,11743.9341,5377.4578,7160.3303,4402.233,11657.7189,6402.29135,12622.1795,1526.312,12323.936,36021.0112,27533.9129,10072.05505,45008.9555,9872.701,2438.0552,2974.126,10601.63225,37270.1512,14119.62,42111.6647,11729.6795,24106.91255,1875.344,40974.1649,15817.9857,18218.16139,10965.446,46113.511,7151.092,12269.68865,5458.04645,8782.469,6600.361,1141.4451,11576.13,13129.60345,4391.652,8457.818,3392.3652,5966.8874,6849.026,8891.1395,2690.1138,26140.3603,6653.7886,6282.235,6311.952,3443.064,2789.0574,2585.85065,46255.1125,4877.98105,19719.6947,27218.43725,5272.1758,1682.597,11945.1327,29330.98315,7243.8136,10422.91665,44202.6536,13555.0049,13063.883,19798.05455,2221.56445,1634.5734,2117.33885,8688.85885,48673.5588,4661.28635,8125.7845,12644.589,4564.19145,4846.92015,7633.7206,15170.069,17496.306,2639.0429,33732.6867,14382.70905,7626.993,5257.50795,2473.3341,21774.32215,35069.37452,13041.921,5245.2269,13451.122,13462.52,5488.262,4320.41085,6250.435,25333.33284,2913.569,12032.326,13470.8044,6289.7549,2927.0647,6238.298,10096.97,7348.142,4673.3922,12233.828,32108.66282,8965.79575,2304.0022,9487.6442,1121.8739,9549.5651,2217.46915,1628.4709,12982.8747,11674.13,7160.094,39047.285,6358.77645,19933.458,11534.87265,47462.894,4527.18295,38998.546,20009.63365,3875.7341,41999.52,12609.88702,41034.2214,28468.91901,2730.10785,3353.284,14474.675,9500.57305,26467.09737,4746.344,23967.38305,7518.02535,3279.86855,8596.8278,10702.6424,4992.3764,2527.81865,1759.338,2322.6218,16138.76205,7804.1605,2902.9065,9704.66805,4889.0368,25517.11363,4500.33925,19199.944,16796.41194,4915.05985,7624.63,8410.04685,28340.18885,4518.82625,14571.8908,3378.91,7144.86265,10118.424,5484.4673,16420.49455,7986.47525,7418.522,13887.9685,6551.7501,5267.81815,17361.7661,34472.841,1972.95,21232.18226,8627.5411,4433.3877,4438.2634,24915.22085,23241.47453,9957.7216,8269.044,18767.7377,36580.28216,8765.249,5383.536,12124.9924,2709.24395,3987.926,12495.29085,26018.95052,8798.593,35595.5898,42211.1382,1711.0268,8569.8618,2020.177,16450.8947,21595.38229,9850.432,6877.9801,21677.28345,44423.803,4137.5227,13747.87235,12950.0712,12094.478,37484.4493,39725.51805,2250.8352,22493.65964,20234.85475,1704.70015,33475.81715,3161.454,11394.06555,21880.82,7325.0482,44501.3982,3594.17085,39727.614,8023.13545,14394.5579,9288.0267,25309.489,3353.4703,10594.50155,8277.523,17929.30337,2480.9791,4462.7218,1981.5819,11554.2236,48970.2476,6548.19505,5708.867,7045.499,8978.1851,5757.41345,14349.8544,10928.849,39871.7043,13974.45555,1909.52745,12096.6512,13204.28565,4562.8421,8551.347,2102.2647,34672.1472,15161.5344,11884.04858,4454.40265,5855.9025,4076.497,15019.76005,19023.26,10796.35025,11353.2276,9748.9106,10577.087,41676.0811,11286.5387,3591.48,33907.548,11299.343,4561.1885,44641.1974,1674.6323,23045.56616,3227.1211,16776.30405,11253.421,3471.4096,11363.2832,20420.60465,10338.9316,8988.15875,10493.9458,2904.088,8605.3615,11512.405,41949.2441,24180.9335,5312.16985,2396.0959,10807.4863,9222.4026,36124.5737,38282.7495,5693.4305,34166.273,8347.1643,46661.4424,18903.49141,40904.1995,14254.6082,10214.636,5836.5204,14358.36437,1728.897,8582.3023,3693.428,20709.02034,9991.03765,19673.33573,11085.5868,7623.518,3176.2877,3704.3545,36898.73308,9048.0273,7954.517,27117.99378,6338.0756,9630.397,11289.10925,52590.82939,2261.5688,10791.96,5979.731,2203.73595,12235.8392,40941.2854,5630.45785,11015.1747,7228.21565,39722.7462,14426.07385,2459.7201,3989.841,7727.2532,5124.1887,18963.17192,2200.83085,7153.5539,5227.98875,10982.5013,4529.477,4670.64,6112.35295,17178.6824,22478.6,11093.6229,6457.8434,4433.9159,2154.361,23887.6627,6496.886,2899.48935,19350.3689,7650.77375,2850.68375,2632.992,9447.3824,18328.2381,8603.8234,37465.34375,13844.7972,21771.3423,13126.67745,5327.40025,13725.47184,13019.16105,8671.19125,4134.08245,18838.70366,33307.5508,5699.8375,6393.60345,4934.705,6198.7518,8733.22925,2055.3249,9964.06,18223.4512,5116.5004,36910.60803,38415.474,20296.86345,12347.172,5373.36425,23563.01618,1702.4553,10806.839,3956.07145,12890.05765,5415.6612,4058.1161,41661.602,7537.1639,4718.20355,6593.5083,8442.667,26125.67477,6858.4796,4795.6568,6640.54485,7162.0122,10594.2257,11938.25595,60021.39897,20167.33603,12479.70895,11345.519,8515.7587,2699.56835,14449.8544,12224.35085,6985.50695,3238.4357,47269.854,49577.6624,4296.2712,3171.6149,1135.9407,5615.369,9101.798,6059.173,1633.9618,37607.5277,18648.4217,1241.565,16232.847,15828.82173,4415.1588,6474.013,11436.73815,11305.93455,30063.58055,10197.7722,4544.2348,3277.161,6770.1925,7337.748,10370.91255,26926.5144,10704.47,34254.05335,1880.487,8615.3,3292.52985,3021.80915,14478.33015,4747.0529,17043.3414,10959.33,2741.948,4357.04365,22462.04375,4189.1131,8283.6807,24535.69855,14283.4594,1720.3537,47403.88,8534.6718,3732.6251,5472.449,38344.566,7147.4728,7133.9025,34828.654,1515.3449,9301.89355,11931.12525,1964.78,1708.92575,4340.4409,5261.46945,2710.82855,62592.87309,46718.16325,3208.787,37829.7242,21259.37795,2464.6188,16115.3045,21472.4788,33900.653,6875.961,6940.90985,4571.41305,4536.259,36397.576,18765.87545,11272.33139,1731.677,1163.4627,19496.71917,7201.70085,5425.02335,28101.33305,12981.3457,43896.3763,4239.89265,13143.33665,7050.0213,9377.9047,22395.74424,10325.206,12629.1656,10795.93733,11411.685,10600.5483,2205.9808,1629.8335,2007.945,29141.3603],\"coloraxis\":\"coloraxis\",\"symbol\":\"circle\"},\"mode\":\"markers\",\"name\":\"\",\"showlegend\":false,\"x\":[19,18,28,33,32,31,46,37,37,60,25,62,23,56,27,19,52,23,56,30,60,30,18,34,37,59,63,55,23,31,22,18,19,63,28,19,62,26,35,60,24,31,41,37,38,55,18,28,60,36,18,21,48,36,40,58,58,18,53,34,43,25,64,28,20,19,61,40,40,28,27,31,53,58,44,57,29,21,22,41,31,45,22,48,37,45,57,56,46,55,21,53,59,35,64,28,54,55,56,38,41,30,18,61,34,20,19,26,29,63,54,55,37,21,52,60,58,29,49,37,44,18,20,44,47,26,19,52,32,38,59,61,53,19,20,22,19,22,54,22,34,26,34,29,30,29,46,51,53,19,35,48,32,42,40,44,48,18,30,50,42,18,54,32,37,47,20,32,19,27,63,49,18,35,24,63,38,54,46,41,58,18,22,44,44,36,26,30,41,29,61,36,25,56,18,19,39,45,51,64,19,48,60,27,46,28,59,35,63,40,20,40,24,34,45,41,53,27,26,24,34,53,32,19,42,55,28,58,41,47,42,59,19,59,39,40,18,31,19,44,23,33,55,40,63,54,60,24,19,29,18,63,54,27,50,55,56,38,51,19,58,20,52,19,53,46,40,59,45,49,18,50,41,50,25,47,19,22,59,51,40,54,30,55,52,46,46,63,59,52,28,29,25,22,25,18,19,47,31,48,36,53,56,28,57,29,28,30,58,41,50,19,43,49,27,52,50,54,44,32,34,26,34,57,29,40,27,45,64,52,61,52,61,56,43,64,60,62,50,46,24,62,60,63,49,34,33,46,36,19,57,50,30,33,18,46,46,47,23,18,48,35,19,21,21,49,56,42,44,18,61,57,42,26,20,23,39,24,64,62,27,55,55,35,44,19,58,50,26,24,48,19,48,49,46,46,43,21,64,18,51,47,64,49,31,52,33,47,38,32,19,44,26,25,19,43,52,36,64,63,64,61,40,25,48,45,38,18,21,27,19,29,42,60,31,60,22,35,52,26,31,33,18,59,56,45,60,56,40,35,39,30,24,20,32,59,55,57,56,40,49,42,62,56,19,30,60,56,28,18,27,18,19,47,54,61,24,25,21,23,63,49,18,51,48,31,54,19,44,53,19,61,18,61,21,20,31,45,44,62,29,43,51,19,38,37,22,21,24,57,56,27,51,19,39,58,20,45,35,31,50,32,51,38,42,18,19,51,46,18,57,62,59,37,64,38,33,46,46,53,34,20,63,54,54,49,28,54,25,43,63,32,62,52,25,28,46,34,35,19,46,54,27,50,18,19,38,41,49,48,31,18,30,62,57,58,22,31,52,25,59,39,32,19,33,21,34,61,38,58,47,20,21,41,46,42,34,43,52,18,51,56,64,19,51,27,59,28,30,47,38,18,34,20,47,56,49,19,55,30,37,49,18,59,29,36,33,58,44,53,24,29,40,51,64,19,35,39,56,33,42,61,23,43,48,39,40,18,58,49,53,48,45,59,52,26,27,48,57,37,57,32,18,64,43,49,40,62,40,30,29,36,41,44,45,55,60,56,49,21,19,39,53,33,53,42,40,47,27,21,47,20,24,27,26,53,41,56,23,21,50,53,34,47,33,51,49,31,36,18,50,43,20,24,60,49,60,51,58,51,53,62,19,50,30,41,29,18,41,35,53,24,48,59,49,37,26,23,29,45,27,53,31,50,50,34,19,47,28,37,21,64,58,24,31,39,47,30,18,22,23,33,27,45,57,47,42,64,38,61,53,44,19,41,51,40,45,35,53,30,18,51,50,31,35,60,21,29,62,39,19,22,53,39,27,30,30,58,33,42,64,21,18,23,45,40,19,18,25,46,33,54,28,36,20,24,23,47,33,45,26,18,44,60,64,56,36,41,39,63,36,28,58,36,42,36,56,35,59,21,59,23,57,53,60,51,23,27,55,37,61,46,53,49,20,48,25,25,57,37,38,55,36,51,40,18,57,61,25,50,26,42,43,44,23,49,33,41,37,22,23,21,51,25,32,57,36,22,57,64,36,54,47,62,61,43,19,18,19,49,60,26,49,60,26,27,44,63,32,22,18,59,44,33,24,43,45,61,35,62,62,38,34,43,50,19,57,62,41,26,39,46,45,32,59,44,39,18,53,18,50,18,19,62,56,42,37,42,25,57,51,30,44,34,31,54,24,43,48,19,29,63,46,52,35,51,44,21,39,50,34,22,19,26,29,48,26,45,36,54,34,31,27,20,44,43,45,34,24,26,38,50,38,27,39,39,63,33,36,30,24,24,48,47,29,28,47,25,51,48,43,61,48,38,59,19,26,54,21,51,22,47,18,47,21,19,23,54,37,46,55,30,18,61,54,22,45,22,19,35,18,20,28,55,43,43,22,25,49,44,64,49,47,27,55,48,45,24,32,24,57,59,36,29,42,48,39,63,54,37,63,21,54,60,32,47,21,28,63,18,32,38,32,62,39,55,57,52,56,47,55,23,22,50,18,51,22,52,25,33,53,29,58,37,54,49,50,26,45,54,38,48,28,23,55,41,25,33,30,23,46,53,27,23,63,55,35,34,19,39,27,57,52,28,50,44,26,33,19,50,41,52,39,50,52,60,20,55,42,18,58,43,35,48,36,19,23,20,32,43,34,30,18,41,35,57,29,32,37,18,43,56,38,29,22,52,40,23,31,42,24,25,48,23,45,20,62,43,23,31,41,58,48,31,19,19,41,40,31,37,46,22,51,18,35,59,36,37,59,36,39,18,52,27,18,40,29,46,38,30,40,50,20,41,33,38,42,56,58,52,20,54,58,45,26,63,58,37,25,52,64,22,28,18,28,45,33,18,32,24,19,20,40,34,42,51,54,55,52,32,28,41,43,49,64,55,24,20,45,26,25,43,35,26,57,22,32,39,25,48,47,18,18,61,47,28,36,20,44,38,19,21,46,58,20,18,28,33,19,45,62,25,43,42,24,29,32,25,41,42,33,34,19,30,18,19,18,35,39,31,62,62,42,31,61,42,51,23,52,57,23,52,50,18,18,21,61],\"xaxis\":\"x\",\"y\":[27.9,33.77,33.0,22.705,28.88,25.74,33.44,27.74,29.83,25.84,26.22,26.29,34.4,39.82,42.13,24.6,30.78,23.845,40.3,35.3,36.005,32.4,34.1,31.92,28.025,27.72,23.085,32.775,17.385,36.3,35.6,26.315,28.6,28.31,36.4,20.425,32.965,20.8,36.67,39.9,26.6,36.63,21.78,30.8,37.05,37.3,38.665,34.77,24.53,35.2,35.625,33.63,28.0,34.43,28.69,36.955,31.825,31.68,22.88,37.335,27.36,33.66,24.7,25.935,22.42,28.9,39.1,26.315,36.19,23.98,24.75,28.5,28.1,32.01,27.4,34.01,29.59,35.53,39.805,32.965,26.885,38.285,37.62,41.23,34.8,22.895,31.16,27.2,27.74,26.98,39.49,24.795,29.83,34.77,31.3,37.62,30.8,38.28,19.95,19.3,31.6,25.46,30.115,29.92,27.5,28.025,28.4,30.875,27.94,35.09,33.63,29.7,30.8,35.72,32.205,28.595,49.06,27.94,27.17,23.37,37.1,23.75,28.975,31.35,33.915,28.785,28.3,37.4,17.765,34.7,26.505,22.04,35.9,25.555,28.785,28.05,34.1,25.175,31.9,36.0,22.42,32.49,25.3,29.735,28.69,38.83,30.495,37.73,37.43,28.4,24.13,29.7,37.145,23.37,25.46,39.52,24.42,25.175,35.53,27.83,26.6,36.85,39.6,29.8,29.64,28.215,37.0,33.155,31.825,18.905,41.47,30.3,15.96,34.8,33.345,37.7,27.835,29.2,28.9,33.155,28.595,38.28,19.95,26.41,30.69,41.895,29.92,30.9,32.2,32.11,31.57,26.2,25.74,26.6,34.43,30.59,32.8,28.6,18.05,39.33,32.11,32.23,24.035,36.08,22.3,28.88,26.4,27.74,31.8,41.23,33.0,30.875,28.5,26.73,30.9,37.1,26.6,23.1,29.92,23.21,33.7,33.25,30.8,34.8,24.64,33.88,38.06,41.91,31.635,25.46,36.195,27.83,17.8,27.5,24.51,22.22,26.73,38.39,29.07,38.06,36.67,22.135,26.8,35.3,27.74,30.02,38.06,35.86,20.9,28.975,17.29,32.2,34.21,30.3,31.825,25.365,33.63,40.15,24.415,31.92,25.2,26.84,24.32,36.955,38.06,42.35,19.8,32.395,30.2,25.84,29.37,34.2,37.05,27.455,27.55,26.6,20.615,24.3,31.79,21.56,28.12,40.565,27.645,32.395,31.2,26.62,48.07,26.22,36.765,26.4,33.4,29.64,45.54,28.82,26.8,22.99,27.7,25.41,34.39,28.88,27.55,22.61,37.51,33.0,38.0,33.345,27.5,33.33,34.865,33.06,26.6,24.7,35.97,35.86,31.4,33.25,32.205,32.775,27.645,37.335,25.27,29.64,30.8,40.945,27.2,34.105,23.21,36.48,33.8,36.7,36.385,27.36,31.16,28.785,35.72,34.5,25.74,27.55,32.3,27.72,27.6,30.02,27.55,36.765,41.47,29.26,35.75,33.345,29.92,27.835,23.18,25.6,27.7,35.245,38.28,27.6,43.89,29.83,41.91,20.79,32.3,30.5,21.7,26.4,21.89,30.78,32.3,24.985,32.015,30.4,21.09,22.23,33.155,32.9,33.33,28.31,24.89,40.15,30.115,31.46,17.955,30.685,33.0,43.34,22.135,34.4,39.05,25.365,22.61,30.21,35.625,37.43,31.445,31.35,32.3,19.855,34.4,31.02,25.6,38.17,20.6,47.52,32.965,32.3,20.4,38.38,24.31,23.6,21.12,30.03,17.48,20.235,17.195,23.9,35.15,35.64,34.1,22.6,39.16,26.98,33.88,35.86,32.775,30.59,30.2,24.31,27.265,29.165,16.815,30.4,33.1,20.235,26.9,30.5,28.595,33.11,31.73,28.9,46.75,29.45,32.68,33.5,43.01,36.52,26.695,33.1,29.64,25.65,29.6,38.6,29.6,24.13,23.4,29.735,46.53,37.4,30.14,30.495,39.6,33.0,36.63,30.0,38.095,25.935,25.175,28.38,28.7,33.82,24.32,24.09,32.67,30.115,29.8,33.345,25.1,28.31,28.5,35.625,36.85,32.56,41.325,37.51,31.35,39.5,34.3,31.065,21.47,28.7,38.06,31.16,32.9,25.08,25.08,43.4,25.7,27.93,23.6,28.7,23.98,39.2,34.4,26.03,23.21,30.25,28.93,30.875,31.35,23.75,25.27,28.7,32.11,33.66,22.42,30.4,28.3,35.7,35.31,30.495,31.0,30.875,27.36,44.22,33.915,37.73,26.07,33.88,30.59,25.8,39.425,25.46,42.13,31.73,29.7,36.19,40.48,28.025,38.9,30.2,28.05,31.35,38.0,31.79,36.3,47.41,30.21,25.84,35.435,46.7,28.595,46.2,30.8,28.93,21.4,31.73,41.325,23.8,33.44,34.21,34.105,35.53,19.95,32.68,30.5,44.77,32.12,30.495,40.565,30.59,31.9,40.565,29.1,37.29,43.12,36.86,34.295,27.17,26.84,38.095,30.2,23.465,25.46,45.43,23.65,20.7,28.27,20.235,30.21,35.91,30.69,29.0,19.57,31.13,21.85,40.26,33.725,29.48,33.25,32.6,37.525,39.16,31.635,25.3,39.05,28.31,34.1,25.175,23.655,26.98,37.8,29.37,34.8,33.155,19.0,33.0,36.63,28.595,25.6,33.11,37.1,31.4,34.1,21.3,33.535,28.785,26.03,28.88,42.46,38.0,38.95,36.1,29.3,35.53,22.705,39.7,38.19,24.51,38.095,26.41,33.66,42.4,28.31,33.915,34.96,35.31,30.78,26.22,23.37,28.5,32.965,42.68,39.6,31.13,36.3,35.2,25.3,42.4,33.155,35.91,28.785,46.53,23.98,31.54,33.66,22.99,38.06,28.7,32.775,32.015,29.81,31.57,31.16,29.7,31.02,43.89,21.375,40.81,31.35,36.1,23.18,17.4,20.3,35.3,24.32,18.5,26.41,26.125,41.69,24.1,31.13,27.36,36.2,32.395,23.655,34.8,40.185,32.3,35.75,33.725,39.27,34.87,44.745,41.47,26.41,29.545,32.9,38.06,28.69,30.495,27.74,35.2,23.54,30.685,40.47,22.6,28.9,22.61,24.32,36.67,33.44,40.66,36.6,37.4,35.4,27.075,39.05,28.405,21.755,40.28,36.08,24.42,21.4,30.1,27.265,32.1,34.77,38.39,23.7,31.73,35.5,24.035,29.15,34.105,26.62,26.41,30.115,27.0,21.755,36.0,30.875,26.4,28.975,37.905,22.77,33.63,27.645,22.8,27.83,37.43,38.17,34.58,35.2,27.1,26.03,25.175,31.825,32.3,29.0,39.7,19.475,36.1,26.7,36.48,28.88,34.2,33.33,32.3,39.805,34.32,28.88,24.4,41.14,35.97,27.6,29.26,27.7,36.955,36.86,22.515,29.92,41.8,27.6,23.18,20.9,31.92,28.5,44.22,22.895,33.1,24.795,26.18,35.97,22.3,42.24,26.51,35.815,41.42,36.575,30.14,25.84,30.8,42.94,21.01,22.515,34.43,31.46,24.225,37.1,26.125,35.53,33.7,17.67,31.13,29.81,24.32,31.825,31.79,28.025,30.78,21.85,33.1,25.84,23.845,34.39,33.82,35.97,31.5,28.31,23.465,31.35,31.1,24.7,32.78,29.81,30.495,32.45,34.2,50.38,24.1,32.775,30.78,32.3,35.53,23.75,23.845,29.6,33.11,24.13,32.23,28.1,47.6,28.0,33.535,19.855,25.4,29.9,37.29,43.7,23.655,24.3,36.2,29.48,24.86,30.1,21.85,28.12,27.1,33.44,28.8,29.5,34.8,27.36,22.135,37.05,26.695,28.93,28.975,30.02,39.5,33.63,26.885,29.04,24.035,38.94,32.11,44.0,20.045,25.555,40.26,22.515,22.515,40.92,27.265,36.85,35.1,29.355,32.585,32.34,39.8,24.6,28.31,31.73,26.695,27.5,24.605,33.99,26.885,22.895,28.2,34.21,25.0,33.2,31.0,35.815,23.2,32.11,23.4,20.1,39.16,34.21,46.53,32.5,25.8,35.3,37.18,27.5,29.735,24.225,26.18,29.48,23.21,46.09,40.185,22.61,39.93,35.8,35.8,34.2,31.255,29.7,18.335,42.9,28.405,30.2,27.835,39.49,30.8,26.79,34.96,36.67,39.615,25.9,35.2,24.795,36.765,27.1,24.795,25.365,25.745,34.32,28.16,23.56,20.235,40.5,35.42,22.895,40.15,29.15,39.995,29.92,25.46,21.375,25.9,30.59,30.115,25.8,30.115,27.645,34.675,20.52,19.8,27.835,31.6,28.27,20.045,23.275,34.1,36.85,36.29,26.885,22.99,32.7,25.8,29.6,19.19,31.73,29.26,28.215,24.985,27.74,22.8,20.13,33.33,32.3,27.6,25.46,24.605,34.2,35.815,32.68,37.0,31.02,36.08,23.32,45.32,34.6,26.03,18.715,31.6,17.29,23.655,35.2,27.93,21.565,38.38,23.0,37.07,30.495,28.88,27.265,28.025,23.085,30.685,25.8,35.245,24.7,25.08,52.58,22.515,30.9,36.955,26.41,29.83,29.8,21.47,27.645,28.9,31.79,39.49,33.82,32.01,27.94,41.14,28.595,25.6,25.3,37.29,42.655,21.66,31.9,37.07,31.445,31.255,28.88,18.335,29.59,32.0,26.03,31.68,33.66,21.78,27.835,19.95,31.5,30.495,18.3,28.975,31.54,47.74,22.1,36.19,29.83,32.7,30.4,33.7,31.35,34.96,33.77,30.875,33.99,19.095,28.6,38.94,36.08,29.8,31.24,29.925,26.22,30.0,20.35,32.3,38.39,25.85,26.315,24.51,32.67,29.64,33.33,35.75,19.95,31.4,38.17,36.86,32.395,42.75,25.08,29.9,35.86,32.8,18.6,23.87,45.9,40.28,18.335,33.82,28.12,25.0,22.23,30.25,32.49,37.07,32.6,24.86,32.34,32.3,32.775,32.8,31.92,21.5,34.1,30.305,36.48,32.56,35.815,27.93,22.135,44.88,23.18,30.59,41.1,34.58,42.13,38.83,28.215,28.31,26.125,40.37,24.6,35.2,34.105,27.36,26.7,41.91,29.26,32.11,27.1,24.13,27.4,34.865,29.81,41.325,29.925,30.3,27.36,28.49,23.56,35.625,32.68,25.27,28.0,32.775,21.755,32.395,36.575,21.755,27.93,30.02,33.55,29.355,25.8,24.32,40.375,32.11,32.3,27.28,17.86,34.8,33.4,25.555,37.1,30.875,34.1,21.47,33.3,31.255,39.14,25.08,37.29,34.6,30.21,21.945,24.97,25.3,24.42,23.94,39.82,16.815,37.18,34.43,30.305,34.485,21.8,24.605,23.3,27.83,31.065,21.66,28.215,22.705,42.13,41.8,36.96,21.28,33.11,33.33,24.3,25.7,29.4,39.82,33.63,29.83,19.8,27.3,29.3,27.72,37.9,36.385,27.645,37.715,23.18,20.52,37.1,28.05,29.9,33.345,23.76,30.5,31.065,33.3,27.5,33.915,34.485,25.52,27.61,27.06,23.7,30.4,29.735,29.925,26.79,33.33,27.645,21.66,30.03,36.3,24.32,17.29,25.9,39.4,34.32,19.95,34.9,23.21,25.745,25.175,22.0,26.125,26.51,27.455,25.745,30.36,30.875,20.8,27.8,24.605,27.72,21.85,28.12,30.2,32.2,26.315,26.695,42.9,34.7,23.655,28.31,20.6,53.13,39.71,26.315,31.065,26.695,38.83,40.37,25.935,33.535,32.87,30.03,24.225,38.6,25.74,33.4,44.7,30.97,31.92,36.85,25.8,29.07],\"yaxis\":\"y\",\"type\":\"scattergl\"}],                        {\"template\":{\"data\":{\"barpolar\":[{\"marker\":{\"line\":{\"color\":\"rgb(17,17,17)\",\"width\":0.5},\"pattern\":{\"fillmode\":\"overlay\",\"size\":10,\"solidity\":0.2}},\"type\":\"barpolar\"}],\"bar\":[{\"error_x\":{\"color\":\"#f2f5fa\"},\"error_y\":{\"color\":\"#f2f5fa\"},\"marker\":{\"line\":{\"color\":\"rgb(17,17,17)\",\"width\":0.5},\"pattern\":{\"fillmode\":\"overlay\",\"size\":10,\"solidity\":0.2}},\"type\":\"bar\"}],\"carpet\":[{\"aaxis\":{\"endlinecolor\":\"#A2B1C6\",\"gridcolor\":\"#506784\",\"linecolor\":\"#506784\",\"minorgridcolor\":\"#506784\",\"startlinecolor\":\"#A2B1C6\"},\"baxis\":{\"endlinecolor\":\"#A2B1C6\",\"gridcolor\":\"#506784\",\"linecolor\":\"#506784\",\"minorgridcolor\":\"#506784\",\"startlinecolor\":\"#A2B1C6\"},\"type\":\"carpet\"}],\"choropleth\":[{\"colorbar\":{\"outlinewidth\":0,\"ticks\":\"\"},\"type\":\"choropleth\"}],\"contourcarpet\":[{\"colorbar\":{\"outlinewidth\":0,\"ticks\":\"\"},\"type\":\"contourcarpet\"}],\"contour\":[{\"colorbar\":{\"outlinewidth\":0,\"ticks\":\"\"},\"colorscale\":[[0.0,\"#0d0887\"],[0.1111111111111111,\"#46039f\"],[0.2222222222222222,\"#7201a8\"],[0.3333333333333333,\"#9c179e\"],[0.4444444444444444,\"#bd3786\"],[0.5555555555555556,\"#d8576b\"],[0.6666666666666666,\"#ed7953\"],[0.7777777777777778,\"#fb9f3a\"],[0.8888888888888888,\"#fdca26\"],[1.0,\"#f0f921\"]],\"type\":\"contour\"}],\"heatmapgl\":[{\"colorbar\":{\"outlinewidth\":0,\"ticks\":\"\"},\"colorscale\":[[0.0,\"#0d0887\"],[0.1111111111111111,\"#46039f\"],[0.2222222222222222,\"#7201a8\"],[0.3333333333333333,\"#9c179e\"],[0.4444444444444444,\"#bd3786\"],[0.5555555555555556,\"#d8576b\"],[0.6666666666666666,\"#ed7953\"],[0.7777777777777778,\"#fb9f3a\"],[0.8888888888888888,\"#fdca26\"],[1.0,\"#f0f921\"]],\"type\":\"heatmapgl\"}],\"heatmap\":[{\"colorbar\":{\"outlinewidth\":0,\"ticks\":\"\"},\"colorscale\":[[0.0,\"#0d0887\"],[0.1111111111111111,\"#46039f\"],[0.2222222222222222,\"#7201a8\"],[0.3333333333333333,\"#9c179e\"],[0.4444444444444444,\"#bd3786\"],[0.5555555555555556,\"#d8576b\"],[0.6666666666666666,\"#ed7953\"],[0.7777777777777778,\"#fb9f3a\"],[0.8888888888888888,\"#fdca26\"],[1.0,\"#f0f921\"]],\"type\":\"heatmap\"}],\"histogram2dcontour\":[{\"colorbar\":{\"outlinewidth\":0,\"ticks\":\"\"},\"colorscale\":[[0.0,\"#0d0887\"],[0.1111111111111111,\"#46039f\"],[0.2222222222222222,\"#7201a8\"],[0.3333333333333333,\"#9c179e\"],[0.4444444444444444,\"#bd3786\"],[0.5555555555555556,\"#d8576b\"],[0.6666666666666666,\"#ed7953\"],[0.7777777777777778,\"#fb9f3a\"],[0.8888888888888888,\"#fdca26\"],[1.0,\"#f0f921\"]],\"type\":\"histogram2dcontour\"}],\"histogram2d\":[{\"colorbar\":{\"outlinewidth\":0,\"ticks\":\"\"},\"colorscale\":[[0.0,\"#0d0887\"],[0.1111111111111111,\"#46039f\"],[0.2222222222222222,\"#7201a8\"],[0.3333333333333333,\"#9c179e\"],[0.4444444444444444,\"#bd3786\"],[0.5555555555555556,\"#d8576b\"],[0.6666666666666666,\"#ed7953\"],[0.7777777777777778,\"#fb9f3a\"],[0.8888888888888888,\"#fdca26\"],[1.0,\"#f0f921\"]],\"type\":\"histogram2d\"}],\"histogram\":[{\"marker\":{\"pattern\":{\"fillmode\":\"overlay\",\"size\":10,\"solidity\":0.2}},\"type\":\"histogram\"}],\"mesh3d\":[{\"colorbar\":{\"outlinewidth\":0,\"ticks\":\"\"},\"type\":\"mesh3d\"}],\"parcoords\":[{\"line\":{\"colorbar\":{\"outlinewidth\":0,\"ticks\":\"\"}},\"type\":\"parcoords\"}],\"pie\":[{\"automargin\":true,\"type\":\"pie\"}],\"scatter3d\":[{\"line\":{\"colorbar\":{\"outlinewidth\":0,\"ticks\":\"\"}},\"marker\":{\"colorbar\":{\"outlinewidth\":0,\"ticks\":\"\"}},\"type\":\"scatter3d\"}],\"scattercarpet\":[{\"marker\":{\"colorbar\":{\"outlinewidth\":0,\"ticks\":\"\"}},\"type\":\"scattercarpet\"}],\"scattergeo\":[{\"marker\":{\"colorbar\":{\"outlinewidth\":0,\"ticks\":\"\"}},\"type\":\"scattergeo\"}],\"scattergl\":[{\"marker\":{\"line\":{\"color\":\"#283442\"}},\"type\":\"scattergl\"}],\"scattermapbox\":[{\"marker\":{\"colorbar\":{\"outlinewidth\":0,\"ticks\":\"\"}},\"type\":\"scattermapbox\"}],\"scatterpolargl\":[{\"marker\":{\"colorbar\":{\"outlinewidth\":0,\"ticks\":\"\"}},\"type\":\"scatterpolargl\"}],\"scatterpolar\":[{\"marker\":{\"colorbar\":{\"outlinewidth\":0,\"ticks\":\"\"}},\"type\":\"scatterpolar\"}],\"scatter\":[{\"marker\":{\"line\":{\"color\":\"#283442\"}},\"type\":\"scatter\"}],\"scatterternary\":[{\"marker\":{\"colorbar\":{\"outlinewidth\":0,\"ticks\":\"\"}},\"type\":\"scatterternary\"}],\"surface\":[{\"colorbar\":{\"outlinewidth\":0,\"ticks\":\"\"},\"colorscale\":[[0.0,\"#0d0887\"],[0.1111111111111111,\"#46039f\"],[0.2222222222222222,\"#7201a8\"],[0.3333333333333333,\"#9c179e\"],[0.4444444444444444,\"#bd3786\"],[0.5555555555555556,\"#d8576b\"],[0.6666666666666666,\"#ed7953\"],[0.7777777777777778,\"#fb9f3a\"],[0.8888888888888888,\"#fdca26\"],[1.0,\"#f0f921\"]],\"type\":\"surface\"}],\"table\":[{\"cells\":{\"fill\":{\"color\":\"#506784\"},\"line\":{\"color\":\"rgb(17,17,17)\"}},\"header\":{\"fill\":{\"color\":\"#2a3f5f\"},\"line\":{\"color\":\"rgb(17,17,17)\"}},\"type\":\"table\"}]},\"layout\":{\"annotationdefaults\":{\"arrowcolor\":\"#f2f5fa\",\"arrowhead\":0,\"arrowwidth\":1},\"autotypenumbers\":\"strict\",\"coloraxis\":{\"colorbar\":{\"outlinewidth\":0,\"ticks\":\"\"}},\"colorscale\":{\"diverging\":[[0,\"#8e0152\"],[0.1,\"#c51b7d\"],[0.2,\"#de77ae\"],[0.3,\"#f1b6da\"],[0.4,\"#fde0ef\"],[0.5,\"#f7f7f7\"],[0.6,\"#e6f5d0\"],[0.7,\"#b8e186\"],[0.8,\"#7fbc41\"],[0.9,\"#4d9221\"],[1,\"#276419\"]],\"sequential\":[[0.0,\"#0d0887\"],[0.1111111111111111,\"#46039f\"],[0.2222222222222222,\"#7201a8\"],[0.3333333333333333,\"#9c179e\"],[0.4444444444444444,\"#bd3786\"],[0.5555555555555556,\"#d8576b\"],[0.6666666666666666,\"#ed7953\"],[0.7777777777777778,\"#fb9f3a\"],[0.8888888888888888,\"#fdca26\"],[1.0,\"#f0f921\"]],\"sequentialminus\":[[0.0,\"#0d0887\"],[0.1111111111111111,\"#46039f\"],[0.2222222222222222,\"#7201a8\"],[0.3333333333333333,\"#9c179e\"],[0.4444444444444444,\"#bd3786\"],[0.5555555555555556,\"#d8576b\"],[0.6666666666666666,\"#ed7953\"],[0.7777777777777778,\"#fb9f3a\"],[0.8888888888888888,\"#fdca26\"],[1.0,\"#f0f921\"]]},\"colorway\":[\"#636efa\",\"#EF553B\",\"#00cc96\",\"#ab63fa\",\"#FFA15A\",\"#19d3f3\",\"#FF6692\",\"#B6E880\",\"#FF97FF\",\"#FECB52\"],\"font\":{\"color\":\"#f2f5fa\"},\"geo\":{\"bgcolor\":\"rgb(17,17,17)\",\"lakecolor\":\"rgb(17,17,17)\",\"landcolor\":\"rgb(17,17,17)\",\"showlakes\":true,\"showland\":true,\"subunitcolor\":\"#506784\"},\"hoverlabel\":{\"align\":\"left\"},\"hovermode\":\"closest\",\"mapbox\":{\"style\":\"dark\"},\"paper_bgcolor\":\"rgb(17,17,17)\",\"plot_bgcolor\":\"rgb(17,17,17)\",\"polar\":{\"angularaxis\":{\"gridcolor\":\"#506784\",\"linecolor\":\"#506784\",\"ticks\":\"\"},\"bgcolor\":\"rgb(17,17,17)\",\"radialaxis\":{\"gridcolor\":\"#506784\",\"linecolor\":\"#506784\",\"ticks\":\"\"}},\"scene\":{\"xaxis\":{\"backgroundcolor\":\"rgb(17,17,17)\",\"gridcolor\":\"#506784\",\"gridwidth\":2,\"linecolor\":\"#506784\",\"showbackground\":true,\"ticks\":\"\",\"zerolinecolor\":\"#C8D4E3\"},\"yaxis\":{\"backgroundcolor\":\"rgb(17,17,17)\",\"gridcolor\":\"#506784\",\"gridwidth\":2,\"linecolor\":\"#506784\",\"showbackground\":true,\"ticks\":\"\",\"zerolinecolor\":\"#C8D4E3\"},\"zaxis\":{\"backgroundcolor\":\"rgb(17,17,17)\",\"gridcolor\":\"#506784\",\"gridwidth\":2,\"linecolor\":\"#506784\",\"showbackground\":true,\"ticks\":\"\",\"zerolinecolor\":\"#C8D4E3\"}},\"shapedefaults\":{\"line\":{\"color\":\"#f2f5fa\"}},\"sliderdefaults\":{\"bgcolor\":\"#C8D4E3\",\"bordercolor\":\"rgb(17,17,17)\",\"borderwidth\":1,\"tickwidth\":0},\"ternary\":{\"aaxis\":{\"gridcolor\":\"#506784\",\"linecolor\":\"#506784\",\"ticks\":\"\"},\"baxis\":{\"gridcolor\":\"#506784\",\"linecolor\":\"#506784\",\"ticks\":\"\"},\"bgcolor\":\"rgb(17,17,17)\",\"caxis\":{\"gridcolor\":\"#506784\",\"linecolor\":\"#506784\",\"ticks\":\"\"}},\"title\":{\"x\":0.05},\"updatemenudefaults\":{\"bgcolor\":\"#506784\",\"borderwidth\":0},\"xaxis\":{\"automargin\":true,\"gridcolor\":\"#283442\",\"linecolor\":\"#506784\",\"ticks\":\"\",\"title\":{\"standoff\":15},\"zerolinecolor\":\"#283442\",\"zerolinewidth\":2},\"yaxis\":{\"automargin\":true,\"gridcolor\":\"#283442\",\"linecolor\":\"#506784\",\"ticks\":\"\",\"title\":{\"standoff\":15},\"zerolinecolor\":\"#283442\",\"zerolinewidth\":2}}},\"xaxis\":{\"anchor\":\"y\",\"domain\":[0.0,1.0],\"title\":{\"text\":\"age\"}},\"yaxis\":{\"anchor\":\"x\",\"domain\":[0.0,1.0],\"title\":{\"text\":\"bmi\"}},\"coloraxis\":{\"colorbar\":{\"title\":{\"text\":\"charges\"}},\"colorscale\":[[0.0,\"#0d0887\"],[0.1111111111111111,\"#46039f\"],[0.2222222222222222,\"#7201a8\"],[0.3333333333333333,\"#9c179e\"],[0.4444444444444444,\"#bd3786\"],[0.5555555555555556,\"#d8576b\"],[0.6666666666666666,\"#ed7953\"],[0.7777777777777778,\"#fb9f3a\"],[0.8888888888888888,\"#fdca26\"],[1.0,\"#f0f921\"]]},\"legend\":{\"tracegroupgap\":0},\"title\":{\"text\":\"Age vs BMI - find outliers\"}},                        {\"responsive\": true}                    ).then(function(){\n",
              "                            \n",
              "var gd = document.getElementById('b5084718-3c9d-48fe-89f3-5baacf5936a6');\n",
              "var x = new MutationObserver(function (mutations, observer) {{\n",
              "        var display = window.getComputedStyle(gd).display;\n",
              "        if (!display || display === 'none') {{\n",
              "            console.log([gd, 'removed!']);\n",
              "            Plotly.purge(gd);\n",
              "            observer.disconnect();\n",
              "        }}\n",
              "}});\n",
              "\n",
              "// Listen for the removal of the full notebook cells\n",
              "var notebookContainer = gd.closest('#notebook-container');\n",
              "if (notebookContainer) {{\n",
              "    x.observe(notebookContainer, {childList: true});\n",
              "}}\n",
              "\n",
              "// Listen for the clearing of the current output cell\n",
              "var outputEl = gd.closest('.output');\n",
              "if (outputEl) {{\n",
              "    x.observe(outputEl, {childList: true});\n",
              "}}\n",
              "\n",
              "                        })                };                            </script>        </div>\n",
              "</body>\n",
              "</html>"
            ]
          },
          "metadata": {}
        }
      ]
    },
    {
      "cell_type": "markdown",
      "source": [
        "# 💡 Insights:"
      ],
      "metadata": {
        "id": "n4uyY_SdbfYE"
      }
    },
    {
      "cell_type": "markdown",
      "source": [
        "We can observe outliers above 45 BMI.\n",
        "\n",
        "Is 45 BMI too much? Yes. Can we remove it? Yes"
      ],
      "metadata": {
        "id": "ywuwUA67bjoq"
      }
    },
    {
      "cell_type": "markdown",
      "source": [
        "**Body Mass Index**"
      ],
      "metadata": {
        "id": "53bnNkpbWEta"
      }
    },
    {
      "cell_type": "markdown",
      "source": [
        "![image.png](data:image/png;base64,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)"
      ],
      "metadata": {
        "id": "74eZPo0NWJ1o"
      }
    },
    {
      "cell_type": "code",
      "source": [
        "# We are going calculate \n",
        "numeric_col = ['bmi']"
      ],
      "metadata": {
        "id": "CRxncdTTTsiX"
      },
      "execution_count": 22,
      "outputs": []
    },
    {
      "cell_type": "code",
      "source": [
        "# Calculate the Z score\n",
        "df_zscore = df[numeric_col].apply(stats.zscore).apply(abs)\n",
        "df_zscore['bmi_value'] = df.bmi\n"
      ],
      "metadata": {
        "id": "etwn7-khWT59"
      },
      "execution_count": 25,
      "outputs": []
    },
    {
      "cell_type": "code",
      "source": [
        "df_zscore = df_zscore[df_zscore.bmi > 2.4].sort_values('bmi_value')\n",
        "df_zscore.head()"
      ],
      "metadata": {
        "colab": {
          "base_uri": "https://localhost:8080/",
          "height": 206
        },
        "id": "ho9fY5ZoXjPN",
        "outputId": "956e0e20-c116-48ef-cf39-87d66a9eaeab"
      },
      "execution_count": 26,
      "outputs": [
        {
          "output_type": "execute_result",
          "data": {
            "text/plain": [
              "           bmi  bmi_value\n",
              "172   2.411119      15.96\n",
              "1024  2.403427      45.32\n",
              "582   2.421465      45.43\n",
              "292   2.439504      45.54\n",
              "1131  2.498538      45.90"
            ],
            "text/html": [
              "\n",
              "  <div id=\"df-c4d807d5-32b6-41fd-aecc-abc511cbeae9\">\n",
              "    <div class=\"colab-df-container\">\n",
              "      <div>\n",
              "<style scoped>\n",
              "    .dataframe tbody tr th:only-of-type {\n",
              "        vertical-align: middle;\n",
              "    }\n",
              "\n",
              "    .dataframe tbody tr th {\n",
              "        vertical-align: top;\n",
              "    }\n",
              "\n",
              "    .dataframe thead th {\n",
              "        text-align: right;\n",
              "    }\n",
              "</style>\n",
              "<table border=\"1\" class=\"dataframe\">\n",
              "  <thead>\n",
              "    <tr style=\"text-align: right;\">\n",
              "      <th></th>\n",
              "      <th>bmi</th>\n",
              "      <th>bmi_value</th>\n",
              "    </tr>\n",
              "  </thead>\n",
              "  <tbody>\n",
              "    <tr>\n",
              "      <th>172</th>\n",
              "      <td>2.411119</td>\n",
              "      <td>15.96</td>\n",
              "    </tr>\n",
              "    <tr>\n",
              "      <th>1024</th>\n",
              "      <td>2.403427</td>\n",
              "      <td>45.32</td>\n",
              "    </tr>\n",
              "    <tr>\n",
              "      <th>582</th>\n",
              "      <td>2.421465</td>\n",
              "      <td>45.43</td>\n",
              "    </tr>\n",
              "    <tr>\n",
              "      <th>292</th>\n",
              "      <td>2.439504</td>\n",
              "      <td>45.54</td>\n",
              "    </tr>\n",
              "    <tr>\n",
              "      <th>1131</th>\n",
              "      <td>2.498538</td>\n",
              "      <td>45.90</td>\n",
              "    </tr>\n",
              "  </tbody>\n",
              "</table>\n",
              "</div>\n",
              "      <button class=\"colab-df-convert\" onclick=\"convertToInteractive('df-c4d807d5-32b6-41fd-aecc-abc511cbeae9')\"\n",
              "              title=\"Convert this dataframe to an interactive table.\"\n",
              "              style=\"display:none;\">\n",
              "        \n",
              "  <svg xmlns=\"http://www.w3.org/2000/svg\" height=\"24px\"viewBox=\"0 0 24 24\"\n",
              "       width=\"24px\">\n",
              "    <path d=\"M0 0h24v24H0V0z\" fill=\"none\"/>\n",
              "    <path d=\"M18.56 5.44l.94 2.06.94-2.06 2.06-.94-2.06-.94-.94-2.06-.94 2.06-2.06.94zm-11 1L8.5 8.5l.94-2.06 2.06-.94-2.06-.94L8.5 2.5l-.94 2.06-2.06.94zm10 10l.94 2.06.94-2.06 2.06-.94-2.06-.94-.94-2.06-.94 2.06-2.06.94z\"/><path d=\"M17.41 7.96l-1.37-1.37c-.4-.4-.92-.59-1.43-.59-.52 0-1.04.2-1.43.59L10.3 9.45l-7.72 7.72c-.78.78-.78 2.05 0 2.83L4 21.41c.39.39.9.59 1.41.59.51 0 1.02-.2 1.41-.59l7.78-7.78 2.81-2.81c.8-.78.8-2.07 0-2.86zM5.41 20L4 18.59l7.72-7.72 1.47 1.35L5.41 20z\"/>\n",
              "  </svg>\n",
              "      </button>\n",
              "      \n",
              "  <style>\n",
              "    .colab-df-container {\n",
              "      display:flex;\n",
              "      flex-wrap:wrap;\n",
              "      gap: 12px;\n",
              "    }\n",
              "\n",
              "    .colab-df-convert {\n",
              "      background-color: #E8F0FE;\n",
              "      border: none;\n",
              "      border-radius: 50%;\n",
              "      cursor: pointer;\n",
              "      display: none;\n",
              "      fill: #1967D2;\n",
              "      height: 32px;\n",
              "      padding: 0 0 0 0;\n",
              "      width: 32px;\n",
              "    }\n",
              "\n",
              "    .colab-df-convert:hover {\n",
              "      background-color: #E2EBFA;\n",
              "      box-shadow: 0px 1px 2px rgba(60, 64, 67, 0.3), 0px 1px 3px 1px rgba(60, 64, 67, 0.15);\n",
              "      fill: #174EA6;\n",
              "    }\n",
              "\n",
              "    [theme=dark] .colab-df-convert {\n",
              "      background-color: #3B4455;\n",
              "      fill: #D2E3FC;\n",
              "    }\n",
              "\n",
              "    [theme=dark] .colab-df-convert:hover {\n",
              "      background-color: #434B5C;\n",
              "      box-shadow: 0px 1px 3px 1px rgba(0, 0, 0, 0.15);\n",
              "      filter: drop-shadow(0px 1px 2px rgba(0, 0, 0, 0.3));\n",
              "      fill: #FFFFFF;\n",
              "    }\n",
              "  </style>\n",
              "\n",
              "      <script>\n",
              "        const buttonEl =\n",
              "          document.querySelector('#df-c4d807d5-32b6-41fd-aecc-abc511cbeae9 button.colab-df-convert');\n",
              "        buttonEl.style.display =\n",
              "          google.colab.kernel.accessAllowed ? 'block' : 'none';\n",
              "\n",
              "        async function convertToInteractive(key) {\n",
              "          const element = document.querySelector('#df-c4d807d5-32b6-41fd-aecc-abc511cbeae9');\n",
              "          const dataTable =\n",
              "            await google.colab.kernel.invokeFunction('convertToInteractive',\n",
              "                                                     [key], {});\n",
              "          if (!dataTable) return;\n",
              "\n",
              "          const docLinkHtml = 'Like what you see? Visit the ' +\n",
              "            '<a target=\"_blank\" href=https://colab.research.google.com/notebooks/data_table.ipynb>data table notebook</a>'\n",
              "            + ' to learn more about interactive tables.';\n",
              "          element.innerHTML = '';\n",
              "          dataTable['output_type'] = 'display_data';\n",
              "          await google.colab.output.renderOutput(dataTable, element);\n",
              "          const docLink = document.createElement('div');\n",
              "          docLink.innerHTML = docLinkHtml;\n",
              "          element.appendChild(docLink);\n",
              "        }\n",
              "      </script>\n",
              "    </div>\n",
              "  </div>\n",
              "  "
            ]
          },
          "metadata": {},
          "execution_count": 26
        }
      ]
    },
    {
      "cell_type": "code",
      "source": [
        "# As we can see, over z score higher than 2.4 is the exactly outliers we were looking for.\n",
        "# Let's drop this data from the dataframe\n",
        "df2 = df.drop(index=df_zscore.index)\n",
        "df2"
      ],
      "metadata": {
        "colab": {
          "base_uri": "https://localhost:8080/",
          "height": 424
        },
        "id": "M7mjEyhgX4-k",
        "outputId": "b9a1c7cc-d7c9-43ab-fcdc-1a48cdafabde"
      },
      "execution_count": 28,
      "outputs": [
        {
          "output_type": "execute_result",
          "data": {
            "text/plain": [
              "      age     sex     bmi  children smoker     region      charges\n",
              "0      19  female  27.900         0    yes  southwest  16884.92400\n",
              "1      18    male  33.770         1     no  southeast   1725.55230\n",
              "2      28    male  33.000         3     no  southeast   4449.46200\n",
              "3      33    male  22.705         0     no  northwest  21984.47061\n",
              "4      32    male  28.880         0     no  northwest   3866.85520\n",
              "...   ...     ...     ...       ...    ...        ...          ...\n",
              "1333   50    male  30.970         3     no  northwest  10600.54830\n",
              "1334   18  female  31.920         0     no  northeast   2205.98080\n",
              "1335   18  female  36.850         0     no  southeast   1629.83350\n",
              "1336   21  female  25.800         0     no  southwest   2007.94500\n",
              "1337   61  female  29.070         0    yes  northwest  29141.36030\n",
              "\n",
              "[1316 rows x 7 columns]"
            ],
            "text/html": [
              "\n",
              "  <div id=\"df-882f1c7a-1eee-45c0-9e3c-662cb31b883b\">\n",
              "    <div class=\"colab-df-container\">\n",
              "      <div>\n",
              "<style scoped>\n",
              "    .dataframe tbody tr th:only-of-type {\n",
              "        vertical-align: middle;\n",
              "    }\n",
              "\n",
              "    .dataframe tbody tr th {\n",
              "        vertical-align: top;\n",
              "    }\n",
              "\n",
              "    .dataframe thead th {\n",
              "        text-align: right;\n",
              "    }\n",
              "</style>\n",
              "<table border=\"1\" class=\"dataframe\">\n",
              "  <thead>\n",
              "    <tr style=\"text-align: right;\">\n",
              "      <th></th>\n",
              "      <th>age</th>\n",
              "      <th>sex</th>\n",
              "      <th>bmi</th>\n",
              "      <th>children</th>\n",
              "      <th>smoker</th>\n",
              "      <th>region</th>\n",
              "      <th>charges</th>\n",
              "    </tr>\n",
              "  </thead>\n",
              "  <tbody>\n",
              "    <tr>\n",
              "      <th>0</th>\n",
              "      <td>19</td>\n",
              "      <td>female</td>\n",
              "      <td>27.900</td>\n",
              "      <td>0</td>\n",
              "      <td>yes</td>\n",
              "      <td>southwest</td>\n",
              "      <td>16884.92400</td>\n",
              "    </tr>\n",
              "    <tr>\n",
              "      <th>1</th>\n",
              "      <td>18</td>\n",
              "      <td>male</td>\n",
              "      <td>33.770</td>\n",
              "      <td>1</td>\n",
              "      <td>no</td>\n",
              "      <td>southeast</td>\n",
              "      <td>1725.55230</td>\n",
              "    </tr>\n",
              "    <tr>\n",
              "      <th>2</th>\n",
              "      <td>28</td>\n",
              "      <td>male</td>\n",
              "      <td>33.000</td>\n",
              "      <td>3</td>\n",
              "      <td>no</td>\n",
              "      <td>southeast</td>\n",
              "      <td>4449.46200</td>\n",
              "    </tr>\n",
              "    <tr>\n",
              "      <th>3</th>\n",
              "      <td>33</td>\n",
              "      <td>male</td>\n",
              "      <td>22.705</td>\n",
              "      <td>0</td>\n",
              "      <td>no</td>\n",
              "      <td>northwest</td>\n",
              "      <td>21984.47061</td>\n",
              "    </tr>\n",
              "    <tr>\n",
              "      <th>4</th>\n",
              "      <td>32</td>\n",
              "      <td>male</td>\n",
              "      <td>28.880</td>\n",
              "      <td>0</td>\n",
              "      <td>no</td>\n",
              "      <td>northwest</td>\n",
              "      <td>3866.85520</td>\n",
              "    </tr>\n",
              "    <tr>\n",
              "      <th>...</th>\n",
              "      <td>...</td>\n",
              "      <td>...</td>\n",
              "      <td>...</td>\n",
              "      <td>...</td>\n",
              "      <td>...</td>\n",
              "      <td>...</td>\n",
              "      <td>...</td>\n",
              "    </tr>\n",
              "    <tr>\n",
              "      <th>1333</th>\n",
              "      <td>50</td>\n",
              "      <td>male</td>\n",
              "      <td>30.970</td>\n",
              "      <td>3</td>\n",
              "      <td>no</td>\n",
              "      <td>northwest</td>\n",
              "      <td>10600.54830</td>\n",
              "    </tr>\n",
              "    <tr>\n",
              "      <th>1334</th>\n",
              "      <td>18</td>\n",
              "      <td>female</td>\n",
              "      <td>31.920</td>\n",
              "      <td>0</td>\n",
              "      <td>no</td>\n",
              "      <td>northeast</td>\n",
              "      <td>2205.98080</td>\n",
              "    </tr>\n",
              "    <tr>\n",
              "      <th>1335</th>\n",
              "      <td>18</td>\n",
              "      <td>female</td>\n",
              "      <td>36.850</td>\n",
              "      <td>0</td>\n",
              "      <td>no</td>\n",
              "      <td>southeast</td>\n",
              "      <td>1629.83350</td>\n",
              "    </tr>\n",
              "    <tr>\n",
              "      <th>1336</th>\n",
              "      <td>21</td>\n",
              "      <td>female</td>\n",
              "      <td>25.800</td>\n",
              "      <td>0</td>\n",
              "      <td>no</td>\n",
              "      <td>southwest</td>\n",
              "      <td>2007.94500</td>\n",
              "    </tr>\n",
              "    <tr>\n",
              "      <th>1337</th>\n",
              "      <td>61</td>\n",
              "      <td>female</td>\n",
              "      <td>29.070</td>\n",
              "      <td>0</td>\n",
              "      <td>yes</td>\n",
              "      <td>northwest</td>\n",
              "      <td>29141.36030</td>\n",
              "    </tr>\n",
              "  </tbody>\n",
              "</table>\n",
              "<p>1316 rows × 7 columns</p>\n",
              "</div>\n",
              "      <button class=\"colab-df-convert\" onclick=\"convertToInteractive('df-882f1c7a-1eee-45c0-9e3c-662cb31b883b')\"\n",
              "              title=\"Convert this dataframe to an interactive table.\"\n",
              "              style=\"display:none;\">\n",
              "        \n",
              "  <svg xmlns=\"http://www.w3.org/2000/svg\" height=\"24px\"viewBox=\"0 0 24 24\"\n",
              "       width=\"24px\">\n",
              "    <path d=\"M0 0h24v24H0V0z\" fill=\"none\"/>\n",
              "    <path d=\"M18.56 5.44l.94 2.06.94-2.06 2.06-.94-2.06-.94-.94-2.06-.94 2.06-2.06.94zm-11 1L8.5 8.5l.94-2.06 2.06-.94-2.06-.94L8.5 2.5l-.94 2.06-2.06.94zm10 10l.94 2.06.94-2.06 2.06-.94-2.06-.94-.94-2.06-.94 2.06-2.06.94z\"/><path d=\"M17.41 7.96l-1.37-1.37c-.4-.4-.92-.59-1.43-.59-.52 0-1.04.2-1.43.59L10.3 9.45l-7.72 7.72c-.78.78-.78 2.05 0 2.83L4 21.41c.39.39.9.59 1.41.59.51 0 1.02-.2 1.41-.59l7.78-7.78 2.81-2.81c.8-.78.8-2.07 0-2.86zM5.41 20L4 18.59l7.72-7.72 1.47 1.35L5.41 20z\"/>\n",
              "  </svg>\n",
              "      </button>\n",
              "      \n",
              "  <style>\n",
              "    .colab-df-container {\n",
              "      display:flex;\n",
              "      flex-wrap:wrap;\n",
              "      gap: 12px;\n",
              "    }\n",
              "\n",
              "    .colab-df-convert {\n",
              "      background-color: #E8F0FE;\n",
              "      border: none;\n",
              "      border-radius: 50%;\n",
              "      cursor: pointer;\n",
              "      display: none;\n",
              "      fill: #1967D2;\n",
              "      height: 32px;\n",
              "      padding: 0 0 0 0;\n",
              "      width: 32px;\n",
              "    }\n",
              "\n",
              "    .colab-df-convert:hover {\n",
              "      background-color: #E2EBFA;\n",
              "      box-shadow: 0px 1px 2px rgba(60, 64, 67, 0.3), 0px 1px 3px 1px rgba(60, 64, 67, 0.15);\n",
              "      fill: #174EA6;\n",
              "    }\n",
              "\n",
              "    [theme=dark] .colab-df-convert {\n",
              "      background-color: #3B4455;\n",
              "      fill: #D2E3FC;\n",
              "    }\n",
              "\n",
              "    [theme=dark] .colab-df-convert:hover {\n",
              "      background-color: #434B5C;\n",
              "      box-shadow: 0px 1px 3px 1px rgba(0, 0, 0, 0.15);\n",
              "      filter: drop-shadow(0px 1px 2px rgba(0, 0, 0, 0.3));\n",
              "      fill: #FFFFFF;\n",
              "    }\n",
              "  </style>\n",
              "\n",
              "      <script>\n",
              "        const buttonEl =\n",
              "          document.querySelector('#df-882f1c7a-1eee-45c0-9e3c-662cb31b883b button.colab-df-convert');\n",
              "        buttonEl.style.display =\n",
              "          google.colab.kernel.accessAllowed ? 'block' : 'none';\n",
              "\n",
              "        async function convertToInteractive(key) {\n",
              "          const element = document.querySelector('#df-882f1c7a-1eee-45c0-9e3c-662cb31b883b');\n",
              "          const dataTable =\n",
              "            await google.colab.kernel.invokeFunction('convertToInteractive',\n",
              "                                                     [key], {});\n",
              "          if (!dataTable) return;\n",
              "\n",
              "          const docLinkHtml = 'Like what you see? Visit the ' +\n",
              "            '<a target=\"_blank\" href=https://colab.research.google.com/notebooks/data_table.ipynb>data table notebook</a>'\n",
              "            + ' to learn more about interactive tables.';\n",
              "          element.innerHTML = '';\n",
              "          dataTable['output_type'] = 'display_data';\n",
              "          await google.colab.output.renderOutput(dataTable, element);\n",
              "          const docLink = document.createElement('div');\n",
              "          docLink.innerHTML = docLinkHtml;\n",
              "          element.appendChild(docLink);\n",
              "        }\n",
              "      </script>\n",
              "    </div>\n",
              "  </div>\n",
              "  "
            ]
          },
          "metadata": {},
          "execution_count": 28
        }
      ]
    },
    {
      "cell_type": "code",
      "source": [
        "# Plot again to double check\n",
        "px.scatter(df2, x='age', y='bmi', title='Age vs BMI - outliers removed', color='charges',template='plotly_dark')\n"
      ],
      "metadata": {
        "colab": {
          "base_uri": "https://localhost:8080/",
          "height": 542
        },
        "id": "B0GfZvknYz9h",
        "outputId": "adb5d351-711a-4ccd-fb81-3382a9651809"
      },
      "execution_count": 36,
      "outputs": [
        {
          "output_type": "display_data",
          "data": {
            "text/html": [
              "<html>\n",
              "<head><meta charset=\"utf-8\" /></head>\n",
              "<body>\n",
              "    <div>            <script src=\"https://cdnjs.cloudflare.com/ajax/libs/mathjax/2.7.5/MathJax.js?config=TeX-AMS-MML_SVG\"></script><script type=\"text/javascript\">if (window.MathJax) {MathJax.Hub.Config({SVG: {font: \"STIX-Web\"}});}</script>                <script type=\"text/javascript\">window.PlotlyConfig = {MathJaxConfig: 'local'};</script>\n",
              "        <script src=\"https://cdn.plot.ly/plotly-2.8.3.min.js\"></script>                <div id=\"033e3582-ee63-4c08-b1f9-2e6174f496e8\" class=\"plotly-graph-div\" style=\"height:525px; width:100%;\"></div>            <script type=\"text/javascript\">                                    window.PLOTLYENV=window.PLOTLYENV || {};                                    if (document.getElementById(\"033e3582-ee63-4c08-b1f9-2e6174f496e8\")) {                    Plotly.newPlot(                        \"033e3582-ee63-4c08-b1f9-2e6174f496e8\",                        [{\"hovertemplate\":\"age=%{x}<br>bmi=%{y}<br>charges=%{marker.color}<extra></extra>\",\"legendgroup\":\"\",\"marker\":{\"color\":[16884.924,1725.5523,4449.462,21984.47061,3866.8552,3756.6216,8240.5896,7281.5056,6406.4107,28923.13692,2721.3208,27808.7251,1826.843,11090.7178,39611.7577,1837.237,10797.3362,2395.17155,10602.385,36837.467,13228.84695,4149.736,1137.011,37701.8768,6203.90175,14001.1338,14451.83515,12268.63225,2775.19215,38711.0,35585.576,2198.18985,4687.797,13770.0979,51194.55914,1625.43375,15612.19335,2302.3,39774.2763,48173.361,3046.062,4949.7587,6272.4772,6313.759,6079.6715,20630.28351,3393.35635,3556.9223,12629.8967,38709.176,2211.13075,3579.8287,23568.272,37742.5757,8059.6791,47496.49445,13607.36875,34303.1672,23244.7902,5989.52365,8606.2174,4504.6624,30166.61817,4133.64165,14711.7438,1743.214,14235.072,6389.37785,5920.1041,17663.1442,16577.7795,6799.458,11741.726,11946.6259,7726.854,11356.6609,3947.4131,1532.4697,2755.02095,6571.02435,4441.21315,7935.29115,37165.1638,11033.6617,39836.519,21098.55405,43578.9394,11073.176,8026.6666,11082.5772,2026.9741,10942.13205,30184.9367,5729.0053,47291.055,3766.8838,12105.32,10226.2842,22412.6485,15820.699,6186.127,3645.0894,21344.8467,30942.1918,5003.853,17560.37975,2331.519,3877.30425,2867.1196,47055.5321,10825.2537,11881.358,4646.759,2404.7338,11488.31695,30259.99556,19107.7796,8601.3293,6686.4313,7740.337,1705.6245,2257.47525,39556.4945,10115.00885,3385.39915,17081.08,9634.538,32734.1863,6082.405,12815.44495,13616.3586,11163.568,1632.56445,2457.21115,2155.6815,1261.442,2045.68525,27322.73386,2166.732,27375.90478,3490.5491,18972.495,18157.876,20745.9891,5138.2567,40720.55105,9877.6077,10959.6947,1842.519,5125.2157,7789.635,6334.34355,19964.7463,7077.1894,6948.7008,21223.6758,15518.18025,36950.2567,19749.38338,21348.706,36149.4835,10450.552,5152.134,5028.1466,10407.08585,4830.63,6128.79745,2719.27975,4827.90495,13405.3903,8116.68,5246.047,2855.43755,48824.45,6455.86265,10436.096,8823.279,8538.28845,11735.87905,1631.8212,4005.4225,7419.4779,7731.4271,43753.33705,3981.9768,5325.651,6775.961,4922.9159,12557.6053,4883.866,2137.6536,12044.342,1137.4697,1639.5631,5649.715,8516.829,9644.2525,14901.5167,2130.6759,8871.1517,13012.20865,37133.8982,7147.105,4337.7352,11743.299,20984.0936,13880.949,6610.1097,1980.07,8162.71625,3537.703,5002.7827,8520.026,7371.772,10355.641,2483.736,3392.9768,25081.76784,5012.471,10564.8845,5253.524,34779.615,19515.5416,11987.1682,2689.4954,24227.33724,7358.17565,9225.2564,7443.64305,14001.2867,1727.785,12333.828,6710.1919,19444.2658,1615.7667,4463.2051,17352.6803,7152.6714,38511.6283,5354.07465,35160.13457,7196.867,29523.1656,24476.47851,12648.7034,1986.9334,1832.094,4040.55825,12829.4551,47305.305,44260.7499,4260.744,41097.16175,13047.33235,43921.1837,5400.9805,11520.09985,33750.2918,11837.16,17085.2676,24869.8368,36219.40545,20462.99766,46151.1245,17179.522,14590.63205,7441.053,9282.4806,1719.4363,42856.838,7265.7025,9617.66245,2523.1695,9715.841,2803.69785,2150.469,12928.7911,9855.1314,22331.5668,48549.17835,4237.12655,11879.10405,9625.92,7742.1098,14256.1928,47896.79135,25992.82104,3172.018,20277.80751,2156.7518,3906.127,1704.5681,16297.846,21978.6769,38746.3551,9249.4952,6746.7425,24873.3849,12265.5069,4349.462,12646.207,19442.3535,20177.67113,4151.0287,11944.59435,7749.1564,8444.474,1737.376,42124.5153,8124.4084,34838.873,9722.7695,8835.26495,10435.06525,7421.19455,4667.60765,4894.7533,24671.66334,35491.64,11566.30055,2866.091,6600.20595,3561.8889,42760.5022,47928.03,9144.565,48517.56315,24393.6224,13429.0354,11658.37915,19144.57652,13822.803,12142.5786,13937.6665,41919.097,8232.6388,18955.22017,13352.0998,13217.0945,13981.85035,10977.2063,6184.2994,4889.9995,8334.45755,5478.0368,1635.73365,11830.6072,8932.084,3554.203,12404.8791,14133.03775,24603.04837,8944.1151,9620.3307,1837.2819,1607.5101,10043.249,4751.07,13844.506,2597.779,3180.5101,9778.3472,13430.265,8017.06115,8116.26885,3481.868,13415.0381,12029.2867,7639.41745,36085.219,1391.5287,18033.9679,21659.9301,38126.2465,16455.70785,27000.98473,15006.57945,42303.69215,20781.48892,5846.9176,8302.53565,1261.859,11856.4115,30284.64294,3176.8159,4618.0799,10736.87075,2138.0707,8964.06055,9290.1395,9411.005,7526.70645,8522.003,16586.49771,14988.432,1631.6683,9264.797,14692.66935,10269.46,3260.199,11396.9002,4185.0979,8539.671,6652.5288,4074.4537,1621.3402,19594.80965,14455.64405,5080.096,2134.9015,7345.7266,9140.951,18608.262,14418.2804,28950.4692,46889.2612,46599.1084,39125.33225,2727.3951,8968.33,9788.8659,6555.07035,7323.734819,3167.45585,18804.7524,23082.95533,4906.40965,5969.723,12638.195,4243.59005,13919.8229,2254.7967,5926.846,2897.3235,4738.2682,37079.372,1149.3959,28287.89766,26109.32905,7345.084,12730.9996,11454.0215,5910.944,4762.329,7512.267,4032.2407,1969.614,1769.53165,21797.0004,11881.9696,11840.77505,10601.412,7682.67,10381.4787,22144.032,15230.32405,11165.41765,1632.03625,19521.9682,13224.693,12643.3778,23288.9284,2201.0971,2497.0383,2203.47185,1744.465,20878.78443,25382.297,28868.6639,35147.52848,2534.39375,1534.3045,1824.2854,15555.18875,9304.7019,1622.1885,9880.068,9563.029,4347.02335,12475.3513,1253.936,48885.13561,10461.9794,1748.774,24513.09126,2196.4732,12574.049,17942.106,1967.0227,4931.647,8027.968,8211.1002,13470.86,36197.699,6837.3687,22218.1149,32548.3405,5974.3847,6796.86325,2643.2685,3077.0955,3044.2133,11455.28,11763.0009,2498.4144,9361.3268,1256.299,21082.16,11362.755,27724.28875,8413.46305,5240.765,3857.75925,25656.57526,3994.1778,9866.30485,5397.6167,38245.59327,11482.63485,24059.68019,9861.025,8342.90875,1708.0014,48675.5177,14043.4767,12925.886,19214.70553,13831.1152,6067.12675,5972.378,8825.086,8233.0975,27346.04207,6196.448,3056.3881,13887.204,10231.4999,23807.2406,3268.84665,3213.62205,13390.559,3972.9247,12957.118,11187.6567,17878.90068,3847.674,8334.5896,3935.1799,39983.42595,1646.4297,9193.8385,10923.9332,2494.022,9058.7303,2801.2588,2128.43105,6373.55735,7256.7231,11552.904,45702.02235,3761.292,2219.4451,4753.6368,31620.00106,13224.05705,12222.8983,1664.9996,58571.07448,9724.53,3206.49135,12913.9924,17626.23951,1242.816,4779.6023,3861.20965,43943.8761,13635.6379,5976.8311,11842.442,8428.0693,2566.4707,15359.1045,5709.1644,8823.98575,7640.3092,5594.8455,7441.501,33471.97189,1633.0444,9174.13565,11070.535,16085.1275,17468.9839,9283.562,3558.62025,25678.77845,4435.0942,39241.442,8547.6913,6571.544,2207.69745,6753.038,1880.07,42969.8527,11658.11505,23306.547,34439.8559,10713.644,3659.346,40182.246,9182.17,34617.84065,12129.61415,3736.4647,6748.5912,11326.71487,11365.952,42983.4585,10085.846,1977.815,3366.6697,7173.35995,9391.346,14410.9321,2709.1119,24915.04626,20149.3229,12949.1554,6666.243,32787.45859,13143.86485,4466.6214,18806.14547,10141.1362,6123.5688,8252.2843,1712.227,12430.95335,9800.8882,10579.711,8280.6227,8527.532,12244.531,24667.419,3410.324,4058.71245,26392.26029,14394.39815,22192.43711,5148.5526,1136.3994,27037.9141,42560.4304,8703.456,40003.33225,45710.20785,6500.2359,4837.5823,3943.5954,4399.731,6185.3208,46200.9851,7222.78625,12485.8009,46130.5265,12363.547,10156.7832,2585.269,1242.26,40103.89,9863.4718,4766.022,11244.3769,7729.64575,5438.7491,26236.57997,34806.4677,2104.1134,8068.185,2362.22905,2352.96845,3577.999,3201.24515,29186.48236,40273.6455,10976.24575,3500.6123,2020.5523,9541.69555,9504.3103,5385.3379,8930.93455,5375.038,44400.4064,10264.4421,6113.23105,5469.0066,1727.54,10107.2206,8310.83915,1984.4533,2457.502,12146.971,9566.9909,13112.6048,10848.1343,12231.6136,9875.6804,11264.541,12979.358,1263.249,10106.13425,40932.4295,6664.68595,16657.71745,2217.6012,6781.3542,19361.9988,10065.413,4234.927,9447.25035,14007.222,9583.8933,40419.0191,3484.331,36189.1017,44585.45587,8604.48365,18246.4955,43254.41795,3757.8448,8827.2099,9910.35985,11737.84884,1627.28245,8556.907,3062.50825,19539.243,1906.35825,14210.53595,11833.7823,17128.42608,5031.26955,7985.815,23065.4207,5428.7277,36307.7983,3925.7582,2416.955,19040.876,3070.8087,9095.06825,11842.62375,8062.764,7050.642,14319.031,6933.24225,27941.28758,11150.78,12797.20962,17748.5062,7261.741,10560.4917,6986.697,7448.40395,5934.3798,9869.8102,18259.216,1146.7966,9386.1613,24520.264,4350.5144,6414.178,12741.16745,1917.3184,5209.57885,13457.9608,5662.225,1252.407,2731.9122,21195.818,7209.4918,18310.742,4266.1658,4719.52405,11848.141,17904.52705,7046.7222,14313.8463,2103.08,38792.6856,1815.8759,7731.85785,28476.73499,2136.88225,1131.5066,3309.7926,9414.92,6360.9936,11013.7119,4428.88785,5584.3057,1877.9294,2842.76075,3597.596,23401.30575,55135.40209,7445.918,2680.9493,1621.8827,8219.2039,12523.6048,16069.08475,43813.8661,20773.62775,39597.4072,6117.4945,13393.756,5266.3656,4719.73655,11743.9341,5377.4578,7160.3303,4402.233,11657.7189,6402.29135,12622.1795,1526.312,12323.936,36021.0112,27533.9129,10072.05505,45008.9555,9872.701,2974.126,10601.63225,37270.1512,14119.62,42111.6647,11729.6795,24106.91255,1875.344,40974.1649,15817.9857,18218.16139,10965.446,7151.092,12269.68865,5458.04645,8782.469,6600.361,1141.4451,11576.13,13129.60345,4391.652,8457.818,3392.3652,5966.8874,6849.026,8891.1395,2690.1138,26140.3603,6653.7886,6282.235,6311.952,3443.064,2789.0574,2585.85065,46255.1125,4877.98105,19719.6947,27218.43725,5272.1758,1682.597,11945.1327,29330.98315,7243.8136,10422.91665,44202.6536,13555.0049,13063.883,19798.05455,2221.56445,1634.5734,2117.33885,8688.85885,48673.5588,4661.28635,8125.7845,12644.589,4564.19145,4846.92015,7633.7206,15170.069,17496.306,2639.0429,33732.6867,14382.70905,7626.993,5257.50795,2473.3341,21774.32215,35069.37452,13041.921,5245.2269,13451.122,13462.52,5488.262,4320.41085,6250.435,25333.33284,2913.569,12032.326,13470.8044,6289.7549,6238.298,10096.97,7348.142,4673.3922,12233.828,32108.66282,8965.79575,2304.0022,9487.6442,1121.8739,2217.46915,1628.4709,12982.8747,11674.13,7160.094,39047.285,6358.77645,19933.458,11534.87265,47462.894,4527.18295,38998.546,20009.63365,3875.7341,41999.52,12609.88702,41034.2214,28468.91901,2730.10785,3353.284,14474.675,9500.57305,26467.09737,4746.344,23967.38305,7518.02535,3279.86855,8596.8278,10702.6424,4992.3764,2527.81865,1759.338,2322.6218,16138.76205,7804.1605,2902.9065,9704.66805,4889.0368,25517.11363,4500.33925,19199.944,16796.41194,4915.05985,7624.63,8410.04685,28340.18885,4518.82625,14571.8908,3378.91,7144.86265,10118.424,5484.4673,16420.49455,7986.47525,7418.522,13887.9685,6551.7501,5267.81815,17361.7661,34472.841,1972.95,21232.18226,8627.5411,4433.3877,4438.2634,24915.22085,23241.47453,9957.7216,8269.044,18767.7377,36580.28216,8765.249,5383.536,12124.9924,2709.24395,3987.926,12495.29085,26018.95052,8798.593,35595.5898,42211.1382,1711.0268,2020.177,16450.8947,21595.38229,9850.432,6877.9801,21677.28345,44423.803,4137.5227,13747.87235,12950.0712,12094.478,37484.4493,39725.51805,2250.8352,22493.65964,20234.85475,1704.70015,33475.81715,3161.454,11394.06555,21880.82,7325.0482,3594.17085,39727.614,8023.13545,14394.5579,9288.0267,25309.489,3353.4703,10594.50155,8277.523,17929.30337,2480.9791,4462.7218,1981.5819,11554.2236,48970.2476,6548.19505,5708.867,7045.499,8978.1851,5757.41345,14349.8544,10928.849,39871.7043,13974.45555,1909.52745,12096.6512,13204.28565,4562.8421,8551.347,2102.2647,34672.1472,15161.5344,11884.04858,4454.40265,5855.9025,4076.497,15019.76005,19023.26,10796.35025,11353.2276,10577.087,41676.0811,11286.5387,3591.48,33907.548,11299.343,4561.1885,44641.1974,1674.6323,23045.56616,3227.1211,16776.30405,11253.421,3471.4096,11363.2832,20420.60465,10338.9316,8988.15875,10493.9458,2904.088,8605.3615,11512.405,41949.2441,24180.9335,5312.16985,2396.0959,10807.4863,9222.4026,36124.5737,38282.7495,5693.4305,34166.273,8347.1643,46661.4424,18903.49141,40904.1995,14254.6082,10214.636,5836.5204,14358.36437,1728.897,8582.3023,20709.02034,9991.03765,19673.33573,11085.5868,7623.518,3176.2877,3704.3545,36898.73308,9048.0273,7954.517,27117.99378,6338.0756,9630.397,11289.10925,52590.82939,2261.5688,10791.96,5979.731,2203.73595,12235.8392,40941.2854,5630.45785,11015.1747,7228.21565,39722.7462,14426.07385,2459.7201,3989.841,7727.2532,5124.1887,18963.17192,2200.83085,7153.5539,5227.98875,10982.5013,4529.477,4670.64,6112.35295,17178.6824,22478.6,11093.6229,6457.8434,4433.9159,2154.361,23887.6627,6496.886,2899.48935,19350.3689,7650.77375,2850.68375,2632.992,9447.3824,18328.2381,8603.8234,37465.34375,13844.7972,21771.3423,13126.67745,5327.40025,13725.47184,13019.16105,8671.19125,4134.08245,18838.70366,33307.5508,5699.8375,6393.60345,4934.705,6198.7518,8733.22925,2055.3249,9964.06,18223.4512,5116.5004,36910.60803,38415.474,20296.86345,12347.172,5373.36425,23563.01618,1702.4553,10806.839,3956.07145,12890.05765,5415.6612,4058.1161,41661.602,7537.1639,4718.20355,6593.5083,8442.667,26125.67477,6858.4796,4795.6568,6640.54485,7162.0122,10594.2257,11938.25595,60021.39897,20167.33603,12479.70895,11345.519,8515.7587,2699.56835,14449.8544,12224.35085,6985.50695,3238.4357,47269.854,49577.6624,4296.2712,3171.6149,1135.9407,5615.369,9101.798,6059.173,1633.9618,37607.5277,18648.4217,1241.565,16232.847,15828.82173,4415.1588,6474.013,11436.73815,11305.93455,30063.58055,10197.7722,4544.2348,3277.161,6770.1925,7337.748,10370.91255,26926.5144,10704.47,34254.05335,1880.487,8615.3,3292.52985,3021.80915,14478.33015,4747.0529,17043.3414,10959.33,2741.948,4357.04365,22462.04375,4189.1131,8283.6807,24535.69855,14283.4594,1720.3537,47403.88,8534.6718,3732.6251,5472.449,38344.566,7147.4728,7133.9025,34828.654,1515.3449,9301.89355,11931.12525,1964.78,1708.92575,4340.4409,5261.46945,2710.82855,62592.87309,46718.16325,3208.787,37829.7242,21259.37795,2464.6188,16115.3045,21472.4788,33900.653,6875.961,6940.90985,4571.41305,4536.259,36397.576,18765.87545,11272.33139,1731.677,19496.71917,7201.70085,5425.02335,28101.33305,12981.3457,43896.3763,4239.89265,13143.33665,7050.0213,9377.9047,22395.74424,10325.206,12629.1656,10795.93733,11411.685,10600.5483,2205.9808,1629.8335,2007.945,29141.3603],\"coloraxis\":\"coloraxis\",\"symbol\":\"circle\"},\"mode\":\"markers\",\"name\":\"\",\"showlegend\":false,\"x\":[19,18,28,33,32,31,46,37,37,60,25,62,23,56,27,19,52,23,56,30,60,30,18,34,37,59,63,55,23,31,22,18,19,63,28,19,62,26,35,60,24,31,41,37,38,55,18,28,60,36,18,21,48,36,40,58,58,18,53,34,43,25,64,28,20,19,61,40,40,28,27,31,53,58,44,57,29,21,22,41,31,45,22,48,37,45,57,56,46,55,21,53,59,35,64,28,54,55,56,38,41,30,18,61,34,20,19,26,29,63,54,55,37,21,52,60,29,49,37,44,18,20,44,47,26,19,52,32,38,59,61,53,19,20,22,19,22,54,22,34,26,34,29,30,29,46,51,53,19,35,48,32,42,40,44,48,18,30,50,42,18,54,32,37,47,20,32,19,27,63,49,35,24,63,38,54,46,41,58,18,22,44,44,36,26,30,41,29,61,36,25,56,18,19,39,45,51,64,19,48,60,27,46,28,59,35,63,40,20,40,24,34,45,41,53,27,26,24,34,53,32,19,42,55,28,58,41,47,42,59,19,59,39,40,18,31,19,44,23,33,55,40,63,54,60,24,19,29,18,63,54,27,50,55,56,38,51,19,58,20,52,19,53,46,40,59,45,49,18,50,41,50,25,47,19,22,59,51,40,54,30,55,52,46,63,59,52,28,29,22,25,18,19,47,31,48,36,53,56,28,57,29,28,30,58,41,50,19,43,49,27,52,50,54,44,32,34,26,34,57,29,40,27,45,64,52,61,52,61,56,43,64,60,62,50,46,24,62,60,63,49,34,33,46,36,19,57,50,30,33,18,46,46,47,23,18,48,35,19,21,21,49,56,42,44,18,61,57,42,26,20,23,39,24,64,62,27,55,55,35,44,19,58,50,26,24,48,19,48,49,46,46,43,21,64,18,51,64,49,31,52,33,47,38,32,19,44,26,25,19,43,52,36,64,63,64,61,40,25,48,45,38,18,21,27,19,29,42,60,31,60,22,35,26,31,33,18,59,56,45,60,56,40,35,39,30,24,20,59,55,57,56,40,49,42,62,56,19,30,60,56,28,18,27,18,19,47,54,61,24,25,21,23,63,49,18,51,48,31,54,19,44,53,19,61,18,61,21,20,31,45,44,62,29,43,51,19,38,37,22,21,24,57,56,27,51,19,39,58,20,45,35,31,50,32,51,38,42,18,19,51,46,18,57,62,59,37,64,38,33,46,46,53,34,20,63,54,49,28,25,63,32,62,52,25,28,46,34,35,19,46,54,27,50,18,19,38,41,49,48,31,18,30,62,57,58,22,31,52,25,59,32,19,33,21,34,61,38,58,47,20,21,41,46,42,34,43,52,18,51,56,64,19,51,27,59,28,30,47,38,18,34,20,47,56,49,19,55,30,37,49,18,59,29,36,33,58,44,53,24,29,40,51,64,19,35,39,56,33,42,61,23,43,48,39,40,18,58,49,53,48,45,59,52,26,27,48,57,57,32,18,64,43,49,40,62,40,30,29,36,41,44,45,55,60,56,49,21,19,39,53,33,53,42,40,47,27,21,47,20,24,27,26,53,41,56,23,21,50,53,34,47,33,51,49,31,36,18,50,43,20,24,60,49,60,51,58,51,53,62,19,50,30,41,29,18,41,35,53,24,48,59,49,37,26,23,29,45,27,53,31,50,50,34,19,47,28,37,21,64,58,24,31,39,47,30,18,22,23,33,27,45,57,47,42,64,38,61,53,44,19,41,51,40,45,35,53,30,18,51,50,31,35,60,21,29,62,39,19,22,53,39,27,30,30,58,33,42,64,21,18,23,45,40,19,18,25,46,33,54,28,36,20,24,23,47,33,45,26,18,44,60,64,56,36,41,39,63,36,28,58,36,42,36,56,35,59,21,59,23,57,53,60,51,27,55,37,61,46,53,49,20,48,25,25,57,38,55,36,51,40,18,57,61,25,50,26,42,43,44,23,49,33,41,37,22,23,21,51,25,32,57,36,22,57,64,36,54,47,62,61,43,19,18,19,49,60,26,49,60,26,27,44,63,32,22,18,59,44,33,24,43,45,61,35,62,62,38,34,43,50,19,57,62,41,39,46,45,32,59,44,39,18,53,18,18,19,62,56,42,37,42,25,57,51,30,44,34,31,54,24,43,48,19,29,63,46,52,35,51,44,21,39,50,34,22,19,26,29,48,26,45,36,54,34,31,27,20,44,43,45,34,24,26,38,50,38,27,39,39,63,33,36,30,24,24,48,47,29,28,47,25,51,48,43,61,48,38,59,19,26,54,21,51,22,47,18,21,19,23,54,37,46,55,30,18,61,54,22,45,22,19,35,18,20,28,55,43,43,25,49,44,64,49,47,27,55,48,45,24,32,24,57,59,36,29,42,48,39,63,54,37,63,21,54,60,32,47,21,28,63,18,32,38,32,62,39,55,57,56,47,55,23,22,50,18,51,22,52,25,33,53,29,58,37,54,49,50,26,45,54,38,48,28,23,55,41,25,33,30,23,46,53,27,23,63,55,35,34,19,39,57,52,28,50,44,26,33,19,50,41,52,39,50,52,60,20,55,42,18,58,43,35,48,36,19,23,20,32,43,34,30,18,41,35,57,29,32,37,18,43,56,38,29,22,52,40,23,31,42,24,25,48,23,45,20,62,43,23,31,41,58,48,31,19,19,41,40,31,37,46,22,51,18,35,59,36,37,59,36,39,18,52,27,18,40,29,46,38,30,40,50,20,41,33,38,42,56,58,52,20,54,58,45,26,63,58,37,25,52,64,22,28,18,28,45,33,18,32,24,19,20,40,34,42,51,54,55,52,32,28,41,43,49,64,55,24,20,45,26,25,43,35,26,57,22,32,39,25,48,47,18,18,61,47,28,36,20,44,38,19,21,46,58,20,18,28,33,19,45,62,25,43,42,24,29,32,25,41,42,33,34,19,30,18,19,35,39,31,62,62,42,31,61,42,51,23,52,57,23,52,50,18,18,21,61],\"xaxis\":\"x\",\"y\":[27.9,33.77,33.0,22.705,28.88,25.74,33.44,27.74,29.83,25.84,26.22,26.29,34.4,39.82,42.13,24.6,30.78,23.845,40.3,35.3,36.005,32.4,34.1,31.92,28.025,27.72,23.085,32.775,17.385,36.3,35.6,26.315,28.6,28.31,36.4,20.425,32.965,20.8,36.67,39.9,26.6,36.63,21.78,30.8,37.05,37.3,38.665,34.77,24.53,35.2,35.625,33.63,28.0,34.43,28.69,36.955,31.825,31.68,22.88,37.335,27.36,33.66,24.7,25.935,22.42,28.9,39.1,26.315,36.19,23.98,24.75,28.5,28.1,32.01,27.4,34.01,29.59,35.53,39.805,32.965,26.885,38.285,37.62,41.23,34.8,22.895,31.16,27.2,27.74,26.98,39.49,24.795,29.83,34.77,31.3,37.62,30.8,38.28,19.95,19.3,31.6,25.46,30.115,29.92,27.5,28.025,28.4,30.875,27.94,35.09,33.63,29.7,30.8,35.72,32.205,28.595,27.94,27.17,23.37,37.1,23.75,28.975,31.35,33.915,28.785,28.3,37.4,17.765,34.7,26.505,22.04,35.9,25.555,28.785,28.05,34.1,25.175,31.9,36.0,22.42,32.49,25.3,29.735,28.69,38.83,30.495,37.73,37.43,28.4,24.13,29.7,37.145,23.37,25.46,39.52,24.42,25.175,35.53,27.83,26.6,36.85,39.6,29.8,29.64,28.215,37.0,33.155,31.825,18.905,41.47,30.3,34.8,33.345,37.7,27.835,29.2,28.9,33.155,28.595,38.28,19.95,26.41,30.69,41.895,29.92,30.9,32.2,32.11,31.57,26.2,25.74,26.6,34.43,30.59,32.8,28.6,18.05,39.33,32.11,32.23,24.035,36.08,22.3,28.88,26.4,27.74,31.8,41.23,33.0,30.875,28.5,26.73,30.9,37.1,26.6,23.1,29.92,23.21,33.7,33.25,30.8,34.8,24.64,33.88,38.06,41.91,31.635,25.46,36.195,27.83,17.8,27.5,24.51,22.22,26.73,38.39,29.07,38.06,36.67,22.135,26.8,35.3,27.74,30.02,38.06,35.86,20.9,28.975,17.29,32.2,34.21,30.3,31.825,25.365,33.63,40.15,24.415,31.92,25.2,26.84,24.32,36.955,38.06,42.35,19.8,32.395,30.2,25.84,29.37,34.2,37.05,27.455,27.55,26.6,20.615,24.3,31.79,21.56,28.12,40.565,27.645,32.395,31.2,26.62,26.22,36.765,26.4,33.4,29.64,28.82,26.8,22.99,27.7,25.41,34.39,28.88,27.55,22.61,37.51,33.0,38.0,33.345,27.5,33.33,34.865,33.06,26.6,24.7,35.97,35.86,31.4,33.25,32.205,32.775,27.645,37.335,25.27,29.64,30.8,40.945,27.2,34.105,23.21,36.48,33.8,36.7,36.385,27.36,31.16,28.785,35.72,34.5,25.74,27.55,32.3,27.72,27.6,30.02,27.55,36.765,41.47,29.26,35.75,33.345,29.92,27.835,23.18,25.6,27.7,35.245,38.28,27.6,43.89,29.83,41.91,20.79,32.3,30.5,21.7,26.4,21.89,30.78,32.3,24.985,32.015,30.4,21.09,22.23,33.155,32.9,33.33,28.31,24.89,40.15,30.115,31.46,17.955,30.685,33.0,43.34,22.135,34.4,39.05,25.365,22.61,30.21,35.625,37.43,31.445,31.35,32.3,19.855,34.4,31.02,25.6,38.17,20.6,32.965,32.3,20.4,38.38,24.31,23.6,21.12,30.03,17.48,20.235,17.195,23.9,35.15,35.64,34.1,22.6,39.16,26.98,33.88,35.86,32.775,30.59,30.2,24.31,27.265,29.165,16.815,30.4,33.1,20.235,26.9,30.5,28.595,33.11,31.73,28.9,29.45,32.68,33.5,43.01,36.52,26.695,33.1,29.64,25.65,29.6,38.6,29.6,24.13,23.4,29.735,37.4,30.14,30.495,39.6,33.0,36.63,30.0,38.095,25.935,25.175,28.38,28.7,33.82,24.32,24.09,32.67,30.115,29.8,33.345,25.1,28.31,28.5,35.625,36.85,32.56,41.325,37.51,31.35,39.5,34.3,31.065,21.47,28.7,38.06,31.16,32.9,25.08,25.08,43.4,25.7,27.93,23.6,28.7,23.98,39.2,34.4,26.03,23.21,30.25,28.93,30.875,31.35,23.75,25.27,28.7,32.11,33.66,22.42,30.4,28.3,35.7,35.31,30.495,31.0,30.875,27.36,44.22,33.915,37.73,26.07,33.88,30.59,25.8,39.425,25.46,42.13,31.73,29.7,36.19,40.48,28.025,38.9,30.2,28.05,31.35,38.0,31.79,36.3,30.21,25.84,35.435,28.595,30.8,28.93,21.4,31.73,41.325,23.8,33.44,34.21,34.105,35.53,19.95,32.68,30.5,44.77,32.12,30.495,40.565,30.59,31.9,40.565,29.1,37.29,43.12,36.86,34.295,27.17,26.84,38.095,30.2,23.465,25.46,23.65,20.7,28.27,20.235,30.21,35.91,30.69,29.0,19.57,31.13,21.85,40.26,33.725,29.48,33.25,32.6,37.525,39.16,31.635,25.3,39.05,28.31,34.1,25.175,23.655,26.98,37.8,29.37,34.8,33.155,19.0,33.0,36.63,28.595,25.6,33.11,37.1,31.4,34.1,21.3,33.535,28.785,26.03,28.88,42.46,38.0,38.95,36.1,29.3,35.53,22.705,39.7,38.19,24.51,38.095,26.41,33.66,42.4,28.31,33.915,34.96,35.31,30.78,26.22,23.37,28.5,32.965,42.68,39.6,31.13,36.3,35.2,25.3,42.4,33.155,35.91,28.785,23.98,31.54,33.66,22.99,38.06,28.7,32.775,32.015,29.81,31.57,31.16,29.7,31.02,43.89,21.375,40.81,31.35,36.1,23.18,17.4,20.3,35.3,24.32,18.5,26.41,26.125,41.69,24.1,31.13,27.36,36.2,32.395,23.655,34.8,40.185,32.3,35.75,33.725,39.27,34.87,44.745,41.47,26.41,29.545,32.9,38.06,28.69,30.495,27.74,35.2,23.54,30.685,40.47,22.6,28.9,22.61,24.32,36.67,33.44,40.66,36.6,37.4,35.4,27.075,39.05,28.405,21.755,40.28,36.08,24.42,21.4,30.1,27.265,32.1,34.77,38.39,23.7,31.73,35.5,24.035,29.15,34.105,26.62,26.41,30.115,27.0,21.755,36.0,30.875,26.4,28.975,37.905,22.77,33.63,27.645,22.8,27.83,37.43,38.17,34.58,35.2,27.1,26.03,25.175,31.825,32.3,29.0,39.7,19.475,36.1,26.7,36.48,28.88,34.2,33.33,32.3,39.805,34.32,28.88,24.4,41.14,35.97,27.6,29.26,27.7,36.955,36.86,22.515,29.92,41.8,27.6,23.18,20.9,31.92,28.5,44.22,22.895,33.1,24.795,26.18,35.97,22.3,42.24,26.51,35.815,41.42,36.575,30.14,25.84,30.8,42.94,21.01,22.515,34.43,31.46,24.225,37.1,26.125,35.53,33.7,17.67,31.13,29.81,24.32,31.825,31.79,28.025,30.78,21.85,33.1,25.84,23.845,34.39,33.82,35.97,31.5,28.31,23.465,31.35,31.1,24.7,32.78,29.81,30.495,32.45,34.2,24.1,32.775,30.78,32.3,35.53,23.75,23.845,29.6,33.11,24.13,32.23,28.1,28.0,33.535,19.855,25.4,29.9,37.29,43.7,23.655,24.3,36.2,29.48,24.86,30.1,21.85,28.12,27.1,33.44,28.8,29.5,34.8,27.36,22.135,37.05,26.695,28.93,28.975,30.02,39.5,33.63,26.885,29.04,24.035,38.94,32.11,44.0,20.045,25.555,40.26,22.515,22.515,40.92,27.265,36.85,35.1,29.355,32.585,32.34,39.8,24.6,28.31,31.73,26.695,27.5,24.605,33.99,26.885,22.895,28.2,34.21,25.0,33.2,31.0,35.815,23.2,32.11,23.4,20.1,39.16,34.21,32.5,25.8,35.3,37.18,27.5,29.735,24.225,26.18,29.48,23.21,40.185,22.61,39.93,35.8,35.8,34.2,31.255,29.7,18.335,42.9,28.405,30.2,27.835,39.49,30.8,26.79,34.96,36.67,39.615,25.9,35.2,24.795,36.765,27.1,24.795,25.365,25.745,34.32,28.16,23.56,20.235,40.5,35.42,22.895,40.15,29.15,39.995,29.92,25.46,21.375,25.9,30.59,30.115,25.8,30.115,27.645,34.675,20.52,19.8,27.835,31.6,28.27,20.045,23.275,34.1,36.85,36.29,26.885,22.99,32.7,25.8,29.6,19.19,31.73,29.26,28.215,24.985,27.74,22.8,20.13,33.33,32.3,27.6,25.46,24.605,34.2,35.815,32.68,37.0,31.02,36.08,23.32,34.6,26.03,18.715,31.6,17.29,23.655,35.2,27.93,21.565,38.38,23.0,37.07,30.495,28.88,27.265,28.025,23.085,30.685,25.8,35.245,24.7,25.08,22.515,30.9,36.955,26.41,29.83,29.8,21.47,27.645,28.9,31.79,39.49,33.82,32.01,27.94,41.14,28.595,25.6,25.3,37.29,42.655,21.66,31.9,37.07,31.445,31.255,28.88,18.335,29.59,32.0,26.03,31.68,33.66,21.78,27.835,19.95,31.5,30.495,18.3,28.975,31.54,22.1,36.19,29.83,32.7,30.4,33.7,31.35,34.96,33.77,30.875,33.99,19.095,28.6,38.94,36.08,29.8,31.24,29.925,26.22,30.0,20.35,32.3,38.39,25.85,26.315,24.51,32.67,29.64,33.33,35.75,19.95,31.4,38.17,36.86,32.395,42.75,25.08,29.9,35.86,32.8,18.6,23.87,40.28,18.335,33.82,28.12,25.0,22.23,30.25,32.49,37.07,32.6,24.86,32.34,32.3,32.775,32.8,31.92,21.5,34.1,30.305,36.48,32.56,35.815,27.93,22.135,44.88,23.18,30.59,41.1,34.58,42.13,38.83,28.215,28.31,26.125,40.37,24.6,35.2,34.105,27.36,26.7,41.91,29.26,32.11,27.1,24.13,27.4,34.865,29.81,41.325,29.925,30.3,27.36,28.49,23.56,35.625,32.68,25.27,28.0,32.775,21.755,32.395,36.575,21.755,27.93,30.02,33.55,29.355,25.8,24.32,40.375,32.11,32.3,27.28,17.86,34.8,33.4,25.555,37.1,30.875,34.1,21.47,33.3,31.255,39.14,25.08,37.29,34.6,30.21,21.945,24.97,25.3,24.42,23.94,39.82,16.815,37.18,34.43,30.305,34.485,21.8,24.605,23.3,27.83,31.065,21.66,28.215,22.705,42.13,41.8,36.96,21.28,33.11,33.33,24.3,25.7,29.4,39.82,33.63,29.83,19.8,27.3,29.3,27.72,37.9,36.385,27.645,37.715,23.18,20.52,37.1,28.05,29.9,33.345,23.76,30.5,31.065,33.3,27.5,33.915,34.485,25.52,27.61,27.06,23.7,30.4,29.735,29.925,26.79,33.33,27.645,21.66,30.03,36.3,24.32,17.29,25.9,39.4,34.32,19.95,34.9,23.21,25.745,25.175,22.0,26.125,26.51,27.455,25.745,30.36,30.875,20.8,27.8,24.605,27.72,21.85,28.12,30.2,32.2,26.315,26.695,42.9,34.7,23.655,28.31,20.6,39.71,26.315,31.065,26.695,38.83,40.37,25.935,33.535,32.87,30.03,24.225,38.6,25.74,33.4,44.7,30.97,31.92,36.85,25.8,29.07],\"yaxis\":\"y\",\"type\":\"scattergl\"}],                        {\"template\":{\"data\":{\"barpolar\":[{\"marker\":{\"line\":{\"color\":\"rgb(17,17,17)\",\"width\":0.5},\"pattern\":{\"fillmode\":\"overlay\",\"size\":10,\"solidity\":0.2}},\"type\":\"barpolar\"}],\"bar\":[{\"error_x\":{\"color\":\"#f2f5fa\"},\"error_y\":{\"color\":\"#f2f5fa\"},\"marker\":{\"line\":{\"color\":\"rgb(17,17,17)\",\"width\":0.5},\"pattern\":{\"fillmode\":\"overlay\",\"size\":10,\"solidity\":0.2}},\"type\":\"bar\"}],\"carpet\":[{\"aaxis\":{\"endlinecolor\":\"#A2B1C6\",\"gridcolor\":\"#506784\",\"linecolor\":\"#506784\",\"minorgridcolor\":\"#506784\",\"startlinecolor\":\"#A2B1C6\"},\"baxis\":{\"endlinecolor\":\"#A2B1C6\",\"gridcolor\":\"#506784\",\"linecolor\":\"#506784\",\"minorgridcolor\":\"#506784\",\"startlinecolor\":\"#A2B1C6\"},\"type\":\"carpet\"}],\"choropleth\":[{\"colorbar\":{\"outlinewidth\":0,\"ticks\":\"\"},\"type\":\"choropleth\"}],\"contourcarpet\":[{\"colorbar\":{\"outlinewidth\":0,\"ticks\":\"\"},\"type\":\"contourcarpet\"}],\"contour\":[{\"colorbar\":{\"outlinewidth\":0,\"ticks\":\"\"},\"colorscale\":[[0.0,\"#0d0887\"],[0.1111111111111111,\"#46039f\"],[0.2222222222222222,\"#7201a8\"],[0.3333333333333333,\"#9c179e\"],[0.4444444444444444,\"#bd3786\"],[0.5555555555555556,\"#d8576b\"],[0.6666666666666666,\"#ed7953\"],[0.7777777777777778,\"#fb9f3a\"],[0.8888888888888888,\"#fdca26\"],[1.0,\"#f0f921\"]],\"type\":\"contour\"}],\"heatmapgl\":[{\"colorbar\":{\"outlinewidth\":0,\"ticks\":\"\"},\"colorscale\":[[0.0,\"#0d0887\"],[0.1111111111111111,\"#46039f\"],[0.2222222222222222,\"#7201a8\"],[0.3333333333333333,\"#9c179e\"],[0.4444444444444444,\"#bd3786\"],[0.5555555555555556,\"#d8576b\"],[0.6666666666666666,\"#ed7953\"],[0.7777777777777778,\"#fb9f3a\"],[0.8888888888888888,\"#fdca26\"],[1.0,\"#f0f921\"]],\"type\":\"heatmapgl\"}],\"heatmap\":[{\"colorbar\":{\"outlinewidth\":0,\"ticks\":\"\"},\"colorscale\":[[0.0,\"#0d0887\"],[0.1111111111111111,\"#46039f\"],[0.2222222222222222,\"#7201a8\"],[0.3333333333333333,\"#9c179e\"],[0.4444444444444444,\"#bd3786\"],[0.5555555555555556,\"#d8576b\"],[0.6666666666666666,\"#ed7953\"],[0.7777777777777778,\"#fb9f3a\"],[0.8888888888888888,\"#fdca26\"],[1.0,\"#f0f921\"]],\"type\":\"heatmap\"}],\"histogram2dcontour\":[{\"colorbar\":{\"outlinewidth\":0,\"ticks\":\"\"},\"colorscale\":[[0.0,\"#0d0887\"],[0.1111111111111111,\"#46039f\"],[0.2222222222222222,\"#7201a8\"],[0.3333333333333333,\"#9c179e\"],[0.4444444444444444,\"#bd3786\"],[0.5555555555555556,\"#d8576b\"],[0.6666666666666666,\"#ed7953\"],[0.7777777777777778,\"#fb9f3a\"],[0.8888888888888888,\"#fdca26\"],[1.0,\"#f0f921\"]],\"type\":\"histogram2dcontour\"}],\"histogram2d\":[{\"colorbar\":{\"outlinewidth\":0,\"ticks\":\"\"},\"colorscale\":[[0.0,\"#0d0887\"],[0.1111111111111111,\"#46039f\"],[0.2222222222222222,\"#7201a8\"],[0.3333333333333333,\"#9c179e\"],[0.4444444444444444,\"#bd3786\"],[0.5555555555555556,\"#d8576b\"],[0.6666666666666666,\"#ed7953\"],[0.7777777777777778,\"#fb9f3a\"],[0.8888888888888888,\"#fdca26\"],[1.0,\"#f0f921\"]],\"type\":\"histogram2d\"}],\"histogram\":[{\"marker\":{\"pattern\":{\"fillmode\":\"overlay\",\"size\":10,\"solidity\":0.2}},\"type\":\"histogram\"}],\"mesh3d\":[{\"colorbar\":{\"outlinewidth\":0,\"ticks\":\"\"},\"type\":\"mesh3d\"}],\"parcoords\":[{\"line\":{\"colorbar\":{\"outlinewidth\":0,\"ticks\":\"\"}},\"type\":\"parcoords\"}],\"pie\":[{\"automargin\":true,\"type\":\"pie\"}],\"scatter3d\":[{\"line\":{\"colorbar\":{\"outlinewidth\":0,\"ticks\":\"\"}},\"marker\":{\"colorbar\":{\"outlinewidth\":0,\"ticks\":\"\"}},\"type\":\"scatter3d\"}],\"scattercarpet\":[{\"marker\":{\"colorbar\":{\"outlinewidth\":0,\"ticks\":\"\"}},\"type\":\"scattercarpet\"}],\"scattergeo\":[{\"marker\":{\"colorbar\":{\"outlinewidth\":0,\"ticks\":\"\"}},\"type\":\"scattergeo\"}],\"scattergl\":[{\"marker\":{\"line\":{\"color\":\"#283442\"}},\"type\":\"scattergl\"}],\"scattermapbox\":[{\"marker\":{\"colorbar\":{\"outlinewidth\":0,\"ticks\":\"\"}},\"type\":\"scattermapbox\"}],\"scatterpolargl\":[{\"marker\":{\"colorbar\":{\"outlinewidth\":0,\"ticks\":\"\"}},\"type\":\"scatterpolargl\"}],\"scatterpolar\":[{\"marker\":{\"colorbar\":{\"outlinewidth\":0,\"ticks\":\"\"}},\"type\":\"scatterpolar\"}],\"scatter\":[{\"marker\":{\"line\":{\"color\":\"#283442\"}},\"type\":\"scatter\"}],\"scatterternary\":[{\"marker\":{\"colorbar\":{\"outlinewidth\":0,\"ticks\":\"\"}},\"type\":\"scatterternary\"}],\"surface\":[{\"colorbar\":{\"outlinewidth\":0,\"ticks\":\"\"},\"colorscale\":[[0.0,\"#0d0887\"],[0.1111111111111111,\"#46039f\"],[0.2222222222222222,\"#7201a8\"],[0.3333333333333333,\"#9c179e\"],[0.4444444444444444,\"#bd3786\"],[0.5555555555555556,\"#d8576b\"],[0.6666666666666666,\"#ed7953\"],[0.7777777777777778,\"#fb9f3a\"],[0.8888888888888888,\"#fdca26\"],[1.0,\"#f0f921\"]],\"type\":\"surface\"}],\"table\":[{\"cells\":{\"fill\":{\"color\":\"#506784\"},\"line\":{\"color\":\"rgb(17,17,17)\"}},\"header\":{\"fill\":{\"color\":\"#2a3f5f\"},\"line\":{\"color\":\"rgb(17,17,17)\"}},\"type\":\"table\"}]},\"layout\":{\"annotationdefaults\":{\"arrowcolor\":\"#f2f5fa\",\"arrowhead\":0,\"arrowwidth\":1},\"autotypenumbers\":\"strict\",\"coloraxis\":{\"colorbar\":{\"outlinewidth\":0,\"ticks\":\"\"}},\"colorscale\":{\"diverging\":[[0,\"#8e0152\"],[0.1,\"#c51b7d\"],[0.2,\"#de77ae\"],[0.3,\"#f1b6da\"],[0.4,\"#fde0ef\"],[0.5,\"#f7f7f7\"],[0.6,\"#e6f5d0\"],[0.7,\"#b8e186\"],[0.8,\"#7fbc41\"],[0.9,\"#4d9221\"],[1,\"#276419\"]],\"sequential\":[[0.0,\"#0d0887\"],[0.1111111111111111,\"#46039f\"],[0.2222222222222222,\"#7201a8\"],[0.3333333333333333,\"#9c179e\"],[0.4444444444444444,\"#bd3786\"],[0.5555555555555556,\"#d8576b\"],[0.6666666666666666,\"#ed7953\"],[0.7777777777777778,\"#fb9f3a\"],[0.8888888888888888,\"#fdca26\"],[1.0,\"#f0f921\"]],\"sequentialminus\":[[0.0,\"#0d0887\"],[0.1111111111111111,\"#46039f\"],[0.2222222222222222,\"#7201a8\"],[0.3333333333333333,\"#9c179e\"],[0.4444444444444444,\"#bd3786\"],[0.5555555555555556,\"#d8576b\"],[0.6666666666666666,\"#ed7953\"],[0.7777777777777778,\"#fb9f3a\"],[0.8888888888888888,\"#fdca26\"],[1.0,\"#f0f921\"]]},\"colorway\":[\"#636efa\",\"#EF553B\",\"#00cc96\",\"#ab63fa\",\"#FFA15A\",\"#19d3f3\",\"#FF6692\",\"#B6E880\",\"#FF97FF\",\"#FECB52\"],\"font\":{\"color\":\"#f2f5fa\"},\"geo\":{\"bgcolor\":\"rgb(17,17,17)\",\"lakecolor\":\"rgb(17,17,17)\",\"landcolor\":\"rgb(17,17,17)\",\"showlakes\":true,\"showland\":true,\"subunitcolor\":\"#506784\"},\"hoverlabel\":{\"align\":\"left\"},\"hovermode\":\"closest\",\"mapbox\":{\"style\":\"dark\"},\"paper_bgcolor\":\"rgb(17,17,17)\",\"plot_bgcolor\":\"rgb(17,17,17)\",\"polar\":{\"angularaxis\":{\"gridcolor\":\"#506784\",\"linecolor\":\"#506784\",\"ticks\":\"\"},\"bgcolor\":\"rgb(17,17,17)\",\"radialaxis\":{\"gridcolor\":\"#506784\",\"linecolor\":\"#506784\",\"ticks\":\"\"}},\"scene\":{\"xaxis\":{\"backgroundcolor\":\"rgb(17,17,17)\",\"gridcolor\":\"#506784\",\"gridwidth\":2,\"linecolor\":\"#506784\",\"showbackground\":true,\"ticks\":\"\",\"zerolinecolor\":\"#C8D4E3\"},\"yaxis\":{\"backgroundcolor\":\"rgb(17,17,17)\",\"gridcolor\":\"#506784\",\"gridwidth\":2,\"linecolor\":\"#506784\",\"showbackground\":true,\"ticks\":\"\",\"zerolinecolor\":\"#C8D4E3\"},\"zaxis\":{\"backgroundcolor\":\"rgb(17,17,17)\",\"gridcolor\":\"#506784\",\"gridwidth\":2,\"linecolor\":\"#506784\",\"showbackground\":true,\"ticks\":\"\",\"zerolinecolor\":\"#C8D4E3\"}},\"shapedefaults\":{\"line\":{\"color\":\"#f2f5fa\"}},\"sliderdefaults\":{\"bgcolor\":\"#C8D4E3\",\"bordercolor\":\"rgb(17,17,17)\",\"borderwidth\":1,\"tickwidth\":0},\"ternary\":{\"aaxis\":{\"gridcolor\":\"#506784\",\"linecolor\":\"#506784\",\"ticks\":\"\"},\"baxis\":{\"gridcolor\":\"#506784\",\"linecolor\":\"#506784\",\"ticks\":\"\"},\"bgcolor\":\"rgb(17,17,17)\",\"caxis\":{\"gridcolor\":\"#506784\",\"linecolor\":\"#506784\",\"ticks\":\"\"}},\"title\":{\"x\":0.05},\"updatemenudefaults\":{\"bgcolor\":\"#506784\",\"borderwidth\":0},\"xaxis\":{\"automargin\":true,\"gridcolor\":\"#283442\",\"linecolor\":\"#506784\",\"ticks\":\"\",\"title\":{\"standoff\":15},\"zerolinecolor\":\"#283442\",\"zerolinewidth\":2},\"yaxis\":{\"automargin\":true,\"gridcolor\":\"#283442\",\"linecolor\":\"#506784\",\"ticks\":\"\",\"title\":{\"standoff\":15},\"zerolinecolor\":\"#283442\",\"zerolinewidth\":2}}},\"xaxis\":{\"anchor\":\"y\",\"domain\":[0.0,1.0],\"title\":{\"text\":\"age\"}},\"yaxis\":{\"anchor\":\"x\",\"domain\":[0.0,1.0],\"title\":{\"text\":\"bmi\"}},\"coloraxis\":{\"colorbar\":{\"title\":{\"text\":\"charges\"}},\"colorscale\":[[0.0,\"#0d0887\"],[0.1111111111111111,\"#46039f\"],[0.2222222222222222,\"#7201a8\"],[0.3333333333333333,\"#9c179e\"],[0.4444444444444444,\"#bd3786\"],[0.5555555555555556,\"#d8576b\"],[0.6666666666666666,\"#ed7953\"],[0.7777777777777778,\"#fb9f3a\"],[0.8888888888888888,\"#fdca26\"],[1.0,\"#f0f921\"]]},\"legend\":{\"tracegroupgap\":0},\"title\":{\"text\":\"Age vs BMI - outliers removed\"}},                        {\"responsive\": true}                    ).then(function(){\n",
              "                            \n",
              "var gd = document.getElementById('033e3582-ee63-4c08-b1f9-2e6174f496e8');\n",
              "var x = new MutationObserver(function (mutations, observer) {{\n",
              "        var display = window.getComputedStyle(gd).display;\n",
              "        if (!display || display === 'none') {{\n",
              "            console.log([gd, 'removed!']);\n",
              "            Plotly.purge(gd);\n",
              "            observer.disconnect();\n",
              "        }}\n",
              "}});\n",
              "\n",
              "// Listen for the removal of the full notebook cells\n",
              "var notebookContainer = gd.closest('#notebook-container');\n",
              "if (notebookContainer) {{\n",
              "    x.observe(notebookContainer, {childList: true});\n",
              "}}\n",
              "\n",
              "// Listen for the clearing of the current output cell\n",
              "var outputEl = gd.closest('.output');\n",
              "if (outputEl) {{\n",
              "    x.observe(outputEl, {childList: true});\n",
              "}}\n",
              "\n",
              "                        })                };                            </script>        </div>\n",
              "</body>\n",
              "</html>"
            ]
          },
          "metadata": {}
        }
      ]
    },
    {
      "cell_type": "code",
      "source": [
        "px.pie(df2, names='sex', hole=.5, title='Percentage of Males and Females', template='plotly_dark')#piehole should set to a number between 0 to 1 .Number between 0.4 to 0.6 will look best on most charts\n",
        "#value equal or greater than 1 will be ignored and value 0 will completely shut your piehole."
      ],
      "metadata": {
        "colab": {
          "base_uri": "https://localhost:8080/",
          "height": 542
        },
        "id": "MQgCuz3KZNHk",
        "outputId": "7d448a10-93f2-40e7-bdba-31c9cc111076"
      },
      "execution_count": 53,
      "outputs": [
        {
          "output_type": "display_data",
          "data": {
            "text/html": [
              "<html>\n",
              "<head><meta charset=\"utf-8\" /></head>\n",
              "<body>\n",
              "    <div>            <script src=\"https://cdnjs.cloudflare.com/ajax/libs/mathjax/2.7.5/MathJax.js?config=TeX-AMS-MML_SVG\"></script><script type=\"text/javascript\">if (window.MathJax) {MathJax.Hub.Config({SVG: {font: \"STIX-Web\"}});}</script>                <script type=\"text/javascript\">window.PlotlyConfig = {MathJaxConfig: 'local'};</script>\n",
              "        <script src=\"https://cdn.plot.ly/plotly-2.8.3.min.js\"></script>                <div id=\"b2949de9-72ef-4f27-95d1-7ce0c0bcd707\" class=\"plotly-graph-div\" style=\"height:525px; width:100%;\"></div>            <script type=\"text/javascript\">                                    window.PLOTLYENV=window.PLOTLYENV || {};                                    if (document.getElementById(\"b2949de9-72ef-4f27-95d1-7ce0c0bcd707\")) {                    Plotly.newPlot(                        \"b2949de9-72ef-4f27-95d1-7ce0c0bcd707\",                        [{\"domain\":{\"x\":[0.0,1.0],\"y\":[0.0,1.0]},\"hole\":0.5,\"hovertemplate\":\"sex=%{label}<extra></extra>\",\"labels\":[\"female\",\"male\",\"male\",\"male\",\"male\",\"female\",\"female\",\"female\",\"male\",\"female\",\"male\",\"female\",\"male\",\"female\",\"male\",\"male\",\"female\",\"male\",\"male\",\"male\",\"female\",\"female\",\"male\",\"female\",\"male\",\"female\",\"female\",\"female\",\"male\",\"male\",\"male\",\"female\",\"female\",\"male\",\"male\",\"male\",\"female\",\"male\",\"male\",\"male\",\"female\",\"female\",\"male\",\"female\",\"male\",\"male\",\"female\",\"female\",\"female\",\"male\",\"female\",\"female\",\"male\",\"male\",\"female\",\"male\",\"female\",\"male\",\"female\",\"female\",\"male\",\"male\",\"male\",\"female\",\"female\",\"female\",\"female\",\"male\",\"female\",\"male\",\"female\",\"male\",\"female\",\"male\",\"male\",\"male\",\"female\",\"male\",\"female\",\"female\",\"male\",\"female\",\"male\",\"female\",\"female\",\"male\",\"female\",\"female\",\"female\",\"female\",\"female\",\"female\",\"male\",\"male\",\"female\",\"female\",\"female\",\"male\",\"male\",\"male\",\"female\",\"male\",\"female\",\"female\",\"female\",\"male\",\"female\",\"male\",\"male\",\"male\",\"male\",\"female\",\"male\",\"female\",\"male\",\"male\",\"female\",\"female\",\"female\",\"male\",\"male\",\"female\",\"male\",\"female\",\"female\",\"female\",\"female\",\"female\",\"male\",\"female\",\"female\",\"female\",\"male\",\"female\",\"female\",\"male\",\"male\",\"female\",\"female\",\"male\",\"male\",\"male\",\"male\",\"male\",\"female\",\"male\",\"female\",\"female\",\"male\",\"male\",\"male\",\"female\",\"female\",\"female\",\"male\",\"male\",\"male\",\"male\",\"female\",\"female\",\"female\",\"male\",\"female\",\"male\",\"male\",\"female\",\"female\",\"female\",\"male\",\"male\",\"male\",\"female\",\"female\",\"female\",\"male\",\"male\",\"female\",\"female\",\"male\",\"female\",\"male\",\"female\",\"male\",\"male\",\"female\",\"female\",\"female\",\"female\",\"male\",\"female\",\"male\",\"female\",\"male\",\"male\",\"female\",\"female\",\"female\",\"female\",\"female\",\"female\",\"female\",\"female\",\"male\",\"female\",\"male\",\"male\",\"female\",\"male\",\"male\",\"male\",\"male\",\"female\",\"female\",\"female\",\"female\",\"male\",\"female\",\"female\",\"female\",\"female\",\"male\",\"male\",\"male\",\"male\",\"male\",\"female\",\"female\",\"male\",\"female\",\"female\",\"female\",\"male\",\"male\",\"female\",\"female\",\"male\",\"male\",\"male\",\"female\",\"female\",\"female\",\"male\",\"female\",\"male\",\"female\",\"male\",\"male\",\"male\",\"male\",\"female\",\"male\",\"male\",\"male\",\"female\",\"male\",\"female\",\"male\",\"male\",\"female\",\"female\",\"male\",\"male\",\"female\",\"male\",\"male\",\"female\",\"male\",\"male\",\"male\",\"male\",\"male\",\"male\",\"male\",\"female\",\"male\",\"female\",\"male\",\"female\",\"female\",\"male\",\"male\",\"female\",\"female\",\"male\",\"female\",\"female\",\"male\",\"female\",\"male\",\"female\",\"male\",\"male\",\"male\",\"male\",\"male\",\"female\",\"male\",\"female\",\"female\",\"female\",\"female\",\"male\",\"female\",\"female\",\"male\",\"female\",\"male\",\"female\",\"male\",\"male\",\"female\",\"male\",\"male\",\"male\",\"female\",\"male\",\"male\",\"female\",\"male\",\"male\",\"male\",\"male\",\"female\",\"male\",\"female\",\"male\",\"female\",\"male\",\"female\",\"female\",\"female\",\"male\",\"male\",\"male\",\"male\",\"female\",\"female\",\"male\",\"female\",\"male\",\"female\",\"female\",\"male\",\"male\",\"female\",\"male\",\"female\",\"female\",\"female\",\"male\",\"female\",\"male\",\"male\",\"male\",\"male\",\"female\",\"female\",\"male\",\"female\",\"female\",\"female\",\"female\",\"female\",\"female\",\"male\",\"male\",\"female\",\"female\",\"female\",\"male\",\"male\",\"female\",\"female\",\"male\",\"female\",\"male\",\"female\",\"male\",\"male\",\"female\",\"male\",\"male\",\"female\",\"male\",\"female\",\"female\",\"male\",\"female\",\"male\",\"male\",\"female\",\"male\",\"female\",\"male\",\"male\",\"female\",\"female\",\"female\",\"male\",\"male\",\"female\",\"female\",\"female\",\"male\",\"male\",\"male\",\"female\",\"female\",\"male\",\"female\",\"female\",\"male\",\"female\",\"male\",\"female\",\"male\",\"male\",\"male\",\"male\",\"male\",\"male\",\"female\",\"female\",\"female\",\"female\",\"male\",\"female\",\"male\",\"female\",\"male\",\"male\",\"male\",\"male\",\"male\",\"female\",\"female\",\"male\",\"female\",\"male\",\"female\",\"male\",\"female\",\"female\",\"male\",\"male\",\"male\",\"male\",\"male\",\"male\",\"female\",\"female\",\"male\",\"female\",\"female\",\"male\",\"female\",\"male\",\"male\",\"female\",\"female\",\"female\",\"female\",\"female\",\"male\",\"female\",\"female\",\"female\",\"male\",\"male\",\"male\",\"male\",\"male\",\"male\",\"male\",\"male\",\"female\",\"female\",\"male\",\"female\",\"female\",\"male\",\"female\",\"male\",\"female\",\"female\",\"female\",\"male\",\"male\",\"male\",\"female\",\"male\",\"female\",\"female\",\"male\",\"male\",\"male\",\"male\",\"female\",\"male\",\"male\",\"male\",\"female\",\"female\",\"male\",\"male\",\"male\",\"male\",\"male\",\"male\",\"male\",\"male\",\"female\",\"male\",\"female\",\"female\",\"female\",\"female\",\"male\",\"female\",\"female\",\"female\",\"male\",\"male\",\"male\",\"female\",\"male\",\"male\",\"male\",\"male\",\"female\",\"female\",\"female\",\"male\",\"female\",\"female\",\"female\",\"male\",\"male\",\"male\",\"female\",\"male\",\"female\",\"male\",\"female\",\"female\",\"male\",\"male\",\"male\",\"female\",\"male\",\"female\",\"female\",\"male\",\"male\",\"female\",\"female\",\"female\",\"male\",\"female\",\"male\",\"female\",\"female\",\"female\",\"female\",\"female\",\"female\",\"male\",\"female\",\"male\",\"female\",\"male\",\"female\",\"male\",\"female\",\"male\",\"female\",\"female\",\"female\",\"female\",\"male\",\"male\",\"female\",\"male\",\"female\",\"female\",\"female\",\"male\",\"female\",\"female\",\"male\",\"female\",\"female\",\"female\",\"female\",\"female\",\"female\",\"male\",\"male\",\"female\",\"female\",\"female\",\"female\",\"female\",\"female\",\"female\",\"male\",\"female\",\"female\",\"male\",\"male\",\"female\",\"male\",\"male\",\"female\",\"male\",\"male\",\"male\",\"female\",\"male\",\"male\",\"female\",\"male\",\"male\",\"male\",\"female\",\"female\",\"male\",\"male\",\"male\",\"male\",\"male\",\"female\",\"male\",\"male\",\"male\",\"female\",\"male\",\"female\",\"female\",\"female\",\"female\",\"female\",\"female\",\"female\",\"female\",\"male\",\"female\",\"female\",\"female\",\"female\",\"male\",\"female\",\"male\",\"male\",\"female\",\"male\",\"female\",\"male\",\"female\",\"male\",\"female\",\"female\",\"male\",\"female\",\"male\",\"male\",\"female\",\"female\",\"male\",\"male\",\"male\",\"female\",\"male\",\"male\",\"male\",\"female\",\"male\",\"male\",\"male\",\"male\",\"male\",\"female\",\"female\",\"female\",\"male\",\"male\",\"female\",\"female\",\"female\",\"male\",\"female\",\"female\",\"female\",\"female\",\"male\",\"female\",\"female\",\"male\",\"female\",\"female\",\"male\",\"female\",\"male\",\"female\",\"male\",\"female\",\"female\",\"female\",\"male\",\"male\",\"male\",\"female\",\"female\",\"male\",\"female\",\"female\",\"female\",\"male\",\"male\",\"female\",\"female\",\"female\",\"female\",\"female\",\"male\",\"male\",\"male\",\"male\",\"male\",\"male\",\"female\",\"male\",\"female\",\"male\",\"male\",\"female\",\"male\",\"female\",\"male\",\"male\",\"female\",\"male\",\"male\",\"female\",\"female\",\"male\",\"male\",\"female\",\"male\",\"male\",\"male\",\"female\",\"female\",\"male\",\"female\",\"female\",\"female\",\"male\",\"female\",\"female\",\"female\",\"male\",\"male\",\"male\",\"male\",\"male\",\"male\",\"male\",\"male\",\"male\",\"female\",\"female\",\"female\",\"male\",\"male\",\"male\",\"female\",\"female\",\"male\",\"female\",\"male\",\"female\",\"male\",\"male\",\"female\",\"female\",\"male\",\"female\",\"female\",\"male\",\"female\",\"male\",\"female\",\"female\",\"female\",\"male\",\"male\",\"female\",\"female\",\"male\",\"male\",\"male\",\"female\",\"female\",\"male\",\"female\",\"female\",\"male\",\"male\",\"female\",\"female\",\"male\",\"female\",\"male\",\"male\",\"male\",\"male\",\"male\",\"female\",\"female\",\"male\",\"male\",\"male\",\"male\",\"female\",\"female\",\"female\",\"male\",\"male\",\"female\",\"female\",\"male\",\"female\",\"female\",\"female\",\"male\",\"female\",\"male\",\"female\",\"female\",\"female\",\"female\",\"female\",\"male\",\"female\",\"male\",\"female\",\"female\",\"female\",\"male\",\"male\",\"male\",\"male\",\"male\",\"female\",\"male\",\"female\",\"male\",\"male\",\"male\",\"female\",\"female\",\"male\",\"male\",\"female\",\"male\",\"male\",\"female\",\"female\",\"male\",\"male\",\"male\",\"female\",\"male\",\"male\",\"female\",\"female\",\"male\",\"male\",\"male\",\"female\",\"female\",\"male\",\"female\",\"female\",\"male\",\"male\",\"male\",\"male\",\"female\",\"female\",\"male\",\"female\",\"male\",\"female\",\"male\",\"male\",\"female\",\"female\",\"male\",\"female\",\"female\",\"male\",\"female\",\"female\",\"female\",\"female\",\"male\",\"male\",\"male\",\"male\",\"female\",\"female\",\"female\",\"male\",\"female\",\"male\",\"female\",\"male\",\"female\",\"male\",\"female\",\"male\",\"male\",\"male\",\"female\",\"male\",\"male\",\"female\",\"male\",\"male\",\"male\",\"male\",\"male\",\"male\",\"female\",\"male\",\"male\",\"male\",\"male\",\"male\",\"male\",\"male\",\"female\",\"female\",\"female\",\"male\",\"male\",\"male\",\"male\",\"male\",\"male\",\"female\",\"female\",\"female\",\"female\",\"female\",\"male\",\"male\",\"male\",\"male\",\"female\",\"female\",\"male\",\"male\",\"male\",\"female\",\"male\",\"female\",\"male\",\"female\",\"male\",\"female\",\"female\",\"female\",\"female\",\"male\",\"female\",\"female\",\"female\",\"female\",\"female\",\"female\",\"male\",\"male\",\"male\",\"male\",\"male\",\"male\",\"male\",\"male\",\"male\",\"male\",\"female\",\"male\",\"female\",\"male\",\"female\",\"male\",\"female\",\"female\",\"female\",\"female\",\"male\",\"female\",\"male\",\"male\",\"female\",\"male\",\"male\",\"male\",\"female\",\"female\",\"female\",\"female\",\"male\",\"male\",\"female\",\"male\",\"female\",\"male\",\"male\",\"female\",\"male\",\"male\",\"female\",\"male\",\"female\",\"female\",\"female\",\"male\",\"female\",\"male\",\"male\",\"male\",\"female\",\"male\",\"female\",\"female\",\"female\",\"male\",\"male\",\"male\",\"male\",\"male\",\"female\",\"female\",\"male\",\"male\",\"male\",\"female\",\"male\",\"male\",\"male\",\"female\",\"female\",\"female\",\"female\",\"male\",\"male\",\"male\",\"male\",\"male\",\"male\",\"male\",\"female\",\"female\",\"male\",\"male\",\"male\",\"male\",\"female\",\"male\",\"female\",\"female\",\"female\",\"female\",\"male\",\"female\",\"female\",\"female\",\"male\",\"male\",\"male\",\"male\",\"female\",\"female\",\"female\",\"male\",\"male\",\"female\",\"male\",\"female\",\"female\",\"male\",\"male\",\"male\",\"male\",\"male\",\"female\",\"female\",\"male\",\"female\",\"female\",\"female\",\"female\",\"male\",\"female\",\"male\",\"female\",\"female\",\"male\",\"female\",\"male\",\"female\",\"female\",\"female\",\"male\",\"female\",\"male\",\"female\",\"female\",\"male\",\"male\",\"male\",\"male\",\"female\",\"male\",\"male\",\"female\",\"female\",\"female\",\"female\",\"female\",\"female\",\"male\",\"female\",\"female\",\"female\",\"female\",\"male\",\"male\",\"female\",\"female\",\"female\",\"male\",\"female\",\"male\",\"female\",\"male\",\"female\",\"female\",\"male\",\"male\",\"female\",\"female\",\"female\",\"female\",\"male\",\"female\",\"female\",\"female\",\"female\",\"female\",\"male\",\"male\",\"female\",\"female\",\"female\",\"female\",\"female\",\"female\",\"female\",\"female\",\"female\",\"female\",\"male\",\"male\",\"female\",\"male\",\"male\",\"male\",\"male\",\"female\",\"male\",\"female\",\"male\",\"female\",\"male\",\"male\",\"male\",\"male\",\"female\",\"female\",\"male\",\"male\",\"male\",\"female\",\"female\",\"female\",\"male\",\"male\",\"female\",\"male\",\"female\",\"male\",\"male\",\"male\",\"male\",\"male\",\"female\",\"female\",\"male\",\"female\",\"male\",\"female\",\"female\",\"male\",\"female\",\"male\",\"male\",\"female\",\"female\",\"male\",\"male\",\"female\",\"male\",\"female\",\"male\",\"male\",\"male\",\"male\",\"female\",\"female\",\"female\",\"female\",\"female\",\"male\",\"female\",\"female\",\"male\",\"female\",\"female\",\"female\",\"male\",\"female\",\"male\",\"female\",\"male\",\"male\",\"female\",\"male\",\"male\",\"male\",\"male\",\"female\",\"female\",\"male\",\"female\",\"female\",\"female\",\"female\",\"male\",\"male\",\"female\",\"female\",\"female\",\"male\",\"male\",\"female\",\"male\",\"male\",\"male\",\"male\",\"male\",\"male\",\"female\",\"male\",\"female\",\"male\",\"male\",\"female\",\"male\",\"male\",\"female\",\"female\",\"male\",\"female\",\"male\",\"male\",\"female\",\"male\",\"female\",\"female\",\"male\",\"female\",\"male\",\"female\",\"male\",\"male\",\"male\",\"female\",\"male\",\"male\",\"female\",\"male\",\"female\",\"male\",\"female\",\"female\",\"female\",\"male\",\"female\",\"female\",\"female\",\"female\"],\"legendgroup\":\"\",\"name\":\"\",\"showlegend\":true,\"type\":\"pie\"}],                        {\"template\":{\"data\":{\"barpolar\":[{\"marker\":{\"line\":{\"color\":\"rgb(17,17,17)\",\"width\":0.5},\"pattern\":{\"fillmode\":\"overlay\",\"size\":10,\"solidity\":0.2}},\"type\":\"barpolar\"}],\"bar\":[{\"error_x\":{\"color\":\"#f2f5fa\"},\"error_y\":{\"color\":\"#f2f5fa\"},\"marker\":{\"line\":{\"color\":\"rgb(17,17,17)\",\"width\":0.5},\"pattern\":{\"fillmode\":\"overlay\",\"size\":10,\"solidity\":0.2}},\"type\":\"bar\"}],\"carpet\":[{\"aaxis\":{\"endlinecolor\":\"#A2B1C6\",\"gridcolor\":\"#506784\",\"linecolor\":\"#506784\",\"minorgridcolor\":\"#506784\",\"startlinecolor\":\"#A2B1C6\"},\"baxis\":{\"endlinecolor\":\"#A2B1C6\",\"gridcolor\":\"#506784\",\"linecolor\":\"#506784\",\"minorgridcolor\":\"#506784\",\"startlinecolor\":\"#A2B1C6\"},\"type\":\"carpet\"}],\"choropleth\":[{\"colorbar\":{\"outlinewidth\":0,\"ticks\":\"\"},\"type\":\"choropleth\"}],\"contourcarpet\":[{\"colorbar\":{\"outlinewidth\":0,\"ticks\":\"\"},\"type\":\"contourcarpet\"}],\"contour\":[{\"colorbar\":{\"outlinewidth\":0,\"ticks\":\"\"},\"colorscale\":[[0.0,\"#0d0887\"],[0.1111111111111111,\"#46039f\"],[0.2222222222222222,\"#7201a8\"],[0.3333333333333333,\"#9c179e\"],[0.4444444444444444,\"#bd3786\"],[0.5555555555555556,\"#d8576b\"],[0.6666666666666666,\"#ed7953\"],[0.7777777777777778,\"#fb9f3a\"],[0.8888888888888888,\"#fdca26\"],[1.0,\"#f0f921\"]],\"type\":\"contour\"}],\"heatmapgl\":[{\"colorbar\":{\"outlinewidth\":0,\"ticks\":\"\"},\"colorscale\":[[0.0,\"#0d0887\"],[0.1111111111111111,\"#46039f\"],[0.2222222222222222,\"#7201a8\"],[0.3333333333333333,\"#9c179e\"],[0.4444444444444444,\"#bd3786\"],[0.5555555555555556,\"#d8576b\"],[0.6666666666666666,\"#ed7953\"],[0.7777777777777778,\"#fb9f3a\"],[0.8888888888888888,\"#fdca26\"],[1.0,\"#f0f921\"]],\"type\":\"heatmapgl\"}],\"heatmap\":[{\"colorbar\":{\"outlinewidth\":0,\"ticks\":\"\"},\"colorscale\":[[0.0,\"#0d0887\"],[0.1111111111111111,\"#46039f\"],[0.2222222222222222,\"#7201a8\"],[0.3333333333333333,\"#9c179e\"],[0.4444444444444444,\"#bd3786\"],[0.5555555555555556,\"#d8576b\"],[0.6666666666666666,\"#ed7953\"],[0.7777777777777778,\"#fb9f3a\"],[0.8888888888888888,\"#fdca26\"],[1.0,\"#f0f921\"]],\"type\":\"heatmap\"}],\"histogram2dcontour\":[{\"colorbar\":{\"outlinewidth\":0,\"ticks\":\"\"},\"colorscale\":[[0.0,\"#0d0887\"],[0.1111111111111111,\"#46039f\"],[0.2222222222222222,\"#7201a8\"],[0.3333333333333333,\"#9c179e\"],[0.4444444444444444,\"#bd3786\"],[0.5555555555555556,\"#d8576b\"],[0.6666666666666666,\"#ed7953\"],[0.7777777777777778,\"#fb9f3a\"],[0.8888888888888888,\"#fdca26\"],[1.0,\"#f0f921\"]],\"type\":\"histogram2dcontour\"}],\"histogram2d\":[{\"colorbar\":{\"outlinewidth\":0,\"ticks\":\"\"},\"colorscale\":[[0.0,\"#0d0887\"],[0.1111111111111111,\"#46039f\"],[0.2222222222222222,\"#7201a8\"],[0.3333333333333333,\"#9c179e\"],[0.4444444444444444,\"#bd3786\"],[0.5555555555555556,\"#d8576b\"],[0.6666666666666666,\"#ed7953\"],[0.7777777777777778,\"#fb9f3a\"],[0.8888888888888888,\"#fdca26\"],[1.0,\"#f0f921\"]],\"type\":\"histogram2d\"}],\"histogram\":[{\"marker\":{\"pattern\":{\"fillmode\":\"overlay\",\"size\":10,\"solidity\":0.2}},\"type\":\"histogram\"}],\"mesh3d\":[{\"colorbar\":{\"outlinewidth\":0,\"ticks\":\"\"},\"type\":\"mesh3d\"}],\"parcoords\":[{\"line\":{\"colorbar\":{\"outlinewidth\":0,\"ticks\":\"\"}},\"type\":\"parcoords\"}],\"pie\":[{\"automargin\":true,\"type\":\"pie\"}],\"scatter3d\":[{\"line\":{\"colorbar\":{\"outlinewidth\":0,\"ticks\":\"\"}},\"marker\":{\"colorbar\":{\"outlinewidth\":0,\"ticks\":\"\"}},\"type\":\"scatter3d\"}],\"scattercarpet\":[{\"marker\":{\"colorbar\":{\"outlinewidth\":0,\"ticks\":\"\"}},\"type\":\"scattercarpet\"}],\"scattergeo\":[{\"marker\":{\"colorbar\":{\"outlinewidth\":0,\"ticks\":\"\"}},\"type\":\"scattergeo\"}],\"scattergl\":[{\"marker\":{\"line\":{\"color\":\"#283442\"}},\"type\":\"scattergl\"}],\"scattermapbox\":[{\"marker\":{\"colorbar\":{\"outlinewidth\":0,\"ticks\":\"\"}},\"type\":\"scattermapbox\"}],\"scatterpolargl\":[{\"marker\":{\"colorbar\":{\"outlinewidth\":0,\"ticks\":\"\"}},\"type\":\"scatterpolargl\"}],\"scatterpolar\":[{\"marker\":{\"colorbar\":{\"outlinewidth\":0,\"ticks\":\"\"}},\"type\":\"scatterpolar\"}],\"scatter\":[{\"marker\":{\"line\":{\"color\":\"#283442\"}},\"type\":\"scatter\"}],\"scatterternary\":[{\"marker\":{\"colorbar\":{\"outlinewidth\":0,\"ticks\":\"\"}},\"type\":\"scatterternary\"}],\"surface\":[{\"colorbar\":{\"outlinewidth\":0,\"ticks\":\"\"},\"colorscale\":[[0.0,\"#0d0887\"],[0.1111111111111111,\"#46039f\"],[0.2222222222222222,\"#7201a8\"],[0.3333333333333333,\"#9c179e\"],[0.4444444444444444,\"#bd3786\"],[0.5555555555555556,\"#d8576b\"],[0.6666666666666666,\"#ed7953\"],[0.7777777777777778,\"#fb9f3a\"],[0.8888888888888888,\"#fdca26\"],[1.0,\"#f0f921\"]],\"type\":\"surface\"}],\"table\":[{\"cells\":{\"fill\":{\"color\":\"#506784\"},\"line\":{\"color\":\"rgb(17,17,17)\"}},\"header\":{\"fill\":{\"color\":\"#2a3f5f\"},\"line\":{\"color\":\"rgb(17,17,17)\"}},\"type\":\"table\"}]},\"layout\":{\"annotationdefaults\":{\"arrowcolor\":\"#f2f5fa\",\"arrowhead\":0,\"arrowwidth\":1},\"autotypenumbers\":\"strict\",\"coloraxis\":{\"colorbar\":{\"outlinewidth\":0,\"ticks\":\"\"}},\"colorscale\":{\"diverging\":[[0,\"#8e0152\"],[0.1,\"#c51b7d\"],[0.2,\"#de77ae\"],[0.3,\"#f1b6da\"],[0.4,\"#fde0ef\"],[0.5,\"#f7f7f7\"],[0.6,\"#e6f5d0\"],[0.7,\"#b8e186\"],[0.8,\"#7fbc41\"],[0.9,\"#4d9221\"],[1,\"#276419\"]],\"sequential\":[[0.0,\"#0d0887\"],[0.1111111111111111,\"#46039f\"],[0.2222222222222222,\"#7201a8\"],[0.3333333333333333,\"#9c179e\"],[0.4444444444444444,\"#bd3786\"],[0.5555555555555556,\"#d8576b\"],[0.6666666666666666,\"#ed7953\"],[0.7777777777777778,\"#fb9f3a\"],[0.8888888888888888,\"#fdca26\"],[1.0,\"#f0f921\"]],\"sequentialminus\":[[0.0,\"#0d0887\"],[0.1111111111111111,\"#46039f\"],[0.2222222222222222,\"#7201a8\"],[0.3333333333333333,\"#9c179e\"],[0.4444444444444444,\"#bd3786\"],[0.5555555555555556,\"#d8576b\"],[0.6666666666666666,\"#ed7953\"],[0.7777777777777778,\"#fb9f3a\"],[0.8888888888888888,\"#fdca26\"],[1.0,\"#f0f921\"]]},\"colorway\":[\"#636efa\",\"#EF553B\",\"#00cc96\",\"#ab63fa\",\"#FFA15A\",\"#19d3f3\",\"#FF6692\",\"#B6E880\",\"#FF97FF\",\"#FECB52\"],\"font\":{\"color\":\"#f2f5fa\"},\"geo\":{\"bgcolor\":\"rgb(17,17,17)\",\"lakecolor\":\"rgb(17,17,17)\",\"landcolor\":\"rgb(17,17,17)\",\"showlakes\":true,\"showland\":true,\"subunitcolor\":\"#506784\"},\"hoverlabel\":{\"align\":\"left\"},\"hovermode\":\"closest\",\"mapbox\":{\"style\":\"dark\"},\"paper_bgcolor\":\"rgb(17,17,17)\",\"plot_bgcolor\":\"rgb(17,17,17)\",\"polar\":{\"angularaxis\":{\"gridcolor\":\"#506784\",\"linecolor\":\"#506784\",\"ticks\":\"\"},\"bgcolor\":\"rgb(17,17,17)\",\"radialaxis\":{\"gridcolor\":\"#506784\",\"linecolor\":\"#506784\",\"ticks\":\"\"}},\"scene\":{\"xaxis\":{\"backgroundcolor\":\"rgb(17,17,17)\",\"gridcolor\":\"#506784\",\"gridwidth\":2,\"linecolor\":\"#506784\",\"showbackground\":true,\"ticks\":\"\",\"zerolinecolor\":\"#C8D4E3\"},\"yaxis\":{\"backgroundcolor\":\"rgb(17,17,17)\",\"gridcolor\":\"#506784\",\"gridwidth\":2,\"linecolor\":\"#506784\",\"showbackground\":true,\"ticks\":\"\",\"zerolinecolor\":\"#C8D4E3\"},\"zaxis\":{\"backgroundcolor\":\"rgb(17,17,17)\",\"gridcolor\":\"#506784\",\"gridwidth\":2,\"linecolor\":\"#506784\",\"showbackground\":true,\"ticks\":\"\",\"zerolinecolor\":\"#C8D4E3\"}},\"shapedefaults\":{\"line\":{\"color\":\"#f2f5fa\"}},\"sliderdefaults\":{\"bgcolor\":\"#C8D4E3\",\"bordercolor\":\"rgb(17,17,17)\",\"borderwidth\":1,\"tickwidth\":0},\"ternary\":{\"aaxis\":{\"gridcolor\":\"#506784\",\"linecolor\":\"#506784\",\"ticks\":\"\"},\"baxis\":{\"gridcolor\":\"#506784\",\"linecolor\":\"#506784\",\"ticks\":\"\"},\"bgcolor\":\"rgb(17,17,17)\",\"caxis\":{\"gridcolor\":\"#506784\",\"linecolor\":\"#506784\",\"ticks\":\"\"}},\"title\":{\"x\":0.05},\"updatemenudefaults\":{\"bgcolor\":\"#506784\",\"borderwidth\":0},\"xaxis\":{\"automargin\":true,\"gridcolor\":\"#283442\",\"linecolor\":\"#506784\",\"ticks\":\"\",\"title\":{\"standoff\":15},\"zerolinecolor\":\"#283442\",\"zerolinewidth\":2},\"yaxis\":{\"automargin\":true,\"gridcolor\":\"#283442\",\"linecolor\":\"#506784\",\"ticks\":\"\",\"title\":{\"standoff\":15},\"zerolinecolor\":\"#283442\",\"zerolinewidth\":2}}},\"legend\":{\"tracegroupgap\":0},\"title\":{\"text\":\"Percentage of Males and Females\"}},                        {\"responsive\": true}                    ).then(function(){\n",
              "                            \n",
              "var gd = document.getElementById('b2949de9-72ef-4f27-95d1-7ce0c0bcd707');\n",
              "var x = new MutationObserver(function (mutations, observer) {{\n",
              "        var display = window.getComputedStyle(gd).display;\n",
              "        if (!display || display === 'none') {{\n",
              "            console.log([gd, 'removed!']);\n",
              "            Plotly.purge(gd);\n",
              "            observer.disconnect();\n",
              "        }}\n",
              "}});\n",
              "\n",
              "// Listen for the removal of the full notebook cells\n",
              "var notebookContainer = gd.closest('#notebook-container');\n",
              "if (notebookContainer) {{\n",
              "    x.observe(notebookContainer, {childList: true});\n",
              "}}\n",
              "\n",
              "// Listen for the clearing of the current output cell\n",
              "var outputEl = gd.closest('.output');\n",
              "if (outputEl) {{\n",
              "    x.observe(outputEl, {childList: true});\n",
              "}}\n",
              "\n",
              "                        })                };                            </script>        </div>\n",
              "</body>\n",
              "</html>"
            ]
          },
          "metadata": {}
        }
      ]
    },
    {
      "cell_type": "code",
      "source": [
        "px.pie(df2, names='region', title='Percentage of Regions', hole=.5, template='plotly_dark')"
      ],
      "metadata": {
        "colab": {
          "base_uri": "https://localhost:8080/",
          "height": 542
        },
        "id": "UaPSeae_bw3x",
        "outputId": "5fbace7c-558c-41e6-f1c3-5d32541e217d"
      },
      "execution_count": 51,
      "outputs": [
        {
          "output_type": "display_data",
          "data": {
            "text/html": [
              "<html>\n",
              "<head><meta charset=\"utf-8\" /></head>\n",
              "<body>\n",
              "    <div>            <script src=\"https://cdnjs.cloudflare.com/ajax/libs/mathjax/2.7.5/MathJax.js?config=TeX-AMS-MML_SVG\"></script><script type=\"text/javascript\">if (window.MathJax) {MathJax.Hub.Config({SVG: {font: \"STIX-Web\"}});}</script>                <script type=\"text/javascript\">window.PlotlyConfig = {MathJaxConfig: 'local'};</script>\n",
              "        <script src=\"https://cdn.plot.ly/plotly-2.8.3.min.js\"></script>                <div id=\"de1ec3f0-0370-43d0-90c9-9ee3dd61513c\" class=\"plotly-graph-div\" style=\"height:525px; width:100%;\"></div>            <script type=\"text/javascript\">                                    window.PLOTLYENV=window.PLOTLYENV || {};                                    if (document.getElementById(\"de1ec3f0-0370-43d0-90c9-9ee3dd61513c\")) {                    Plotly.newPlot(                        \"de1ec3f0-0370-43d0-90c9-9ee3dd61513c\",                        [{\"domain\":{\"x\":[0.0,1.0],\"y\":[0.0,1.0]},\"hole\":0.5,\"hovertemplate\":\"region=%{label}<extra></extra>\",\"labels\":[\"southwest\",\"southeast\",\"southeast\",\"northwest\",\"northwest\",\"southeast\",\"southeast\",\"northwest\",\"northeast\",\"northwest\",\"northeast\",\"southeast\",\"southwest\",\"southeast\",\"southeast\",\"southwest\",\"northeast\",\"northeast\",\"southwest\",\"southwest\",\"northeast\",\"southwest\",\"southeast\",\"northeast\",\"northwest\",\"southeast\",\"northeast\",\"northwest\",\"northwest\",\"southwest\",\"southwest\",\"northeast\",\"southwest\",\"northwest\",\"southwest\",\"northwest\",\"northwest\",\"southwest\",\"northeast\",\"southwest\",\"northeast\",\"southeast\",\"southeast\",\"southeast\",\"northeast\",\"southwest\",\"northeast\",\"northwest\",\"southeast\",\"southeast\",\"northeast\",\"northwest\",\"southwest\",\"southeast\",\"northwest\",\"northwest\",\"northeast\",\"southeast\",\"southeast\",\"northwest\",\"northeast\",\"southeast\",\"northwest\",\"northwest\",\"northwest\",\"southwest\",\"southwest\",\"northwest\",\"southeast\",\"southeast\",\"southeast\",\"northeast\",\"southwest\",\"southeast\",\"southwest\",\"northwest\",\"southeast\",\"southeast\",\"northeast\",\"northwest\",\"northeast\",\"northeast\",\"southeast\",\"northwest\",\"southwest\",\"northwest\",\"northwest\",\"southwest\",\"northwest\",\"northwest\",\"southeast\",\"northwest\",\"northeast\",\"northwest\",\"southwest\",\"southeast\",\"southwest\",\"southeast\",\"northeast\",\"southwest\",\"southwest\",\"northeast\",\"northeast\",\"southeast\",\"southwest\",\"northwest\",\"southwest\",\"northwest\",\"southeast\",\"southeast\",\"northwest\",\"southwest\",\"southwest\",\"northwest\",\"northeast\",\"northeast\",\"southeast\",\"southeast\",\"northwest\",\"southwest\",\"northeast\",\"northwest\",\"northeast\",\"northwest\",\"northeast\",\"southwest\",\"southwest\",\"northwest\",\"southwest\",\"northeast\",\"northeast\",\"southwest\",\"northwest\",\"northeast\",\"southeast\",\"southwest\",\"northwest\",\"southeast\",\"southwest\",\"northeast\",\"northeast\",\"southeast\",\"northwest\",\"northwest\",\"southeast\",\"northwest\",\"southeast\",\"northwest\",\"southwest\",\"northwest\",\"southeast\",\"northeast\",\"northeast\",\"northeast\",\"northwest\",\"southeast\",\"northeast\",\"southeast\",\"southeast\",\"northwest\",\"southeast\",\"southwest\",\"southwest\",\"northwest\",\"northeast\",\"southwest\",\"northwest\",\"northwest\",\"northeast\",\"southeast\",\"southwest\",\"southwest\",\"northwest\",\"southwest\",\"northwest\",\"southwest\",\"southwest\",\"northeast\",\"northwest\",\"southeast\",\"northeast\",\"northwest\",\"southeast\",\"northeast\",\"southeast\",\"southwest\",\"southwest\",\"northwest\",\"southeast\",\"southwest\",\"southeast\",\"northwest\",\"southeast\",\"northwest\",\"southwest\",\"southeast\",\"northwest\",\"northeast\",\"northwest\",\"southeast\",\"northwest\",\"southeast\",\"southwest\",\"northeast\",\"southeast\",\"northeast\",\"southwest\",\"northeast\",\"southwest\",\"northwest\",\"northwest\",\"southeast\",\"southwest\",\"southwest\",\"northwest\",\"southeast\",\"southeast\",\"southeast\",\"southwest\",\"northeast\",\"southwest\",\"southwest\",\"southeast\",\"southeast\",\"southeast\",\"southeast\",\"northeast\",\"northeast\",\"northwest\",\"southeast\",\"southwest\",\"southwest\",\"northwest\",\"southeast\",\"southeast\",\"southeast\",\"northwest\",\"southeast\",\"northeast\",\"northeast\",\"southwest\",\"southwest\",\"northeast\",\"northwest\",\"southeast\",\"southeast\",\"southwest\",\"northeast\",\"northeast\",\"southwest\",\"southeast\",\"southwest\",\"northeast\",\"northeast\",\"northwest\",\"southeast\",\"northwest\",\"northwest\",\"southwest\",\"southeast\",\"northeast\",\"northwest\",\"southeast\",\"southeast\",\"southeast\",\"northeast\",\"southwest\",\"northeast\",\"southeast\",\"southwest\",\"northwest\",\"northeast\",\"northwest\",\"northeast\",\"northwest\",\"southwest\",\"southeast\",\"southeast\",\"northeast\",\"northeast\",\"northeast\",\"northeast\",\"southwest\",\"southeast\",\"northwest\",\"northeast\",\"southeast\",\"southwest\",\"northeast\",\"southeast\",\"southwest\",\"northeast\",\"southwest\",\"southeast\",\"northwest\",\"northwest\",\"northeast\",\"northeast\",\"southeast\",\"southeast\",\"southwest\",\"northwest\",\"southwest\",\"southeast\",\"northeast\",\"northwest\",\"southwest\",\"southwest\",\"southeast\",\"southeast\",\"southwest\",\"northeast\",\"northwest\",\"northeast\",\"northwest\",\"northeast\",\"northwest\",\"northeast\",\"southwest\",\"northeast\",\"southwest\",\"northeast\",\"southeast\",\"northwest\",\"southwest\",\"southwest\",\"northeast\",\"northwest\",\"northwest\",\"northeast\",\"northeast\",\"southwest\",\"southeast\",\"northwest\",\"northeast\",\"southeast\",\"southwest\",\"northwest\",\"northeast\",\"northeast\",\"southeast\",\"southeast\",\"southeast\",\"northeast\",\"southeast\",\"northwest\",\"northwest\",\"southwest\",\"southwest\",\"northeast\",\"southeast\",\"southwest\",\"southeast\",\"northwest\",\"southeast\",\"southeast\",\"northeast\",\"southwest\",\"southwest\",\"southwest\",\"southeast\",\"northeast\",\"northeast\",\"northwest\",\"northwest\",\"northeast\",\"northwest\",\"northeast\",\"northeast\",\"southwest\",\"southeast\",\"northwest\",\"northeast\",\"southeast\",\"northwest\",\"southeast\",\"northeast\",\"northeast\",\"southeast\",\"southeast\",\"northeast\",\"southwest\",\"southeast\",\"northwest\",\"northwest\",\"northwest\",\"northeast\",\"northwest\",\"northeast\",\"northeast\",\"northeast\",\"northwest\",\"southwest\",\"southeast\",\"southwest\",\"southeast\",\"southwest\",\"northwest\",\"northwest\",\"southwest\",\"northeast\",\"southeast\",\"southwest\",\"southeast\",\"southeast\",\"northwest\",\"northeast\",\"northeast\",\"southwest\",\"northwest\",\"southeast\",\"southeast\",\"southwest\",\"southeast\",\"northwest\",\"southeast\",\"southeast\",\"northeast\",\"northeast\",\"southwest\",\"southeast\",\"northeast\",\"northeast\",\"northeast\",\"northwest\",\"southwest\",\"northwest\",\"southwest\",\"southwest\",\"northwest\",\"southeast\",\"northeast\",\"southwest\",\"northeast\",\"northwest\",\"southwest\",\"southeast\",\"southeast\",\"northwest\",\"southwest\",\"northeast\",\"northwest\",\"southwest\",\"southwest\",\"southwest\",\"northwest\",\"southwest\",\"northwest\",\"southwest\",\"southeast\",\"northwest\",\"southwest\",\"southeast\",\"southeast\",\"southwest\",\"northeast\",\"northeast\",\"northwest\",\"southeast\",\"southwest\",\"northwest\",\"northeast\",\"southeast\",\"southeast\",\"northeast\",\"southwest\",\"northeast\",\"southwest\",\"northwest\",\"northeast\",\"northwest\",\"southeast\",\"southeast\",\"northwest\",\"southeast\",\"southeast\",\"southwest\",\"southwest\",\"northeast\",\"northwest\",\"southwest\",\"southeast\",\"northwest\",\"southwest\",\"southeast\",\"northeast\",\"southwest\",\"southwest\",\"northeast\",\"southwest\",\"southwest\",\"southeast\",\"southwest\",\"southwest\",\"northeast\",\"southeast\",\"southeast\",\"southeast\",\"northwest\",\"northwest\",\"northwest\",\"northeast\",\"southwest\",\"northeast\",\"southeast\",\"northeast\",\"southwest\",\"southwest\",\"southwest\",\"southeast\",\"northwest\",\"southwest\",\"northeast\",\"northeast\",\"southeast\",\"northeast\",\"southeast\",\"southeast\",\"southeast\",\"northwest\",\"southwest\",\"northeast\",\"northeast\",\"southeast\",\"northeast\",\"southeast\",\"southeast\",\"southeast\",\"northeast\",\"southwest\",\"southwest\",\"southeast\",\"southeast\",\"southwest\",\"southeast\",\"southeast\",\"northwest\",\"northwest\",\"northeast\",\"northeast\",\"southwest\",\"southeast\",\"southwest\",\"northwest\",\"northeast\",\"southwest\",\"northeast\",\"southeast\",\"northwest\",\"northwest\",\"northwest\",\"northeast\",\"southwest\",\"southeast\",\"southeast\",\"northwest\",\"northwest\",\"northwest\",\"southwest\",\"northwest\",\"southwest\",\"southeast\",\"southeast\",\"northeast\",\"northeast\",\"northwest\",\"southeast\",\"northeast\",\"southwest\",\"northeast\",\"northeast\",\"southeast\",\"southwest\",\"southeast\",\"northeast\",\"northwest\",\"northeast\",\"southeast\",\"southwest\",\"northwest\",\"southeast\",\"northeast\",\"southeast\",\"northeast\",\"southeast\",\"northeast\",\"southwest\",\"northwest\",\"southeast\",\"northwest\",\"southwest\",\"southeast\",\"northwest\",\"southeast\",\"northeast\",\"northwest\",\"northeast\",\"southwest\",\"southeast\",\"southwest\",\"northeast\",\"northeast\",\"southeast\",\"southeast\",\"northeast\",\"southwest\",\"southeast\",\"southwest\",\"southwest\",\"southwest\",\"southwest\",\"northeast\",\"northwest\",\"northwest\",\"northeast\",\"southeast\",\"southwest\",\"northwest\",\"southwest\",\"southwest\",\"southeast\",\"northeast\",\"southwest\",\"northeast\",\"northwest\",\"northeast\",\"northeast\",\"southeast\",\"southwest\",\"northwest\",\"northeast\",\"northwest\",\"southeast\",\"northeast\",\"northwest\",\"northeast\",\"northeast\",\"northeast\",\"southeast\",\"southeast\",\"southeast\",\"southeast\",\"southeast\",\"southeast\",\"southwest\",\"northwest\",\"northeast\",\"northeast\",\"southeast\",\"northeast\",\"southeast\",\"southeast\",\"southeast\",\"southwest\",\"northwest\",\"northeast\",\"southeast\",\"southeast\",\"northeast\",\"southeast\",\"southeast\",\"southeast\",\"northwest\",\"southeast\",\"northwest\",\"southwest\",\"northwest\",\"southwest\",\"southwest\",\"southwest\",\"northwest\",\"southwest\",\"northeast\",\"northeast\",\"southeast\",\"southwest\",\"southeast\",\"northeast\",\"southwest\",\"northwest\",\"northwest\",\"southwest\",\"northwest\",\"northeast\",\"southeast\",\"northwest\",\"southeast\",\"southeast\",\"northeast\",\"southeast\",\"northwest\",\"northwest\",\"southwest\",\"southeast\",\"northwest\",\"northeast\",\"northeast\",\"southeast\",\"southeast\",\"northwest\",\"northeast\",\"southwest\",\"southwest\",\"northwest\",\"northwest\",\"northwest\",\"northwest\",\"northeast\",\"southwest\",\"southwest\",\"southwest\",\"northeast\",\"southeast\",\"northwest\",\"northeast\",\"northeast\",\"southeast\",\"southeast\",\"southwest\",\"southwest\",\"northeast\",\"southwest\",\"northwest\",\"southeast\",\"southwest\",\"northeast\",\"southwest\",\"northeast\",\"southeast\",\"northeast\",\"southeast\",\"northwest\",\"northwest\",\"southwest\",\"northwest\",\"southwest\",\"northwest\",\"southeast\",\"northwest\",\"northwest\",\"southeast\",\"northeast\",\"northeast\",\"northeast\",\"southeast\",\"northeast\",\"southeast\",\"northeast\",\"southwest\",\"southwest\",\"northeast\",\"northeast\",\"northwest\",\"southwest\",\"southwest\",\"southwest\",\"northwest\",\"southwest\",\"southwest\",\"northeast\",\"northwest\",\"northwest\",\"southeast\",\"northwest\",\"northeast\",\"southeast\",\"northwest\",\"southwest\",\"southeast\",\"southeast\",\"southwest\",\"southeast\",\"southwest\",\"northeast\",\"northwest\",\"northeast\",\"southeast\",\"southeast\",\"southwest\",\"northeast\",\"southeast\",\"northwest\",\"northwest\",\"southeast\",\"northeast\",\"southwest\",\"northeast\",\"southeast\",\"southeast\",\"southwest\",\"southeast\",\"southeast\",\"northwest\",\"northwest\",\"northwest\",\"southeast\",\"northeast\",\"southwest\",\"northwest\",\"southeast\",\"northeast\",\"southeast\",\"southeast\",\"northwest\",\"southwest\",\"northeast\",\"northwest\",\"southwest\",\"northwest\",\"southeast\",\"southeast\",\"northwest\",\"northeast\",\"southeast\",\"northeast\",\"northeast\",\"northwest\",\"southwest\",\"northwest\",\"northwest\",\"northwest\",\"northwest\",\"southeast\",\"southwest\",\"northeast\",\"northeast\",\"northwest\",\"southwest\",\"northeast\",\"southeast\",\"southeast\",\"northeast\",\"southeast\",\"southwest\",\"southwest\",\"northwest\",\"northeast\",\"northwest\",\"northeast\",\"northeast\",\"northeast\",\"southwest\",\"southeast\",\"northwest\",\"southeast\",\"southwest\",\"southwest\",\"northwest\",\"northeast\",\"southwest\",\"southwest\",\"southeast\",\"southwest\",\"northeast\",\"southwest\",\"southwest\",\"southeast\",\"southeast\",\"southwest\",\"northeast\",\"northwest\",\"southwest\",\"southeast\",\"southwest\",\"southwest\",\"southwest\",\"northwest\",\"northeast\",\"northeast\",\"northwest\",\"southeast\",\"northeast\",\"northwest\",\"southwest\",\"northwest\",\"northwest\",\"southeast\",\"northeast\",\"southeast\",\"northeast\",\"southwest\",\"northeast\",\"northwest\",\"southeast\",\"northwest\",\"northeast\",\"southeast\",\"northeast\",\"southeast\",\"southwest\",\"northeast\",\"northeast\",\"southeast\",\"southwest\",\"southwest\",\"northwest\",\"northeast\",\"northwest\",\"southwest\",\"northwest\",\"southeast\",\"northwest\",\"northeast\",\"southwest\",\"southeast\",\"southwest\",\"southwest\",\"southwest\",\"northwest\",\"southwest\",\"northeast\",\"southwest\",\"southwest\",\"southeast\",\"southeast\",\"southwest\",\"southwest\",\"southwest\",\"southeast\",\"southwest\",\"northeast\",\"northwest\",\"southeast\",\"southeast\",\"southeast\",\"northeast\",\"northwest\",\"southeast\",\"southwest\",\"southwest\",\"northeast\",\"northwest\",\"southwest\",\"northeast\",\"southeast\",\"northwest\",\"southwest\",\"northwest\",\"southeast\",\"southeast\",\"northwest\",\"northeast\",\"northwest\",\"northwest\",\"southwest\",\"southeast\",\"northeast\",\"northwest\",\"southwest\",\"northwest\",\"northwest\",\"northeast\",\"southeast\",\"southeast\",\"northeast\",\"northwest\",\"southwest\",\"southeast\",\"northeast\",\"southeast\",\"southeast\",\"northeast\",\"southeast\",\"northeast\",\"northeast\",\"southwest\",\"northeast\",\"northeast\",\"southwest\",\"northwest\",\"northwest\",\"northeast\",\"northeast\",\"southwest\",\"northeast\",\"southwest\",\"southeast\",\"northwest\",\"northeast\",\"southwest\",\"southeast\",\"northeast\",\"northwest\",\"northwest\",\"southwest\",\"southwest\",\"southwest\",\"northeast\",\"northwest\",\"northeast\",\"northwest\",\"northeast\",\"northeast\",\"southwest\",\"southeast\",\"southeast\",\"northwest\",\"southwest\",\"northwest\",\"northwest\",\"southwest\",\"northwest\",\"northwest\",\"southwest\",\"southeast\",\"southeast\",\"southeast\",\"southwest\",\"northwest\",\"northwest\",\"southwest\",\"northeast\",\"northwest\",\"southeast\",\"northeast\",\"northeast\",\"northwest\",\"southwest\",\"southeast\",\"northwest\",\"northeast\",\"northwest\",\"northwest\",\"northeast\",\"northeast\",\"southwest\",\"northeast\",\"northwest\",\"northeast\",\"northwest\",\"southwest\",\"northwest\",\"northeast\",\"northeast\",\"southwest\",\"northwest\",\"northwest\",\"southwest\",\"southeast\",\"southeast\",\"northwest\",\"southeast\",\"southeast\",\"southeast\",\"northwest\",\"southwest\",\"southwest\",\"southeast\",\"northeast\",\"northwest\",\"southeast\",\"southeast\",\"northeast\",\"northwest\",\"northeast\",\"northeast\",\"southeast\",\"southwest\",\"northeast\",\"southeast\",\"southeast\",\"southeast\",\"northwest\",\"northwest\",\"southwest\",\"northwest\",\"southwest\",\"northeast\",\"northwest\",\"southwest\",\"southeast\",\"northeast\",\"southwest\",\"northwest\",\"southwest\",\"northeast\",\"northeast\",\"southeast\",\"northeast\",\"southeast\",\"northeast\",\"southwest\",\"southeast\",\"southeast\",\"southwest\",\"southeast\",\"northwest\",\"northwest\",\"southwest\",\"southeast\",\"northeast\",\"southeast\",\"southeast\",\"northwest\",\"northeast\",\"southeast\",\"northeast\",\"southeast\",\"southeast\",\"northwest\",\"southwest\",\"southeast\",\"northwest\",\"northeast\",\"northeast\",\"northwest\",\"southwest\",\"southeast\",\"southwest\",\"southwest\",\"southeast\",\"northeast\",\"northwest\",\"northwest\",\"northwest\",\"southwest\",\"northwest\",\"southeast\",\"northwest\",\"southeast\",\"southwest\",\"southeast\",\"southeast\",\"southwest\",\"northwest\",\"southwest\",\"northwest\",\"southwest\",\"southwest\",\"northeast\",\"northwest\",\"southeast\",\"northwest\",\"northwest\",\"northeast\",\"southeast\",\"northwest\",\"northeast\",\"southwest\",\"northwest\",\"southeast\",\"southeast\",\"northeast\",\"northwest\",\"northeast\",\"southeast\",\"southwest\",\"southwest\",\"northwest\",\"northeast\",\"southwest\",\"southeast\",\"northwest\",\"northwest\",\"southwest\",\"northwest\",\"southwest\",\"northeast\",\"southeast\",\"northeast\",\"northwest\",\"southwest\",\"northeast\",\"southeast\",\"northeast\",\"northwest\",\"northwest\",\"northeast\",\"southwest\",\"northwest\",\"northeast\",\"northeast\",\"northwest\",\"northwest\",\"northwest\",\"northwest\",\"southeast\",\"northwest\",\"southwest\",\"northwest\",\"northwest\",\"northwest\",\"northeast\",\"southeast\",\"northwest\",\"southwest\",\"southwest\",\"northeast\",\"southwest\",\"northwest\",\"southeast\",\"northeast\",\"southwest\",\"northwest\",\"northeast\",\"southeast\",\"southeast\",\"southwest\",\"northwest\",\"northeast\",\"southeast\",\"southeast\",\"southeast\",\"northeast\",\"southeast\",\"northeast\",\"southeast\",\"southeast\",\"northeast\",\"northwest\",\"southwest\",\"northwest\",\"southwest\",\"southeast\",\"northwest\",\"northeast\",\"northwest\",\"northeast\",\"southeast\",\"southeast\",\"southeast\",\"northwest\",\"southeast\",\"southeast\",\"southwest\",\"southwest\",\"southwest\",\"southeast\",\"northeast\",\"northeast\",\"southwest\",\"southwest\",\"southwest\",\"southeast\",\"southwest\",\"northwest\",\"northwest\",\"northwest\",\"northeast\",\"northeast\",\"southwest\",\"southeast\",\"southwest\",\"northeast\",\"southeast\",\"southwest\",\"northeast\",\"southwest\",\"southwest\",\"northwest\",\"northwest\",\"southeast\",\"southeast\",\"southeast\",\"southwest\",\"northeast\",\"northwest\",\"northeast\",\"northwest\",\"southeast\",\"northwest\",\"northeast\",\"southeast\",\"southwest\",\"northeast\",\"northeast\",\"southwest\",\"southwest\",\"southeast\",\"northeast\",\"southwest\",\"southeast\",\"northwest\",\"northeast\",\"southwest\",\"northeast\",\"southeast\",\"northwest\",\"northwest\",\"southeast\",\"northwest\",\"southwest\",\"southwest\",\"northeast\",\"southeast\",\"northeast\",\"northwest\",\"southwest\",\"southwest\",\"northwest\",\"northwest\",\"southwest\",\"southwest\",\"northwest\",\"northeast\",\"southwest\",\"northeast\",\"northwest\",\"northwest\",\"northeast\",\"southeast\",\"southeast\",\"northwest\",\"northeast\",\"northeast\",\"southeast\",\"northeast\",\"southwest\",\"southeast\",\"southwest\",\"southwest\",\"northwest\",\"northeast\",\"southeast\",\"southwest\",\"northwest\"],\"legendgroup\":\"\",\"name\":\"\",\"showlegend\":true,\"type\":\"pie\"}],                        {\"template\":{\"data\":{\"barpolar\":[{\"marker\":{\"line\":{\"color\":\"rgb(17,17,17)\",\"width\":0.5},\"pattern\":{\"fillmode\":\"overlay\",\"size\":10,\"solidity\":0.2}},\"type\":\"barpolar\"}],\"bar\":[{\"error_x\":{\"color\":\"#f2f5fa\"},\"error_y\":{\"color\":\"#f2f5fa\"},\"marker\":{\"line\":{\"color\":\"rgb(17,17,17)\",\"width\":0.5},\"pattern\":{\"fillmode\":\"overlay\",\"size\":10,\"solidity\":0.2}},\"type\":\"bar\"}],\"carpet\":[{\"aaxis\":{\"endlinecolor\":\"#A2B1C6\",\"gridcolor\":\"#506784\",\"linecolor\":\"#506784\",\"minorgridcolor\":\"#506784\",\"startlinecolor\":\"#A2B1C6\"},\"baxis\":{\"endlinecolor\":\"#A2B1C6\",\"gridcolor\":\"#506784\",\"linecolor\":\"#506784\",\"minorgridcolor\":\"#506784\",\"startlinecolor\":\"#A2B1C6\"},\"type\":\"carpet\"}],\"choropleth\":[{\"colorbar\":{\"outlinewidth\":0,\"ticks\":\"\"},\"type\":\"choropleth\"}],\"contourcarpet\":[{\"colorbar\":{\"outlinewidth\":0,\"ticks\":\"\"},\"type\":\"contourcarpet\"}],\"contour\":[{\"colorbar\":{\"outlinewidth\":0,\"ticks\":\"\"},\"colorscale\":[[0.0,\"#0d0887\"],[0.1111111111111111,\"#46039f\"],[0.2222222222222222,\"#7201a8\"],[0.3333333333333333,\"#9c179e\"],[0.4444444444444444,\"#bd3786\"],[0.5555555555555556,\"#d8576b\"],[0.6666666666666666,\"#ed7953\"],[0.7777777777777778,\"#fb9f3a\"],[0.8888888888888888,\"#fdca26\"],[1.0,\"#f0f921\"]],\"type\":\"contour\"}],\"heatmapgl\":[{\"colorbar\":{\"outlinewidth\":0,\"ticks\":\"\"},\"colorscale\":[[0.0,\"#0d0887\"],[0.1111111111111111,\"#46039f\"],[0.2222222222222222,\"#7201a8\"],[0.3333333333333333,\"#9c179e\"],[0.4444444444444444,\"#bd3786\"],[0.5555555555555556,\"#d8576b\"],[0.6666666666666666,\"#ed7953\"],[0.7777777777777778,\"#fb9f3a\"],[0.8888888888888888,\"#fdca26\"],[1.0,\"#f0f921\"]],\"type\":\"heatmapgl\"}],\"heatmap\":[{\"colorbar\":{\"outlinewidth\":0,\"ticks\":\"\"},\"colorscale\":[[0.0,\"#0d0887\"],[0.1111111111111111,\"#46039f\"],[0.2222222222222222,\"#7201a8\"],[0.3333333333333333,\"#9c179e\"],[0.4444444444444444,\"#bd3786\"],[0.5555555555555556,\"#d8576b\"],[0.6666666666666666,\"#ed7953\"],[0.7777777777777778,\"#fb9f3a\"],[0.8888888888888888,\"#fdca26\"],[1.0,\"#f0f921\"]],\"type\":\"heatmap\"}],\"histogram2dcontour\":[{\"colorbar\":{\"outlinewidth\":0,\"ticks\":\"\"},\"colorscale\":[[0.0,\"#0d0887\"],[0.1111111111111111,\"#46039f\"],[0.2222222222222222,\"#7201a8\"],[0.3333333333333333,\"#9c179e\"],[0.4444444444444444,\"#bd3786\"],[0.5555555555555556,\"#d8576b\"],[0.6666666666666666,\"#ed7953\"],[0.7777777777777778,\"#fb9f3a\"],[0.8888888888888888,\"#fdca26\"],[1.0,\"#f0f921\"]],\"type\":\"histogram2dcontour\"}],\"histogram2d\":[{\"colorbar\":{\"outlinewidth\":0,\"ticks\":\"\"},\"colorscale\":[[0.0,\"#0d0887\"],[0.1111111111111111,\"#46039f\"],[0.2222222222222222,\"#7201a8\"],[0.3333333333333333,\"#9c179e\"],[0.4444444444444444,\"#bd3786\"],[0.5555555555555556,\"#d8576b\"],[0.6666666666666666,\"#ed7953\"],[0.7777777777777778,\"#fb9f3a\"],[0.8888888888888888,\"#fdca26\"],[1.0,\"#f0f921\"]],\"type\":\"histogram2d\"}],\"histogram\":[{\"marker\":{\"pattern\":{\"fillmode\":\"overlay\",\"size\":10,\"solidity\":0.2}},\"type\":\"histogram\"}],\"mesh3d\":[{\"colorbar\":{\"outlinewidth\":0,\"ticks\":\"\"},\"type\":\"mesh3d\"}],\"parcoords\":[{\"line\":{\"colorbar\":{\"outlinewidth\":0,\"ticks\":\"\"}},\"type\":\"parcoords\"}],\"pie\":[{\"automargin\":true,\"type\":\"pie\"}],\"scatter3d\":[{\"line\":{\"colorbar\":{\"outlinewidth\":0,\"ticks\":\"\"}},\"marker\":{\"colorbar\":{\"outlinewidth\":0,\"ticks\":\"\"}},\"type\":\"scatter3d\"}],\"scattercarpet\":[{\"marker\":{\"colorbar\":{\"outlinewidth\":0,\"ticks\":\"\"}},\"type\":\"scattercarpet\"}],\"scattergeo\":[{\"marker\":{\"colorbar\":{\"outlinewidth\":0,\"ticks\":\"\"}},\"type\":\"scattergeo\"}],\"scattergl\":[{\"marker\":{\"line\":{\"color\":\"#283442\"}},\"type\":\"scattergl\"}],\"scattermapbox\":[{\"marker\":{\"colorbar\":{\"outlinewidth\":0,\"ticks\":\"\"}},\"type\":\"scattermapbox\"}],\"scatterpolargl\":[{\"marker\":{\"colorbar\":{\"outlinewidth\":0,\"ticks\":\"\"}},\"type\":\"scatterpolargl\"}],\"scatterpolar\":[{\"marker\":{\"colorbar\":{\"outlinewidth\":0,\"ticks\":\"\"}},\"type\":\"scatterpolar\"}],\"scatter\":[{\"marker\":{\"line\":{\"color\":\"#283442\"}},\"type\":\"scatter\"}],\"scatterternary\":[{\"marker\":{\"colorbar\":{\"outlinewidth\":0,\"ticks\":\"\"}},\"type\":\"scatterternary\"}],\"surface\":[{\"colorbar\":{\"outlinewidth\":0,\"ticks\":\"\"},\"colorscale\":[[0.0,\"#0d0887\"],[0.1111111111111111,\"#46039f\"],[0.2222222222222222,\"#7201a8\"],[0.3333333333333333,\"#9c179e\"],[0.4444444444444444,\"#bd3786\"],[0.5555555555555556,\"#d8576b\"],[0.6666666666666666,\"#ed7953\"],[0.7777777777777778,\"#fb9f3a\"],[0.8888888888888888,\"#fdca26\"],[1.0,\"#f0f921\"]],\"type\":\"surface\"}],\"table\":[{\"cells\":{\"fill\":{\"color\":\"#506784\"},\"line\":{\"color\":\"rgb(17,17,17)\"}},\"header\":{\"fill\":{\"color\":\"#2a3f5f\"},\"line\":{\"color\":\"rgb(17,17,17)\"}},\"type\":\"table\"}]},\"layout\":{\"annotationdefaults\":{\"arrowcolor\":\"#f2f5fa\",\"arrowhead\":0,\"arrowwidth\":1},\"autotypenumbers\":\"strict\",\"coloraxis\":{\"colorbar\":{\"outlinewidth\":0,\"ticks\":\"\"}},\"colorscale\":{\"diverging\":[[0,\"#8e0152\"],[0.1,\"#c51b7d\"],[0.2,\"#de77ae\"],[0.3,\"#f1b6da\"],[0.4,\"#fde0ef\"],[0.5,\"#f7f7f7\"],[0.6,\"#e6f5d0\"],[0.7,\"#b8e186\"],[0.8,\"#7fbc41\"],[0.9,\"#4d9221\"],[1,\"#276419\"]],\"sequential\":[[0.0,\"#0d0887\"],[0.1111111111111111,\"#46039f\"],[0.2222222222222222,\"#7201a8\"],[0.3333333333333333,\"#9c179e\"],[0.4444444444444444,\"#bd3786\"],[0.5555555555555556,\"#d8576b\"],[0.6666666666666666,\"#ed7953\"],[0.7777777777777778,\"#fb9f3a\"],[0.8888888888888888,\"#fdca26\"],[1.0,\"#f0f921\"]],\"sequentialminus\":[[0.0,\"#0d0887\"],[0.1111111111111111,\"#46039f\"],[0.2222222222222222,\"#7201a8\"],[0.3333333333333333,\"#9c179e\"],[0.4444444444444444,\"#bd3786\"],[0.5555555555555556,\"#d8576b\"],[0.6666666666666666,\"#ed7953\"],[0.7777777777777778,\"#fb9f3a\"],[0.8888888888888888,\"#fdca26\"],[1.0,\"#f0f921\"]]},\"colorway\":[\"#636efa\",\"#EF553B\",\"#00cc96\",\"#ab63fa\",\"#FFA15A\",\"#19d3f3\",\"#FF6692\",\"#B6E880\",\"#FF97FF\",\"#FECB52\"],\"font\":{\"color\":\"#f2f5fa\"},\"geo\":{\"bgcolor\":\"rgb(17,17,17)\",\"lakecolor\":\"rgb(17,17,17)\",\"landcolor\":\"rgb(17,17,17)\",\"showlakes\":true,\"showland\":true,\"subunitcolor\":\"#506784\"},\"hoverlabel\":{\"align\":\"left\"},\"hovermode\":\"closest\",\"mapbox\":{\"style\":\"dark\"},\"paper_bgcolor\":\"rgb(17,17,17)\",\"plot_bgcolor\":\"rgb(17,17,17)\",\"polar\":{\"angularaxis\":{\"gridcolor\":\"#506784\",\"linecolor\":\"#506784\",\"ticks\":\"\"},\"bgcolor\":\"rgb(17,17,17)\",\"radialaxis\":{\"gridcolor\":\"#506784\",\"linecolor\":\"#506784\",\"ticks\":\"\"}},\"scene\":{\"xaxis\":{\"backgroundcolor\":\"rgb(17,17,17)\",\"gridcolor\":\"#506784\",\"gridwidth\":2,\"linecolor\":\"#506784\",\"showbackground\":true,\"ticks\":\"\",\"zerolinecolor\":\"#C8D4E3\"},\"yaxis\":{\"backgroundcolor\":\"rgb(17,17,17)\",\"gridcolor\":\"#506784\",\"gridwidth\":2,\"linecolor\":\"#506784\",\"showbackground\":true,\"ticks\":\"\",\"zerolinecolor\":\"#C8D4E3\"},\"zaxis\":{\"backgroundcolor\":\"rgb(17,17,17)\",\"gridcolor\":\"#506784\",\"gridwidth\":2,\"linecolor\":\"#506784\",\"showbackground\":true,\"ticks\":\"\",\"zerolinecolor\":\"#C8D4E3\"}},\"shapedefaults\":{\"line\":{\"color\":\"#f2f5fa\"}},\"sliderdefaults\":{\"bgcolor\":\"#C8D4E3\",\"bordercolor\":\"rgb(17,17,17)\",\"borderwidth\":1,\"tickwidth\":0},\"ternary\":{\"aaxis\":{\"gridcolor\":\"#506784\",\"linecolor\":\"#506784\",\"ticks\":\"\"},\"baxis\":{\"gridcolor\":\"#506784\",\"linecolor\":\"#506784\",\"ticks\":\"\"},\"bgcolor\":\"rgb(17,17,17)\",\"caxis\":{\"gridcolor\":\"#506784\",\"linecolor\":\"#506784\",\"ticks\":\"\"}},\"title\":{\"x\":0.05},\"updatemenudefaults\":{\"bgcolor\":\"#506784\",\"borderwidth\":0},\"xaxis\":{\"automargin\":true,\"gridcolor\":\"#283442\",\"linecolor\":\"#506784\",\"ticks\":\"\",\"title\":{\"standoff\":15},\"zerolinecolor\":\"#283442\",\"zerolinewidth\":2},\"yaxis\":{\"automargin\":true,\"gridcolor\":\"#283442\",\"linecolor\":\"#506784\",\"ticks\":\"\",\"title\":{\"standoff\":15},\"zerolinecolor\":\"#283442\",\"zerolinewidth\":2}}},\"legend\":{\"tracegroupgap\":0},\"title\":{\"text\":\"Percentage of Regions\"}},                        {\"responsive\": true}                    ).then(function(){\n",
              "                            \n",
              "var gd = document.getElementById('de1ec3f0-0370-43d0-90c9-9ee3dd61513c');\n",
              "var x = new MutationObserver(function (mutations, observer) {{\n",
              "        var display = window.getComputedStyle(gd).display;\n",
              "        if (!display || display === 'none') {{\n",
              "            console.log([gd, 'removed!']);\n",
              "            Plotly.purge(gd);\n",
              "            observer.disconnect();\n",
              "        }}\n",
              "}});\n",
              "\n",
              "// Listen for the removal of the full notebook cells\n",
              "var notebookContainer = gd.closest('#notebook-container');\n",
              "if (notebookContainer) {{\n",
              "    x.observe(notebookContainer, {childList: true});\n",
              "}}\n",
              "\n",
              "// Listen for the clearing of the current output cell\n",
              "var outputEl = gd.closest('.output');\n",
              "if (outputEl) {{\n",
              "    x.observe(outputEl, {childList: true});\n",
              "}}\n",
              "\n",
              "                        })                };                            </script>        </div>\n",
              "</body>\n",
              "</html>"
            ]
          },
          "metadata": {}
        }
      ]
    },
    {
      "cell_type": "code",
      "source": [
        "px.pie(df2, names='children', title='Percentage of Children', hole=.5, template='plotly_dark')"
      ],
      "metadata": {
        "colab": {
          "base_uri": "https://localhost:8080/",
          "height": 542
        },
        "id": "FCSm1ToBeCH7",
        "outputId": "fe9f6984-9a76-48bd-ad9e-a84bd423124d"
      },
      "execution_count": 52,
      "outputs": [
        {
          "output_type": "display_data",
          "data": {
            "text/html": [
              "<html>\n",
              "<head><meta charset=\"utf-8\" /></head>\n",
              "<body>\n",
              "    <div>            <script src=\"https://cdnjs.cloudflare.com/ajax/libs/mathjax/2.7.5/MathJax.js?config=TeX-AMS-MML_SVG\"></script><script type=\"text/javascript\">if (window.MathJax) {MathJax.Hub.Config({SVG: {font: \"STIX-Web\"}});}</script>                <script type=\"text/javascript\">window.PlotlyConfig = {MathJaxConfig: 'local'};</script>\n",
              "        <script src=\"https://cdn.plot.ly/plotly-2.8.3.min.js\"></script>                <div id=\"c1801804-aa77-4c27-abec-bb2279ee425f\" class=\"plotly-graph-div\" style=\"height:525px; width:100%;\"></div>            <script type=\"text/javascript\">                                    window.PLOTLYENV=window.PLOTLYENV || {};                                    if (document.getElementById(\"c1801804-aa77-4c27-abec-bb2279ee425f\")) {                    Plotly.newPlot(                        \"c1801804-aa77-4c27-abec-bb2279ee425f\",                        [{\"domain\":{\"x\":[0.0,1.0],\"y\":[0.0,1.0]},\"hole\":0.5,\"hovertemplate\":\"children=%{label}<extra></extra>\",\"labels\":[0,1,3,0,0,0,1,3,2,0,0,0,0,0,0,1,1,0,0,0,0,1,0,1,2,3,0,2,1,2,0,0,5,0,1,0,3,0,1,0,0,2,1,2,1,0,2,0,0,1,0,2,1,0,3,2,2,2,1,2,3,4,1,1,0,0,2,1,0,3,0,5,3,1,2,0,1,0,0,0,1,0,1,4,2,2,0,0,0,0,0,1,3,2,2,1,3,0,0,0,0,0,0,3,1,1,1,2,0,0,1,2,0,0,3,0,1,0,2,2,0,0,1,3,0,0,0,2,2,0,0,2,0,0,0,0,0,3,0,2,1,2,2,3,3,3,1,1,1,1,0,3,0,1,0,0,0,0,3,0,0,1,2,0,4,5,3,1,3,0,0,1,0,0,2,1,2,3,0,0,3,0,2,3,2,3,1,2,0,0,0,1,0,0,0,2,0,0,0,1,0,0,0,1,0,2,0,1,1,4,2,1,2,2,0,0,1,0,1,0,3,0,0,3,0,0,1,2,1,3,0,1,2,2,0,2,0,1,2,1,1,3,0,0,0,0,1,1,2,2,2,3,0,3,0,0,4,0,0,1,3,0,3,3,1,3,1,1,1,2,2,1,0,2,2,0,2,1,1,3,1,1,0,1,0,1,3,0,1,0,3,0,0,1,3,1,3,3,2,2,2,2,2,1,0,2,0,0,3,0,0,0,0,0,0,1,1,4,0,0,0,1,1,2,1,0,1,0,0,0,2,0,0,1,1,1,0,0,0,0,4,3,2,1,1,0,0,0,0,0,0,0,3,3,0,0,2,1,0,1,2,1,3,2,2,3,0,0,1,2,0,0,3,0,3,1,2,0,0,2,2,0,0,2,0,3,4,0,1,1,2,0,3,0,2,0,0,0,3,0,2,0,1,3,1,0,1,2,5,0,1,0,2,1,0,0,0,1,0,2,5,1,0,1,3,0,2,0,0,1,3,0,3,0,1,0,0,1,1,0,0,0,0,1,4,1,0,0,0,2,0,0,3,3,0,2,0,0,1,1,2,1,1,0,0,0,0,3,1,0,0,0,0,3,2,0,1,3,0,3,0,0,1,0,0,0,0,4,0,2,2,2,0,0,0,1,0,1,3,1,2,0,0,1,0,0,0,1,0,1,2,1,0,0,0,0,0,1,0,2,1,1,0,1,0,2,0,0,1,3,2,1,0,3,2,0,0,2,0,0,0,0,0,2,0,2,1,0,3,0,2,0,0,1,2,0,1,2,5,2,0,1,2,1,2,0,0,1,1,0,1,1,0,1,3,1,0,1,0,1,2,1,0,1,2,1,2,2,0,0,0,3,0,0,0,0,2,2,1,2,0,3,0,1,0,2,0,0,1,4,1,0,0,0,3,1,0,0,1,0,0,2,1,0,1,2,0,4,5,3,0,3,2,3,1,3,0,0,2,1,0,2,0,2,1,2,1,4,1,1,0,0,2,1,2,0,1,3,0,0,0,2,0,3,3,3,2,1,0,2,0,1,2,2,0,1,1,0,1,1,0,1,0,2,1,0,2,0,0,0,1,1,2,0,3,3,0,1,2,2,0,0,0,1,1,2,0,0,3,0,0,1,3,1,1,0,1,3,1,3,1,3,1,0,2,3,2,2,0,0,0,0,1,2,0,1,0,0,0,0,0,4,2,3,0,3,0,2,1,1,0,2,0,1,1,0,2,3,2,0,0,2,3,2,0,3,0,3,0,1,1,1,3,0,0,3,0,0,0,0,0,2,0,2,1,0,0,1,0,1,0,0,0,1,0,0,1,3,3,2,2,2,0,0,3,1,0,1,0,0,2,0,2,2,1,3,1,0,0,2,0,1,2,0,0,2,0,0,0,2,0,0,0,1,0,0,0,2,0,2,3,0,0,0,1,0,3,2,0,0,2,0,1,0,3,0,1,0,1,3,0,1,5,1,2,3,1,0,3,4,1,0,0,0,1,0,4,0,2,0,0,2,1,0,0,0,0,3,0,0,2,3,1,3,0,1,0,3,1,2,0,0,0,0,1,0,0,1,0,0,2,2,1,0,1,1,5,0,2,0,2,5,2,0,0,0,0,0,1,2,1,0,3,0,2,1,2,1,1,1,1,1,1,1,0,1,3,2,1,2,1,2,5,3,0,0,0,0,0,0,1,3,0,1,0,3,1,5,1,3,1,0,0,1,2,2,1,3,3,3,0,3,0,2,0,0,0,1,2,2,3,2,1,0,2,4,1,0,0,1,2,3,2,0,3,1,1,0,1,0,0,2,1,0,0,0,0,3,2,1,0,2,0,0,0,0,1,2,0,1,0,1,0,1,3,0,0,0,0,0,1,0,1,1,3,4,1,2,0,1,1,1,0,0,2,0,1,1,0,0,3,2,1,1,1,2,5,0,0,0,0,0,3,0,4,4,2,0,0,1,2,3,1,0,0,0,0,2,1,3,1,3,3,3,0,1,5,2,1,3,0,2,3,1,1,0,0,2,1,0,5,0,0,0,3,1,0,0,0,1,3,0,2,2,3,0,0,1,0,0,0,3,1,4,3,0,2,0,0,1,2,1,0,1,0,0,2,2,1,1,2,0,2,2,0,1,1,0,0,1,0,0,1,1,2,3,0,1,0,2,1,1,0,0,3,0,0,1,2,2,2,0,1,3,1,2,2,1,1,1,2,0,2,1,0,0,2,1,3,1,2,0,0,1,1,2,2,0,0,3,0,3,0,2,0,0,0,3,1,2,2,3,0,0,5,3,4,0,1,0,0,0,4,0,0,3,1,3,0,0,1,1,1,2,0,0,0,0,3,1,0,5,1,0,0,0,0,1,2,0,2,0,1,1,0,0,1,2,1,2,0,0,3,0,1,0,2,2,1,0,3,1,0,2,0,0,4,0,2,1,0,1,2,3,1,0,4,2,3,0,0,2,1,0,0,1,2,2,2,0,3,3,0,0,0,0],\"legendgroup\":\"\",\"name\":\"\",\"showlegend\":true,\"type\":\"pie\"}],                        {\"template\":{\"data\":{\"barpolar\":[{\"marker\":{\"line\":{\"color\":\"rgb(17,17,17)\",\"width\":0.5},\"pattern\":{\"fillmode\":\"overlay\",\"size\":10,\"solidity\":0.2}},\"type\":\"barpolar\"}],\"bar\":[{\"error_x\":{\"color\":\"#f2f5fa\"},\"error_y\":{\"color\":\"#f2f5fa\"},\"marker\":{\"line\":{\"color\":\"rgb(17,17,17)\",\"width\":0.5},\"pattern\":{\"fillmode\":\"overlay\",\"size\":10,\"solidity\":0.2}},\"type\":\"bar\"}],\"carpet\":[{\"aaxis\":{\"endlinecolor\":\"#A2B1C6\",\"gridcolor\":\"#506784\",\"linecolor\":\"#506784\",\"minorgridcolor\":\"#506784\",\"startlinecolor\":\"#A2B1C6\"},\"baxis\":{\"endlinecolor\":\"#A2B1C6\",\"gridcolor\":\"#506784\",\"linecolor\":\"#506784\",\"minorgridcolor\":\"#506784\",\"startlinecolor\":\"#A2B1C6\"},\"type\":\"carpet\"}],\"choropleth\":[{\"colorbar\":{\"outlinewidth\":0,\"ticks\":\"\"},\"type\":\"choropleth\"}],\"contourcarpet\":[{\"colorbar\":{\"outlinewidth\":0,\"ticks\":\"\"},\"type\":\"contourcarpet\"}],\"contour\":[{\"colorbar\":{\"outlinewidth\":0,\"ticks\":\"\"},\"colorscale\":[[0.0,\"#0d0887\"],[0.1111111111111111,\"#46039f\"],[0.2222222222222222,\"#7201a8\"],[0.3333333333333333,\"#9c179e\"],[0.4444444444444444,\"#bd3786\"],[0.5555555555555556,\"#d8576b\"],[0.6666666666666666,\"#ed7953\"],[0.7777777777777778,\"#fb9f3a\"],[0.8888888888888888,\"#fdca26\"],[1.0,\"#f0f921\"]],\"type\":\"contour\"}],\"heatmapgl\":[{\"colorbar\":{\"outlinewidth\":0,\"ticks\":\"\"},\"colorscale\":[[0.0,\"#0d0887\"],[0.1111111111111111,\"#46039f\"],[0.2222222222222222,\"#7201a8\"],[0.3333333333333333,\"#9c179e\"],[0.4444444444444444,\"#bd3786\"],[0.5555555555555556,\"#d8576b\"],[0.6666666666666666,\"#ed7953\"],[0.7777777777777778,\"#fb9f3a\"],[0.8888888888888888,\"#fdca26\"],[1.0,\"#f0f921\"]],\"type\":\"heatmapgl\"}],\"heatmap\":[{\"colorbar\":{\"outlinewidth\":0,\"ticks\":\"\"},\"colorscale\":[[0.0,\"#0d0887\"],[0.1111111111111111,\"#46039f\"],[0.2222222222222222,\"#7201a8\"],[0.3333333333333333,\"#9c179e\"],[0.4444444444444444,\"#bd3786\"],[0.5555555555555556,\"#d8576b\"],[0.6666666666666666,\"#ed7953\"],[0.7777777777777778,\"#fb9f3a\"],[0.8888888888888888,\"#fdca26\"],[1.0,\"#f0f921\"]],\"type\":\"heatmap\"}],\"histogram2dcontour\":[{\"colorbar\":{\"outlinewidth\":0,\"ticks\":\"\"},\"colorscale\":[[0.0,\"#0d0887\"],[0.1111111111111111,\"#46039f\"],[0.2222222222222222,\"#7201a8\"],[0.3333333333333333,\"#9c179e\"],[0.4444444444444444,\"#bd3786\"],[0.5555555555555556,\"#d8576b\"],[0.6666666666666666,\"#ed7953\"],[0.7777777777777778,\"#fb9f3a\"],[0.8888888888888888,\"#fdca26\"],[1.0,\"#f0f921\"]],\"type\":\"histogram2dcontour\"}],\"histogram2d\":[{\"colorbar\":{\"outlinewidth\":0,\"ticks\":\"\"},\"colorscale\":[[0.0,\"#0d0887\"],[0.1111111111111111,\"#46039f\"],[0.2222222222222222,\"#7201a8\"],[0.3333333333333333,\"#9c179e\"],[0.4444444444444444,\"#bd3786\"],[0.5555555555555556,\"#d8576b\"],[0.6666666666666666,\"#ed7953\"],[0.7777777777777778,\"#fb9f3a\"],[0.8888888888888888,\"#fdca26\"],[1.0,\"#f0f921\"]],\"type\":\"histogram2d\"}],\"histogram\":[{\"marker\":{\"pattern\":{\"fillmode\":\"overlay\",\"size\":10,\"solidity\":0.2}},\"type\":\"histogram\"}],\"mesh3d\":[{\"colorbar\":{\"outlinewidth\":0,\"ticks\":\"\"},\"type\":\"mesh3d\"}],\"parcoords\":[{\"line\":{\"colorbar\":{\"outlinewidth\":0,\"ticks\":\"\"}},\"type\":\"parcoords\"}],\"pie\":[{\"automargin\":true,\"type\":\"pie\"}],\"scatter3d\":[{\"line\":{\"colorbar\":{\"outlinewidth\":0,\"ticks\":\"\"}},\"marker\":{\"colorbar\":{\"outlinewidth\":0,\"ticks\":\"\"}},\"type\":\"scatter3d\"}],\"scattercarpet\":[{\"marker\":{\"colorbar\":{\"outlinewidth\":0,\"ticks\":\"\"}},\"type\":\"scattercarpet\"}],\"scattergeo\":[{\"marker\":{\"colorbar\":{\"outlinewidth\":0,\"ticks\":\"\"}},\"type\":\"scattergeo\"}],\"scattergl\":[{\"marker\":{\"line\":{\"color\":\"#283442\"}},\"type\":\"scattergl\"}],\"scattermapbox\":[{\"marker\":{\"colorbar\":{\"outlinewidth\":0,\"ticks\":\"\"}},\"type\":\"scattermapbox\"}],\"scatterpolargl\":[{\"marker\":{\"colorbar\":{\"outlinewidth\":0,\"ticks\":\"\"}},\"type\":\"scatterpolargl\"}],\"scatterpolar\":[{\"marker\":{\"colorbar\":{\"outlinewidth\":0,\"ticks\":\"\"}},\"type\":\"scatterpolar\"}],\"scatter\":[{\"marker\":{\"line\":{\"color\":\"#283442\"}},\"type\":\"scatter\"}],\"scatterternary\":[{\"marker\":{\"colorbar\":{\"outlinewidth\":0,\"ticks\":\"\"}},\"type\":\"scatterternary\"}],\"surface\":[{\"colorbar\":{\"outlinewidth\":0,\"ticks\":\"\"},\"colorscale\":[[0.0,\"#0d0887\"],[0.1111111111111111,\"#46039f\"],[0.2222222222222222,\"#7201a8\"],[0.3333333333333333,\"#9c179e\"],[0.4444444444444444,\"#bd3786\"],[0.5555555555555556,\"#d8576b\"],[0.6666666666666666,\"#ed7953\"],[0.7777777777777778,\"#fb9f3a\"],[0.8888888888888888,\"#fdca26\"],[1.0,\"#f0f921\"]],\"type\":\"surface\"}],\"table\":[{\"cells\":{\"fill\":{\"color\":\"#506784\"},\"line\":{\"color\":\"rgb(17,17,17)\"}},\"header\":{\"fill\":{\"color\":\"#2a3f5f\"},\"line\":{\"color\":\"rgb(17,17,17)\"}},\"type\":\"table\"}]},\"layout\":{\"annotationdefaults\":{\"arrowcolor\":\"#f2f5fa\",\"arrowhead\":0,\"arrowwidth\":1},\"autotypenumbers\":\"strict\",\"coloraxis\":{\"colorbar\":{\"outlinewidth\":0,\"ticks\":\"\"}},\"colorscale\":{\"diverging\":[[0,\"#8e0152\"],[0.1,\"#c51b7d\"],[0.2,\"#de77ae\"],[0.3,\"#f1b6da\"],[0.4,\"#fde0ef\"],[0.5,\"#f7f7f7\"],[0.6,\"#e6f5d0\"],[0.7,\"#b8e186\"],[0.8,\"#7fbc41\"],[0.9,\"#4d9221\"],[1,\"#276419\"]],\"sequential\":[[0.0,\"#0d0887\"],[0.1111111111111111,\"#46039f\"],[0.2222222222222222,\"#7201a8\"],[0.3333333333333333,\"#9c179e\"],[0.4444444444444444,\"#bd3786\"],[0.5555555555555556,\"#d8576b\"],[0.6666666666666666,\"#ed7953\"],[0.7777777777777778,\"#fb9f3a\"],[0.8888888888888888,\"#fdca26\"],[1.0,\"#f0f921\"]],\"sequentialminus\":[[0.0,\"#0d0887\"],[0.1111111111111111,\"#46039f\"],[0.2222222222222222,\"#7201a8\"],[0.3333333333333333,\"#9c179e\"],[0.4444444444444444,\"#bd3786\"],[0.5555555555555556,\"#d8576b\"],[0.6666666666666666,\"#ed7953\"],[0.7777777777777778,\"#fb9f3a\"],[0.8888888888888888,\"#fdca26\"],[1.0,\"#f0f921\"]]},\"colorway\":[\"#636efa\",\"#EF553B\",\"#00cc96\",\"#ab63fa\",\"#FFA15A\",\"#19d3f3\",\"#FF6692\",\"#B6E880\",\"#FF97FF\",\"#FECB52\"],\"font\":{\"color\":\"#f2f5fa\"},\"geo\":{\"bgcolor\":\"rgb(17,17,17)\",\"lakecolor\":\"rgb(17,17,17)\",\"landcolor\":\"rgb(17,17,17)\",\"showlakes\":true,\"showland\":true,\"subunitcolor\":\"#506784\"},\"hoverlabel\":{\"align\":\"left\"},\"hovermode\":\"closest\",\"mapbox\":{\"style\":\"dark\"},\"paper_bgcolor\":\"rgb(17,17,17)\",\"plot_bgcolor\":\"rgb(17,17,17)\",\"polar\":{\"angularaxis\":{\"gridcolor\":\"#506784\",\"linecolor\":\"#506784\",\"ticks\":\"\"},\"bgcolor\":\"rgb(17,17,17)\",\"radialaxis\":{\"gridcolor\":\"#506784\",\"linecolor\":\"#506784\",\"ticks\":\"\"}},\"scene\":{\"xaxis\":{\"backgroundcolor\":\"rgb(17,17,17)\",\"gridcolor\":\"#506784\",\"gridwidth\":2,\"linecolor\":\"#506784\",\"showbackground\":true,\"ticks\":\"\",\"zerolinecolor\":\"#C8D4E3\"},\"yaxis\":{\"backgroundcolor\":\"rgb(17,17,17)\",\"gridcolor\":\"#506784\",\"gridwidth\":2,\"linecolor\":\"#506784\",\"showbackground\":true,\"ticks\":\"\",\"zerolinecolor\":\"#C8D4E3\"},\"zaxis\":{\"backgroundcolor\":\"rgb(17,17,17)\",\"gridcolor\":\"#506784\",\"gridwidth\":2,\"linecolor\":\"#506784\",\"showbackground\":true,\"ticks\":\"\",\"zerolinecolor\":\"#C8D4E3\"}},\"shapedefaults\":{\"line\":{\"color\":\"#f2f5fa\"}},\"sliderdefaults\":{\"bgcolor\":\"#C8D4E3\",\"bordercolor\":\"rgb(17,17,17)\",\"borderwidth\":1,\"tickwidth\":0},\"ternary\":{\"aaxis\":{\"gridcolor\":\"#506784\",\"linecolor\":\"#506784\",\"ticks\":\"\"},\"baxis\":{\"gridcolor\":\"#506784\",\"linecolor\":\"#506784\",\"ticks\":\"\"},\"bgcolor\":\"rgb(17,17,17)\",\"caxis\":{\"gridcolor\":\"#506784\",\"linecolor\":\"#506784\",\"ticks\":\"\"}},\"title\":{\"x\":0.05},\"updatemenudefaults\":{\"bgcolor\":\"#506784\",\"borderwidth\":0},\"xaxis\":{\"automargin\":true,\"gridcolor\":\"#283442\",\"linecolor\":\"#506784\",\"ticks\":\"\",\"title\":{\"standoff\":15},\"zerolinecolor\":\"#283442\",\"zerolinewidth\":2},\"yaxis\":{\"automargin\":true,\"gridcolor\":\"#283442\",\"linecolor\":\"#506784\",\"ticks\":\"\",\"title\":{\"standoff\":15},\"zerolinecolor\":\"#283442\",\"zerolinewidth\":2}}},\"legend\":{\"tracegroupgap\":0},\"title\":{\"text\":\"Percentage of Children\"}},                        {\"responsive\": true}                    ).then(function(){\n",
              "                            \n",
              "var gd = document.getElementById('c1801804-aa77-4c27-abec-bb2279ee425f');\n",
              "var x = new MutationObserver(function (mutations, observer) {{\n",
              "        var display = window.getComputedStyle(gd).display;\n",
              "        if (!display || display === 'none') {{\n",
              "            console.log([gd, 'removed!']);\n",
              "            Plotly.purge(gd);\n",
              "            observer.disconnect();\n",
              "        }}\n",
              "}});\n",
              "\n",
              "// Listen for the removal of the full notebook cells\n",
              "var notebookContainer = gd.closest('#notebook-container');\n",
              "if (notebookContainer) {{\n",
              "    x.observe(notebookContainer, {childList: true});\n",
              "}}\n",
              "\n",
              "// Listen for the clearing of the current output cell\n",
              "var outputEl = gd.closest('.output');\n",
              "if (outputEl) {{\n",
              "    x.observe(outputEl, {childList: true});\n",
              "}}\n",
              "\n",
              "                        })                };                            </script>        </div>\n",
              "</body>\n",
              "</html>"
            ]
          },
          "metadata": {}
        }
      ]
    },
    {
      "cell_type": "markdown",
      "source": [
        "**Insights:**"
      ],
      "metadata": {
        "id": "VO5Ejm9IeTbz"
      }
    },
    {
      "cell_type": "markdown",
      "source": [
        "Now we can see a more uniform distribuition throughout the plot above\n",
        "\n",
        "Also we can understand how the data is distribuited over the attribuites"
      ],
      "metadata": {
        "id": "tN1cdtfheYbz"
      }
    },
    {
      "cell_type": "markdown",
      "source": [
        "#Exploratory Data Analysis (EDA)"
      ],
      "metadata": {
        "id": "yixQPLG2fuxK"
      }
    },
    {
      "cell_type": "markdown",
      "source": [
        "**How much each region pays**"
      ],
      "metadata": {
        "id": "X05R-r74nKSw"
      }
    },
    {
      "cell_type": "code",
      "source": [
        "# Get the average charge of each region\n",
        "avg_region = df2[['region', 'bmi', 'charges']].groupby('region').mean().round(2)\n",
        "avg_region\n"
      ],
      "metadata": {
        "colab": {
          "base_uri": "https://localhost:8080/",
          "height": 206
        },
        "id": "Iimq62zlnniS",
        "outputId": "d0396e7d-a77d-46c1-c9fb-16bbda5a4b6e"
      },
      "execution_count": 56,
      "outputs": [
        {
          "output_type": "execute_result",
          "data": {
            "text/plain": [
              "             bmi   charges\n",
              "region                    \n",
              "northeast  29.16  13455.10\n",
              "northwest  29.20  12450.84\n",
              "southeast  32.70  14607.79\n",
              "southwest  30.45  12271.46"
            ],
            "text/html": [
              "\n",
              "  <div id=\"df-b8e0f947-82c9-4907-8985-d8904f7e2db1\">\n",
              "    <div class=\"colab-df-container\">\n",
              "      <div>\n",
              "<style scoped>\n",
              "    .dataframe tbody tr th:only-of-type {\n",
              "        vertical-align: middle;\n",
              "    }\n",
              "\n",
              "    .dataframe tbody tr th {\n",
              "        vertical-align: top;\n",
              "    }\n",
              "\n",
              "    .dataframe thead th {\n",
              "        text-align: right;\n",
              "    }\n",
              "</style>\n",
              "<table border=\"1\" class=\"dataframe\">\n",
              "  <thead>\n",
              "    <tr style=\"text-align: right;\">\n",
              "      <th></th>\n",
              "      <th>bmi</th>\n",
              "      <th>charges</th>\n",
              "    </tr>\n",
              "    <tr>\n",
              "      <th>region</th>\n",
              "      <th></th>\n",
              "      <th></th>\n",
              "    </tr>\n",
              "  </thead>\n",
              "  <tbody>\n",
              "    <tr>\n",
              "      <th>northeast</th>\n",
              "      <td>29.16</td>\n",
              "      <td>13455.10</td>\n",
              "    </tr>\n",
              "    <tr>\n",
              "      <th>northwest</th>\n",
              "      <td>29.20</td>\n",
              "      <td>12450.84</td>\n",
              "    </tr>\n",
              "    <tr>\n",
              "      <th>southeast</th>\n",
              "      <td>32.70</td>\n",
              "      <td>14607.79</td>\n",
              "    </tr>\n",
              "    <tr>\n",
              "      <th>southwest</th>\n",
              "      <td>30.45</td>\n",
              "      <td>12271.46</td>\n",
              "    </tr>\n",
              "  </tbody>\n",
              "</table>\n",
              "</div>\n",
              "      <button class=\"colab-df-convert\" onclick=\"convertToInteractive('df-b8e0f947-82c9-4907-8985-d8904f7e2db1')\"\n",
              "              title=\"Convert this dataframe to an interactive table.\"\n",
              "              style=\"display:none;\">\n",
              "        \n",
              "  <svg xmlns=\"http://www.w3.org/2000/svg\" height=\"24px\"viewBox=\"0 0 24 24\"\n",
              "       width=\"24px\">\n",
              "    <path d=\"M0 0h24v24H0V0z\" fill=\"none\"/>\n",
              "    <path d=\"M18.56 5.44l.94 2.06.94-2.06 2.06-.94-2.06-.94-.94-2.06-.94 2.06-2.06.94zm-11 1L8.5 8.5l.94-2.06 2.06-.94-2.06-.94L8.5 2.5l-.94 2.06-2.06.94zm10 10l.94 2.06.94-2.06 2.06-.94-2.06-.94-.94-2.06-.94 2.06-2.06.94z\"/><path d=\"M17.41 7.96l-1.37-1.37c-.4-.4-.92-.59-1.43-.59-.52 0-1.04.2-1.43.59L10.3 9.45l-7.72 7.72c-.78.78-.78 2.05 0 2.83L4 21.41c.39.39.9.59 1.41.59.51 0 1.02-.2 1.41-.59l7.78-7.78 2.81-2.81c.8-.78.8-2.07 0-2.86zM5.41 20L4 18.59l7.72-7.72 1.47 1.35L5.41 20z\"/>\n",
              "  </svg>\n",
              "      </button>\n",
              "      \n",
              "  <style>\n",
              "    .colab-df-container {\n",
              "      display:flex;\n",
              "      flex-wrap:wrap;\n",
              "      gap: 12px;\n",
              "    }\n",
              "\n",
              "    .colab-df-convert {\n",
              "      background-color: #E8F0FE;\n",
              "      border: none;\n",
              "      border-radius: 50%;\n",
              "      cursor: pointer;\n",
              "      display: none;\n",
              "      fill: #1967D2;\n",
              "      height: 32px;\n",
              "      padding: 0 0 0 0;\n",
              "      width: 32px;\n",
              "    }\n",
              "\n",
              "    .colab-df-convert:hover {\n",
              "      background-color: #E2EBFA;\n",
              "      box-shadow: 0px 1px 2px rgba(60, 64, 67, 0.3), 0px 1px 3px 1px rgba(60, 64, 67, 0.15);\n",
              "      fill: #174EA6;\n",
              "    }\n",
              "\n",
              "    [theme=dark] .colab-df-convert {\n",
              "      background-color: #3B4455;\n",
              "      fill: #D2E3FC;\n",
              "    }\n",
              "\n",
              "    [theme=dark] .colab-df-convert:hover {\n",
              "      background-color: #434B5C;\n",
              "      box-shadow: 0px 1px 3px 1px rgba(0, 0, 0, 0.15);\n",
              "      filter: drop-shadow(0px 1px 2px rgba(0, 0, 0, 0.3));\n",
              "      fill: #FFFFFF;\n",
              "    }\n",
              "  </style>\n",
              "\n",
              "      <script>\n",
              "        const buttonEl =\n",
              "          document.querySelector('#df-b8e0f947-82c9-4907-8985-d8904f7e2db1 button.colab-df-convert');\n",
              "        buttonEl.style.display =\n",
              "          google.colab.kernel.accessAllowed ? 'block' : 'none';\n",
              "\n",
              "        async function convertToInteractive(key) {\n",
              "          const element = document.querySelector('#df-b8e0f947-82c9-4907-8985-d8904f7e2db1');\n",
              "          const dataTable =\n",
              "            await google.colab.kernel.invokeFunction('convertToInteractive',\n",
              "                                                     [key], {});\n",
              "          if (!dataTable) return;\n",
              "\n",
              "          const docLinkHtml = 'Like what you see? Visit the ' +\n",
              "            '<a target=\"_blank\" href=https://colab.research.google.com/notebooks/data_table.ipynb>data table notebook</a>'\n",
              "            + ' to learn more about interactive tables.';\n",
              "          element.innerHTML = '';\n",
              "          dataTable['output_type'] = 'display_data';\n",
              "          await google.colab.output.renderOutput(dataTable, element);\n",
              "          const docLink = document.createElement('div');\n",
              "          docLink.innerHTML = docLinkHtml;\n",
              "          element.appendChild(docLink);\n",
              "        }\n",
              "      </script>\n",
              "    </div>\n",
              "  </div>\n",
              "  "
            ]
          },
          "metadata": {},
          "execution_count": 56
        }
      ]
    },
    {
      "cell_type": "code",
      "source": [
        "# How many samples are in each region\n",
        "count_region = df2[['region', 'charges']].groupby('region').count()\n",
        "count_region"
      ],
      "metadata": {
        "colab": {
          "base_uri": "https://localhost:8080/",
          "height": 206
        },
        "id": "bVR4Q3O5nuuy",
        "outputId": "d1b87259-6575-42d0-d900-a2b8ec94632f"
      },
      "execution_count": 57,
      "outputs": [
        {
          "output_type": "execute_result",
          "data": {
            "text/plain": [
              "           charges\n",
              "region            \n",
              "northeast      322\n",
              "northwest      324\n",
              "southeast      348\n",
              "southwest      322"
            ],
            "text/html": [
              "\n",
              "  <div id=\"df-d08625b5-a080-4daf-a78b-8200fc46a0a1\">\n",
              "    <div class=\"colab-df-container\">\n",
              "      <div>\n",
              "<style scoped>\n",
              "    .dataframe tbody tr th:only-of-type {\n",
              "        vertical-align: middle;\n",
              "    }\n",
              "\n",
              "    .dataframe tbody tr th {\n",
              "        vertical-align: top;\n",
              "    }\n",
              "\n",
              "    .dataframe thead th {\n",
              "        text-align: right;\n",
              "    }\n",
              "</style>\n",
              "<table border=\"1\" class=\"dataframe\">\n",
              "  <thead>\n",
              "    <tr style=\"text-align: right;\">\n",
              "      <th></th>\n",
              "      <th>charges</th>\n",
              "    </tr>\n",
              "    <tr>\n",
              "      <th>region</th>\n",
              "      <th></th>\n",
              "    </tr>\n",
              "  </thead>\n",
              "  <tbody>\n",
              "    <tr>\n",
              "      <th>northeast</th>\n",
              "      <td>322</td>\n",
              "    </tr>\n",
              "    <tr>\n",
              "      <th>northwest</th>\n",
              "      <td>324</td>\n",
              "    </tr>\n",
              "    <tr>\n",
              "      <th>southeast</th>\n",
              "      <td>348</td>\n",
              "    </tr>\n",
              "    <tr>\n",
              "      <th>southwest</th>\n",
              "      <td>322</td>\n",
              "    </tr>\n",
              "  </tbody>\n",
              "</table>\n",
              "</div>\n",
              "      <button class=\"colab-df-convert\" onclick=\"convertToInteractive('df-d08625b5-a080-4daf-a78b-8200fc46a0a1')\"\n",
              "              title=\"Convert this dataframe to an interactive table.\"\n",
              "              style=\"display:none;\">\n",
              "        \n",
              "  <svg xmlns=\"http://www.w3.org/2000/svg\" height=\"24px\"viewBox=\"0 0 24 24\"\n",
              "       width=\"24px\">\n",
              "    <path d=\"M0 0h24v24H0V0z\" fill=\"none\"/>\n",
              "    <path d=\"M18.56 5.44l.94 2.06.94-2.06 2.06-.94-2.06-.94-.94-2.06-.94 2.06-2.06.94zm-11 1L8.5 8.5l.94-2.06 2.06-.94-2.06-.94L8.5 2.5l-.94 2.06-2.06.94zm10 10l.94 2.06.94-2.06 2.06-.94-2.06-.94-.94-2.06-.94 2.06-2.06.94z\"/><path d=\"M17.41 7.96l-1.37-1.37c-.4-.4-.92-.59-1.43-.59-.52 0-1.04.2-1.43.59L10.3 9.45l-7.72 7.72c-.78.78-.78 2.05 0 2.83L4 21.41c.39.39.9.59 1.41.59.51 0 1.02-.2 1.41-.59l7.78-7.78 2.81-2.81c.8-.78.8-2.07 0-2.86zM5.41 20L4 18.59l7.72-7.72 1.47 1.35L5.41 20z\"/>\n",
              "  </svg>\n",
              "      </button>\n",
              "      \n",
              "  <style>\n",
              "    .colab-df-container {\n",
              "      display:flex;\n",
              "      flex-wrap:wrap;\n",
              "      gap: 12px;\n",
              "    }\n",
              "\n",
              "    .colab-df-convert {\n",
              "      background-color: #E8F0FE;\n",
              "      border: none;\n",
              "      border-radius: 50%;\n",
              "      cursor: pointer;\n",
              "      display: none;\n",
              "      fill: #1967D2;\n",
              "      height: 32px;\n",
              "      padding: 0 0 0 0;\n",
              "      width: 32px;\n",
              "    }\n",
              "\n",
              "    .colab-df-convert:hover {\n",
              "      background-color: #E2EBFA;\n",
              "      box-shadow: 0px 1px 2px rgba(60, 64, 67, 0.3), 0px 1px 3px 1px rgba(60, 64, 67, 0.15);\n",
              "      fill: #174EA6;\n",
              "    }\n",
              "\n",
              "    [theme=dark] .colab-df-convert {\n",
              "      background-color: #3B4455;\n",
              "      fill: #D2E3FC;\n",
              "    }\n",
              "\n",
              "    [theme=dark] .colab-df-convert:hover {\n",
              "      background-color: #434B5C;\n",
              "      box-shadow: 0px 1px 3px 1px rgba(0, 0, 0, 0.15);\n",
              "      filter: drop-shadow(0px 1px 2px rgba(0, 0, 0, 0.3));\n",
              "      fill: #FFFFFF;\n",
              "    }\n",
              "  </style>\n",
              "\n",
              "      <script>\n",
              "        const buttonEl =\n",
              "          document.querySelector('#df-d08625b5-a080-4daf-a78b-8200fc46a0a1 button.colab-df-convert');\n",
              "        buttonEl.style.display =\n",
              "          google.colab.kernel.accessAllowed ? 'block' : 'none';\n",
              "\n",
              "        async function convertToInteractive(key) {\n",
              "          const element = document.querySelector('#df-d08625b5-a080-4daf-a78b-8200fc46a0a1');\n",
              "          const dataTable =\n",
              "            await google.colab.kernel.invokeFunction('convertToInteractive',\n",
              "                                                     [key], {});\n",
              "          if (!dataTable) return;\n",
              "\n",
              "          const docLinkHtml = 'Like what you see? Visit the ' +\n",
              "            '<a target=\"_blank\" href=https://colab.research.google.com/notebooks/data_table.ipynb>data table notebook</a>'\n",
              "            + ' to learn more about interactive tables.';\n",
              "          element.innerHTML = '';\n",
              "          dataTable['output_type'] = 'display_data';\n",
              "          await google.colab.output.renderOutput(dataTable, element);\n",
              "          const docLink = document.createElement('div');\n",
              "          docLink.innerHTML = docLinkHtml;\n",
              "          element.appendChild(docLink);\n",
              "        }\n",
              "      </script>\n",
              "    </div>\n",
              "  </div>\n",
              "  "
            ]
          },
          "metadata": {},
          "execution_count": 57
        }
      ]
    },
    {
      "cell_type": "code",
      "source": [
        "# Add the count_region to the avg_region\n",
        "avg_region['count_values'] = count_region['charges']\n",
        "avg_region"
      ],
      "metadata": {
        "colab": {
          "base_uri": "https://localhost:8080/",
          "height": 206
        },
        "id": "GXClvpXqoY1u",
        "outputId": "7acc4ff5-a6d2-4347-bcf3-98ca2a79cfe4"
      },
      "execution_count": 59,
      "outputs": [
        {
          "output_type": "execute_result",
          "data": {
            "text/plain": [
              "             bmi   charges  count_values\n",
              "region                                  \n",
              "northeast  29.16  13455.10           322\n",
              "northwest  29.20  12450.84           324\n",
              "southeast  32.70  14607.79           348\n",
              "southwest  30.45  12271.46           322"
            ],
            "text/html": [
              "\n",
              "  <div id=\"df-b880e777-3e92-4a26-9484-7f125ed437be\">\n",
              "    <div class=\"colab-df-container\">\n",
              "      <div>\n",
              "<style scoped>\n",
              "    .dataframe tbody tr th:only-of-type {\n",
              "        vertical-align: middle;\n",
              "    }\n",
              "\n",
              "    .dataframe tbody tr th {\n",
              "        vertical-align: top;\n",
              "    }\n",
              "\n",
              "    .dataframe thead th {\n",
              "        text-align: right;\n",
              "    }\n",
              "</style>\n",
              "<table border=\"1\" class=\"dataframe\">\n",
              "  <thead>\n",
              "    <tr style=\"text-align: right;\">\n",
              "      <th></th>\n",
              "      <th>bmi</th>\n",
              "      <th>charges</th>\n",
              "      <th>count_values</th>\n",
              "    </tr>\n",
              "    <tr>\n",
              "      <th>region</th>\n",
              "      <th></th>\n",
              "      <th></th>\n",
              "      <th></th>\n",
              "    </tr>\n",
              "  </thead>\n",
              "  <tbody>\n",
              "    <tr>\n",
              "      <th>northeast</th>\n",
              "      <td>29.16</td>\n",
              "      <td>13455.10</td>\n",
              "      <td>322</td>\n",
              "    </tr>\n",
              "    <tr>\n",
              "      <th>northwest</th>\n",
              "      <td>29.20</td>\n",
              "      <td>12450.84</td>\n",
              "      <td>324</td>\n",
              "    </tr>\n",
              "    <tr>\n",
              "      <th>southeast</th>\n",
              "      <td>32.70</td>\n",
              "      <td>14607.79</td>\n",
              "      <td>348</td>\n",
              "    </tr>\n",
              "    <tr>\n",
              "      <th>southwest</th>\n",
              "      <td>30.45</td>\n",
              "      <td>12271.46</td>\n",
              "      <td>322</td>\n",
              "    </tr>\n",
              "  </tbody>\n",
              "</table>\n",
              "</div>\n",
              "      <button class=\"colab-df-convert\" onclick=\"convertToInteractive('df-b880e777-3e92-4a26-9484-7f125ed437be')\"\n",
              "              title=\"Convert this dataframe to an interactive table.\"\n",
              "              style=\"display:none;\">\n",
              "        \n",
              "  <svg xmlns=\"http://www.w3.org/2000/svg\" height=\"24px\"viewBox=\"0 0 24 24\"\n",
              "       width=\"24px\">\n",
              "    <path d=\"M0 0h24v24H0V0z\" fill=\"none\"/>\n",
              "    <path d=\"M18.56 5.44l.94 2.06.94-2.06 2.06-.94-2.06-.94-.94-2.06-.94 2.06-2.06.94zm-11 1L8.5 8.5l.94-2.06 2.06-.94-2.06-.94L8.5 2.5l-.94 2.06-2.06.94zm10 10l.94 2.06.94-2.06 2.06-.94-2.06-.94-.94-2.06-.94 2.06-2.06.94z\"/><path d=\"M17.41 7.96l-1.37-1.37c-.4-.4-.92-.59-1.43-.59-.52 0-1.04.2-1.43.59L10.3 9.45l-7.72 7.72c-.78.78-.78 2.05 0 2.83L4 21.41c.39.39.9.59 1.41.59.51 0 1.02-.2 1.41-.59l7.78-7.78 2.81-2.81c.8-.78.8-2.07 0-2.86zM5.41 20L4 18.59l7.72-7.72 1.47 1.35L5.41 20z\"/>\n",
              "  </svg>\n",
              "      </button>\n",
              "      \n",
              "  <style>\n",
              "    .colab-df-container {\n",
              "      display:flex;\n",
              "      flex-wrap:wrap;\n",
              "      gap: 12px;\n",
              "    }\n",
              "\n",
              "    .colab-df-convert {\n",
              "      background-color: #E8F0FE;\n",
              "      border: none;\n",
              "      border-radius: 50%;\n",
              "      cursor: pointer;\n",
              "      display: none;\n",
              "      fill: #1967D2;\n",
              "      height: 32px;\n",
              "      padding: 0 0 0 0;\n",
              "      width: 32px;\n",
              "    }\n",
              "\n",
              "    .colab-df-convert:hover {\n",
              "      background-color: #E2EBFA;\n",
              "      box-shadow: 0px 1px 2px rgba(60, 64, 67, 0.3), 0px 1px 3px 1px rgba(60, 64, 67, 0.15);\n",
              "      fill: #174EA6;\n",
              "    }\n",
              "\n",
              "    [theme=dark] .colab-df-convert {\n",
              "      background-color: #3B4455;\n",
              "      fill: #D2E3FC;\n",
              "    }\n",
              "\n",
              "    [theme=dark] .colab-df-convert:hover {\n",
              "      background-color: #434B5C;\n",
              "      box-shadow: 0px 1px 3px 1px rgba(0, 0, 0, 0.15);\n",
              "      filter: drop-shadow(0px 1px 2px rgba(0, 0, 0, 0.3));\n",
              "      fill: #FFFFFF;\n",
              "    }\n",
              "  </style>\n",
              "\n",
              "      <script>\n",
              "        const buttonEl =\n",
              "          document.querySelector('#df-b880e777-3e92-4a26-9484-7f125ed437be button.colab-df-convert');\n",
              "        buttonEl.style.display =\n",
              "          google.colab.kernel.accessAllowed ? 'block' : 'none';\n",
              "\n",
              "        async function convertToInteractive(key) {\n",
              "          const element = document.querySelector('#df-b880e777-3e92-4a26-9484-7f125ed437be');\n",
              "          const dataTable =\n",
              "            await google.colab.kernel.invokeFunction('convertToInteractive',\n",
              "                                                     [key], {});\n",
              "          if (!dataTable) return;\n",
              "\n",
              "          const docLinkHtml = 'Like what you see? Visit the ' +\n",
              "            '<a target=\"_blank\" href=https://colab.research.google.com/notebooks/data_table.ipynb>data table notebook</a>'\n",
              "            + ' to learn more about interactive tables.';\n",
              "          element.innerHTML = '';\n",
              "          dataTable['output_type'] = 'display_data';\n",
              "          await google.colab.output.renderOutput(dataTable, element);\n",
              "          const docLink = document.createElement('div');\n",
              "          docLink.innerHTML = docLinkHtml;\n",
              "          element.appendChild(docLink);\n",
              "        }\n",
              "      </script>\n",
              "    </div>\n",
              "  </div>\n",
              "  "
            ]
          },
          "metadata": {},
          "execution_count": 59
        }
      ]
    },
    {
      "cell_type": "code",
      "source": [
        "px.bar(avg_region, y='charges', title='Average charges per region' , text_auto='$,.2f', template='plotly_dark')#text_auto (bool or string (default False)) – If True or a string, the x or y or z values will be displayed as text, depending on the orientation A string like '.2f' will be interpreted as a texttemplate numeric formatting directive."
      ],
      "metadata": {
        "colab": {
          "base_uri": "https://localhost:8080/",
          "height": 542
        },
        "id": "xN6ScfYvopcp",
        "outputId": "fde2218d-bd17-4e2a-a629-1eee4a0a7e3d"
      },
      "execution_count": 63,
      "outputs": [
        {
          "output_type": "display_data",
          "data": {
            "text/html": [
              "<html>\n",
              "<head><meta charset=\"utf-8\" /></head>\n",
              "<body>\n",
              "    <div>            <script src=\"https://cdnjs.cloudflare.com/ajax/libs/mathjax/2.7.5/MathJax.js?config=TeX-AMS-MML_SVG\"></script><script type=\"text/javascript\">if (window.MathJax) {MathJax.Hub.Config({SVG: {font: \"STIX-Web\"}});}</script>                <script type=\"text/javascript\">window.PlotlyConfig = {MathJaxConfig: 'local'};</script>\n",
              "        <script src=\"https://cdn.plot.ly/plotly-2.8.3.min.js\"></script>                <div id=\"8e9795ab-44c4-4611-982d-26babd29312f\" class=\"plotly-graph-div\" style=\"height:525px; width:100%;\"></div>            <script type=\"text/javascript\">                                    window.PLOTLYENV=window.PLOTLYENV || {};                                    if (document.getElementById(\"8e9795ab-44c4-4611-982d-26babd29312f\")) {                    Plotly.newPlot(                        \"8e9795ab-44c4-4611-982d-26babd29312f\",                        [{\"alignmentgroup\":\"True\",\"hovertemplate\":\"region=%{x}<br>charges=%{y}<extra></extra>\",\"legendgroup\":\"\",\"marker\":{\"color\":\"#636efa\",\"pattern\":{\"shape\":\"\"}},\"name\":\"\",\"offsetgroup\":\"\",\"orientation\":\"v\",\"showlegend\":false,\"textposition\":\"auto\",\"texttemplate\":\"%{y:$,.2f}\",\"x\":[\"northeast\",\"northwest\",\"southeast\",\"southwest\"],\"xaxis\":\"x\",\"y\":[13455.1,12450.84,14607.79,12271.46],\"yaxis\":\"y\",\"type\":\"bar\"}],                        {\"template\":{\"data\":{\"barpolar\":[{\"marker\":{\"line\":{\"color\":\"rgb(17,17,17)\",\"width\":0.5},\"pattern\":{\"fillmode\":\"overlay\",\"size\":10,\"solidity\":0.2}},\"type\":\"barpolar\"}],\"bar\":[{\"error_x\":{\"color\":\"#f2f5fa\"},\"error_y\":{\"color\":\"#f2f5fa\"},\"marker\":{\"line\":{\"color\":\"rgb(17,17,17)\",\"width\":0.5},\"pattern\":{\"fillmode\":\"overlay\",\"size\":10,\"solidity\":0.2}},\"type\":\"bar\"}],\"carpet\":[{\"aaxis\":{\"endlinecolor\":\"#A2B1C6\",\"gridcolor\":\"#506784\",\"linecolor\":\"#506784\",\"minorgridcolor\":\"#506784\",\"startlinecolor\":\"#A2B1C6\"},\"baxis\":{\"endlinecolor\":\"#A2B1C6\",\"gridcolor\":\"#506784\",\"linecolor\":\"#506784\",\"minorgridcolor\":\"#506784\",\"startlinecolor\":\"#A2B1C6\"},\"type\":\"carpet\"}],\"choropleth\":[{\"colorbar\":{\"outlinewidth\":0,\"ticks\":\"\"},\"type\":\"choropleth\"}],\"contourcarpet\":[{\"colorbar\":{\"outlinewidth\":0,\"ticks\":\"\"},\"type\":\"contourcarpet\"}],\"contour\":[{\"colorbar\":{\"outlinewidth\":0,\"ticks\":\"\"},\"colorscale\":[[0.0,\"#0d0887\"],[0.1111111111111111,\"#46039f\"],[0.2222222222222222,\"#7201a8\"],[0.3333333333333333,\"#9c179e\"],[0.4444444444444444,\"#bd3786\"],[0.5555555555555556,\"#d8576b\"],[0.6666666666666666,\"#ed7953\"],[0.7777777777777778,\"#fb9f3a\"],[0.8888888888888888,\"#fdca26\"],[1.0,\"#f0f921\"]],\"type\":\"contour\"}],\"heatmapgl\":[{\"colorbar\":{\"outlinewidth\":0,\"ticks\":\"\"},\"colorscale\":[[0.0,\"#0d0887\"],[0.1111111111111111,\"#46039f\"],[0.2222222222222222,\"#7201a8\"],[0.3333333333333333,\"#9c179e\"],[0.4444444444444444,\"#bd3786\"],[0.5555555555555556,\"#d8576b\"],[0.6666666666666666,\"#ed7953\"],[0.7777777777777778,\"#fb9f3a\"],[0.8888888888888888,\"#fdca26\"],[1.0,\"#f0f921\"]],\"type\":\"heatmapgl\"}],\"heatmap\":[{\"colorbar\":{\"outlinewidth\":0,\"ticks\":\"\"},\"colorscale\":[[0.0,\"#0d0887\"],[0.1111111111111111,\"#46039f\"],[0.2222222222222222,\"#7201a8\"],[0.3333333333333333,\"#9c179e\"],[0.4444444444444444,\"#bd3786\"],[0.5555555555555556,\"#d8576b\"],[0.6666666666666666,\"#ed7953\"],[0.7777777777777778,\"#fb9f3a\"],[0.8888888888888888,\"#fdca26\"],[1.0,\"#f0f921\"]],\"type\":\"heatmap\"}],\"histogram2dcontour\":[{\"colorbar\":{\"outlinewidth\":0,\"ticks\":\"\"},\"colorscale\":[[0.0,\"#0d0887\"],[0.1111111111111111,\"#46039f\"],[0.2222222222222222,\"#7201a8\"],[0.3333333333333333,\"#9c179e\"],[0.4444444444444444,\"#bd3786\"],[0.5555555555555556,\"#d8576b\"],[0.6666666666666666,\"#ed7953\"],[0.7777777777777778,\"#fb9f3a\"],[0.8888888888888888,\"#fdca26\"],[1.0,\"#f0f921\"]],\"type\":\"histogram2dcontour\"}],\"histogram2d\":[{\"colorbar\":{\"outlinewidth\":0,\"ticks\":\"\"},\"colorscale\":[[0.0,\"#0d0887\"],[0.1111111111111111,\"#46039f\"],[0.2222222222222222,\"#7201a8\"],[0.3333333333333333,\"#9c179e\"],[0.4444444444444444,\"#bd3786\"],[0.5555555555555556,\"#d8576b\"],[0.6666666666666666,\"#ed7953\"],[0.7777777777777778,\"#fb9f3a\"],[0.8888888888888888,\"#fdca26\"],[1.0,\"#f0f921\"]],\"type\":\"histogram2d\"}],\"histogram\":[{\"marker\":{\"pattern\":{\"fillmode\":\"overlay\",\"size\":10,\"solidity\":0.2}},\"type\":\"histogram\"}],\"mesh3d\":[{\"colorbar\":{\"outlinewidth\":0,\"ticks\":\"\"},\"type\":\"mesh3d\"}],\"parcoords\":[{\"line\":{\"colorbar\":{\"outlinewidth\":0,\"ticks\":\"\"}},\"type\":\"parcoords\"}],\"pie\":[{\"automargin\":true,\"type\":\"pie\"}],\"scatter3d\":[{\"line\":{\"colorbar\":{\"outlinewidth\":0,\"ticks\":\"\"}},\"marker\":{\"colorbar\":{\"outlinewidth\":0,\"ticks\":\"\"}},\"type\":\"scatter3d\"}],\"scattercarpet\":[{\"marker\":{\"colorbar\":{\"outlinewidth\":0,\"ticks\":\"\"}},\"type\":\"scattercarpet\"}],\"scattergeo\":[{\"marker\":{\"colorbar\":{\"outlinewidth\":0,\"ticks\":\"\"}},\"type\":\"scattergeo\"}],\"scattergl\":[{\"marker\":{\"line\":{\"color\":\"#283442\"}},\"type\":\"scattergl\"}],\"scattermapbox\":[{\"marker\":{\"colorbar\":{\"outlinewidth\":0,\"ticks\":\"\"}},\"type\":\"scattermapbox\"}],\"scatterpolargl\":[{\"marker\":{\"colorbar\":{\"outlinewidth\":0,\"ticks\":\"\"}},\"type\":\"scatterpolargl\"}],\"scatterpolar\":[{\"marker\":{\"colorbar\":{\"outlinewidth\":0,\"ticks\":\"\"}},\"type\":\"scatterpolar\"}],\"scatter\":[{\"marker\":{\"line\":{\"color\":\"#283442\"}},\"type\":\"scatter\"}],\"scatterternary\":[{\"marker\":{\"colorbar\":{\"outlinewidth\":0,\"ticks\":\"\"}},\"type\":\"scatterternary\"}],\"surface\":[{\"colorbar\":{\"outlinewidth\":0,\"ticks\":\"\"},\"colorscale\":[[0.0,\"#0d0887\"],[0.1111111111111111,\"#46039f\"],[0.2222222222222222,\"#7201a8\"],[0.3333333333333333,\"#9c179e\"],[0.4444444444444444,\"#bd3786\"],[0.5555555555555556,\"#d8576b\"],[0.6666666666666666,\"#ed7953\"],[0.7777777777777778,\"#fb9f3a\"],[0.8888888888888888,\"#fdca26\"],[1.0,\"#f0f921\"]],\"type\":\"surface\"}],\"table\":[{\"cells\":{\"fill\":{\"color\":\"#506784\"},\"line\":{\"color\":\"rgb(17,17,17)\"}},\"header\":{\"fill\":{\"color\":\"#2a3f5f\"},\"line\":{\"color\":\"rgb(17,17,17)\"}},\"type\":\"table\"}]},\"layout\":{\"annotationdefaults\":{\"arrowcolor\":\"#f2f5fa\",\"arrowhead\":0,\"arrowwidth\":1},\"autotypenumbers\":\"strict\",\"coloraxis\":{\"colorbar\":{\"outlinewidth\":0,\"ticks\":\"\"}},\"colorscale\":{\"diverging\":[[0,\"#8e0152\"],[0.1,\"#c51b7d\"],[0.2,\"#de77ae\"],[0.3,\"#f1b6da\"],[0.4,\"#fde0ef\"],[0.5,\"#f7f7f7\"],[0.6,\"#e6f5d0\"],[0.7,\"#b8e186\"],[0.8,\"#7fbc41\"],[0.9,\"#4d9221\"],[1,\"#276419\"]],\"sequential\":[[0.0,\"#0d0887\"],[0.1111111111111111,\"#46039f\"],[0.2222222222222222,\"#7201a8\"],[0.3333333333333333,\"#9c179e\"],[0.4444444444444444,\"#bd3786\"],[0.5555555555555556,\"#d8576b\"],[0.6666666666666666,\"#ed7953\"],[0.7777777777777778,\"#fb9f3a\"],[0.8888888888888888,\"#fdca26\"],[1.0,\"#f0f921\"]],\"sequentialminus\":[[0.0,\"#0d0887\"],[0.1111111111111111,\"#46039f\"],[0.2222222222222222,\"#7201a8\"],[0.3333333333333333,\"#9c179e\"],[0.4444444444444444,\"#bd3786\"],[0.5555555555555556,\"#d8576b\"],[0.6666666666666666,\"#ed7953\"],[0.7777777777777778,\"#fb9f3a\"],[0.8888888888888888,\"#fdca26\"],[1.0,\"#f0f921\"]]},\"colorway\":[\"#636efa\",\"#EF553B\",\"#00cc96\",\"#ab63fa\",\"#FFA15A\",\"#19d3f3\",\"#FF6692\",\"#B6E880\",\"#FF97FF\",\"#FECB52\"],\"font\":{\"color\":\"#f2f5fa\"},\"geo\":{\"bgcolor\":\"rgb(17,17,17)\",\"lakecolor\":\"rgb(17,17,17)\",\"landcolor\":\"rgb(17,17,17)\",\"showlakes\":true,\"showland\":true,\"subunitcolor\":\"#506784\"},\"hoverlabel\":{\"align\":\"left\"},\"hovermode\":\"closest\",\"mapbox\":{\"style\":\"dark\"},\"paper_bgcolor\":\"rgb(17,17,17)\",\"plot_bgcolor\":\"rgb(17,17,17)\",\"polar\":{\"angularaxis\":{\"gridcolor\":\"#506784\",\"linecolor\":\"#506784\",\"ticks\":\"\"},\"bgcolor\":\"rgb(17,17,17)\",\"radialaxis\":{\"gridcolor\":\"#506784\",\"linecolor\":\"#506784\",\"ticks\":\"\"}},\"scene\":{\"xaxis\":{\"backgroundcolor\":\"rgb(17,17,17)\",\"gridcolor\":\"#506784\",\"gridwidth\":2,\"linecolor\":\"#506784\",\"showbackground\":true,\"ticks\":\"\",\"zerolinecolor\":\"#C8D4E3\"},\"yaxis\":{\"backgroundcolor\":\"rgb(17,17,17)\",\"gridcolor\":\"#506784\",\"gridwidth\":2,\"linecolor\":\"#506784\",\"showbackground\":true,\"ticks\":\"\",\"zerolinecolor\":\"#C8D4E3\"},\"zaxis\":{\"backgroundcolor\":\"rgb(17,17,17)\",\"gridcolor\":\"#506784\",\"gridwidth\":2,\"linecolor\":\"#506784\",\"showbackground\":true,\"ticks\":\"\",\"zerolinecolor\":\"#C8D4E3\"}},\"shapedefaults\":{\"line\":{\"color\":\"#f2f5fa\"}},\"sliderdefaults\":{\"bgcolor\":\"#C8D4E3\",\"bordercolor\":\"rgb(17,17,17)\",\"borderwidth\":1,\"tickwidth\":0},\"ternary\":{\"aaxis\":{\"gridcolor\":\"#506784\",\"linecolor\":\"#506784\",\"ticks\":\"\"},\"baxis\":{\"gridcolor\":\"#506784\",\"linecolor\":\"#506784\",\"ticks\":\"\"},\"bgcolor\":\"rgb(17,17,17)\",\"caxis\":{\"gridcolor\":\"#506784\",\"linecolor\":\"#506784\",\"ticks\":\"\"}},\"title\":{\"x\":0.05},\"updatemenudefaults\":{\"bgcolor\":\"#506784\",\"borderwidth\":0},\"xaxis\":{\"automargin\":true,\"gridcolor\":\"#283442\",\"linecolor\":\"#506784\",\"ticks\":\"\",\"title\":{\"standoff\":15},\"zerolinecolor\":\"#283442\",\"zerolinewidth\":2},\"yaxis\":{\"automargin\":true,\"gridcolor\":\"#283442\",\"linecolor\":\"#506784\",\"ticks\":\"\",\"title\":{\"standoff\":15},\"zerolinecolor\":\"#283442\",\"zerolinewidth\":2}}},\"xaxis\":{\"anchor\":\"y\",\"domain\":[0.0,1.0],\"title\":{\"text\":\"region\"}},\"yaxis\":{\"anchor\":\"x\",\"domain\":[0.0,1.0],\"title\":{\"text\":\"charges\"}},\"legend\":{\"tracegroupgap\":0},\"title\":{\"text\":\"Average charges per region\"},\"barmode\":\"relative\"},                        {\"responsive\": true}                    ).then(function(){\n",
              "                            \n",
              "var gd = document.getElementById('8e9795ab-44c4-4611-982d-26babd29312f');\n",
              "var x = new MutationObserver(function (mutations, observer) {{\n",
              "        var display = window.getComputedStyle(gd).display;\n",
              "        if (!display || display === 'none') {{\n",
              "            console.log([gd, 'removed!']);\n",
              "            Plotly.purge(gd);\n",
              "            observer.disconnect();\n",
              "        }}\n",
              "}});\n",
              "\n",
              "// Listen for the removal of the full notebook cells\n",
              "var notebookContainer = gd.closest('#notebook-container');\n",
              "if (notebookContainer) {{\n",
              "    x.observe(notebookContainer, {childList: true});\n",
              "}}\n",
              "\n",
              "// Listen for the clearing of the current output cell\n",
              "var outputEl = gd.closest('.output');\n",
              "if (outputEl) {{\n",
              "    x.observe(outputEl, {childList: true});\n",
              "}}\n",
              "\n",
              "                        })                };                            </script>        </div>\n",
              "</body>\n",
              "</html>"
            ]
          },
          "metadata": {}
        }
      ]
    },
    {
      "cell_type": "markdown",
      "source": [
        "# 💡 Insights:\n"
      ],
      "metadata": {
        "id": "hY7ezq6rq-uL"
      }
    },
    {
      "cell_type": "markdown",
      "source": [
        "Southeast is definetly being charged a bit more than the other regions.Why?\n",
        "\n",
        "The total samples from each region does not affect the information gathered\n"
      ],
      "metadata": {
        "id": "KmJR0UjcrLdJ"
      }
    },
    {
      "cell_type": "markdown",
      "source": [
        "# How is the BMI vs Region?"
      ],
      "metadata": {
        "id": "8ouTtEYHrUls"
      }
    },
    {
      "cell_type": "markdown",
      "source": [
        "Does the bmi influences in the region?"
      ],
      "metadata": {
        "id": "dOaBf01GrZb7"
      }
    },
    {
      "cell_type": "code",
      "source": [
        "# BMI and correlation\n",
        "df2[['bmi', 'charges']].corr().round(3)"
      ],
      "metadata": {
        "colab": {
          "base_uri": "https://localhost:8080/",
          "height": 112
        },
        "id": "g5BlvXbXpWir",
        "outputId": "d1d36c7a-aac7-4d96-8d33-8c9098c94954"
      },
      "execution_count": 64,
      "outputs": [
        {
          "output_type": "execute_result",
          "data": {
            "text/plain": [
              "           bmi  charges\n",
              "bmi      1.000    0.198\n",
              "charges  0.198    1.000"
            ],
            "text/html": [
              "\n",
              "  <div id=\"df-727afd04-66cc-4a02-9293-74251d45102e\">\n",
              "    <div class=\"colab-df-container\">\n",
              "      <div>\n",
              "<style scoped>\n",
              "    .dataframe tbody tr th:only-of-type {\n",
              "        vertical-align: middle;\n",
              "    }\n",
              "\n",
              "    .dataframe tbody tr th {\n",
              "        vertical-align: top;\n",
              "    }\n",
              "\n",
              "    .dataframe thead th {\n",
              "        text-align: right;\n",
              "    }\n",
              "</style>\n",
              "<table border=\"1\" class=\"dataframe\">\n",
              "  <thead>\n",
              "    <tr style=\"text-align: right;\">\n",
              "      <th></th>\n",
              "      <th>bmi</th>\n",
              "      <th>charges</th>\n",
              "    </tr>\n",
              "  </thead>\n",
              "  <tbody>\n",
              "    <tr>\n",
              "      <th>bmi</th>\n",
              "      <td>1.000</td>\n",
              "      <td>0.198</td>\n",
              "    </tr>\n",
              "    <tr>\n",
              "      <th>charges</th>\n",
              "      <td>0.198</td>\n",
              "      <td>1.000</td>\n",
              "    </tr>\n",
              "  </tbody>\n",
              "</table>\n",
              "</div>\n",
              "      <button class=\"colab-df-convert\" onclick=\"convertToInteractive('df-727afd04-66cc-4a02-9293-74251d45102e')\"\n",
              "              title=\"Convert this dataframe to an interactive table.\"\n",
              "              style=\"display:none;\">\n",
              "        \n",
              "  <svg xmlns=\"http://www.w3.org/2000/svg\" height=\"24px\"viewBox=\"0 0 24 24\"\n",
              "       width=\"24px\">\n",
              "    <path d=\"M0 0h24v24H0V0z\" fill=\"none\"/>\n",
              "    <path d=\"M18.56 5.44l.94 2.06.94-2.06 2.06-.94-2.06-.94-.94-2.06-.94 2.06-2.06.94zm-11 1L8.5 8.5l.94-2.06 2.06-.94-2.06-.94L8.5 2.5l-.94 2.06-2.06.94zm10 10l.94 2.06.94-2.06 2.06-.94-2.06-.94-.94-2.06-.94 2.06-2.06.94z\"/><path d=\"M17.41 7.96l-1.37-1.37c-.4-.4-.92-.59-1.43-.59-.52 0-1.04.2-1.43.59L10.3 9.45l-7.72 7.72c-.78.78-.78 2.05 0 2.83L4 21.41c.39.39.9.59 1.41.59.51 0 1.02-.2 1.41-.59l7.78-7.78 2.81-2.81c.8-.78.8-2.07 0-2.86zM5.41 20L4 18.59l7.72-7.72 1.47 1.35L5.41 20z\"/>\n",
              "  </svg>\n",
              "      </button>\n",
              "      \n",
              "  <style>\n",
              "    .colab-df-container {\n",
              "      display:flex;\n",
              "      flex-wrap:wrap;\n",
              "      gap: 12px;\n",
              "    }\n",
              "\n",
              "    .colab-df-convert {\n",
              "      background-color: #E8F0FE;\n",
              "      border: none;\n",
              "      border-radius: 50%;\n",
              "      cursor: pointer;\n",
              "      display: none;\n",
              "      fill: #1967D2;\n",
              "      height: 32px;\n",
              "      padding: 0 0 0 0;\n",
              "      width: 32px;\n",
              "    }\n",
              "\n",
              "    .colab-df-convert:hover {\n",
              "      background-color: #E2EBFA;\n",
              "      box-shadow: 0px 1px 2px rgba(60, 64, 67, 0.3), 0px 1px 3px 1px rgba(60, 64, 67, 0.15);\n",
              "      fill: #174EA6;\n",
              "    }\n",
              "\n",
              "    [theme=dark] .colab-df-convert {\n",
              "      background-color: #3B4455;\n",
              "      fill: #D2E3FC;\n",
              "    }\n",
              "\n",
              "    [theme=dark] .colab-df-convert:hover {\n",
              "      background-color: #434B5C;\n",
              "      box-shadow: 0px 1px 3px 1px rgba(0, 0, 0, 0.15);\n",
              "      filter: drop-shadow(0px 1px 2px rgba(0, 0, 0, 0.3));\n",
              "      fill: #FFFFFF;\n",
              "    }\n",
              "  </style>\n",
              "\n",
              "      <script>\n",
              "        const buttonEl =\n",
              "          document.querySelector('#df-727afd04-66cc-4a02-9293-74251d45102e button.colab-df-convert');\n",
              "        buttonEl.style.display =\n",
              "          google.colab.kernel.accessAllowed ? 'block' : 'none';\n",
              "\n",
              "        async function convertToInteractive(key) {\n",
              "          const element = document.querySelector('#df-727afd04-66cc-4a02-9293-74251d45102e');\n",
              "          const dataTable =\n",
              "            await google.colab.kernel.invokeFunction('convertToInteractive',\n",
              "                                                     [key], {});\n",
              "          if (!dataTable) return;\n",
              "\n",
              "          const docLinkHtml = 'Like what you see? Visit the ' +\n",
              "            '<a target=\"_blank\" href=https://colab.research.google.com/notebooks/data_table.ipynb>data table notebook</a>'\n",
              "            + ' to learn more about interactive tables.';\n",
              "          element.innerHTML = '';\n",
              "          dataTable['output_type'] = 'display_data';\n",
              "          await google.colab.output.renderOutput(dataTable, element);\n",
              "          const docLink = document.createElement('div');\n",
              "          docLink.innerHTML = docLinkHtml;\n",
              "          element.appendChild(docLink);\n",
              "        }\n",
              "      </script>\n",
              "    </div>\n",
              "  </div>\n",
              "  "
            ]
          },
          "metadata": {},
          "execution_count": 64
        }
      ]
    },
    {
      "cell_type": "markdown",
      "source": [
        "✔ The Body Mass Index correlates with charges.\n"
      ],
      "metadata": {
        "id": "4jcad8xSrpmk"
      }
    },
    {
      "cell_type": "code",
      "source": [
        "# Average BMI grouped by region\n",
        "\n",
        "avg_region[['bmi']]"
      ],
      "metadata": {
        "colab": {
          "base_uri": "https://localhost:8080/",
          "height": 206
        },
        "id": "IjrPd7n_rdVI",
        "outputId": "7054f99e-e314-43fd-f586-755630f69e74"
      },
      "execution_count": 65,
      "outputs": [
        {
          "output_type": "execute_result",
          "data": {
            "text/plain": [
              "             bmi\n",
              "region          \n",
              "northeast  29.16\n",
              "northwest  29.20\n",
              "southeast  32.70\n",
              "southwest  30.45"
            ],
            "text/html": [
              "\n",
              "  <div id=\"df-9770e8ba-a652-4107-a84b-9f84ff782376\">\n",
              "    <div class=\"colab-df-container\">\n",
              "      <div>\n",
              "<style scoped>\n",
              "    .dataframe tbody tr th:only-of-type {\n",
              "        vertical-align: middle;\n",
              "    }\n",
              "\n",
              "    .dataframe tbody tr th {\n",
              "        vertical-align: top;\n",
              "    }\n",
              "\n",
              "    .dataframe thead th {\n",
              "        text-align: right;\n",
              "    }\n",
              "</style>\n",
              "<table border=\"1\" class=\"dataframe\">\n",
              "  <thead>\n",
              "    <tr style=\"text-align: right;\">\n",
              "      <th></th>\n",
              "      <th>bmi</th>\n",
              "    </tr>\n",
              "    <tr>\n",
              "      <th>region</th>\n",
              "      <th></th>\n",
              "    </tr>\n",
              "  </thead>\n",
              "  <tbody>\n",
              "    <tr>\n",
              "      <th>northeast</th>\n",
              "      <td>29.16</td>\n",
              "    </tr>\n",
              "    <tr>\n",
              "      <th>northwest</th>\n",
              "      <td>29.20</td>\n",
              "    </tr>\n",
              "    <tr>\n",
              "      <th>southeast</th>\n",
              "      <td>32.70</td>\n",
              "    </tr>\n",
              "    <tr>\n",
              "      <th>southwest</th>\n",
              "      <td>30.45</td>\n",
              "    </tr>\n",
              "  </tbody>\n",
              "</table>\n",
              "</div>\n",
              "      <button class=\"colab-df-convert\" onclick=\"convertToInteractive('df-9770e8ba-a652-4107-a84b-9f84ff782376')\"\n",
              "              title=\"Convert this dataframe to an interactive table.\"\n",
              "              style=\"display:none;\">\n",
              "        \n",
              "  <svg xmlns=\"http://www.w3.org/2000/svg\" height=\"24px\"viewBox=\"0 0 24 24\"\n",
              "       width=\"24px\">\n",
              "    <path d=\"M0 0h24v24H0V0z\" fill=\"none\"/>\n",
              "    <path d=\"M18.56 5.44l.94 2.06.94-2.06 2.06-.94-2.06-.94-.94-2.06-.94 2.06-2.06.94zm-11 1L8.5 8.5l.94-2.06 2.06-.94-2.06-.94L8.5 2.5l-.94 2.06-2.06.94zm10 10l.94 2.06.94-2.06 2.06-.94-2.06-.94-.94-2.06-.94 2.06-2.06.94z\"/><path d=\"M17.41 7.96l-1.37-1.37c-.4-.4-.92-.59-1.43-.59-.52 0-1.04.2-1.43.59L10.3 9.45l-7.72 7.72c-.78.78-.78 2.05 0 2.83L4 21.41c.39.39.9.59 1.41.59.51 0 1.02-.2 1.41-.59l7.78-7.78 2.81-2.81c.8-.78.8-2.07 0-2.86zM5.41 20L4 18.59l7.72-7.72 1.47 1.35L5.41 20z\"/>\n",
              "  </svg>\n",
              "      </button>\n",
              "      \n",
              "  <style>\n",
              "    .colab-df-container {\n",
              "      display:flex;\n",
              "      flex-wrap:wrap;\n",
              "      gap: 12px;\n",
              "    }\n",
              "\n",
              "    .colab-df-convert {\n",
              "      background-color: #E8F0FE;\n",
              "      border: none;\n",
              "      border-radius: 50%;\n",
              "      cursor: pointer;\n",
              "      display: none;\n",
              "      fill: #1967D2;\n",
              "      height: 32px;\n",
              "      padding: 0 0 0 0;\n",
              "      width: 32px;\n",
              "    }\n",
              "\n",
              "    .colab-df-convert:hover {\n",
              "      background-color: #E2EBFA;\n",
              "      box-shadow: 0px 1px 2px rgba(60, 64, 67, 0.3), 0px 1px 3px 1px rgba(60, 64, 67, 0.15);\n",
              "      fill: #174EA6;\n",
              "    }\n",
              "\n",
              "    [theme=dark] .colab-df-convert {\n",
              "      background-color: #3B4455;\n",
              "      fill: #D2E3FC;\n",
              "    }\n",
              "\n",
              "    [theme=dark] .colab-df-convert:hover {\n",
              "      background-color: #434B5C;\n",
              "      box-shadow: 0px 1px 3px 1px rgba(0, 0, 0, 0.15);\n",
              "      filter: drop-shadow(0px 1px 2px rgba(0, 0, 0, 0.3));\n",
              "      fill: #FFFFFF;\n",
              "    }\n",
              "  </style>\n",
              "\n",
              "      <script>\n",
              "        const buttonEl =\n",
              "          document.querySelector('#df-9770e8ba-a652-4107-a84b-9f84ff782376 button.colab-df-convert');\n",
              "        buttonEl.style.display =\n",
              "          google.colab.kernel.accessAllowed ? 'block' : 'none';\n",
              "\n",
              "        async function convertToInteractive(key) {\n",
              "          const element = document.querySelector('#df-9770e8ba-a652-4107-a84b-9f84ff782376');\n",
              "          const dataTable =\n",
              "            await google.colab.kernel.invokeFunction('convertToInteractive',\n",
              "                                                     [key], {});\n",
              "          if (!dataTable) return;\n",
              "\n",
              "          const docLinkHtml = 'Like what you see? Visit the ' +\n",
              "            '<a target=\"_blank\" href=https://colab.research.google.com/notebooks/data_table.ipynb>data table notebook</a>'\n",
              "            + ' to learn more about interactive tables.';\n",
              "          element.innerHTML = '';\n",
              "          dataTable['output_type'] = 'display_data';\n",
              "          await google.colab.output.renderOutput(dataTable, element);\n",
              "          const docLink = document.createElement('div');\n",
              "          docLink.innerHTML = docLinkHtml;\n",
              "          element.appendChild(docLink);\n",
              "        }\n",
              "      </script>\n",
              "    </div>\n",
              "  </div>\n",
              "  "
            ]
          },
          "metadata": {},
          "execution_count": 65
        }
      ]
    },
    {
      "cell_type": "code",
      "source": [
        "px.scatter(df2, x='age', y='charges', color='bmi', title='Age vs Charge grouped by BMI', template='plotly_dark')"
      ],
      "metadata": {
        "colab": {
          "base_uri": "https://localhost:8080/",
          "height": 542
        },
        "id": "FeF2cW0qrxfu",
        "outputId": "43f6756d-5611-400f-e538-ae9ab877e725"
      },
      "execution_count": 66,
      "outputs": [
        {
          "output_type": "display_data",
          "data": {
            "text/html": [
              "<html>\n",
              "<head><meta charset=\"utf-8\" /></head>\n",
              "<body>\n",
              "    <div>            <script src=\"https://cdnjs.cloudflare.com/ajax/libs/mathjax/2.7.5/MathJax.js?config=TeX-AMS-MML_SVG\"></script><script type=\"text/javascript\">if (window.MathJax) {MathJax.Hub.Config({SVG: {font: \"STIX-Web\"}});}</script>                <script type=\"text/javascript\">window.PlotlyConfig = {MathJaxConfig: 'local'};</script>\n",
              "        <script src=\"https://cdn.plot.ly/plotly-2.8.3.min.js\"></script>                <div id=\"39d51f9f-bb25-47b7-85a0-de06dce9126c\" class=\"plotly-graph-div\" style=\"height:525px; width:100%;\"></div>            <script type=\"text/javascript\">                                    window.PLOTLYENV=window.PLOTLYENV || {};                                    if (document.getElementById(\"39d51f9f-bb25-47b7-85a0-de06dce9126c\")) {                    Plotly.newPlot(                        \"39d51f9f-bb25-47b7-85a0-de06dce9126c\",                        [{\"hovertemplate\":\"age=%{x}<br>charges=%{y}<br>bmi=%{marker.color}<extra></extra>\",\"legendgroup\":\"\",\"marker\":{\"color\":[27.9,33.77,33.0,22.705,28.88,25.74,33.44,27.74,29.83,25.84,26.22,26.29,34.4,39.82,42.13,24.6,30.78,23.845,40.3,35.3,36.005,32.4,34.1,31.92,28.025,27.72,23.085,32.775,17.385,36.3,35.6,26.315,28.6,28.31,36.4,20.425,32.965,20.8,36.67,39.9,26.6,36.63,21.78,30.8,37.05,37.3,38.665,34.77,24.53,35.2,35.625,33.63,28.0,34.43,28.69,36.955,31.825,31.68,22.88,37.335,27.36,33.66,24.7,25.935,22.42,28.9,39.1,26.315,36.19,23.98,24.75,28.5,28.1,32.01,27.4,34.01,29.59,35.53,39.805,32.965,26.885,38.285,37.62,41.23,34.8,22.895,31.16,27.2,27.74,26.98,39.49,24.795,29.83,34.77,31.3,37.62,30.8,38.28,19.95,19.3,31.6,25.46,30.115,29.92,27.5,28.025,28.4,30.875,27.94,35.09,33.63,29.7,30.8,35.72,32.205,28.595,27.94,27.17,23.37,37.1,23.75,28.975,31.35,33.915,28.785,28.3,37.4,17.765,34.7,26.505,22.04,35.9,25.555,28.785,28.05,34.1,25.175,31.9,36.0,22.42,32.49,25.3,29.735,28.69,38.83,30.495,37.73,37.43,28.4,24.13,29.7,37.145,23.37,25.46,39.52,24.42,25.175,35.53,27.83,26.6,36.85,39.6,29.8,29.64,28.215,37.0,33.155,31.825,18.905,41.47,30.3,34.8,33.345,37.7,27.835,29.2,28.9,33.155,28.595,38.28,19.95,26.41,30.69,41.895,29.92,30.9,32.2,32.11,31.57,26.2,25.74,26.6,34.43,30.59,32.8,28.6,18.05,39.33,32.11,32.23,24.035,36.08,22.3,28.88,26.4,27.74,31.8,41.23,33.0,30.875,28.5,26.73,30.9,37.1,26.6,23.1,29.92,23.21,33.7,33.25,30.8,34.8,24.64,33.88,38.06,41.91,31.635,25.46,36.195,27.83,17.8,27.5,24.51,22.22,26.73,38.39,29.07,38.06,36.67,22.135,26.8,35.3,27.74,30.02,38.06,35.86,20.9,28.975,17.29,32.2,34.21,30.3,31.825,25.365,33.63,40.15,24.415,31.92,25.2,26.84,24.32,36.955,38.06,42.35,19.8,32.395,30.2,25.84,29.37,34.2,37.05,27.455,27.55,26.6,20.615,24.3,31.79,21.56,28.12,40.565,27.645,32.395,31.2,26.62,26.22,36.765,26.4,33.4,29.64,28.82,26.8,22.99,27.7,25.41,34.39,28.88,27.55,22.61,37.51,33.0,38.0,33.345,27.5,33.33,34.865,33.06,26.6,24.7,35.97,35.86,31.4,33.25,32.205,32.775,27.645,37.335,25.27,29.64,30.8,40.945,27.2,34.105,23.21,36.48,33.8,36.7,36.385,27.36,31.16,28.785,35.72,34.5,25.74,27.55,32.3,27.72,27.6,30.02,27.55,36.765,41.47,29.26,35.75,33.345,29.92,27.835,23.18,25.6,27.7,35.245,38.28,27.6,43.89,29.83,41.91,20.79,32.3,30.5,21.7,26.4,21.89,30.78,32.3,24.985,32.015,30.4,21.09,22.23,33.155,32.9,33.33,28.31,24.89,40.15,30.115,31.46,17.955,30.685,33.0,43.34,22.135,34.4,39.05,25.365,22.61,30.21,35.625,37.43,31.445,31.35,32.3,19.855,34.4,31.02,25.6,38.17,20.6,32.965,32.3,20.4,38.38,24.31,23.6,21.12,30.03,17.48,20.235,17.195,23.9,35.15,35.64,34.1,22.6,39.16,26.98,33.88,35.86,32.775,30.59,30.2,24.31,27.265,29.165,16.815,30.4,33.1,20.235,26.9,30.5,28.595,33.11,31.73,28.9,29.45,32.68,33.5,43.01,36.52,26.695,33.1,29.64,25.65,29.6,38.6,29.6,24.13,23.4,29.735,37.4,30.14,30.495,39.6,33.0,36.63,30.0,38.095,25.935,25.175,28.38,28.7,33.82,24.32,24.09,32.67,30.115,29.8,33.345,25.1,28.31,28.5,35.625,36.85,32.56,41.325,37.51,31.35,39.5,34.3,31.065,21.47,28.7,38.06,31.16,32.9,25.08,25.08,43.4,25.7,27.93,23.6,28.7,23.98,39.2,34.4,26.03,23.21,30.25,28.93,30.875,31.35,23.75,25.27,28.7,32.11,33.66,22.42,30.4,28.3,35.7,35.31,30.495,31.0,30.875,27.36,44.22,33.915,37.73,26.07,33.88,30.59,25.8,39.425,25.46,42.13,31.73,29.7,36.19,40.48,28.025,38.9,30.2,28.05,31.35,38.0,31.79,36.3,30.21,25.84,35.435,28.595,30.8,28.93,21.4,31.73,41.325,23.8,33.44,34.21,34.105,35.53,19.95,32.68,30.5,44.77,32.12,30.495,40.565,30.59,31.9,40.565,29.1,37.29,43.12,36.86,34.295,27.17,26.84,38.095,30.2,23.465,25.46,23.65,20.7,28.27,20.235,30.21,35.91,30.69,29.0,19.57,31.13,21.85,40.26,33.725,29.48,33.25,32.6,37.525,39.16,31.635,25.3,39.05,28.31,34.1,25.175,23.655,26.98,37.8,29.37,34.8,33.155,19.0,33.0,36.63,28.595,25.6,33.11,37.1,31.4,34.1,21.3,33.535,28.785,26.03,28.88,42.46,38.0,38.95,36.1,29.3,35.53,22.705,39.7,38.19,24.51,38.095,26.41,33.66,42.4,28.31,33.915,34.96,35.31,30.78,26.22,23.37,28.5,32.965,42.68,39.6,31.13,36.3,35.2,25.3,42.4,33.155,35.91,28.785,23.98,31.54,33.66,22.99,38.06,28.7,32.775,32.015,29.81,31.57,31.16,29.7,31.02,43.89,21.375,40.81,31.35,36.1,23.18,17.4,20.3,35.3,24.32,18.5,26.41,26.125,41.69,24.1,31.13,27.36,36.2,32.395,23.655,34.8,40.185,32.3,35.75,33.725,39.27,34.87,44.745,41.47,26.41,29.545,32.9,38.06,28.69,30.495,27.74,35.2,23.54,30.685,40.47,22.6,28.9,22.61,24.32,36.67,33.44,40.66,36.6,37.4,35.4,27.075,39.05,28.405,21.755,40.28,36.08,24.42,21.4,30.1,27.265,32.1,34.77,38.39,23.7,31.73,35.5,24.035,29.15,34.105,26.62,26.41,30.115,27.0,21.755,36.0,30.875,26.4,28.975,37.905,22.77,33.63,27.645,22.8,27.83,37.43,38.17,34.58,35.2,27.1,26.03,25.175,31.825,32.3,29.0,39.7,19.475,36.1,26.7,36.48,28.88,34.2,33.33,32.3,39.805,34.32,28.88,24.4,41.14,35.97,27.6,29.26,27.7,36.955,36.86,22.515,29.92,41.8,27.6,23.18,20.9,31.92,28.5,44.22,22.895,33.1,24.795,26.18,35.97,22.3,42.24,26.51,35.815,41.42,36.575,30.14,25.84,30.8,42.94,21.01,22.515,34.43,31.46,24.225,37.1,26.125,35.53,33.7,17.67,31.13,29.81,24.32,31.825,31.79,28.025,30.78,21.85,33.1,25.84,23.845,34.39,33.82,35.97,31.5,28.31,23.465,31.35,31.1,24.7,32.78,29.81,30.495,32.45,34.2,24.1,32.775,30.78,32.3,35.53,23.75,23.845,29.6,33.11,24.13,32.23,28.1,28.0,33.535,19.855,25.4,29.9,37.29,43.7,23.655,24.3,36.2,29.48,24.86,30.1,21.85,28.12,27.1,33.44,28.8,29.5,34.8,27.36,22.135,37.05,26.695,28.93,28.975,30.02,39.5,33.63,26.885,29.04,24.035,38.94,32.11,44.0,20.045,25.555,40.26,22.515,22.515,40.92,27.265,36.85,35.1,29.355,32.585,32.34,39.8,24.6,28.31,31.73,26.695,27.5,24.605,33.99,26.885,22.895,28.2,34.21,25.0,33.2,31.0,35.815,23.2,32.11,23.4,20.1,39.16,34.21,32.5,25.8,35.3,37.18,27.5,29.735,24.225,26.18,29.48,23.21,40.185,22.61,39.93,35.8,35.8,34.2,31.255,29.7,18.335,42.9,28.405,30.2,27.835,39.49,30.8,26.79,34.96,36.67,39.615,25.9,35.2,24.795,36.765,27.1,24.795,25.365,25.745,34.32,28.16,23.56,20.235,40.5,35.42,22.895,40.15,29.15,39.995,29.92,25.46,21.375,25.9,30.59,30.115,25.8,30.115,27.645,34.675,20.52,19.8,27.835,31.6,28.27,20.045,23.275,34.1,36.85,36.29,26.885,22.99,32.7,25.8,29.6,19.19,31.73,29.26,28.215,24.985,27.74,22.8,20.13,33.33,32.3,27.6,25.46,24.605,34.2,35.815,32.68,37.0,31.02,36.08,23.32,34.6,26.03,18.715,31.6,17.29,23.655,35.2,27.93,21.565,38.38,23.0,37.07,30.495,28.88,27.265,28.025,23.085,30.685,25.8,35.245,24.7,25.08,22.515,30.9,36.955,26.41,29.83,29.8,21.47,27.645,28.9,31.79,39.49,33.82,32.01,27.94,41.14,28.595,25.6,25.3,37.29,42.655,21.66,31.9,37.07,31.445,31.255,28.88,18.335,29.59,32.0,26.03,31.68,33.66,21.78,27.835,19.95,31.5,30.495,18.3,28.975,31.54,22.1,36.19,29.83,32.7,30.4,33.7,31.35,34.96,33.77,30.875,33.99,19.095,28.6,38.94,36.08,29.8,31.24,29.925,26.22,30.0,20.35,32.3,38.39,25.85,26.315,24.51,32.67,29.64,33.33,35.75,19.95,31.4,38.17,36.86,32.395,42.75,25.08,29.9,35.86,32.8,18.6,23.87,40.28,18.335,33.82,28.12,25.0,22.23,30.25,32.49,37.07,32.6,24.86,32.34,32.3,32.775,32.8,31.92,21.5,34.1,30.305,36.48,32.56,35.815,27.93,22.135,44.88,23.18,30.59,41.1,34.58,42.13,38.83,28.215,28.31,26.125,40.37,24.6,35.2,34.105,27.36,26.7,41.91,29.26,32.11,27.1,24.13,27.4,34.865,29.81,41.325,29.925,30.3,27.36,28.49,23.56,35.625,32.68,25.27,28.0,32.775,21.755,32.395,36.575,21.755,27.93,30.02,33.55,29.355,25.8,24.32,40.375,32.11,32.3,27.28,17.86,34.8,33.4,25.555,37.1,30.875,34.1,21.47,33.3,31.255,39.14,25.08,37.29,34.6,30.21,21.945,24.97,25.3,24.42,23.94,39.82,16.815,37.18,34.43,30.305,34.485,21.8,24.605,23.3,27.83,31.065,21.66,28.215,22.705,42.13,41.8,36.96,21.28,33.11,33.33,24.3,25.7,29.4,39.82,33.63,29.83,19.8,27.3,29.3,27.72,37.9,36.385,27.645,37.715,23.18,20.52,37.1,28.05,29.9,33.345,23.76,30.5,31.065,33.3,27.5,33.915,34.485,25.52,27.61,27.06,23.7,30.4,29.735,29.925,26.79,33.33,27.645,21.66,30.03,36.3,24.32,17.29,25.9,39.4,34.32,19.95,34.9,23.21,25.745,25.175,22.0,26.125,26.51,27.455,25.745,30.36,30.875,20.8,27.8,24.605,27.72,21.85,28.12,30.2,32.2,26.315,26.695,42.9,34.7,23.655,28.31,20.6,39.71,26.315,31.065,26.695,38.83,40.37,25.935,33.535,32.87,30.03,24.225,38.6,25.74,33.4,44.7,30.97,31.92,36.85,25.8,29.07],\"coloraxis\":\"coloraxis\",\"symbol\":\"circle\"},\"mode\":\"markers\",\"name\":\"\",\"showlegend\":false,\"x\":[19,18,28,33,32,31,46,37,37,60,25,62,23,56,27,19,52,23,56,30,60,30,18,34,37,59,63,55,23,31,22,18,19,63,28,19,62,26,35,60,24,31,41,37,38,55,18,28,60,36,18,21,48,36,40,58,58,18,53,34,43,25,64,28,20,19,61,40,40,28,27,31,53,58,44,57,29,21,22,41,31,45,22,48,37,45,57,56,46,55,21,53,59,35,64,28,54,55,56,38,41,30,18,61,34,20,19,26,29,63,54,55,37,21,52,60,29,49,37,44,18,20,44,47,26,19,52,32,38,59,61,53,19,20,22,19,22,54,22,34,26,34,29,30,29,46,51,53,19,35,48,32,42,40,44,48,18,30,50,42,18,54,32,37,47,20,32,19,27,63,49,35,24,63,38,54,46,41,58,18,22,44,44,36,26,30,41,29,61,36,25,56,18,19,39,45,51,64,19,48,60,27,46,28,59,35,63,40,20,40,24,34,45,41,53,27,26,24,34,53,32,19,42,55,28,58,41,47,42,59,19,59,39,40,18,31,19,44,23,33,55,40,63,54,60,24,19,29,18,63,54,27,50,55,56,38,51,19,58,20,52,19,53,46,40,59,45,49,18,50,41,50,25,47,19,22,59,51,40,54,30,55,52,46,63,59,52,28,29,22,25,18,19,47,31,48,36,53,56,28,57,29,28,30,58,41,50,19,43,49,27,52,50,54,44,32,34,26,34,57,29,40,27,45,64,52,61,52,61,56,43,64,60,62,50,46,24,62,60,63,49,34,33,46,36,19,57,50,30,33,18,46,46,47,23,18,48,35,19,21,21,49,56,42,44,18,61,57,42,26,20,23,39,24,64,62,27,55,55,35,44,19,58,50,26,24,48,19,48,49,46,46,43,21,64,18,51,64,49,31,52,33,47,38,32,19,44,26,25,19,43,52,36,64,63,64,61,40,25,48,45,38,18,21,27,19,29,42,60,31,60,22,35,26,31,33,18,59,56,45,60,56,40,35,39,30,24,20,59,55,57,56,40,49,42,62,56,19,30,60,56,28,18,27,18,19,47,54,61,24,25,21,23,63,49,18,51,48,31,54,19,44,53,19,61,18,61,21,20,31,45,44,62,29,43,51,19,38,37,22,21,24,57,56,27,51,19,39,58,20,45,35,31,50,32,51,38,42,18,19,51,46,18,57,62,59,37,64,38,33,46,46,53,34,20,63,54,49,28,25,63,32,62,52,25,28,46,34,35,19,46,54,27,50,18,19,38,41,49,48,31,18,30,62,57,58,22,31,52,25,59,32,19,33,21,34,61,38,58,47,20,21,41,46,42,34,43,52,18,51,56,64,19,51,27,59,28,30,47,38,18,34,20,47,56,49,19,55,30,37,49,18,59,29,36,33,58,44,53,24,29,40,51,64,19,35,39,56,33,42,61,23,43,48,39,40,18,58,49,53,48,45,59,52,26,27,48,57,57,32,18,64,43,49,40,62,40,30,29,36,41,44,45,55,60,56,49,21,19,39,53,33,53,42,40,47,27,21,47,20,24,27,26,53,41,56,23,21,50,53,34,47,33,51,49,31,36,18,50,43,20,24,60,49,60,51,58,51,53,62,19,50,30,41,29,18,41,35,53,24,48,59,49,37,26,23,29,45,27,53,31,50,50,34,19,47,28,37,21,64,58,24,31,39,47,30,18,22,23,33,27,45,57,47,42,64,38,61,53,44,19,41,51,40,45,35,53,30,18,51,50,31,35,60,21,29,62,39,19,22,53,39,27,30,30,58,33,42,64,21,18,23,45,40,19,18,25,46,33,54,28,36,20,24,23,47,33,45,26,18,44,60,64,56,36,41,39,63,36,28,58,36,42,36,56,35,59,21,59,23,57,53,60,51,27,55,37,61,46,53,49,20,48,25,25,57,38,55,36,51,40,18,57,61,25,50,26,42,43,44,23,49,33,41,37,22,23,21,51,25,32,57,36,22,57,64,36,54,47,62,61,43,19,18,19,49,60,26,49,60,26,27,44,63,32,22,18,59,44,33,24,43,45,61,35,62,62,38,34,43,50,19,57,62,41,39,46,45,32,59,44,39,18,53,18,18,19,62,56,42,37,42,25,57,51,30,44,34,31,54,24,43,48,19,29,63,46,52,35,51,44,21,39,50,34,22,19,26,29,48,26,45,36,54,34,31,27,20,44,43,45,34,24,26,38,50,38,27,39,39,63,33,36,30,24,24,48,47,29,28,47,25,51,48,43,61,48,38,59,19,26,54,21,51,22,47,18,21,19,23,54,37,46,55,30,18,61,54,22,45,22,19,35,18,20,28,55,43,43,25,49,44,64,49,47,27,55,48,45,24,32,24,57,59,36,29,42,48,39,63,54,37,63,21,54,60,32,47,21,28,63,18,32,38,32,62,39,55,57,56,47,55,23,22,50,18,51,22,52,25,33,53,29,58,37,54,49,50,26,45,54,38,48,28,23,55,41,25,33,30,23,46,53,27,23,63,55,35,34,19,39,57,52,28,50,44,26,33,19,50,41,52,39,50,52,60,20,55,42,18,58,43,35,48,36,19,23,20,32,43,34,30,18,41,35,57,29,32,37,18,43,56,38,29,22,52,40,23,31,42,24,25,48,23,45,20,62,43,23,31,41,58,48,31,19,19,41,40,31,37,46,22,51,18,35,59,36,37,59,36,39,18,52,27,18,40,29,46,38,30,40,50,20,41,33,38,42,56,58,52,20,54,58,45,26,63,58,37,25,52,64,22,28,18,28,45,33,18,32,24,19,20,40,34,42,51,54,55,52,32,28,41,43,49,64,55,24,20,45,26,25,43,35,26,57,22,32,39,25,48,47,18,18,61,47,28,36,20,44,38,19,21,46,58,20,18,28,33,19,45,62,25,43,42,24,29,32,25,41,42,33,34,19,30,18,19,35,39,31,62,62,42,31,61,42,51,23,52,57,23,52,50,18,18,21,61],\"xaxis\":\"x\",\"y\":[16884.924,1725.5523,4449.462,21984.47061,3866.8552,3756.6216,8240.5896,7281.5056,6406.4107,28923.13692,2721.3208,27808.7251,1826.843,11090.7178,39611.7577,1837.237,10797.3362,2395.17155,10602.385,36837.467,13228.84695,4149.736,1137.011,37701.8768,6203.90175,14001.1338,14451.83515,12268.63225,2775.19215,38711.0,35585.576,2198.18985,4687.797,13770.0979,51194.55914,1625.43375,15612.19335,2302.3,39774.2763,48173.361,3046.062,4949.7587,6272.4772,6313.759,6079.6715,20630.28351,3393.35635,3556.9223,12629.8967,38709.176,2211.13075,3579.8287,23568.272,37742.5757,8059.6791,47496.49445,13607.36875,34303.1672,23244.7902,5989.52365,8606.2174,4504.6624,30166.61817,4133.64165,14711.7438,1743.214,14235.072,6389.37785,5920.1041,17663.1442,16577.7795,6799.458,11741.726,11946.6259,7726.854,11356.6609,3947.4131,1532.4697,2755.02095,6571.02435,4441.21315,7935.29115,37165.1638,11033.6617,39836.519,21098.55405,43578.9394,11073.176,8026.6666,11082.5772,2026.9741,10942.13205,30184.9367,5729.0053,47291.055,3766.8838,12105.32,10226.2842,22412.6485,15820.699,6186.127,3645.0894,21344.8467,30942.1918,5003.853,17560.37975,2331.519,3877.30425,2867.1196,47055.5321,10825.2537,11881.358,4646.759,2404.7338,11488.31695,30259.99556,19107.7796,8601.3293,6686.4313,7740.337,1705.6245,2257.47525,39556.4945,10115.00885,3385.39915,17081.08,9634.538,32734.1863,6082.405,12815.44495,13616.3586,11163.568,1632.56445,2457.21115,2155.6815,1261.442,2045.68525,27322.73386,2166.732,27375.90478,3490.5491,18972.495,18157.876,20745.9891,5138.2567,40720.55105,9877.6077,10959.6947,1842.519,5125.2157,7789.635,6334.34355,19964.7463,7077.1894,6948.7008,21223.6758,15518.18025,36950.2567,19749.38338,21348.706,36149.4835,10450.552,5152.134,5028.1466,10407.08585,4830.63,6128.79745,2719.27975,4827.90495,13405.3903,8116.68,5246.047,2855.43755,48824.45,6455.86265,10436.096,8823.279,8538.28845,11735.87905,1631.8212,4005.4225,7419.4779,7731.4271,43753.33705,3981.9768,5325.651,6775.961,4922.9159,12557.6053,4883.866,2137.6536,12044.342,1137.4697,1639.5631,5649.715,8516.829,9644.2525,14901.5167,2130.6759,8871.1517,13012.20865,37133.8982,7147.105,4337.7352,11743.299,20984.0936,13880.949,6610.1097,1980.07,8162.71625,3537.703,5002.7827,8520.026,7371.772,10355.641,2483.736,3392.9768,25081.76784,5012.471,10564.8845,5253.524,34779.615,19515.5416,11987.1682,2689.4954,24227.33724,7358.17565,9225.2564,7443.64305,14001.2867,1727.785,12333.828,6710.1919,19444.2658,1615.7667,4463.2051,17352.6803,7152.6714,38511.6283,5354.07465,35160.13457,7196.867,29523.1656,24476.47851,12648.7034,1986.9334,1832.094,4040.55825,12829.4551,47305.305,44260.7499,4260.744,41097.16175,13047.33235,43921.1837,5400.9805,11520.09985,33750.2918,11837.16,17085.2676,24869.8368,36219.40545,20462.99766,46151.1245,17179.522,14590.63205,7441.053,9282.4806,1719.4363,42856.838,7265.7025,9617.66245,2523.1695,9715.841,2803.69785,2150.469,12928.7911,9855.1314,22331.5668,48549.17835,4237.12655,11879.10405,9625.92,7742.1098,14256.1928,47896.79135,25992.82104,3172.018,20277.80751,2156.7518,3906.127,1704.5681,16297.846,21978.6769,38746.3551,9249.4952,6746.7425,24873.3849,12265.5069,4349.462,12646.207,19442.3535,20177.67113,4151.0287,11944.59435,7749.1564,8444.474,1737.376,42124.5153,8124.4084,34838.873,9722.7695,8835.26495,10435.06525,7421.19455,4667.60765,4894.7533,24671.66334,35491.64,11566.30055,2866.091,6600.20595,3561.8889,42760.5022,47928.03,9144.565,48517.56315,24393.6224,13429.0354,11658.37915,19144.57652,13822.803,12142.5786,13937.6665,41919.097,8232.6388,18955.22017,13352.0998,13217.0945,13981.85035,10977.2063,6184.2994,4889.9995,8334.45755,5478.0368,1635.73365,11830.6072,8932.084,3554.203,12404.8791,14133.03775,24603.04837,8944.1151,9620.3307,1837.2819,1607.5101,10043.249,4751.07,13844.506,2597.779,3180.5101,9778.3472,13430.265,8017.06115,8116.26885,3481.868,13415.0381,12029.2867,7639.41745,36085.219,1391.5287,18033.9679,21659.9301,38126.2465,16455.70785,27000.98473,15006.57945,42303.69215,20781.48892,5846.9176,8302.53565,1261.859,11856.4115,30284.64294,3176.8159,4618.0799,10736.87075,2138.0707,8964.06055,9290.1395,9411.005,7526.70645,8522.003,16586.49771,14988.432,1631.6683,9264.797,14692.66935,10269.46,3260.199,11396.9002,4185.0979,8539.671,6652.5288,4074.4537,1621.3402,19594.80965,14455.64405,5080.096,2134.9015,7345.7266,9140.951,18608.262,14418.2804,28950.4692,46889.2612,46599.1084,39125.33225,2727.3951,8968.33,9788.8659,6555.07035,7323.734819,3167.45585,18804.7524,23082.95533,4906.40965,5969.723,12638.195,4243.59005,13919.8229,2254.7967,5926.846,2897.3235,4738.2682,37079.372,1149.3959,28287.89766,26109.32905,7345.084,12730.9996,11454.0215,5910.944,4762.329,7512.267,4032.2407,1969.614,1769.53165,21797.0004,11881.9696,11840.77505,10601.412,7682.67,10381.4787,22144.032,15230.32405,11165.41765,1632.03625,19521.9682,13224.693,12643.3778,23288.9284,2201.0971,2497.0383,2203.47185,1744.465,20878.78443,25382.297,28868.6639,35147.52848,2534.39375,1534.3045,1824.2854,15555.18875,9304.7019,1622.1885,9880.068,9563.029,4347.02335,12475.3513,1253.936,48885.13561,10461.9794,1748.774,24513.09126,2196.4732,12574.049,17942.106,1967.0227,4931.647,8027.968,8211.1002,13470.86,36197.699,6837.3687,22218.1149,32548.3405,5974.3847,6796.86325,2643.2685,3077.0955,3044.2133,11455.28,11763.0009,2498.4144,9361.3268,1256.299,21082.16,11362.755,27724.28875,8413.46305,5240.765,3857.75925,25656.57526,3994.1778,9866.30485,5397.6167,38245.59327,11482.63485,24059.68019,9861.025,8342.90875,1708.0014,48675.5177,14043.4767,12925.886,19214.70553,13831.1152,6067.12675,5972.378,8825.086,8233.0975,27346.04207,6196.448,3056.3881,13887.204,10231.4999,23807.2406,3268.84665,3213.62205,13390.559,3972.9247,12957.118,11187.6567,17878.90068,3847.674,8334.5896,3935.1799,39983.42595,1646.4297,9193.8385,10923.9332,2494.022,9058.7303,2801.2588,2128.43105,6373.55735,7256.7231,11552.904,45702.02235,3761.292,2219.4451,4753.6368,31620.00106,13224.05705,12222.8983,1664.9996,58571.07448,9724.53,3206.49135,12913.9924,17626.23951,1242.816,4779.6023,3861.20965,43943.8761,13635.6379,5976.8311,11842.442,8428.0693,2566.4707,15359.1045,5709.1644,8823.98575,7640.3092,5594.8455,7441.501,33471.97189,1633.0444,9174.13565,11070.535,16085.1275,17468.9839,9283.562,3558.62025,25678.77845,4435.0942,39241.442,8547.6913,6571.544,2207.69745,6753.038,1880.07,42969.8527,11658.11505,23306.547,34439.8559,10713.644,3659.346,40182.246,9182.17,34617.84065,12129.61415,3736.4647,6748.5912,11326.71487,11365.952,42983.4585,10085.846,1977.815,3366.6697,7173.35995,9391.346,14410.9321,2709.1119,24915.04626,20149.3229,12949.1554,6666.243,32787.45859,13143.86485,4466.6214,18806.14547,10141.1362,6123.5688,8252.2843,1712.227,12430.95335,9800.8882,10579.711,8280.6227,8527.532,12244.531,24667.419,3410.324,4058.71245,26392.26029,14394.39815,22192.43711,5148.5526,1136.3994,27037.9141,42560.4304,8703.456,40003.33225,45710.20785,6500.2359,4837.5823,3943.5954,4399.731,6185.3208,46200.9851,7222.78625,12485.8009,46130.5265,12363.547,10156.7832,2585.269,1242.26,40103.89,9863.4718,4766.022,11244.3769,7729.64575,5438.7491,26236.57997,34806.4677,2104.1134,8068.185,2362.22905,2352.96845,3577.999,3201.24515,29186.48236,40273.6455,10976.24575,3500.6123,2020.5523,9541.69555,9504.3103,5385.3379,8930.93455,5375.038,44400.4064,10264.4421,6113.23105,5469.0066,1727.54,10107.2206,8310.83915,1984.4533,2457.502,12146.971,9566.9909,13112.6048,10848.1343,12231.6136,9875.6804,11264.541,12979.358,1263.249,10106.13425,40932.4295,6664.68595,16657.71745,2217.6012,6781.3542,19361.9988,10065.413,4234.927,9447.25035,14007.222,9583.8933,40419.0191,3484.331,36189.1017,44585.45587,8604.48365,18246.4955,43254.41795,3757.8448,8827.2099,9910.35985,11737.84884,1627.28245,8556.907,3062.50825,19539.243,1906.35825,14210.53595,11833.7823,17128.42608,5031.26955,7985.815,23065.4207,5428.7277,36307.7983,3925.7582,2416.955,19040.876,3070.8087,9095.06825,11842.62375,8062.764,7050.642,14319.031,6933.24225,27941.28758,11150.78,12797.20962,17748.5062,7261.741,10560.4917,6986.697,7448.40395,5934.3798,9869.8102,18259.216,1146.7966,9386.1613,24520.264,4350.5144,6414.178,12741.16745,1917.3184,5209.57885,13457.9608,5662.225,1252.407,2731.9122,21195.818,7209.4918,18310.742,4266.1658,4719.52405,11848.141,17904.52705,7046.7222,14313.8463,2103.08,38792.6856,1815.8759,7731.85785,28476.73499,2136.88225,1131.5066,3309.7926,9414.92,6360.9936,11013.7119,4428.88785,5584.3057,1877.9294,2842.76075,3597.596,23401.30575,55135.40209,7445.918,2680.9493,1621.8827,8219.2039,12523.6048,16069.08475,43813.8661,20773.62775,39597.4072,6117.4945,13393.756,5266.3656,4719.73655,11743.9341,5377.4578,7160.3303,4402.233,11657.7189,6402.29135,12622.1795,1526.312,12323.936,36021.0112,27533.9129,10072.05505,45008.9555,9872.701,2974.126,10601.63225,37270.1512,14119.62,42111.6647,11729.6795,24106.91255,1875.344,40974.1649,15817.9857,18218.16139,10965.446,7151.092,12269.68865,5458.04645,8782.469,6600.361,1141.4451,11576.13,13129.60345,4391.652,8457.818,3392.3652,5966.8874,6849.026,8891.1395,2690.1138,26140.3603,6653.7886,6282.235,6311.952,3443.064,2789.0574,2585.85065,46255.1125,4877.98105,19719.6947,27218.43725,5272.1758,1682.597,11945.1327,29330.98315,7243.8136,10422.91665,44202.6536,13555.0049,13063.883,19798.05455,2221.56445,1634.5734,2117.33885,8688.85885,48673.5588,4661.28635,8125.7845,12644.589,4564.19145,4846.92015,7633.7206,15170.069,17496.306,2639.0429,33732.6867,14382.70905,7626.993,5257.50795,2473.3341,21774.32215,35069.37452,13041.921,5245.2269,13451.122,13462.52,5488.262,4320.41085,6250.435,25333.33284,2913.569,12032.326,13470.8044,6289.7549,6238.298,10096.97,7348.142,4673.3922,12233.828,32108.66282,8965.79575,2304.0022,9487.6442,1121.8739,2217.46915,1628.4709,12982.8747,11674.13,7160.094,39047.285,6358.77645,19933.458,11534.87265,47462.894,4527.18295,38998.546,20009.63365,3875.7341,41999.52,12609.88702,41034.2214,28468.91901,2730.10785,3353.284,14474.675,9500.57305,26467.09737,4746.344,23967.38305,7518.02535,3279.86855,8596.8278,10702.6424,4992.3764,2527.81865,1759.338,2322.6218,16138.76205,7804.1605,2902.9065,9704.66805,4889.0368,25517.11363,4500.33925,19199.944,16796.41194,4915.05985,7624.63,8410.04685,28340.18885,4518.82625,14571.8908,3378.91,7144.86265,10118.424,5484.4673,16420.49455,7986.47525,7418.522,13887.9685,6551.7501,5267.81815,17361.7661,34472.841,1972.95,21232.18226,8627.5411,4433.3877,4438.2634,24915.22085,23241.47453,9957.7216,8269.044,18767.7377,36580.28216,8765.249,5383.536,12124.9924,2709.24395,3987.926,12495.29085,26018.95052,8798.593,35595.5898,42211.1382,1711.0268,2020.177,16450.8947,21595.38229,9850.432,6877.9801,21677.28345,44423.803,4137.5227,13747.87235,12950.0712,12094.478,37484.4493,39725.51805,2250.8352,22493.65964,20234.85475,1704.70015,33475.81715,3161.454,11394.06555,21880.82,7325.0482,3594.17085,39727.614,8023.13545,14394.5579,9288.0267,25309.489,3353.4703,10594.50155,8277.523,17929.30337,2480.9791,4462.7218,1981.5819,11554.2236,48970.2476,6548.19505,5708.867,7045.499,8978.1851,5757.41345,14349.8544,10928.849,39871.7043,13974.45555,1909.52745,12096.6512,13204.28565,4562.8421,8551.347,2102.2647,34672.1472,15161.5344,11884.04858,4454.40265,5855.9025,4076.497,15019.76005,19023.26,10796.35025,11353.2276,10577.087,41676.0811,11286.5387,3591.48,33907.548,11299.343,4561.1885,44641.1974,1674.6323,23045.56616,3227.1211,16776.30405,11253.421,3471.4096,11363.2832,20420.60465,10338.9316,8988.15875,10493.9458,2904.088,8605.3615,11512.405,41949.2441,24180.9335,5312.16985,2396.0959,10807.4863,9222.4026,36124.5737,38282.7495,5693.4305,34166.273,8347.1643,46661.4424,18903.49141,40904.1995,14254.6082,10214.636,5836.5204,14358.36437,1728.897,8582.3023,20709.02034,9991.03765,19673.33573,11085.5868,7623.518,3176.2877,3704.3545,36898.73308,9048.0273,7954.517,27117.99378,6338.0756,9630.397,11289.10925,52590.82939,2261.5688,10791.96,5979.731,2203.73595,12235.8392,40941.2854,5630.45785,11015.1747,7228.21565,39722.7462,14426.07385,2459.7201,3989.841,7727.2532,5124.1887,18963.17192,2200.83085,7153.5539,5227.98875,10982.5013,4529.477,4670.64,6112.35295,17178.6824,22478.6,11093.6229,6457.8434,4433.9159,2154.361,23887.6627,6496.886,2899.48935,19350.3689,7650.77375,2850.68375,2632.992,9447.3824,18328.2381,8603.8234,37465.34375,13844.7972,21771.3423,13126.67745,5327.40025,13725.47184,13019.16105,8671.19125,4134.08245,18838.70366,33307.5508,5699.8375,6393.60345,4934.705,6198.7518,8733.22925,2055.3249,9964.06,18223.4512,5116.5004,36910.60803,38415.474,20296.86345,12347.172,5373.36425,23563.01618,1702.4553,10806.839,3956.07145,12890.05765,5415.6612,4058.1161,41661.602,7537.1639,4718.20355,6593.5083,8442.667,26125.67477,6858.4796,4795.6568,6640.54485,7162.0122,10594.2257,11938.25595,60021.39897,20167.33603,12479.70895,11345.519,8515.7587,2699.56835,14449.8544,12224.35085,6985.50695,3238.4357,47269.854,49577.6624,4296.2712,3171.6149,1135.9407,5615.369,9101.798,6059.173,1633.9618,37607.5277,18648.4217,1241.565,16232.847,15828.82173,4415.1588,6474.013,11436.73815,11305.93455,30063.58055,10197.7722,4544.2348,3277.161,6770.1925,7337.748,10370.91255,26926.5144,10704.47,34254.05335,1880.487,8615.3,3292.52985,3021.80915,14478.33015,4747.0529,17043.3414,10959.33,2741.948,4357.04365,22462.04375,4189.1131,8283.6807,24535.69855,14283.4594,1720.3537,47403.88,8534.6718,3732.6251,5472.449,38344.566,7147.4728,7133.9025,34828.654,1515.3449,9301.89355,11931.12525,1964.78,1708.92575,4340.4409,5261.46945,2710.82855,62592.87309,46718.16325,3208.787,37829.7242,21259.37795,2464.6188,16115.3045,21472.4788,33900.653,6875.961,6940.90985,4571.41305,4536.259,36397.576,18765.87545,11272.33139,1731.677,19496.71917,7201.70085,5425.02335,28101.33305,12981.3457,43896.3763,4239.89265,13143.33665,7050.0213,9377.9047,22395.74424,10325.206,12629.1656,10795.93733,11411.685,10600.5483,2205.9808,1629.8335,2007.945,29141.3603],\"yaxis\":\"y\",\"type\":\"scattergl\"}],                        {\"template\":{\"data\":{\"barpolar\":[{\"marker\":{\"line\":{\"color\":\"rgb(17,17,17)\",\"width\":0.5},\"pattern\":{\"fillmode\":\"overlay\",\"size\":10,\"solidity\":0.2}},\"type\":\"barpolar\"}],\"bar\":[{\"error_x\":{\"color\":\"#f2f5fa\"},\"error_y\":{\"color\":\"#f2f5fa\"},\"marker\":{\"line\":{\"color\":\"rgb(17,17,17)\",\"width\":0.5},\"pattern\":{\"fillmode\":\"overlay\",\"size\":10,\"solidity\":0.2}},\"type\":\"bar\"}],\"carpet\":[{\"aaxis\":{\"endlinecolor\":\"#A2B1C6\",\"gridcolor\":\"#506784\",\"linecolor\":\"#506784\",\"minorgridcolor\":\"#506784\",\"startlinecolor\":\"#A2B1C6\"},\"baxis\":{\"endlinecolor\":\"#A2B1C6\",\"gridcolor\":\"#506784\",\"linecolor\":\"#506784\",\"minorgridcolor\":\"#506784\",\"startlinecolor\":\"#A2B1C6\"},\"type\":\"carpet\"}],\"choropleth\":[{\"colorbar\":{\"outlinewidth\":0,\"ticks\":\"\"},\"type\":\"choropleth\"}],\"contourcarpet\":[{\"colorbar\":{\"outlinewidth\":0,\"ticks\":\"\"},\"type\":\"contourcarpet\"}],\"contour\":[{\"colorbar\":{\"outlinewidth\":0,\"ticks\":\"\"},\"colorscale\":[[0.0,\"#0d0887\"],[0.1111111111111111,\"#46039f\"],[0.2222222222222222,\"#7201a8\"],[0.3333333333333333,\"#9c179e\"],[0.4444444444444444,\"#bd3786\"],[0.5555555555555556,\"#d8576b\"],[0.6666666666666666,\"#ed7953\"],[0.7777777777777778,\"#fb9f3a\"],[0.8888888888888888,\"#fdca26\"],[1.0,\"#f0f921\"]],\"type\":\"contour\"}],\"heatmapgl\":[{\"colorbar\":{\"outlinewidth\":0,\"ticks\":\"\"},\"colorscale\":[[0.0,\"#0d0887\"],[0.1111111111111111,\"#46039f\"],[0.2222222222222222,\"#7201a8\"],[0.3333333333333333,\"#9c179e\"],[0.4444444444444444,\"#bd3786\"],[0.5555555555555556,\"#d8576b\"],[0.6666666666666666,\"#ed7953\"],[0.7777777777777778,\"#fb9f3a\"],[0.8888888888888888,\"#fdca26\"],[1.0,\"#f0f921\"]],\"type\":\"heatmapgl\"}],\"heatmap\":[{\"colorbar\":{\"outlinewidth\":0,\"ticks\":\"\"},\"colorscale\":[[0.0,\"#0d0887\"],[0.1111111111111111,\"#46039f\"],[0.2222222222222222,\"#7201a8\"],[0.3333333333333333,\"#9c179e\"],[0.4444444444444444,\"#bd3786\"],[0.5555555555555556,\"#d8576b\"],[0.6666666666666666,\"#ed7953\"],[0.7777777777777778,\"#fb9f3a\"],[0.8888888888888888,\"#fdca26\"],[1.0,\"#f0f921\"]],\"type\":\"heatmap\"}],\"histogram2dcontour\":[{\"colorbar\":{\"outlinewidth\":0,\"ticks\":\"\"},\"colorscale\":[[0.0,\"#0d0887\"],[0.1111111111111111,\"#46039f\"],[0.2222222222222222,\"#7201a8\"],[0.3333333333333333,\"#9c179e\"],[0.4444444444444444,\"#bd3786\"],[0.5555555555555556,\"#d8576b\"],[0.6666666666666666,\"#ed7953\"],[0.7777777777777778,\"#fb9f3a\"],[0.8888888888888888,\"#fdca26\"],[1.0,\"#f0f921\"]],\"type\":\"histogram2dcontour\"}],\"histogram2d\":[{\"colorbar\":{\"outlinewidth\":0,\"ticks\":\"\"},\"colorscale\":[[0.0,\"#0d0887\"],[0.1111111111111111,\"#46039f\"],[0.2222222222222222,\"#7201a8\"],[0.3333333333333333,\"#9c179e\"],[0.4444444444444444,\"#bd3786\"],[0.5555555555555556,\"#d8576b\"],[0.6666666666666666,\"#ed7953\"],[0.7777777777777778,\"#fb9f3a\"],[0.8888888888888888,\"#fdca26\"],[1.0,\"#f0f921\"]],\"type\":\"histogram2d\"}],\"histogram\":[{\"marker\":{\"pattern\":{\"fillmode\":\"overlay\",\"size\":10,\"solidity\":0.2}},\"type\":\"histogram\"}],\"mesh3d\":[{\"colorbar\":{\"outlinewidth\":0,\"ticks\":\"\"},\"type\":\"mesh3d\"}],\"parcoords\":[{\"line\":{\"colorbar\":{\"outlinewidth\":0,\"ticks\":\"\"}},\"type\":\"parcoords\"}],\"pie\":[{\"automargin\":true,\"type\":\"pie\"}],\"scatter3d\":[{\"line\":{\"colorbar\":{\"outlinewidth\":0,\"ticks\":\"\"}},\"marker\":{\"colorbar\":{\"outlinewidth\":0,\"ticks\":\"\"}},\"type\":\"scatter3d\"}],\"scattercarpet\":[{\"marker\":{\"colorbar\":{\"outlinewidth\":0,\"ticks\":\"\"}},\"type\":\"scattercarpet\"}],\"scattergeo\":[{\"marker\":{\"colorbar\":{\"outlinewidth\":0,\"ticks\":\"\"}},\"type\":\"scattergeo\"}],\"scattergl\":[{\"marker\":{\"line\":{\"color\":\"#283442\"}},\"type\":\"scattergl\"}],\"scattermapbox\":[{\"marker\":{\"colorbar\":{\"outlinewidth\":0,\"ticks\":\"\"}},\"type\":\"scattermapbox\"}],\"scatterpolargl\":[{\"marker\":{\"colorbar\":{\"outlinewidth\":0,\"ticks\":\"\"}},\"type\":\"scatterpolargl\"}],\"scatterpolar\":[{\"marker\":{\"colorbar\":{\"outlinewidth\":0,\"ticks\":\"\"}},\"type\":\"scatterpolar\"}],\"scatter\":[{\"marker\":{\"line\":{\"color\":\"#283442\"}},\"type\":\"scatter\"}],\"scatterternary\":[{\"marker\":{\"colorbar\":{\"outlinewidth\":0,\"ticks\":\"\"}},\"type\":\"scatterternary\"}],\"surface\":[{\"colorbar\":{\"outlinewidth\":0,\"ticks\":\"\"},\"colorscale\":[[0.0,\"#0d0887\"],[0.1111111111111111,\"#46039f\"],[0.2222222222222222,\"#7201a8\"],[0.3333333333333333,\"#9c179e\"],[0.4444444444444444,\"#bd3786\"],[0.5555555555555556,\"#d8576b\"],[0.6666666666666666,\"#ed7953\"],[0.7777777777777778,\"#fb9f3a\"],[0.8888888888888888,\"#fdca26\"],[1.0,\"#f0f921\"]],\"type\":\"surface\"}],\"table\":[{\"cells\":{\"fill\":{\"color\":\"#506784\"},\"line\":{\"color\":\"rgb(17,17,17)\"}},\"header\":{\"fill\":{\"color\":\"#2a3f5f\"},\"line\":{\"color\":\"rgb(17,17,17)\"}},\"type\":\"table\"}]},\"layout\":{\"annotationdefaults\":{\"arrowcolor\":\"#f2f5fa\",\"arrowhead\":0,\"arrowwidth\":1},\"autotypenumbers\":\"strict\",\"coloraxis\":{\"colorbar\":{\"outlinewidth\":0,\"ticks\":\"\"}},\"colorscale\":{\"diverging\":[[0,\"#8e0152\"],[0.1,\"#c51b7d\"],[0.2,\"#de77ae\"],[0.3,\"#f1b6da\"],[0.4,\"#fde0ef\"],[0.5,\"#f7f7f7\"],[0.6,\"#e6f5d0\"],[0.7,\"#b8e186\"],[0.8,\"#7fbc41\"],[0.9,\"#4d9221\"],[1,\"#276419\"]],\"sequential\":[[0.0,\"#0d0887\"],[0.1111111111111111,\"#46039f\"],[0.2222222222222222,\"#7201a8\"],[0.3333333333333333,\"#9c179e\"],[0.4444444444444444,\"#bd3786\"],[0.5555555555555556,\"#d8576b\"],[0.6666666666666666,\"#ed7953\"],[0.7777777777777778,\"#fb9f3a\"],[0.8888888888888888,\"#fdca26\"],[1.0,\"#f0f921\"]],\"sequentialminus\":[[0.0,\"#0d0887\"],[0.1111111111111111,\"#46039f\"],[0.2222222222222222,\"#7201a8\"],[0.3333333333333333,\"#9c179e\"],[0.4444444444444444,\"#bd3786\"],[0.5555555555555556,\"#d8576b\"],[0.6666666666666666,\"#ed7953\"],[0.7777777777777778,\"#fb9f3a\"],[0.8888888888888888,\"#fdca26\"],[1.0,\"#f0f921\"]]},\"colorway\":[\"#636efa\",\"#EF553B\",\"#00cc96\",\"#ab63fa\",\"#FFA15A\",\"#19d3f3\",\"#FF6692\",\"#B6E880\",\"#FF97FF\",\"#FECB52\"],\"font\":{\"color\":\"#f2f5fa\"},\"geo\":{\"bgcolor\":\"rgb(17,17,17)\",\"lakecolor\":\"rgb(17,17,17)\",\"landcolor\":\"rgb(17,17,17)\",\"showlakes\":true,\"showland\":true,\"subunitcolor\":\"#506784\"},\"hoverlabel\":{\"align\":\"left\"},\"hovermode\":\"closest\",\"mapbox\":{\"style\":\"dark\"},\"paper_bgcolor\":\"rgb(17,17,17)\",\"plot_bgcolor\":\"rgb(17,17,17)\",\"polar\":{\"angularaxis\":{\"gridcolor\":\"#506784\",\"linecolor\":\"#506784\",\"ticks\":\"\"},\"bgcolor\":\"rgb(17,17,17)\",\"radialaxis\":{\"gridcolor\":\"#506784\",\"linecolor\":\"#506784\",\"ticks\":\"\"}},\"scene\":{\"xaxis\":{\"backgroundcolor\":\"rgb(17,17,17)\",\"gridcolor\":\"#506784\",\"gridwidth\":2,\"linecolor\":\"#506784\",\"showbackground\":true,\"ticks\":\"\",\"zerolinecolor\":\"#C8D4E3\"},\"yaxis\":{\"backgroundcolor\":\"rgb(17,17,17)\",\"gridcolor\":\"#506784\",\"gridwidth\":2,\"linecolor\":\"#506784\",\"showbackground\":true,\"ticks\":\"\",\"zerolinecolor\":\"#C8D4E3\"},\"zaxis\":{\"backgroundcolor\":\"rgb(17,17,17)\",\"gridcolor\":\"#506784\",\"gridwidth\":2,\"linecolor\":\"#506784\",\"showbackground\":true,\"ticks\":\"\",\"zerolinecolor\":\"#C8D4E3\"}},\"shapedefaults\":{\"line\":{\"color\":\"#f2f5fa\"}},\"sliderdefaults\":{\"bgcolor\":\"#C8D4E3\",\"bordercolor\":\"rgb(17,17,17)\",\"borderwidth\":1,\"tickwidth\":0},\"ternary\":{\"aaxis\":{\"gridcolor\":\"#506784\",\"linecolor\":\"#506784\",\"ticks\":\"\"},\"baxis\":{\"gridcolor\":\"#506784\",\"linecolor\":\"#506784\",\"ticks\":\"\"},\"bgcolor\":\"rgb(17,17,17)\",\"caxis\":{\"gridcolor\":\"#506784\",\"linecolor\":\"#506784\",\"ticks\":\"\"}},\"title\":{\"x\":0.05},\"updatemenudefaults\":{\"bgcolor\":\"#506784\",\"borderwidth\":0},\"xaxis\":{\"automargin\":true,\"gridcolor\":\"#283442\",\"linecolor\":\"#506784\",\"ticks\":\"\",\"title\":{\"standoff\":15},\"zerolinecolor\":\"#283442\",\"zerolinewidth\":2},\"yaxis\":{\"automargin\":true,\"gridcolor\":\"#283442\",\"linecolor\":\"#506784\",\"ticks\":\"\",\"title\":{\"standoff\":15},\"zerolinecolor\":\"#283442\",\"zerolinewidth\":2}}},\"xaxis\":{\"anchor\":\"y\",\"domain\":[0.0,1.0],\"title\":{\"text\":\"age\"}},\"yaxis\":{\"anchor\":\"x\",\"domain\":[0.0,1.0],\"title\":{\"text\":\"charges\"}},\"coloraxis\":{\"colorbar\":{\"title\":{\"text\":\"bmi\"}},\"colorscale\":[[0.0,\"#0d0887\"],[0.1111111111111111,\"#46039f\"],[0.2222222222222222,\"#7201a8\"],[0.3333333333333333,\"#9c179e\"],[0.4444444444444444,\"#bd3786\"],[0.5555555555555556,\"#d8576b\"],[0.6666666666666666,\"#ed7953\"],[0.7777777777777778,\"#fb9f3a\"],[0.8888888888888888,\"#fdca26\"],[1.0,\"#f0f921\"]]},\"legend\":{\"tracegroupgap\":0},\"title\":{\"text\":\"Age vs Charge grouped by BMI\"}},                        {\"responsive\": true}                    ).then(function(){\n",
              "                            \n",
              "var gd = document.getElementById('39d51f9f-bb25-47b7-85a0-de06dce9126c');\n",
              "var x = new MutationObserver(function (mutations, observer) {{\n",
              "        var display = window.getComputedStyle(gd).display;\n",
              "        if (!display || display === 'none') {{\n",
              "            console.log([gd, 'removed!']);\n",
              "            Plotly.purge(gd);\n",
              "            observer.disconnect();\n",
              "        }}\n",
              "}});\n",
              "\n",
              "// Listen for the removal of the full notebook cells\n",
              "var notebookContainer = gd.closest('#notebook-container');\n",
              "if (notebookContainer) {{\n",
              "    x.observe(notebookContainer, {childList: true});\n",
              "}}\n",
              "\n",
              "// Listen for the clearing of the current output cell\n",
              "var outputEl = gd.closest('.output');\n",
              "if (outputEl) {{\n",
              "    x.observe(outputEl, {childList: true});\n",
              "}}\n",
              "\n",
              "                        })                };                            </script>        </div>\n",
              "</body>\n",
              "</html>"
            ]
          },
          "metadata": {}
        }
      ]
    },
    {
      "cell_type": "code",
      "source": [
        "px.histogram(df2, x='bmi',color='region', barmode='group', title='Frequency of BMI grouped by region',\n",
        "             nbins=5,  template='plotly_dark')#barmode (str (default 'relative')) – One of 'group', 'overlay' or 'relative' In 'relative' mode, bars are stacked above zero for positive values and below zero for negative values. In 'overlay' mode, bars are drawn on top of one another. In 'group' mode, bars are placed beside each other."
      ],
      "metadata": {
        "colab": {
          "base_uri": "https://localhost:8080/",
          "height": 542
        },
        "id": "nTTCYVZBr-e3",
        "outputId": "64f2e9c0-d570-4d93-c664-7161f5912178"
      },
      "execution_count": 67,
      "outputs": [
        {
          "output_type": "display_data",
          "data": {
            "text/html": [
              "<html>\n",
              "<head><meta charset=\"utf-8\" /></head>\n",
              "<body>\n",
              "    <div>            <script src=\"https://cdnjs.cloudflare.com/ajax/libs/mathjax/2.7.5/MathJax.js?config=TeX-AMS-MML_SVG\"></script><script type=\"text/javascript\">if (window.MathJax) {MathJax.Hub.Config({SVG: {font: \"STIX-Web\"}});}</script>                <script type=\"text/javascript\">window.PlotlyConfig = {MathJaxConfig: 'local'};</script>\n",
              "        <script src=\"https://cdn.plot.ly/plotly-2.8.3.min.js\"></script>                <div id=\"788f8147-e84c-4cc4-b132-65da4d872518\" class=\"plotly-graph-div\" style=\"height:525px; width:100%;\"></div>            <script type=\"text/javascript\">                                    window.PLOTLYENV=window.PLOTLYENV || {};                                    if (document.getElementById(\"788f8147-e84c-4cc4-b132-65da4d872518\")) {                    Plotly.newPlot(                        \"788f8147-e84c-4cc4-b132-65da4d872518\",                        [{\"alignmentgroup\":\"True\",\"bingroup\":\"x\",\"hovertemplate\":\"region=southwest<br>bmi=%{x}<br>count=%{y}<extra></extra>\",\"legendgroup\":\"southwest\",\"marker\":{\"color\":\"#636efa\",\"pattern\":{\"shape\":\"\"}},\"name\":\"southwest\",\"nbinsx\":5,\"offsetgroup\":\"southwest\",\"orientation\":\"v\",\"showlegend\":true,\"x\":[27.9,34.4,24.6,40.3,35.3,32.4,36.3,35.6,28.6,36.4,20.8,39.9,37.3,28.0,28.9,39.1,28.1,27.4,34.8,27.2,31.3,30.8,19.3,31.6,27.5,28.4,29.7,30.8,37.1,28.3,37.4,34.7,35.9,34.1,36.0,28.4,39.6,29.8,37.0,30.3,34.8,37.7,29.2,28.9,30.9,32.2,26.2,32.8,22.3,31.8,33.0,30.9,37.1,33.7,30.8,34.8,17.8,27.5,26.8,35.3,20.9,32.2,30.3,25.2,30.2,34.2,24.3,31.2,33.4,26.8,27.7,38.0,27.5,26.6,24.7,31.4,30.8,27.2,33.8,36.7,34.5,27.6,25.6,27.7,27.6,30.5,21.7,26.4,32.9,34.4,34.4,25.6,20.6,20.4,23.6,23.9,22.6,30.2,33.1,26.9,30.5,28.9,33.5,33.1,29.6,38.6,29.6,23.4,37.4,39.6,30.0,28.7,29.8,25.1,39.5,34.3,28.7,32.9,43.4,25.7,23.6,28.7,39.2,34.4,28.7,30.4,28.3,35.7,31.0,25.8,38.9,30.2,38.0,30.8,21.4,23.8,30.5,31.9,29.1,30.2,20.7,29.0,32.6,25.3,37.8,34.8,25.6,37.1,31.4,34.1,21.3,38.0,36.1,29.3,39.7,42.4,42.4,28.7,36.1,17.4,20.3,35.3,18.5,24.1,36.2,34.8,32.9,22.6,28.9,36.6,37.4,35.4,21.4,30.1,32.1,23.7,35.5,27.0,36.0,35.2,27.1,32.3,29.0,39.7,36.1,26.7,24.4,27.6,27.7,27.6,33.1,22.3,30.8,37.1,33.7,33.1,31.5,31.1,34.2,24.1,29.6,28.1,28.0,25.4,29.9,43.7,24.3,36.2,30.1,27.1,28.8,29.5,34.8,39.5,44.0,35.1,39.8,24.6,27.5,28.2,25.0,33.2,31.0,23.2,23.4,20.1,32.5,25.8,35.3,27.5,35.8,35.8,29.7,30.2,25.9,27.1,40.5,25.9,25.8,19.8,31.6,34.1,32.7,25.8,29.6,22.8,27.6,34.2,37.0,34.6,31.6,23.0,25.8,30.9,29.8,28.9,25.6,25.3,32.0,31.5,18.3,22.1,32.7,33.7,28.6,29.8,30.0,31.4,29.9,32.8,18.6,25.0,32.6,32.3,32.8,21.5,34.1,41.1,24.6,35.2,26.7,27.1,27.4,30.3,28.0,25.8,34.8,33.4,37.1,33.3,34.6,21.8,23.3,24.3,25.7,29.4,19.8,27.3,29.3,37.9,37.1,29.9,30.5,33.3,27.5,23.7,36.3,25.9,39.4,34.9,22.0,20.8,27.8,30.2,32.2,42.9,34.7,20.6,38.6,33.4,44.7,25.8],\"xaxis\":\"x\",\"yaxis\":\"y\",\"type\":\"histogram\"},{\"alignmentgroup\":\"True\",\"bingroup\":\"x\",\"hovertemplate\":\"region=southeast<br>bmi=%{x}<br>count=%{y}<extra></extra>\",\"legendgroup\":\"southeast\",\"marker\":{\"color\":\"#EF553B\",\"pattern\":{\"shape\":\"\"}},\"name\":\"southeast\",\"nbinsx\":5,\"offsetgroup\":\"southeast\",\"orientation\":\"v\",\"showlegend\":true,\"x\":[33.77,33.0,25.74,33.44,26.29,39.82,42.13,34.1,27.72,36.63,21.78,30.8,24.53,35.2,34.43,31.68,22.88,33.66,36.19,23.98,24.75,32.01,29.59,35.53,37.62,39.49,37.62,38.28,29.92,27.94,35.09,27.94,27.17,28.05,31.9,25.3,38.83,37.73,29.7,24.42,35.53,27.83,36.85,41.47,38.28,30.69,29.92,31.57,25.74,34.43,28.6,32.23,36.08,26.4,26.73,23.1,29.92,23.21,24.64,33.88,38.06,41.91,27.83,22.22,26.73,38.39,38.06,38.06,35.86,34.21,40.15,26.84,38.06,42.35,19.8,29.37,31.79,21.56,26.62,26.4,28.82,25.41,37.51,33.0,33.33,35.97,35.86,23.21,25.74,27.72,41.47,29.26,35.75,29.92,38.28,43.89,41.91,20.79,21.89,33.33,40.15,31.46,33.0,43.34,39.05,31.02,38.17,24.31,21.12,30.03,35.64,34.1,39.16,33.88,35.86,24.31,33.11,43.01,36.52,30.14,33.0,36.63,28.38,24.09,32.67,36.85,32.56,37.51,31.35,38.06,25.08,23.98,23.21,30.25,28.93,33.66,35.31,44.22,37.73,26.07,33.88,42.13,29.7,36.19,40.48,28.05,31.35,31.79,36.3,28.93,34.21,44.77,32.12,37.29,43.12,26.84,23.65,28.27,30.69,31.13,40.26,29.48,39.16,39.05,34.1,29.37,33.0,36.63,33.11,42.46,35.53,33.66,35.31,42.68,39.6,31.13,36.3,35.2,25.3,23.98,33.66,22.99,38.06,29.81,31.57,29.7,31.02,43.89,40.81,41.69,31.13,35.75,39.27,34.87,41.47,38.06,35.2,23.54,39.05,36.08,24.42,38.39,29.15,26.62,26.4,22.77,27.83,38.17,33.33,34.32,41.14,35.97,29.26,29.92,41.8,20.9,44.22,26.18,35.97,42.24,26.51,30.14,21.01,34.43,31.46,31.13,29.81,31.79,35.97,32.78,29.81,32.45,33.11,32.23,37.29,29.48,24.86,33.44,28.93,29.04,38.94,40.26,40.92,36.85,32.34,33.99,34.21,39.16,34.21,37.18,26.18,29.48,23.21,39.93,42.9,39.49,30.8,35.2,34.32,28.16,35.42,40.15,29.15,29.92,28.27,36.85,20.13,33.33,31.02,36.08,23.32,35.2,37.07,31.79,39.49,32.01,27.94,41.14,37.29,31.9,37.07,29.59,31.68,33.66,21.78,36.19,33.77,33.99,38.94,36.08,31.24,20.35,38.39,25.85,32.67,33.33,35.75,38.17,35.86,23.87,30.25,37.07,24.86,32.34,32.56,44.88,42.13,38.83,40.37,41.91,29.81,28.49,33.55,27.28,34.1,25.08,37.29,24.97,25.3,24.42,39.82,37.18,34.43,27.83,42.13,41.8,36.96,33.11,33.33,39.82,27.72,28.05,23.76,25.52,27.61,27.06,33.33,30.03,34.32,23.21,26.51,30.36,27.72,38.83,40.37,30.03,25.74,36.85],\"xaxis\":\"x\",\"yaxis\":\"y\",\"type\":\"histogram\"},{\"alignmentgroup\":\"True\",\"bingroup\":\"x\",\"hovertemplate\":\"region=northwest<br>bmi=%{x}<br>count=%{y}<extra></extra>\",\"legendgroup\":\"northwest\",\"marker\":{\"color\":\"#00cc96\",\"pattern\":{\"shape\":\"\"}},\"name\":\"northwest\",\"nbinsx\":5,\"offsetgroup\":\"northwest\",\"orientation\":\"v\",\"showlegend\":true,\"x\":[22.705,28.88,27.74,25.84,28.025,32.775,17.385,28.31,20.425,32.965,34.77,33.63,28.69,36.955,37.335,24.7,25.935,22.42,26.315,34.01,32.965,41.23,22.895,31.16,27.74,26.98,24.795,34.77,28.025,30.875,33.63,35.72,23.37,28.975,33.915,17.765,25.555,25.175,29.735,28.69,30.495,37.43,24.13,39.52,26.6,29.64,33.155,31.825,33.345,27.835,28.595,26.41,32.11,26.6,30.59,18.05,32.11,24.035,30.875,28.5,26.6,36.195,24.51,29.07,30.02,33.63,24.415,31.92,36.955,37.05,27.55,20.615,26.22,34.39,28.88,33.345,33.06,32.205,27.645,25.27,36.48,27.36,31.16,27.55,30.02,27.835,23.18,29.83,24.985,32.015,21.09,28.31,30.115,25.365,22.61,30.21,37.43,19.855,32.965,32.3,17.48,35.15,26.98,30.4,20.235,28.595,32.68,26.695,25.65,24.13,29.735,30.495,25.175,33.82,28.31,35.625,41.325,21.47,31.16,30.875,31.35,23.75,30.495,30.59,30.21,25.84,31.73,34.105,35.53,19.95,30.495,40.565,30.59,40.565,27.17,30.21,19.57,37.525,31.635,28.31,23.655,28.785,26.03,38.95,24.51,28.31,34.96,26.22,33.155,32.775,21.375,31.35,23.18,24.32,32.395,23.655,40.185,33.725,26.41,29.545,28.69,30.685,22.61,24.32,36.67,33.44,28.405,34.77,26.41,30.115,21.755,30.875,28.975,37.905,31.825,19.475,28.88,34.2,32.3,28.88,36.86,31.92,28.5,35.815,41.42,36.575,42.94,24.225,35.53,17.67,24.32,21.85,25.84,23.845,34.39,33.82,31.35,32.775,32.3,24.13,33.535,28.12,27.36,26.695,30.02,33.63,26.885,25.555,22.515,28.31,26.695,24.605,26.885,35.815,24.225,22.61,31.255,28.405,27.835,26.79,36.67,39.615,36.765,24.795,25.365,20.235,30.115,27.645,20.045,26.885,22.99,31.73,28.215,32.3,25.46,24.605,35.815,32.68,26.03,18.715,23.655,38.38,30.495,27.265,28.025,24.7,22.515,36.955,21.47,27.645,33.82,28.595,21.66,31.255,27.835,19.95,30.495,31.54,30.4,29.925,26.22,26.315,19.95,36.86,25.08,18.335,33.82,28.12,22.23,32.49,32.775,31.92,36.48,35.815,27.93,23.18,34.58,28.31,34.105,29.26,32.11,24.13,29.925,35.625,32.68,32.775,36.575,21.755,27.93,30.02,29.355,24.32,40.375,32.11,17.86,30.875,31.255,30.21,34.485,24.605,31.065,28.215,21.28,36.385,27.645,37.715,33.915,34.485,29.735,26.79,27.645,25.745,27.455,25.745,30.875,28.12,26.315,26.695,23.655,26.315,31.065,25.935,30.97,29.07],\"xaxis\":\"x\",\"yaxis\":\"y\",\"type\":\"histogram\"},{\"alignmentgroup\":\"True\",\"bingroup\":\"x\",\"hovertemplate\":\"region=northeast<br>bmi=%{x}<br>count=%{y}<extra></extra>\",\"legendgroup\":\"northeast\",\"marker\":{\"color\":\"#ab63fa\",\"pattern\":{\"shape\":\"\"}},\"name\":\"northeast\",\"nbinsx\":5,\"offsetgroup\":\"northeast\",\"orientation\":\"v\",\"showlegend\":true,\"x\":[29.83,26.22,30.78,23.845,36.005,31.92,23.085,26.315,36.67,26.6,37.05,38.665,35.625,31.825,27.36,28.5,39.805,26.885,38.285,29.83,19.95,25.46,30.115,32.205,28.595,23.75,31.35,28.785,26.505,22.04,28.785,22.42,32.49,37.145,23.37,25.46,25.175,28.215,18.905,33.155,19.95,41.895,39.33,28.88,27.74,41.23,33.25,31.635,25.46,36.67,22.135,27.74,28.975,17.29,31.825,25.365,24.32,32.395,25.84,27.455,26.6,28.12,40.565,27.645,32.395,36.765,29.64,22.99,27.55,22.61,34.865,33.25,32.775,37.335,29.64,40.945,34.105,36.385,28.785,35.72,32.3,27.55,36.765,33.345,35.245,32.3,30.78,32.3,30.4,22.23,33.155,24.89,17.955,30.685,22.135,35.625,31.445,31.35,32.3,38.38,20.235,17.195,32.775,30.59,27.265,29.165,16.815,31.73,29.45,29.64,38.095,25.935,24.32,30.115,33.345,28.5,31.065,25.08,27.93,26.03,25.27,32.11,22.42,30.875,27.36,33.915,39.425,25.46,31.73,28.025,35.435,28.595,41.325,33.44,32.68,36.86,34.295,38.095,23.465,25.46,20.235,35.91,21.85,33.725,33.25,25.175,26.98,33.155,19.0,28.595,33.535,28.88,22.705,38.19,38.095,26.41,33.915,30.78,23.37,28.5,32.965,35.91,28.785,31.54,32.015,31.16,26.41,26.125,27.36,32.3,44.745,30.495,27.74,40.47,40.66,27.075,21.755,40.28,27.265,31.73,24.035,34.105,33.63,27.645,22.8,37.43,34.58,26.03,25.175,36.48,39.805,36.955,22.515,23.18,22.895,24.795,25.84,22.515,26.125,31.825,28.025,30.78,28.31,23.465,24.7,30.495,30.78,35.53,23.75,23.845,19.855,23.655,21.85,22.135,37.05,28.975,24.035,32.11,20.045,22.515,27.265,29.355,32.585,31.73,22.895,32.11,29.735,40.185,34.2,18.335,34.96,24.795,25.745,23.56,22.895,39.995,25.46,21.375,30.59,30.115,34.675,20.52,27.835,23.275,36.29,19.19,29.26,24.985,27.74,17.29,27.93,21.565,28.88,23.085,30.685,35.245,25.08,26.41,29.83,42.655,31.445,28.88,18.335,26.03,28.975,29.83,31.35,34.96,30.875,19.095,32.3,24.51,29.64,32.395,42.75,40.28,30.305,22.135,30.59,28.215,26.125,27.36,34.865,41.325,27.36,23.56,25.27,21.755,32.395,32.3,25.555,21.47,39.14,21.945,23.94,16.815,30.305,21.66,22.705,33.63,29.83,23.18,20.52,33.345,31.065,30.4,29.925,21.66,24.32,17.29,19.95,25.175,26.125,24.605,21.85,28.31,39.71,26.695,33.535,32.87,24.225,31.92],\"xaxis\":\"x\",\"yaxis\":\"y\",\"type\":\"histogram\"}],                        {\"template\":{\"data\":{\"barpolar\":[{\"marker\":{\"line\":{\"color\":\"rgb(17,17,17)\",\"width\":0.5},\"pattern\":{\"fillmode\":\"overlay\",\"size\":10,\"solidity\":0.2}},\"type\":\"barpolar\"}],\"bar\":[{\"error_x\":{\"color\":\"#f2f5fa\"},\"error_y\":{\"color\":\"#f2f5fa\"},\"marker\":{\"line\":{\"color\":\"rgb(17,17,17)\",\"width\":0.5},\"pattern\":{\"fillmode\":\"overlay\",\"size\":10,\"solidity\":0.2}},\"type\":\"bar\"}],\"carpet\":[{\"aaxis\":{\"endlinecolor\":\"#A2B1C6\",\"gridcolor\":\"#506784\",\"linecolor\":\"#506784\",\"minorgridcolor\":\"#506784\",\"startlinecolor\":\"#A2B1C6\"},\"baxis\":{\"endlinecolor\":\"#A2B1C6\",\"gridcolor\":\"#506784\",\"linecolor\":\"#506784\",\"minorgridcolor\":\"#506784\",\"startlinecolor\":\"#A2B1C6\"},\"type\":\"carpet\"}],\"choropleth\":[{\"colorbar\":{\"outlinewidth\":0,\"ticks\":\"\"},\"type\":\"choropleth\"}],\"contourcarpet\":[{\"colorbar\":{\"outlinewidth\":0,\"ticks\":\"\"},\"type\":\"contourcarpet\"}],\"contour\":[{\"colorbar\":{\"outlinewidth\":0,\"ticks\":\"\"},\"colorscale\":[[0.0,\"#0d0887\"],[0.1111111111111111,\"#46039f\"],[0.2222222222222222,\"#7201a8\"],[0.3333333333333333,\"#9c179e\"],[0.4444444444444444,\"#bd3786\"],[0.5555555555555556,\"#d8576b\"],[0.6666666666666666,\"#ed7953\"],[0.7777777777777778,\"#fb9f3a\"],[0.8888888888888888,\"#fdca26\"],[1.0,\"#f0f921\"]],\"type\":\"contour\"}],\"heatmapgl\":[{\"colorbar\":{\"outlinewidth\":0,\"ticks\":\"\"},\"colorscale\":[[0.0,\"#0d0887\"],[0.1111111111111111,\"#46039f\"],[0.2222222222222222,\"#7201a8\"],[0.3333333333333333,\"#9c179e\"],[0.4444444444444444,\"#bd3786\"],[0.5555555555555556,\"#d8576b\"],[0.6666666666666666,\"#ed7953\"],[0.7777777777777778,\"#fb9f3a\"],[0.8888888888888888,\"#fdca26\"],[1.0,\"#f0f921\"]],\"type\":\"heatmapgl\"}],\"heatmap\":[{\"colorbar\":{\"outlinewidth\":0,\"ticks\":\"\"},\"colorscale\":[[0.0,\"#0d0887\"],[0.1111111111111111,\"#46039f\"],[0.2222222222222222,\"#7201a8\"],[0.3333333333333333,\"#9c179e\"],[0.4444444444444444,\"#bd3786\"],[0.5555555555555556,\"#d8576b\"],[0.6666666666666666,\"#ed7953\"],[0.7777777777777778,\"#fb9f3a\"],[0.8888888888888888,\"#fdca26\"],[1.0,\"#f0f921\"]],\"type\":\"heatmap\"}],\"histogram2dcontour\":[{\"colorbar\":{\"outlinewidth\":0,\"ticks\":\"\"},\"colorscale\":[[0.0,\"#0d0887\"],[0.1111111111111111,\"#46039f\"],[0.2222222222222222,\"#7201a8\"],[0.3333333333333333,\"#9c179e\"],[0.4444444444444444,\"#bd3786\"],[0.5555555555555556,\"#d8576b\"],[0.6666666666666666,\"#ed7953\"],[0.7777777777777778,\"#fb9f3a\"],[0.8888888888888888,\"#fdca26\"],[1.0,\"#f0f921\"]],\"type\":\"histogram2dcontour\"}],\"histogram2d\":[{\"colorbar\":{\"outlinewidth\":0,\"ticks\":\"\"},\"colorscale\":[[0.0,\"#0d0887\"],[0.1111111111111111,\"#46039f\"],[0.2222222222222222,\"#7201a8\"],[0.3333333333333333,\"#9c179e\"],[0.4444444444444444,\"#bd3786\"],[0.5555555555555556,\"#d8576b\"],[0.6666666666666666,\"#ed7953\"],[0.7777777777777778,\"#fb9f3a\"],[0.8888888888888888,\"#fdca26\"],[1.0,\"#f0f921\"]],\"type\":\"histogram2d\"}],\"histogram\":[{\"marker\":{\"pattern\":{\"fillmode\":\"overlay\",\"size\":10,\"solidity\":0.2}},\"type\":\"histogram\"}],\"mesh3d\":[{\"colorbar\":{\"outlinewidth\":0,\"ticks\":\"\"},\"type\":\"mesh3d\"}],\"parcoords\":[{\"line\":{\"colorbar\":{\"outlinewidth\":0,\"ticks\":\"\"}},\"type\":\"parcoords\"}],\"pie\":[{\"automargin\":true,\"type\":\"pie\"}],\"scatter3d\":[{\"line\":{\"colorbar\":{\"outlinewidth\":0,\"ticks\":\"\"}},\"marker\":{\"colorbar\":{\"outlinewidth\":0,\"ticks\":\"\"}},\"type\":\"scatter3d\"}],\"scattercarpet\":[{\"marker\":{\"colorbar\":{\"outlinewidth\":0,\"ticks\":\"\"}},\"type\":\"scattercarpet\"}],\"scattergeo\":[{\"marker\":{\"colorbar\":{\"outlinewidth\":0,\"ticks\":\"\"}},\"type\":\"scattergeo\"}],\"scattergl\":[{\"marker\":{\"line\":{\"color\":\"#283442\"}},\"type\":\"scattergl\"}],\"scattermapbox\":[{\"marker\":{\"colorbar\":{\"outlinewidth\":0,\"ticks\":\"\"}},\"type\":\"scattermapbox\"}],\"scatterpolargl\":[{\"marker\":{\"colorbar\":{\"outlinewidth\":0,\"ticks\":\"\"}},\"type\":\"scatterpolargl\"}],\"scatterpolar\":[{\"marker\":{\"colorbar\":{\"outlinewidth\":0,\"ticks\":\"\"}},\"type\":\"scatterpolar\"}],\"scatter\":[{\"marker\":{\"line\":{\"color\":\"#283442\"}},\"type\":\"scatter\"}],\"scatterternary\":[{\"marker\":{\"colorbar\":{\"outlinewidth\":0,\"ticks\":\"\"}},\"type\":\"scatterternary\"}],\"surface\":[{\"colorbar\":{\"outlinewidth\":0,\"ticks\":\"\"},\"colorscale\":[[0.0,\"#0d0887\"],[0.1111111111111111,\"#46039f\"],[0.2222222222222222,\"#7201a8\"],[0.3333333333333333,\"#9c179e\"],[0.4444444444444444,\"#bd3786\"],[0.5555555555555556,\"#d8576b\"],[0.6666666666666666,\"#ed7953\"],[0.7777777777777778,\"#fb9f3a\"],[0.8888888888888888,\"#fdca26\"],[1.0,\"#f0f921\"]],\"type\":\"surface\"}],\"table\":[{\"cells\":{\"fill\":{\"color\":\"#506784\"},\"line\":{\"color\":\"rgb(17,17,17)\"}},\"header\":{\"fill\":{\"color\":\"#2a3f5f\"},\"line\":{\"color\":\"rgb(17,17,17)\"}},\"type\":\"table\"}]},\"layout\":{\"annotationdefaults\":{\"arrowcolor\":\"#f2f5fa\",\"arrowhead\":0,\"arrowwidth\":1},\"autotypenumbers\":\"strict\",\"coloraxis\":{\"colorbar\":{\"outlinewidth\":0,\"ticks\":\"\"}},\"colorscale\":{\"diverging\":[[0,\"#8e0152\"],[0.1,\"#c51b7d\"],[0.2,\"#de77ae\"],[0.3,\"#f1b6da\"],[0.4,\"#fde0ef\"],[0.5,\"#f7f7f7\"],[0.6,\"#e6f5d0\"],[0.7,\"#b8e186\"],[0.8,\"#7fbc41\"],[0.9,\"#4d9221\"],[1,\"#276419\"]],\"sequential\":[[0.0,\"#0d0887\"],[0.1111111111111111,\"#46039f\"],[0.2222222222222222,\"#7201a8\"],[0.3333333333333333,\"#9c179e\"],[0.4444444444444444,\"#bd3786\"],[0.5555555555555556,\"#d8576b\"],[0.6666666666666666,\"#ed7953\"],[0.7777777777777778,\"#fb9f3a\"],[0.8888888888888888,\"#fdca26\"],[1.0,\"#f0f921\"]],\"sequentialminus\":[[0.0,\"#0d0887\"],[0.1111111111111111,\"#46039f\"],[0.2222222222222222,\"#7201a8\"],[0.3333333333333333,\"#9c179e\"],[0.4444444444444444,\"#bd3786\"],[0.5555555555555556,\"#d8576b\"],[0.6666666666666666,\"#ed7953\"],[0.7777777777777778,\"#fb9f3a\"],[0.8888888888888888,\"#fdca26\"],[1.0,\"#f0f921\"]]},\"colorway\":[\"#636efa\",\"#EF553B\",\"#00cc96\",\"#ab63fa\",\"#FFA15A\",\"#19d3f3\",\"#FF6692\",\"#B6E880\",\"#FF97FF\",\"#FECB52\"],\"font\":{\"color\":\"#f2f5fa\"},\"geo\":{\"bgcolor\":\"rgb(17,17,17)\",\"lakecolor\":\"rgb(17,17,17)\",\"landcolor\":\"rgb(17,17,17)\",\"showlakes\":true,\"showland\":true,\"subunitcolor\":\"#506784\"},\"hoverlabel\":{\"align\":\"left\"},\"hovermode\":\"closest\",\"mapbox\":{\"style\":\"dark\"},\"paper_bgcolor\":\"rgb(17,17,17)\",\"plot_bgcolor\":\"rgb(17,17,17)\",\"polar\":{\"angularaxis\":{\"gridcolor\":\"#506784\",\"linecolor\":\"#506784\",\"ticks\":\"\"},\"bgcolor\":\"rgb(17,17,17)\",\"radialaxis\":{\"gridcolor\":\"#506784\",\"linecolor\":\"#506784\",\"ticks\":\"\"}},\"scene\":{\"xaxis\":{\"backgroundcolor\":\"rgb(17,17,17)\",\"gridcolor\":\"#506784\",\"gridwidth\":2,\"linecolor\":\"#506784\",\"showbackground\":true,\"ticks\":\"\",\"zerolinecolor\":\"#C8D4E3\"},\"yaxis\":{\"backgroundcolor\":\"rgb(17,17,17)\",\"gridcolor\":\"#506784\",\"gridwidth\":2,\"linecolor\":\"#506784\",\"showbackground\":true,\"ticks\":\"\",\"zerolinecolor\":\"#C8D4E3\"},\"zaxis\":{\"backgroundcolor\":\"rgb(17,17,17)\",\"gridcolor\":\"#506784\",\"gridwidth\":2,\"linecolor\":\"#506784\",\"showbackground\":true,\"ticks\":\"\",\"zerolinecolor\":\"#C8D4E3\"}},\"shapedefaults\":{\"line\":{\"color\":\"#f2f5fa\"}},\"sliderdefaults\":{\"bgcolor\":\"#C8D4E3\",\"bordercolor\":\"rgb(17,17,17)\",\"borderwidth\":1,\"tickwidth\":0},\"ternary\":{\"aaxis\":{\"gridcolor\":\"#506784\",\"linecolor\":\"#506784\",\"ticks\":\"\"},\"baxis\":{\"gridcolor\":\"#506784\",\"linecolor\":\"#506784\",\"ticks\":\"\"},\"bgcolor\":\"rgb(17,17,17)\",\"caxis\":{\"gridcolor\":\"#506784\",\"linecolor\":\"#506784\",\"ticks\":\"\"}},\"title\":{\"x\":0.05},\"updatemenudefaults\":{\"bgcolor\":\"#506784\",\"borderwidth\":0},\"xaxis\":{\"automargin\":true,\"gridcolor\":\"#283442\",\"linecolor\":\"#506784\",\"ticks\":\"\",\"title\":{\"standoff\":15},\"zerolinecolor\":\"#283442\",\"zerolinewidth\":2},\"yaxis\":{\"automargin\":true,\"gridcolor\":\"#283442\",\"linecolor\":\"#506784\",\"ticks\":\"\",\"title\":{\"standoff\":15},\"zerolinecolor\":\"#283442\",\"zerolinewidth\":2}}},\"xaxis\":{\"anchor\":\"y\",\"domain\":[0.0,1.0],\"title\":{\"text\":\"bmi\"}},\"yaxis\":{\"anchor\":\"x\",\"domain\":[0.0,1.0],\"title\":{\"text\":\"count\"}},\"legend\":{\"title\":{\"text\":\"region\"},\"tracegroupgap\":0},\"title\":{\"text\":\"Frequency of BMI grouped by region\"},\"barmode\":\"group\"},                        {\"responsive\": true}                    ).then(function(){\n",
              "                            \n",
              "var gd = document.getElementById('788f8147-e84c-4cc4-b132-65da4d872518');\n",
              "var x = new MutationObserver(function (mutations, observer) {{\n",
              "        var display = window.getComputedStyle(gd).display;\n",
              "        if (!display || display === 'none') {{\n",
              "            console.log([gd, 'removed!']);\n",
              "            Plotly.purge(gd);\n",
              "            observer.disconnect();\n",
              "        }}\n",
              "}});\n",
              "\n",
              "// Listen for the removal of the full notebook cells\n",
              "var notebookContainer = gd.closest('#notebook-container');\n",
              "if (notebookContainer) {{\n",
              "    x.observe(notebookContainer, {childList: true});\n",
              "}}\n",
              "\n",
              "// Listen for the clearing of the current output cell\n",
              "var outputEl = gd.closest('.output');\n",
              "if (outputEl) {{\n",
              "    x.observe(outputEl, {childList: true});\n",
              "}}\n",
              "\n",
              "                        })                };                            </script>        </div>\n",
              "</body>\n",
              "</html>"
            ]
          },
          "metadata": {}
        }
      ]
    },
    {
      "cell_type": "markdown",
      "source": [
        "# 💡 Insights:"
      ],
      "metadata": {
        "id": "TxYhEnZHtBd2"
      }
    },
    {
      "cell_type": "markdown",
      "source": [
        "The average BMI from Southeast is the highest\n",
        "\n",
        "Conclusion: the more obese the person is, the heavier the charges become\n",
        "\n",
        "From 35 BMI or higher, the person is considered extremily obese which shows Southeast the top 1 among the other regions"
      ],
      "metadata": {
        "id": "RASBy3OFtMKs"
      }
    },
    {
      "cell_type": "markdown",
      "source": [
        "# Comparison: male and female"
      ],
      "metadata": {
        "id": "nT-FN-TBtsWB"
      }
    },
    {
      "cell_type": "markdown",
      "source": [
        "Is there a significant difference between genders?"
      ],
      "metadata": {
        "id": "NAkaCBGFtxHP"
      }
    },
    {
      "cell_type": "code",
      "source": [
        "gender_group = df2.groupby('sex').mean()\n",
        "gender_group"
      ],
      "metadata": {
        "colab": {
          "base_uri": "https://localhost:8080/",
          "height": 143
        },
        "id": "rmdBiRwTse4X",
        "outputId": "1f716f92-eb0b-4926-ebc9-6ad1f7d44398"
      },
      "execution_count": 68,
      "outputs": [
        {
          "output_type": "execute_result",
          "data": {
            "text/plain": [
              "              age        bmi  children       charges\n",
              "sex                                                 \n",
              "female  39.400612  30.177263  1.067278  12406.163215\n",
              "male    39.070997  30.655793  1.114804  14030.062467"
            ],
            "text/html": [
              "\n",
              "  <div id=\"df-cf397276-de31-402f-9cdd-fb7ef8793f35\">\n",
              "    <div class=\"colab-df-container\">\n",
              "      <div>\n",
              "<style scoped>\n",
              "    .dataframe tbody tr th:only-of-type {\n",
              "        vertical-align: middle;\n",
              "    }\n",
              "\n",
              "    .dataframe tbody tr th {\n",
              "        vertical-align: top;\n",
              "    }\n",
              "\n",
              "    .dataframe thead th {\n",
              "        text-align: right;\n",
              "    }\n",
              "</style>\n",
              "<table border=\"1\" class=\"dataframe\">\n",
              "  <thead>\n",
              "    <tr style=\"text-align: right;\">\n",
              "      <th></th>\n",
              "      <th>age</th>\n",
              "      <th>bmi</th>\n",
              "      <th>children</th>\n",
              "      <th>charges</th>\n",
              "    </tr>\n",
              "    <tr>\n",
              "      <th>sex</th>\n",
              "      <th></th>\n",
              "      <th></th>\n",
              "      <th></th>\n",
              "      <th></th>\n",
              "    </tr>\n",
              "  </thead>\n",
              "  <tbody>\n",
              "    <tr>\n",
              "      <th>female</th>\n",
              "      <td>39.400612</td>\n",
              "      <td>30.177263</td>\n",
              "      <td>1.067278</td>\n",
              "      <td>12406.163215</td>\n",
              "    </tr>\n",
              "    <tr>\n",
              "      <th>male</th>\n",
              "      <td>39.070997</td>\n",
              "      <td>30.655793</td>\n",
              "      <td>1.114804</td>\n",
              "      <td>14030.062467</td>\n",
              "    </tr>\n",
              "  </tbody>\n",
              "</table>\n",
              "</div>\n",
              "      <button class=\"colab-df-convert\" onclick=\"convertToInteractive('df-cf397276-de31-402f-9cdd-fb7ef8793f35')\"\n",
              "              title=\"Convert this dataframe to an interactive table.\"\n",
              "              style=\"display:none;\">\n",
              "        \n",
              "  <svg xmlns=\"http://www.w3.org/2000/svg\" height=\"24px\"viewBox=\"0 0 24 24\"\n",
              "       width=\"24px\">\n",
              "    <path d=\"M0 0h24v24H0V0z\" fill=\"none\"/>\n",
              "    <path d=\"M18.56 5.44l.94 2.06.94-2.06 2.06-.94-2.06-.94-.94-2.06-.94 2.06-2.06.94zm-11 1L8.5 8.5l.94-2.06 2.06-.94-2.06-.94L8.5 2.5l-.94 2.06-2.06.94zm10 10l.94 2.06.94-2.06 2.06-.94-2.06-.94-.94-2.06-.94 2.06-2.06.94z\"/><path d=\"M17.41 7.96l-1.37-1.37c-.4-.4-.92-.59-1.43-.59-.52 0-1.04.2-1.43.59L10.3 9.45l-7.72 7.72c-.78.78-.78 2.05 0 2.83L4 21.41c.39.39.9.59 1.41.59.51 0 1.02-.2 1.41-.59l7.78-7.78 2.81-2.81c.8-.78.8-2.07 0-2.86zM5.41 20L4 18.59l7.72-7.72 1.47 1.35L5.41 20z\"/>\n",
              "  </svg>\n",
              "      </button>\n",
              "      \n",
              "  <style>\n",
              "    .colab-df-container {\n",
              "      display:flex;\n",
              "      flex-wrap:wrap;\n",
              "      gap: 12px;\n",
              "    }\n",
              "\n",
              "    .colab-df-convert {\n",
              "      background-color: #E8F0FE;\n",
              "      border: none;\n",
              "      border-radius: 50%;\n",
              "      cursor: pointer;\n",
              "      display: none;\n",
              "      fill: #1967D2;\n",
              "      height: 32px;\n",
              "      padding: 0 0 0 0;\n",
              "      width: 32px;\n",
              "    }\n",
              "\n",
              "    .colab-df-convert:hover {\n",
              "      background-color: #E2EBFA;\n",
              "      box-shadow: 0px 1px 2px rgba(60, 64, 67, 0.3), 0px 1px 3px 1px rgba(60, 64, 67, 0.15);\n",
              "      fill: #174EA6;\n",
              "    }\n",
              "\n",
              "    [theme=dark] .colab-df-convert {\n",
              "      background-color: #3B4455;\n",
              "      fill: #D2E3FC;\n",
              "    }\n",
              "\n",
              "    [theme=dark] .colab-df-convert:hover {\n",
              "      background-color: #434B5C;\n",
              "      box-shadow: 0px 1px 3px 1px rgba(0, 0, 0, 0.15);\n",
              "      filter: drop-shadow(0px 1px 2px rgba(0, 0, 0, 0.3));\n",
              "      fill: #FFFFFF;\n",
              "    }\n",
              "  </style>\n",
              "\n",
              "      <script>\n",
              "        const buttonEl =\n",
              "          document.querySelector('#df-cf397276-de31-402f-9cdd-fb7ef8793f35 button.colab-df-convert');\n",
              "        buttonEl.style.display =\n",
              "          google.colab.kernel.accessAllowed ? 'block' : 'none';\n",
              "\n",
              "        async function convertToInteractive(key) {\n",
              "          const element = document.querySelector('#df-cf397276-de31-402f-9cdd-fb7ef8793f35');\n",
              "          const dataTable =\n",
              "            await google.colab.kernel.invokeFunction('convertToInteractive',\n",
              "                                                     [key], {});\n",
              "          if (!dataTable) return;\n",
              "\n",
              "          const docLinkHtml = 'Like what you see? Visit the ' +\n",
              "            '<a target=\"_blank\" href=https://colab.research.google.com/notebooks/data_table.ipynb>data table notebook</a>'\n",
              "            + ' to learn more about interactive tables.';\n",
              "          element.innerHTML = '';\n",
              "          dataTable['output_type'] = 'display_data';\n",
              "          await google.colab.output.renderOutput(dataTable, element);\n",
              "          const docLink = document.createElement('div');\n",
              "          docLink.innerHTML = docLinkHtml;\n",
              "          element.appendChild(docLink);\n",
              "        }\n",
              "      </script>\n",
              "    </div>\n",
              "  </div>\n",
              "  "
            ]
          },
          "metadata": {},
          "execution_count": 68
        }
      ]
    },
    {
      "cell_type": "code",
      "source": [
        "# How much men is charged over women?\n",
        "gender_diff = (gender_group.charges.male-gender_group.charges.female)/gender_group.charges.female * 100\n",
        "print('\\nMale is charged' , round(gender_diff,2), '% over Female\\n')"
      ],
      "metadata": {
        "colab": {
          "base_uri": "https://localhost:8080/"
        },
        "id": "kkpqRsYWt4V1",
        "outputId": "cefb9bd6-6800-42f1-90fe-7fbc51045987"
      },
      "execution_count": 69,
      "outputs": [
        {
          "output_type": "stream",
          "name": "stdout",
          "text": [
            "\n",
            "Male is charged 13.09 % over Female\n",
            "\n"
          ]
        }
      ]
    },
    {
      "cell_type": "code",
      "source": [
        "fig = px.box(df2, x='charges', y='smoker', color='sex', title='Smokers vs Non Smokers ', template='plotly_dark', notched=True)\n",
        "#allow you to evaluate confidence intervals(by default 95% confidence interval)for the median of each boxplot\n",
        "fig.add_vline(x=19600, line_dash=\"dot\", line_color=\"white\", annotation_text=\" ⬅⬅⬅ Smoking costs!\")#x:where to plot the line "
      ],
      "metadata": {
        "colab": {
          "base_uri": "https://localhost:8080/",
          "height": 542
        },
        "id": "6qd6VpvYuM3c",
        "outputId": "e2093492-4a86-43f1-9d57-4cceeff0aa64"
      },
      "execution_count": 71,
      "outputs": [
        {
          "output_type": "display_data",
          "data": {
            "text/html": [
              "<html>\n",
              "<head><meta charset=\"utf-8\" /></head>\n",
              "<body>\n",
              "    <div>            <script src=\"https://cdnjs.cloudflare.com/ajax/libs/mathjax/2.7.5/MathJax.js?config=TeX-AMS-MML_SVG\"></script><script type=\"text/javascript\">if (window.MathJax) {MathJax.Hub.Config({SVG: {font: \"STIX-Web\"}});}</script>                <script type=\"text/javascript\">window.PlotlyConfig = {MathJaxConfig: 'local'};</script>\n",
              "        <script src=\"https://cdn.plot.ly/plotly-2.8.3.min.js\"></script>                <div id=\"7a223100-a00f-43fe-8351-3d6f891a901d\" class=\"plotly-graph-div\" style=\"height:525px; width:100%;\"></div>            <script type=\"text/javascript\">                                    window.PLOTLYENV=window.PLOTLYENV || {};                                    if (document.getElementById(\"7a223100-a00f-43fe-8351-3d6f891a901d\")) {                    Plotly.newPlot(                        \"7a223100-a00f-43fe-8351-3d6f891a901d\",                        [{\"alignmentgroup\":\"True\",\"hovertemplate\":\"sex=female<br>charges=%{x}<br>smoker=%{y}<extra></extra>\",\"legendgroup\":\"female\",\"marker\":{\"color\":\"#636efa\"},\"name\":\"female\",\"notched\":true,\"offsetgroup\":\"female\",\"orientation\":\"h\",\"showlegend\":true,\"x\":[16884.924,3756.6216,8240.5896,7281.5056,28923.13692,27808.7251,11090.7178,10797.3362,13228.84695,4149.736,37701.8768,14001.1338,14451.83515,12268.63225,2198.18985,4687.797,15612.19335,3046.062,4949.7587,6313.759,3393.35635,3556.9223,12629.8967,2211.13075,3579.8287,8059.6791,13607.36875,23244.7902,5989.52365,4133.64165,14711.7438,1743.214,14235.072,5920.1041,16577.7795,11741.726,3947.4131,2755.02095,6571.02435,7935.29115,11033.6617,39836.519,43578.9394,11073.176,8026.6666,11082.5772,2026.9741,10942.13205,47291.055,3766.8838,12105.32,6186.127,21344.8467,30942.1918,5003.853,2331.519,11881.358,2404.7338,19107.7796,8601.3293,6686.4313,2257.47525,10115.00885,3385.39915,17081.08,9634.538,32734.1863,12815.44495,13616.3586,11163.568,2457.21115,2155.6815,27322.73386,2166.732,5138.2567,9877.6077,10959.6947,6334.34355,19964.7463,7077.1894,19749.38338,21348.706,36149.4835,5152.134,4830.63,6128.79745,2719.27975,5246.047,2855.43755,48824.45,8823.279,8538.28845,1631.8212,7419.4779,3981.9768,5325.651,6775.961,4922.9159,4883.866,12044.342,5649.715,8516.829,9644.2525,14901.5167,2130.6759,8871.1517,13012.20865,37133.8982,4337.7352,13880.949,5002.7827,8520.026,7371.772,10355.641,3392.9768,25081.76784,5012.471,10564.8845,24227.33724,7358.17565,7443.64305,14001.2867,1727.785,19444.2658,1615.7667,38511.6283,5354.07465,35160.13457,29523.1656,12648.7034,47305.305,13047.33235,5400.9805,11837.16,17085.2676,20462.99766,14590.63205,9715.841,2150.469,9855.1314,22331.5668,11879.10405,9625.92,14256.1928,47896.79135,3172.018,2156.7518,9249.4952,24873.3849,12265.5069,4349.462,12646.207,20177.67113,4151.0287,7749.1564,1737.376,34838.873,7421.19455,24671.66334,3561.8889,47928.03,48517.56315,13429.0354,11658.37915,19144.57652,8232.6388,18955.22017,13217.0945,10977.2063,6184.2994,5478.0368,11830.6072,8932.084,3554.203,14133.03775,1607.5101,10043.249,13844.506,2597.779,3180.5101,9778.3472,13430.265,8017.06115,13415.0381,12029.2867,7639.41745,18033.9679,21659.9301,16455.70785,15006.57945,5846.9176,11856.4115,3176.8159,4618.0799,2138.0707,9411.005,8522.003,1631.6683,9264.797,14692.66935,11396.9002,4185.0979,8539.671,19594.80965,14455.64405,2134.9015,7345.7266,18608.262,28950.4692,6555.07035,7323.734819,3167.45585,18804.7524,4906.40965,12638.195,4738.2682,37079.372,28287.89766,7345.084,11454.0215,5910.944,11881.9696,11840.77505,7682.67,10381.4787,15230.32405,19521.9682,13224.693,12643.3778,23288.9284,2201.0971,2203.47185,1744.465,20878.78443,1622.1885,9880.068,4347.02335,12475.3513,48885.13561,1748.774,24513.09126,2196.4732,4931.647,8211.1002,13470.86,5974.3847,3044.2133,11455.28,5240.765,25656.57526,3994.1778,9866.30485,5397.6167,11482.63485,24059.68019,9861.025,14043.4767,5972.378,8825.086,8233.0975,6196.448,3056.3881,13887.204,3213.62205,3972.9247,11187.6567,17878.90068,39983.42595,9193.8385,10923.9332,2801.2588,2128.43105,6373.55735,11552.904,3761.292,2219.4451,4753.6368,31620.00106,13224.05705,12222.8983,58571.07448,3206.49135,17626.23951,4779.6023,43943.8761,13635.6379,5976.8311,11842.442,15359.1045,8823.98575,7640.3092,5594.8455,33471.97189,1633.0444,11070.535,16085.1275,17468.9839,9283.562,3558.62025,25678.77845,8547.6913,6571.544,2207.69745,6753.038,1880.07,42969.8527,11658.11505,34439.8559,10713.644,9182.17,3736.4647,42983.4585,3366.6697,2709.1119,24915.04626,4466.6214,8252.2843,12430.95335,9800.8882,10579.711,8280.6227,8527.532,12244.531,24667.419,3410.324,26392.26029,14394.39815,22192.43711,5148.5526,27037.9141,40003.33225,6500.2359,3943.5954,6185.3208,46200.9851,12485.8009,10156.7832,2585.269,4766.022,26236.57997,3577.999,3201.24515,29186.48236,3500.6123,2020.5523,9541.69555,5385.3379,8930.93455,5375.038,44400.4064,6113.23105,5469.0066,10107.2206,8310.83915,2457.502,9566.9909,10848.1343,12231.6136,9875.6804,10106.13425,40932.4295,16657.71745,2217.6012,6781.3542,4234.927,9447.25035,14007.222,9583.8933,40419.0191,3757.8448,9910.35985,8556.907,19539.243,11833.7823,7985.815,23065.4207,3925.7582,9095.06825,11842.62375,7050.642,14319.031,6933.24225,11150.78,12797.20962,17748.5062,24520.264,4350.5144,6414.178,13457.9608,5662.225,2731.9122,7209.4918,4719.52405,11848.141,7046.7222,14313.8463,38792.6856,7731.85785,28476.73499,2136.88225,9414.92,6360.9936,1877.9294,2842.76075,23401.30575,55135.40209,1621.8827,8219.2039,16069.08475,5266.3656,4719.73655,11657.7189,6402.29135,12622.1795,36021.0112,27533.9129,45008.9555,9872.701,2974.126,37270.1512,42111.6647,11729.6795,24106.91255,1875.344,40974.1649,18218.16139,7151.092,12269.68865,5458.04645,4391.652,3392.3652,2690.1138,26140.3603,6311.952,2585.85065,46255.1125,5272.1758,29330.98315,7243.8136,13063.883,19798.05455,1634.5734,2117.33885,12644.589,4564.19145,7633.7206,17496.306,14382.70905,7626.993,2473.3341,21774.32215,13041.921,5245.2269,13451.122,13462.52,2913.569,12032.326,13470.8044,6238.298,7348.142,12233.828,8965.79575,2217.46915,11674.13,4527.18295,2730.10785,3353.284,14474.675,8596.8278,10702.6424,4992.3764,2527.81865,1759.338,9704.66805,4889.0368,16796.41194,7624.63,28340.18885,14571.8908,3378.91,7144.86265,10118.424,16420.49455,7986.47525,7418.522,13887.9685,6551.7501,5267.81815,8269.044,36580.28216,5383.536,2709.24395,3987.926,12495.29085,26018.95052,35595.5898,2020.177,6877.9801,21677.28345,44423.803,4137.5227,12094.478,39725.51805,20234.85475,3161.454,21880.82,7325.0482,3594.17085,8023.13545,3353.4703,8277.523,17929.30337,2480.9791,5708.867,7045.499,10928.849,12096.6512,13204.28565,4562.8421,8551.347,15019.76005,19023.26,11286.5387,33907.548,11299.343,4561.1885,44641.1974,23045.56616,3227.1211,16776.30405,10338.9316,8988.15875,10493.9458,11512.405,24180.9335,5312.16985,5693.4305,34166.273,46661.4424,18903.49141,40904.1995,14254.6082,5836.5204,1728.897,8582.3023,9991.03765,11085.5868,7623.518,3176.2877,36898.73308,7954.517,27117.99378,2261.5688,2203.73595,12235.8392,40941.2854,5630.45785,11015.1747,7228.21565,14426.07385,2459.7201,3989.841,7727.2532,2200.83085,7153.5539,5227.98875,4529.477,6112.35295,22478.6,11093.6229,2154.361,23887.6627,6496.886,2899.48935,7650.77375,2850.68375,2632.992,9447.3824,18328.2381,13844.7972,21771.3423,13126.67745,5327.40025,13725.47184,13019.16105,8671.19125,4134.08245,18838.70366,33307.5508,4934.705,18223.4512,36910.60803,20296.86345,10806.839,3956.07145,41661.602,7537.1639,4718.20355,26125.67477,4795.6568,20167.33603,12479.70895,8515.7587,14449.8544,12224.35085,3238.4357,4296.2712,3171.6149,9101.798,1633.9618,15828.82173,4415.1588,6474.013,11436.73815,11305.93455,10197.7722,4544.2348,6770.1925,7337.748,10370.91255,10704.47,1880.487,3021.80915,2741.948,4357.04365,4189.1131,8283.6807,24535.69855,14283.4594,8534.6718,3732.6251,5472.449,7133.9025,4340.4409,2710.82855,3208.787,2464.6188,16115.3045,33900.653,4571.41305,36397.576,18765.87545,1731.677,7201.70085,43896.3763,7050.0213,22395.74424,12629.1656,10795.93733,11411.685,2205.9808,1629.8335,2007.945,29141.3603],\"x0\":\" \",\"xaxis\":\"x\",\"y\":[\"yes\",\"no\",\"no\",\"no\",\"no\",\"yes\",\"no\",\"no\",\"no\",\"no\",\"yes\",\"no\",\"no\",\"no\",\"no\",\"no\",\"no\",\"no\",\"no\",\"no\",\"no\",\"no\",\"no\",\"no\",\"no\",\"no\",\"no\",\"yes\",\"no\",\"no\",\"yes\",\"no\",\"no\",\"no\",\"yes\",\"no\",\"no\",\"no\",\"no\",\"no\",\"no\",\"yes\",\"yes\",\"no\",\"no\",\"no\",\"no\",\"no\",\"yes\",\"no\",\"no\",\"no\",\"no\",\"yes\",\"no\",\"no\",\"no\",\"no\",\"yes\",\"no\",\"no\",\"no\",\"no\",\"no\",\"yes\",\"no\",\"yes\",\"no\",\"no\",\"no\",\"no\",\"no\",\"no\",\"no\",\"no\",\"no\",\"no\",\"no\",\"yes\",\"no\",\"no\",\"yes\",\"yes\",\"no\",\"no\",\"no\",\"no\",\"no\",\"no\",\"yes\",\"no\",\"no\",\"no\",\"no\",\"no\",\"no\",\"no\",\"no\",\"no\",\"no\",\"no\",\"no\",\"no\",\"no\",\"no\",\"no\",\"no\",\"yes\",\"no\",\"no\",\"no\",\"no\",\"no\",\"no\",\"no\",\"no\",\"no\",\"no\",\"no\",\"no\",\"no\",\"no\",\"no\",\"yes\",\"no\",\"yes\",\"no\",\"no\",\"yes\",\"no\",\"yes\",\"no\",\"no\",\"no\",\"yes\",\"no\",\"no\",\"no\",\"no\",\"no\",\"yes\",\"no\",\"no\",\"no\",\"yes\",\"no\",\"no\",\"no\",\"yes\",\"no\",\"no\",\"no\",\"no\",\"no\",\"no\",\"no\",\"yes\",\"no\",\"no\",\"no\",\"yes\",\"yes\",\"no\",\"no\",\"no\",\"no\",\"no\",\"no\",\"no\",\"no\",\"no\",\"no\",\"no\",\"no\",\"no\",\"no\",\"no\",\"yes\",\"no\",\"no\",\"no\",\"no\",\"no\",\"no\",\"no\",\"no\",\"yes\",\"yes\",\"no\",\"yes\",\"no\",\"no\",\"no\",\"no\",\"no\",\"no\",\"no\",\"no\",\"no\",\"no\",\"no\",\"no\",\"no\",\"yes\",\"yes\",\"no\",\"no\",\"yes\",\"yes\",\"no\",\"no\",\"no\",\"no\",\"no\",\"no\",\"no\",\"yes\",\"no\",\"no\",\"no\",\"no\",\"no\",\"no\",\"no\",\"no\",\"no\",\"yes\",\"no\",\"no\",\"no\",\"no\",\"no\",\"no\",\"no\",\"no\",\"no\",\"no\",\"no\",\"yes\",\"no\",\"no\",\"no\",\"no\",\"no\",\"no\",\"no\",\"no\",\"no\",\"no\",\"no\",\"no\",\"no\",\"no\",\"no\",\"no\",\"no\",\"no\",\"no\",\"no\",\"no\",\"no\",\"no\",\"no\",\"no\",\"no\",\"no\",\"no\",\"yes\",\"no\",\"no\",\"no\",\"no\",\"no\",\"no\",\"no\",\"no\",\"no\",\"no\",\"no\",\"no\",\"yes\",\"no\",\"no\",\"no\",\"yes\",\"no\",\"no\",\"no\",\"yes\",\"no\",\"no\",\"no\",\"no\",\"no\",\"no\",\"no\",\"yes\",\"no\",\"no\",\"yes\",\"no\",\"no\",\"no\",\"no\",\"no\",\"yes\",\"no\",\"yes\",\"no\",\"no\",\"no\",\"yes\",\"no\",\"no\",\"no\",\"no\",\"no\",\"no\",\"no\",\"no\",\"no\",\"no\",\"no\",\"yes\",\"no\",\"no\",\"no\",\"no\",\"no\",\"yes\",\"yes\",\"no\",\"no\",\"no\",\"yes\",\"no\",\"no\",\"no\",\"no\",\"no\",\"no\",\"no\",\"no\",\"no\",\"no\",\"no\",\"no\",\"no\",\"no\",\"yes\",\"no\",\"no\",\"no\",\"no\",\"no\",\"no\",\"no\",\"no\",\"no\",\"no\",\"yes\",\"yes\",\"no\",\"no\",\"no\",\"no\",\"no\",\"no\",\"yes\",\"no\",\"no\",\"no\",\"yes\",\"no\",\"no\",\"yes\",\"no\",\"no\",\"no\",\"no\",\"no\",\"no\",\"no\",\"no\",\"yes\",\"yes\",\"no\",\"no\",\"no\",\"no\",\"no\",\"no\",\"no\",\"no\",\"no\",\"no\",\"yes\",\"no\",\"no\",\"no\",\"no\",\"no\",\"no\",\"no\",\"yes\",\"yes\",\"no\",\"no\",\"no\",\"no\",\"no\",\"no\",\"no\",\"no\",\"yes\",\"yes\",\"yes\",\"no\",\"no\",\"yes\",\"yes\",\"no\",\"yes\",\"no\",\"yes\",\"no\",\"no\",\"no\",\"no\",\"no\",\"no\",\"no\",\"no\",\"no\",\"no\",\"yes\",\"no\",\"yes\",\"no\",\"no\",\"yes\",\"no\",\"no\",\"no\",\"no\",\"no\",\"yes\",\"no\",\"no\",\"no\",\"yes\",\"no\",\"no\",\"no\",\"no\",\"no\",\"no\",\"no\",\"no\",\"no\",\"no\",\"no\",\"no\",\"no\",\"no\",\"no\",\"no\",\"no\",\"no\",\"no\",\"no\",\"no\",\"no\",\"no\",\"no\",\"no\",\"no\",\"no\",\"yes\",\"no\",\"no\",\"no\",\"yes\",\"no\",\"no\",\"no\",\"no\",\"no\",\"no\",\"no\",\"no\",\"no\",\"no\",\"no\",\"no\",\"yes\",\"no\",\"no\",\"yes\",\"yes\",\"no\",\"no\",\"yes\",\"yes\",\"no\",\"yes\",\"no\",\"no\",\"no\",\"no\",\"no\",\"no\",\"no\",\"no\",\"no\",\"no\",\"no\",\"no\",\"no\",\"no\",\"no\",\"yes\",\"no\",\"yes\",\"no\",\"no\",\"yes\",\"no\",\"no\",\"yes\",\"no\",\"no\",\"no\",\"no\",\"yes\",\"no\",\"no\",\"yes\",\"yes\",\"no\",\"yes\",\"no\",\"no\",\"no\",\"no\",\"no\",\"no\",\"no\",\"no\",\"yes\",\"no\",\"no\",\"no\",\"no\",\"no\",\"yes\",\"no\",\"no\",\"no\",\"no\",\"no\",\"no\",\"no\",\"no\",\"no\",\"no\",\"no\",\"no\",\"yes\",\"no\",\"no\",\"yes\",\"no\",\"no\",\"no\",\"no\",\"no\",\"no\",\"yes\",\"no\",\"yes\",\"no\",\"no\",\"no\",\"no\",\"no\",\"no\",\"no\",\"yes\",\"no\",\"yes\",\"no\",\"yes\",\"no\",\"no\",\"yes\",\"no\",\"no\",\"yes\",\"no\",\"yes\",\"no\",\"no\",\"no\",\"no\",\"no\",\"no\",\"no\",\"no\",\"no\",\"no\",\"no\",\"no\",\"no\",\"no\",\"no\",\"no\",\"no\",\"no\",\"no\",\"no\",\"no\",\"no\",\"no\",\"no\",\"no\",\"no\",\"yes\",\"yes\",\"no\",\"no\",\"no\",\"no\",\"no\",\"no\",\"no\",\"no\",\"yes\",\"yes\",\"no\",\"yes\",\"yes\",\"no\",\"no\",\"yes\",\"no\",\"no\",\"no\",\"no\",\"no\",\"no\",\"no\",\"no\",\"yes\"],\"y0\":\" \",\"yaxis\":\"y\",\"type\":\"box\"},{\"alignmentgroup\":\"True\",\"hovertemplate\":\"sex=male<br>charges=%{x}<br>smoker=%{y}<extra></extra>\",\"legendgroup\":\"male\",\"marker\":{\"color\":\"#EF553B\"},\"name\":\"male\",\"notched\":true,\"offsetgroup\":\"male\",\"orientation\":\"h\",\"showlegend\":true,\"x\":[1725.5523,4449.462,21984.47061,3866.8552,6406.4107,2721.3208,1826.843,39611.7577,1837.237,2395.17155,10602.385,36837.467,1137.011,6203.90175,2775.19215,38711.0,35585.576,13770.0979,51194.55914,1625.43375,2302.3,39774.2763,48173.361,6272.4772,6079.6715,20630.28351,38709.176,23568.272,37742.5757,47496.49445,34303.1672,8606.2174,4504.6624,30166.61817,6389.37785,17663.1442,6799.458,11946.6259,7726.854,11356.6609,1532.4697,4441.21315,37165.1638,21098.55405,30184.9367,5729.0053,10226.2842,22412.6485,15820.699,3645.0894,17560.37975,3877.30425,2867.1196,47055.5321,10825.2537,4646.759,11488.31695,30259.99556,7740.337,1705.6245,39556.4945,6082.405,1632.56445,1261.442,2045.68525,27375.90478,3490.5491,18972.495,18157.876,20745.9891,40720.55105,1842.519,5125.2157,7789.635,6948.7008,21223.6758,15518.18025,36950.2567,10450.552,5028.1466,10407.08585,4827.90495,13405.3903,8116.68,6455.86265,10436.096,11735.87905,4005.4225,7731.4271,43753.33705,12557.6053,2137.6536,1137.4697,1639.5631,7147.105,11743.299,20984.0936,6610.1097,1980.07,8162.71625,3537.703,2483.736,5253.524,34779.615,19515.5416,11987.1682,2689.4954,9225.2564,12333.828,6710.1919,4463.2051,17352.6803,7152.6714,7196.867,24476.47851,1986.9334,1832.094,4040.55825,12829.4551,44260.7499,4260.744,41097.16175,43921.1837,11520.09985,33750.2918,24869.8368,36219.40545,46151.1245,17179.522,7441.053,9282.4806,1719.4363,42856.838,7265.7025,9617.66245,2523.1695,2803.69785,12928.7911,48549.17835,4237.12655,7742.1098,25992.82104,20277.80751,3906.127,1704.5681,16297.846,21978.6769,38746.3551,6746.7425,19442.3535,11944.59435,8444.474,42124.5153,8124.4084,9722.7695,8835.26495,10435.06525,4667.60765,4894.7533,35491.64,11566.30055,2866.091,6600.20595,42760.5022,9144.565,24393.6224,13822.803,12142.5786,13937.6665,41919.097,13352.0998,13981.85035,4889.9995,8334.45755,1635.73365,12404.8791,24603.04837,8944.1151,9620.3307,1837.2819,4751.07,8116.26885,3481.868,36085.219,1391.5287,38126.2465,27000.98473,42303.69215,20781.48892,8302.53565,1261.859,30284.64294,10736.87075,8964.06055,9290.1395,7526.70645,16586.49771,14988.432,10269.46,3260.199,6652.5288,4074.4537,1621.3402,5080.096,9140.951,14418.2804,46889.2612,46599.1084,39125.33225,2727.3951,8968.33,9788.8659,23082.95533,5969.723,4243.59005,13919.8229,2254.7967,5926.846,2897.3235,1149.3959,26109.32905,12730.9996,4762.329,7512.267,4032.2407,1969.614,1769.53165,21797.0004,10601.412,22144.032,11165.41765,1632.03625,2497.0383,25382.297,28868.6639,35147.52848,2534.39375,1534.3045,1824.2854,15555.18875,9304.7019,9563.029,1253.936,10461.9794,12574.049,17942.106,1967.0227,8027.968,36197.699,6837.3687,22218.1149,32548.3405,6796.86325,2643.2685,3077.0955,11763.0009,2498.4144,9361.3268,1256.299,21082.16,11362.755,27724.28875,8413.46305,3857.75925,38245.59327,8342.90875,1708.0014,48675.5177,12925.886,19214.70553,13831.1152,6067.12675,27346.04207,10231.4999,23807.2406,3268.84665,13390.559,12957.118,3847.674,8334.5896,3935.1799,1646.4297,2494.022,9058.7303,7256.7231,45702.02235,1664.9996,9724.53,12913.9924,1242.816,3861.20965,8428.0693,2566.4707,5709.1644,7441.501,9174.13565,4435.0942,39241.442,23306.547,3659.346,40182.246,34617.84065,12129.61415,6748.5912,11326.71487,11365.952,10085.846,1977.815,7173.35995,9391.346,14410.9321,20149.3229,12949.1554,6666.243,32787.45859,13143.86485,18806.14547,10141.1362,6123.5688,1712.227,4058.71245,1136.3994,42560.4304,8703.456,45710.20785,4837.5823,4399.731,7222.78625,46130.5265,12363.547,1242.26,40103.89,9863.4718,11244.3769,7729.64575,5438.7491,34806.4677,2104.1134,8068.185,2362.22905,2352.96845,40273.6455,10976.24575,9504.3103,10264.4421,1727.54,1984.4533,12146.971,13112.6048,11264.541,12979.358,1263.249,6664.68595,19361.9988,10065.413,3484.331,36189.1017,44585.45587,8604.48365,18246.4955,43254.41795,8827.2099,11737.84884,1627.28245,3062.50825,1906.35825,14210.53595,17128.42608,5031.26955,5428.7277,36307.7983,2416.955,19040.876,3070.8087,8062.764,27941.28758,7261.741,10560.4917,6986.697,7448.40395,5934.3798,9869.8102,18259.216,1146.7966,9386.1613,12741.16745,1917.3184,5209.57885,1252.407,21195.818,18310.742,4266.1658,17904.52705,2103.08,1815.8759,1131.5066,3309.7926,11013.7119,4428.88785,5584.3057,3597.596,7445.918,2680.9493,12523.6048,43813.8661,20773.62775,39597.4072,6117.4945,13393.756,11743.9341,5377.4578,7160.3303,4402.233,1526.312,12323.936,10072.05505,10601.63225,14119.62,15817.9857,10965.446,8782.469,6600.361,1141.4451,11576.13,13129.60345,8457.818,5966.8874,6849.026,8891.1395,6653.7886,6282.235,3443.064,2789.0574,4877.98105,19719.6947,27218.43725,1682.597,11945.1327,10422.91665,44202.6536,13555.0049,2221.56445,8688.85885,48673.5588,4661.28635,8125.7845,4846.92015,15170.069,2639.0429,33732.6867,5257.50795,35069.37452,5488.262,4320.41085,6250.435,25333.33284,6289.7549,10096.97,4673.3922,32108.66282,2304.0022,9487.6442,1121.8739,1628.4709,12982.8747,7160.094,39047.285,6358.77645,19933.458,11534.87265,47462.894,38998.546,20009.63365,3875.7341,41999.52,12609.88702,41034.2214,28468.91901,9500.57305,26467.09737,4746.344,23967.38305,7518.02535,3279.86855,2322.6218,16138.76205,7804.1605,2902.9065,25517.11363,4500.33925,19199.944,4915.05985,8410.04685,4518.82625,5484.4673,17361.7661,34472.841,1972.95,21232.18226,8627.5411,4433.3877,4438.2634,24915.22085,23241.47453,9957.7216,18767.7377,8765.249,12124.9924,8798.593,42211.1382,1711.0268,16450.8947,21595.38229,9850.432,13747.87235,12950.0712,37484.4493,2250.8352,22493.65964,1704.70015,33475.81715,11394.06555,39727.614,14394.5579,9288.0267,25309.489,10594.50155,4462.7218,1981.5819,11554.2236,48970.2476,6548.19505,8978.1851,5757.41345,14349.8544,39871.7043,13974.45555,1909.52745,2102.2647,34672.1472,15161.5344,11884.04858,4454.40265,5855.9025,4076.497,10796.35025,11353.2276,10577.087,41676.0811,3591.48,1674.6323,11253.421,3471.4096,11363.2832,20420.60465,2904.088,8605.3615,41949.2441,2396.0959,10807.4863,9222.4026,36124.5737,38282.7495,8347.1643,10214.636,14358.36437,20709.02034,19673.33573,3704.3545,9048.0273,6338.0756,9630.397,11289.10925,52590.82939,10791.96,5979.731,39722.7462,5124.1887,18963.17192,10982.5013,4670.64,17178.6824,6457.8434,4433.9159,19350.3689,8603.8234,37465.34375,5699.8375,6393.60345,6198.7518,8733.22925,2055.3249,9964.06,5116.5004,38415.474,12347.172,5373.36425,23563.01618,1702.4553,12890.05765,5415.6612,4058.1161,6593.5083,8442.667,6858.4796,6640.54485,7162.0122,10594.2257,11938.25595,60021.39897,11345.519,2699.56835,6985.50695,47269.854,49577.6624,1135.9407,5615.369,6059.173,37607.5277,18648.4217,1241.565,16232.847,30063.58055,3277.161,26926.5144,34254.05335,8615.3,3292.52985,14478.33015,4747.0529,17043.3414,10959.33,22462.04375,1720.3537,47403.88,38344.566,7147.4728,34828.654,1515.3449,9301.89355,11931.12525,1964.78,1708.92575,5261.46945,62592.87309,46718.16325,37829.7242,21259.37795,21472.4788,6875.961,6940.90985,4536.259,11272.33139,19496.71917,5425.02335,28101.33305,12981.3457,4239.89265,13143.33665,9377.9047,10325.206,10600.5483],\"x0\":\" \",\"xaxis\":\"x\",\"y\":[\"no\",\"no\",\"no\",\"no\",\"no\",\"no\",\"no\",\"yes\",\"no\",\"no\",\"no\",\"yes\",\"no\",\"no\",\"no\",\"yes\",\"yes\",\"no\",\"yes\",\"no\",\"no\",\"yes\",\"yes\",\"no\",\"no\",\"no\",\"yes\",\"yes\",\"yes\",\"yes\",\"yes\",\"no\",\"no\",\"no\",\"no\",\"yes\",\"no\",\"no\",\"no\",\"no\",\"no\",\"no\",\"yes\",\"yes\",\"yes\",\"no\",\"no\",\"yes\",\"yes\",\"no\",\"yes\",\"no\",\"no\",\"yes\",\"no\",\"no\",\"no\",\"no\",\"no\",\"no\",\"yes\",\"no\",\"no\",\"no\",\"no\",\"no\",\"no\",\"yes\",\"no\",\"yes\",\"yes\",\"no\",\"no\",\"no\",\"no\",\"yes\",\"yes\",\"yes\",\"no\",\"no\",\"no\",\"no\",\"no\",\"no\",\"no\",\"no\",\"no\",\"no\",\"no\",\"yes\",\"no\",\"no\",\"no\",\"no\",\"no\",\"no\",\"yes\",\"no\",\"no\",\"no\",\"no\",\"no\",\"no\",\"yes\",\"yes\",\"no\",\"no\",\"no\",\"no\",\"no\",\"no\",\"yes\",\"no\",\"no\",\"no\",\"no\",\"no\",\"no\",\"yes\",\"yes\",\"no\",\"yes\",\"yes\",\"no\",\"yes\",\"yes\",\"yes\",\"yes\",\"yes\",\"no\",\"no\",\"no\",\"yes\",\"no\",\"no\",\"no\",\"no\",\"no\",\"yes\",\"no\",\"no\",\"no\",\"no\",\"no\",\"no\",\"yes\",\"yes\",\"yes\",\"no\",\"no\",\"no\",\"no\",\"yes\",\"no\",\"no\",\"no\",\"no\",\"no\",\"no\",\"yes\",\"no\",\"no\",\"no\",\"yes\",\"no\",\"yes\",\"no\",\"no\",\"no\",\"yes\",\"no\",\"no\",\"no\",\"no\",\"no\",\"no\",\"no\",\"no\",\"no\",\"no\",\"no\",\"no\",\"no\",\"yes\",\"no\",\"yes\",\"no\",\"yes\",\"no\",\"no\",\"no\",\"no\",\"no\",\"no\",\"no\",\"no\",\"no\",\"no\",\"no\",\"no\",\"no\",\"no\",\"no\",\"no\",\"no\",\"no\",\"yes\",\"yes\",\"yes\",\"no\",\"no\",\"no\",\"no\",\"no\",\"no\",\"no\",\"no\",\"no\",\"no\",\"no\",\"yes\",\"no\",\"no\",\"no\",\"no\",\"no\",\"no\",\"no\",\"no\",\"yes\",\"no\",\"no\",\"no\",\"yes\",\"yes\",\"yes\",\"no\",\"no\",\"no\",\"no\",\"no\",\"no\",\"no\",\"no\",\"no\",\"yes\",\"no\",\"no\",\"yes\",\"no\",\"yes\",\"yes\",\"no\",\"no\",\"no\",\"no\",\"no\",\"no\",\"no\",\"yes\",\"no\",\"no\",\"no\",\"no\",\"yes\",\"no\",\"no\",\"yes\",\"no\",\"no\",\"no\",\"no\",\"no\",\"no\",\"yes\",\"no\",\"no\",\"no\",\"no\",\"no\",\"no\",\"no\",\"no\",\"no\",\"no\",\"yes\",\"no\",\"no\",\"no\",\"no\",\"no\",\"no\",\"no\",\"no\",\"no\",\"no\",\"no\",\"yes\",\"yes\",\"no\",\"yes\",\"yes\",\"no\",\"no\",\"no\",\"no\",\"no\",\"no\",\"no\",\"no\",\"no\",\"yes\",\"no\",\"no\",\"yes\",\"no\",\"no\",\"no\",\"no\",\"no\",\"no\",\"no\",\"yes\",\"no\",\"yes\",\"no\",\"no\",\"no\",\"yes\",\"no\",\"no\",\"yes\",\"no\",\"no\",\"no\",\"no\",\"yes\",\"no\",\"no\",\"no\",\"no\",\"yes\",\"no\",\"no\",\"no\",\"no\",\"no\",\"no\",\"no\",\"no\",\"no\",\"no\",\"no\",\"yes\",\"no\",\"no\",\"yes\",\"yes\",\"no\",\"yes\",\"yes\",\"no\",\"no\",\"no\",\"no\",\"no\",\"no\",\"no\",\"no\",\"no\",\"yes\",\"no\",\"yes\",\"no\",\"no\",\"no\",\"no\",\"no\",\"no\",\"no\",\"no\",\"no\",\"yes\",\"no\",\"no\",\"no\",\"no\",\"no\",\"no\",\"yes\",\"yes\",\"no\",\"yes\",\"no\",\"no\",\"no\",\"no\",\"no\",\"no\",\"no\",\"no\",\"no\",\"no\",\"no\",\"yes\",\"yes\",\"yes\",\"no\",\"no\",\"no\",\"no\",\"no\",\"no\",\"no\",\"no\",\"no\",\"no\",\"no\",\"yes\",\"no\",\"no\",\"no\",\"no\",\"no\",\"no\",\"no\",\"no\",\"no\",\"no\",\"no\",\"no\",\"no\",\"no\",\"no\",\"yes\",\"yes\",\"no\",\"no\",\"no\",\"yes\",\"no\",\"no\",\"no\",\"yes\",\"no\",\"no\",\"no\",\"no\",\"no\",\"yes\",\"no\",\"yes\",\"no\",\"no\",\"no\",\"no\",\"no\",\"no\",\"no\",\"no\",\"no\",\"no\",\"no\",\"no\",\"no\",\"no\",\"yes\",\"no\",\"yes\",\"no\",\"yes\",\"yes\",\"yes\",\"no\",\"yes\",\"no\",\"yes\",\"no\",\"no\",\"no\",\"no\",\"yes\",\"no\",\"no\",\"no\",\"yes\",\"no\",\"no\",\"no\",\"no\",\"yes\",\"no\",\"no\",\"no\",\"no\",\"yes\",\"yes\",\"no\",\"no\",\"no\",\"no\",\"no\",\"yes\",\"no\",\"no\",\"yes\",\"no\",\"no\",\"no\",\"yes\",\"no\",\"yes\",\"no\",\"no\",\"yes\",\"no\",\"yes\",\"no\",\"no\",\"no\",\"yes\",\"no\",\"yes\",\"no\",\"no\",\"yes\",\"no\",\"no\",\"no\",\"no\",\"yes\",\"no\",\"no\",\"no\",\"no\",\"yes\",\"no\",\"no\",\"no\",\"yes\",\"no\",\"no\",\"no\",\"no\",\"no\",\"no\",\"no\",\"no\",\"yes\",\"no\",\"no\",\"no\",\"no\",\"no\",\"no\",\"no\",\"no\",\"yes\",\"no\",\"no\",\"no\",\"yes\",\"yes\",\"no\",\"no\",\"no\",\"no\",\"no\",\"no\",\"no\",\"no\",\"no\",\"no\",\"yes\",\"no\",\"no\",\"yes\",\"no\",\"no\",\"no\",\"no\",\"yes\",\"no\",\"no\",\"yes\",\"no\",\"yes\",\"no\",\"no\",\"no\",\"no\",\"no\",\"no\",\"no\",\"yes\",\"no\",\"no\",\"no\",\"no\",\"no\",\"no\",\"no\",\"no\",\"no\",\"no\",\"no\",\"no\",\"no\",\"no\",\"yes\",\"no\",\"no\",\"no\",\"yes\",\"yes\",\"no\",\"no\",\"no\",\"yes\",\"yes\",\"no\",\"yes\",\"no\",\"no\",\"yes\",\"yes\",\"no\",\"no\",\"no\",\"no\",\"yes\",\"no\",\"yes\",\"no\",\"yes\",\"yes\",\"no\",\"yes\",\"no\",\"no\",\"no\",\"no\",\"no\",\"no\",\"yes\",\"yes\",\"yes\",\"yes\",\"yes\",\"no\",\"no\",\"no\",\"no\",\"no\",\"no\",\"yes\",\"no\",\"no\",\"no\",\"no\",\"no\",\"no\"],\"y0\":\" \",\"yaxis\":\"y\",\"type\":\"box\"}],                        {\"template\":{\"data\":{\"barpolar\":[{\"marker\":{\"line\":{\"color\":\"rgb(17,17,17)\",\"width\":0.5},\"pattern\":{\"fillmode\":\"overlay\",\"size\":10,\"solidity\":0.2}},\"type\":\"barpolar\"}],\"bar\":[{\"error_x\":{\"color\":\"#f2f5fa\"},\"error_y\":{\"color\":\"#f2f5fa\"},\"marker\":{\"line\":{\"color\":\"rgb(17,17,17)\",\"width\":0.5},\"pattern\":{\"fillmode\":\"overlay\",\"size\":10,\"solidity\":0.2}},\"type\":\"bar\"}],\"carpet\":[{\"aaxis\":{\"endlinecolor\":\"#A2B1C6\",\"gridcolor\":\"#506784\",\"linecolor\":\"#506784\",\"minorgridcolor\":\"#506784\",\"startlinecolor\":\"#A2B1C6\"},\"baxis\":{\"endlinecolor\":\"#A2B1C6\",\"gridcolor\":\"#506784\",\"linecolor\":\"#506784\",\"minorgridcolor\":\"#506784\",\"startlinecolor\":\"#A2B1C6\"},\"type\":\"carpet\"}],\"choropleth\":[{\"colorbar\":{\"outlinewidth\":0,\"ticks\":\"\"},\"type\":\"choropleth\"}],\"contourcarpet\":[{\"colorbar\":{\"outlinewidth\":0,\"ticks\":\"\"},\"type\":\"contourcarpet\"}],\"contour\":[{\"colorbar\":{\"outlinewidth\":0,\"ticks\":\"\"},\"colorscale\":[[0.0,\"#0d0887\"],[0.1111111111111111,\"#46039f\"],[0.2222222222222222,\"#7201a8\"],[0.3333333333333333,\"#9c179e\"],[0.4444444444444444,\"#bd3786\"],[0.5555555555555556,\"#d8576b\"],[0.6666666666666666,\"#ed7953\"],[0.7777777777777778,\"#fb9f3a\"],[0.8888888888888888,\"#fdca26\"],[1.0,\"#f0f921\"]],\"type\":\"contour\"}],\"heatmapgl\":[{\"colorbar\":{\"outlinewidth\":0,\"ticks\":\"\"},\"colorscale\":[[0.0,\"#0d0887\"],[0.1111111111111111,\"#46039f\"],[0.2222222222222222,\"#7201a8\"],[0.3333333333333333,\"#9c179e\"],[0.4444444444444444,\"#bd3786\"],[0.5555555555555556,\"#d8576b\"],[0.6666666666666666,\"#ed7953\"],[0.7777777777777778,\"#fb9f3a\"],[0.8888888888888888,\"#fdca26\"],[1.0,\"#f0f921\"]],\"type\":\"heatmapgl\"}],\"heatmap\":[{\"colorbar\":{\"outlinewidth\":0,\"ticks\":\"\"},\"colorscale\":[[0.0,\"#0d0887\"],[0.1111111111111111,\"#46039f\"],[0.2222222222222222,\"#7201a8\"],[0.3333333333333333,\"#9c179e\"],[0.4444444444444444,\"#bd3786\"],[0.5555555555555556,\"#d8576b\"],[0.6666666666666666,\"#ed7953\"],[0.7777777777777778,\"#fb9f3a\"],[0.8888888888888888,\"#fdca26\"],[1.0,\"#f0f921\"]],\"type\":\"heatmap\"}],\"histogram2dcontour\":[{\"colorbar\":{\"outlinewidth\":0,\"ticks\":\"\"},\"colorscale\":[[0.0,\"#0d0887\"],[0.1111111111111111,\"#46039f\"],[0.2222222222222222,\"#7201a8\"],[0.3333333333333333,\"#9c179e\"],[0.4444444444444444,\"#bd3786\"],[0.5555555555555556,\"#d8576b\"],[0.6666666666666666,\"#ed7953\"],[0.7777777777777778,\"#fb9f3a\"],[0.8888888888888888,\"#fdca26\"],[1.0,\"#f0f921\"]],\"type\":\"histogram2dcontour\"}],\"histogram2d\":[{\"colorbar\":{\"outlinewidth\":0,\"ticks\":\"\"},\"colorscale\":[[0.0,\"#0d0887\"],[0.1111111111111111,\"#46039f\"],[0.2222222222222222,\"#7201a8\"],[0.3333333333333333,\"#9c179e\"],[0.4444444444444444,\"#bd3786\"],[0.5555555555555556,\"#d8576b\"],[0.6666666666666666,\"#ed7953\"],[0.7777777777777778,\"#fb9f3a\"],[0.8888888888888888,\"#fdca26\"],[1.0,\"#f0f921\"]],\"type\":\"histogram2d\"}],\"histogram\":[{\"marker\":{\"pattern\":{\"fillmode\":\"overlay\",\"size\":10,\"solidity\":0.2}},\"type\":\"histogram\"}],\"mesh3d\":[{\"colorbar\":{\"outlinewidth\":0,\"ticks\":\"\"},\"type\":\"mesh3d\"}],\"parcoords\":[{\"line\":{\"colorbar\":{\"outlinewidth\":0,\"ticks\":\"\"}},\"type\":\"parcoords\"}],\"pie\":[{\"automargin\":true,\"type\":\"pie\"}],\"scatter3d\":[{\"line\":{\"colorbar\":{\"outlinewidth\":0,\"ticks\":\"\"}},\"marker\":{\"colorbar\":{\"outlinewidth\":0,\"ticks\":\"\"}},\"type\":\"scatter3d\"}],\"scattercarpet\":[{\"marker\":{\"colorbar\":{\"outlinewidth\":0,\"ticks\":\"\"}},\"type\":\"scattercarpet\"}],\"scattergeo\":[{\"marker\":{\"colorbar\":{\"outlinewidth\":0,\"ticks\":\"\"}},\"type\":\"scattergeo\"}],\"scattergl\":[{\"marker\":{\"line\":{\"color\":\"#283442\"}},\"type\":\"scattergl\"}],\"scattermapbox\":[{\"marker\":{\"colorbar\":{\"outlinewidth\":0,\"ticks\":\"\"}},\"type\":\"scattermapbox\"}],\"scatterpolargl\":[{\"marker\":{\"colorbar\":{\"outlinewidth\":0,\"ticks\":\"\"}},\"type\":\"scatterpolargl\"}],\"scatterpolar\":[{\"marker\":{\"colorbar\":{\"outlinewidth\":0,\"ticks\":\"\"}},\"type\":\"scatterpolar\"}],\"scatter\":[{\"marker\":{\"line\":{\"color\":\"#283442\"}},\"type\":\"scatter\"}],\"scatterternary\":[{\"marker\":{\"colorbar\":{\"outlinewidth\":0,\"ticks\":\"\"}},\"type\":\"scatterternary\"}],\"surface\":[{\"colorbar\":{\"outlinewidth\":0,\"ticks\":\"\"},\"colorscale\":[[0.0,\"#0d0887\"],[0.1111111111111111,\"#46039f\"],[0.2222222222222222,\"#7201a8\"],[0.3333333333333333,\"#9c179e\"],[0.4444444444444444,\"#bd3786\"],[0.5555555555555556,\"#d8576b\"],[0.6666666666666666,\"#ed7953\"],[0.7777777777777778,\"#fb9f3a\"],[0.8888888888888888,\"#fdca26\"],[1.0,\"#f0f921\"]],\"type\":\"surface\"}],\"table\":[{\"cells\":{\"fill\":{\"color\":\"#506784\"},\"line\":{\"color\":\"rgb(17,17,17)\"}},\"header\":{\"fill\":{\"color\":\"#2a3f5f\"},\"line\":{\"color\":\"rgb(17,17,17)\"}},\"type\":\"table\"}]},\"layout\":{\"annotationdefaults\":{\"arrowcolor\":\"#f2f5fa\",\"arrowhead\":0,\"arrowwidth\":1},\"autotypenumbers\":\"strict\",\"coloraxis\":{\"colorbar\":{\"outlinewidth\":0,\"ticks\":\"\"}},\"colorscale\":{\"diverging\":[[0,\"#8e0152\"],[0.1,\"#c51b7d\"],[0.2,\"#de77ae\"],[0.3,\"#f1b6da\"],[0.4,\"#fde0ef\"],[0.5,\"#f7f7f7\"],[0.6,\"#e6f5d0\"],[0.7,\"#b8e186\"],[0.8,\"#7fbc41\"],[0.9,\"#4d9221\"],[1,\"#276419\"]],\"sequential\":[[0.0,\"#0d0887\"],[0.1111111111111111,\"#46039f\"],[0.2222222222222222,\"#7201a8\"],[0.3333333333333333,\"#9c179e\"],[0.4444444444444444,\"#bd3786\"],[0.5555555555555556,\"#d8576b\"],[0.6666666666666666,\"#ed7953\"],[0.7777777777777778,\"#fb9f3a\"],[0.8888888888888888,\"#fdca26\"],[1.0,\"#f0f921\"]],\"sequentialminus\":[[0.0,\"#0d0887\"],[0.1111111111111111,\"#46039f\"],[0.2222222222222222,\"#7201a8\"],[0.3333333333333333,\"#9c179e\"],[0.4444444444444444,\"#bd3786\"],[0.5555555555555556,\"#d8576b\"],[0.6666666666666666,\"#ed7953\"],[0.7777777777777778,\"#fb9f3a\"],[0.8888888888888888,\"#fdca26\"],[1.0,\"#f0f921\"]]},\"colorway\":[\"#636efa\",\"#EF553B\",\"#00cc96\",\"#ab63fa\",\"#FFA15A\",\"#19d3f3\",\"#FF6692\",\"#B6E880\",\"#FF97FF\",\"#FECB52\"],\"font\":{\"color\":\"#f2f5fa\"},\"geo\":{\"bgcolor\":\"rgb(17,17,17)\",\"lakecolor\":\"rgb(17,17,17)\",\"landcolor\":\"rgb(17,17,17)\",\"showlakes\":true,\"showland\":true,\"subunitcolor\":\"#506784\"},\"hoverlabel\":{\"align\":\"left\"},\"hovermode\":\"closest\",\"mapbox\":{\"style\":\"dark\"},\"paper_bgcolor\":\"rgb(17,17,17)\",\"plot_bgcolor\":\"rgb(17,17,17)\",\"polar\":{\"angularaxis\":{\"gridcolor\":\"#506784\",\"linecolor\":\"#506784\",\"ticks\":\"\"},\"bgcolor\":\"rgb(17,17,17)\",\"radialaxis\":{\"gridcolor\":\"#506784\",\"linecolor\":\"#506784\",\"ticks\":\"\"}},\"scene\":{\"xaxis\":{\"backgroundcolor\":\"rgb(17,17,17)\",\"gridcolor\":\"#506784\",\"gridwidth\":2,\"linecolor\":\"#506784\",\"showbackground\":true,\"ticks\":\"\",\"zerolinecolor\":\"#C8D4E3\"},\"yaxis\":{\"backgroundcolor\":\"rgb(17,17,17)\",\"gridcolor\":\"#506784\",\"gridwidth\":2,\"linecolor\":\"#506784\",\"showbackground\":true,\"ticks\":\"\",\"zerolinecolor\":\"#C8D4E3\"},\"zaxis\":{\"backgroundcolor\":\"rgb(17,17,17)\",\"gridcolor\":\"#506784\",\"gridwidth\":2,\"linecolor\":\"#506784\",\"showbackground\":true,\"ticks\":\"\",\"zerolinecolor\":\"#C8D4E3\"}},\"shapedefaults\":{\"line\":{\"color\":\"#f2f5fa\"}},\"sliderdefaults\":{\"bgcolor\":\"#C8D4E3\",\"bordercolor\":\"rgb(17,17,17)\",\"borderwidth\":1,\"tickwidth\":0},\"ternary\":{\"aaxis\":{\"gridcolor\":\"#506784\",\"linecolor\":\"#506784\",\"ticks\":\"\"},\"baxis\":{\"gridcolor\":\"#506784\",\"linecolor\":\"#506784\",\"ticks\":\"\"},\"bgcolor\":\"rgb(17,17,17)\",\"caxis\":{\"gridcolor\":\"#506784\",\"linecolor\":\"#506784\",\"ticks\":\"\"}},\"title\":{\"x\":0.05},\"updatemenudefaults\":{\"bgcolor\":\"#506784\",\"borderwidth\":0},\"xaxis\":{\"automargin\":true,\"gridcolor\":\"#283442\",\"linecolor\":\"#506784\",\"ticks\":\"\",\"title\":{\"standoff\":15},\"zerolinecolor\":\"#283442\",\"zerolinewidth\":2},\"yaxis\":{\"automargin\":true,\"gridcolor\":\"#283442\",\"linecolor\":\"#506784\",\"ticks\":\"\",\"title\":{\"standoff\":15},\"zerolinecolor\":\"#283442\",\"zerolinewidth\":2}}},\"xaxis\":{\"anchor\":\"y\",\"domain\":[0.0,1.0],\"title\":{\"text\":\"charges\"}},\"yaxis\":{\"anchor\":\"x\",\"domain\":[0.0,1.0],\"title\":{\"text\":\"smoker\"}},\"legend\":{\"title\":{\"text\":\"sex\"},\"tracegroupgap\":0},\"title\":{\"text\":\"Smokers vs Non Smokers \"},\"boxmode\":\"group\",\"shapes\":[{\"line\":{\"color\":\"white\",\"dash\":\"dot\"},\"type\":\"line\",\"x0\":19600,\"x1\":19600,\"xref\":\"x\",\"y0\":0,\"y1\":1,\"yref\":\"y domain\"}],\"annotations\":[{\"showarrow\":false,\"text\":\" \\u2b05\\u2b05\\u2b05 Smoking costs!\",\"x\":19600,\"xanchor\":\"left\",\"xref\":\"x\",\"y\":1,\"yanchor\":\"top\",\"yref\":\"y domain\"}]},                        {\"responsive\": true}                    ).then(function(){\n",
              "                            \n",
              "var gd = document.getElementById('7a223100-a00f-43fe-8351-3d6f891a901d');\n",
              "var x = new MutationObserver(function (mutations, observer) {{\n",
              "        var display = window.getComputedStyle(gd).display;\n",
              "        if (!display || display === 'none') {{\n",
              "            console.log([gd, 'removed!']);\n",
              "            Plotly.purge(gd);\n",
              "            observer.disconnect();\n",
              "        }}\n",
              "}});\n",
              "\n",
              "// Listen for the removal of the full notebook cells\n",
              "var notebookContainer = gd.closest('#notebook-container');\n",
              "if (notebookContainer) {{\n",
              "    x.observe(notebookContainer, {childList: true});\n",
              "}}\n",
              "\n",
              "// Listen for the clearing of the current output cell\n",
              "var outputEl = gd.closest('.output');\n",
              "if (outputEl) {{\n",
              "    x.observe(outputEl, {childList: true});\n",
              "}}\n",
              "\n",
              "                        })                };                            </script>        </div>\n",
              "</body>\n",
              "</html>"
            ]
          },
          "metadata": {}
        }
      ]
    },
    {
      "cell_type": "markdown",
      "source": [
        "# 💡 Insights:"
      ],
      "metadata": {
        "id": "f9TlRzLhyC-J"
      }
    },
    {
      "cell_type": "markdown",
      "source": [
        "The charges over smokers are much higher comparing to the non ones\n",
        "\n",
        "We can assume that smoking will cost approximately $19,600.00 or more\n",
        "\n",
        "The Median for male and female non smokers are insignificant. On the other hand, its a big difference for smokers"
      ],
      "metadata": {
        "id": "61EZdRkbyLem"
      }
    },
    {
      "cell_type": "markdown",
      "source": [
        "# Children/dependents relations"
      ],
      "metadata": {
        "id": "Bd72NyuqySQm"
      }
    },
    {
      "cell_type": "code",
      "source": [
        "# Statistics from the number of children vs charges\n",
        "df2.groupby('children').describe()['charges'].T.round(1)"
      ],
      "metadata": {
        "colab": {
          "base_uri": "https://localhost:8080/",
          "height": 300
        },
        "id": "6PN82tQXuhvN",
        "outputId": "c9c37879-2b09-4545-eed7-b35d064c3452"
      },
      "execution_count": 72,
      "outputs": [
        {
          "output_type": "execute_result",
          "data": {
            "text/plain": [
              "children        0        1        2        3        4        5\n",
              "count       568.0    317.0    233.0    156.0     25.0     17.0\n",
              "mean      12275.6  12741.6  14994.5  15412.5  13850.7   8562.1\n",
              "std       11782.0  11784.7  12741.6  12349.7   9139.2   3801.6\n",
              "min        1121.9   1711.0   2304.0   3443.1   4504.7   4687.8\n",
              "25%        2751.8   4795.7   6312.0   6723.2   7512.3   5615.4\n",
              "50%        9857.0   8428.1   9225.3  10651.6  11033.7   8582.3\n",
              "75%       14420.7  16450.9  20177.7  19240.5  17128.4   9788.9\n",
              "max       62592.9  58571.1  49577.7  60021.4  40182.2  19023.3"
            ],
            "text/html": [
              "\n",
              "  <div id=\"df-56473775-b827-4e07-b6f6-f2c6791ba0fc\">\n",
              "    <div class=\"colab-df-container\">\n",
              "      <div>\n",
              "<style scoped>\n",
              "    .dataframe tbody tr th:only-of-type {\n",
              "        vertical-align: middle;\n",
              "    }\n",
              "\n",
              "    .dataframe tbody tr th {\n",
              "        vertical-align: top;\n",
              "    }\n",
              "\n",
              "    .dataframe thead th {\n",
              "        text-align: right;\n",
              "    }\n",
              "</style>\n",
              "<table border=\"1\" class=\"dataframe\">\n",
              "  <thead>\n",
              "    <tr style=\"text-align: right;\">\n",
              "      <th>children</th>\n",
              "      <th>0</th>\n",
              "      <th>1</th>\n",
              "      <th>2</th>\n",
              "      <th>3</th>\n",
              "      <th>4</th>\n",
              "      <th>5</th>\n",
              "    </tr>\n",
              "  </thead>\n",
              "  <tbody>\n",
              "    <tr>\n",
              "      <th>count</th>\n",
              "      <td>568.0</td>\n",
              "      <td>317.0</td>\n",
              "      <td>233.0</td>\n",
              "      <td>156.0</td>\n",
              "      <td>25.0</td>\n",
              "      <td>17.0</td>\n",
              "    </tr>\n",
              "    <tr>\n",
              "      <th>mean</th>\n",
              "      <td>12275.6</td>\n",
              "      <td>12741.6</td>\n",
              "      <td>14994.5</td>\n",
              "      <td>15412.5</td>\n",
              "      <td>13850.7</td>\n",
              "      <td>8562.1</td>\n",
              "    </tr>\n",
              "    <tr>\n",
              "      <th>std</th>\n",
              "      <td>11782.0</td>\n",
              "      <td>11784.7</td>\n",
              "      <td>12741.6</td>\n",
              "      <td>12349.7</td>\n",
              "      <td>9139.2</td>\n",
              "      <td>3801.6</td>\n",
              "    </tr>\n",
              "    <tr>\n",
              "      <th>min</th>\n",
              "      <td>1121.9</td>\n",
              "      <td>1711.0</td>\n",
              "      <td>2304.0</td>\n",
              "      <td>3443.1</td>\n",
              "      <td>4504.7</td>\n",
              "      <td>4687.8</td>\n",
              "    </tr>\n",
              "    <tr>\n",
              "      <th>25%</th>\n",
              "      <td>2751.8</td>\n",
              "      <td>4795.7</td>\n",
              "      <td>6312.0</td>\n",
              "      <td>6723.2</td>\n",
              "      <td>7512.3</td>\n",
              "      <td>5615.4</td>\n",
              "    </tr>\n",
              "    <tr>\n",
              "      <th>50%</th>\n",
              "      <td>9857.0</td>\n",
              "      <td>8428.1</td>\n",
              "      <td>9225.3</td>\n",
              "      <td>10651.6</td>\n",
              "      <td>11033.7</td>\n",
              "      <td>8582.3</td>\n",
              "    </tr>\n",
              "    <tr>\n",
              "      <th>75%</th>\n",
              "      <td>14420.7</td>\n",
              "      <td>16450.9</td>\n",
              "      <td>20177.7</td>\n",
              "      <td>19240.5</td>\n",
              "      <td>17128.4</td>\n",
              "      <td>9788.9</td>\n",
              "    </tr>\n",
              "    <tr>\n",
              "      <th>max</th>\n",
              "      <td>62592.9</td>\n",
              "      <td>58571.1</td>\n",
              "      <td>49577.7</td>\n",
              "      <td>60021.4</td>\n",
              "      <td>40182.2</td>\n",
              "      <td>19023.3</td>\n",
              "    </tr>\n",
              "  </tbody>\n",
              "</table>\n",
              "</div>\n",
              "      <button class=\"colab-df-convert\" onclick=\"convertToInteractive('df-56473775-b827-4e07-b6f6-f2c6791ba0fc')\"\n",
              "              title=\"Convert this dataframe to an interactive table.\"\n",
              "              style=\"display:none;\">\n",
              "        \n",
              "  <svg xmlns=\"http://www.w3.org/2000/svg\" height=\"24px\"viewBox=\"0 0 24 24\"\n",
              "       width=\"24px\">\n",
              "    <path d=\"M0 0h24v24H0V0z\" fill=\"none\"/>\n",
              "    <path d=\"M18.56 5.44l.94 2.06.94-2.06 2.06-.94-2.06-.94-.94-2.06-.94 2.06-2.06.94zm-11 1L8.5 8.5l.94-2.06 2.06-.94-2.06-.94L8.5 2.5l-.94 2.06-2.06.94zm10 10l.94 2.06.94-2.06 2.06-.94-2.06-.94-.94-2.06-.94 2.06-2.06.94z\"/><path d=\"M17.41 7.96l-1.37-1.37c-.4-.4-.92-.59-1.43-.59-.52 0-1.04.2-1.43.59L10.3 9.45l-7.72 7.72c-.78.78-.78 2.05 0 2.83L4 21.41c.39.39.9.59 1.41.59.51 0 1.02-.2 1.41-.59l7.78-7.78 2.81-2.81c.8-.78.8-2.07 0-2.86zM5.41 20L4 18.59l7.72-7.72 1.47 1.35L5.41 20z\"/>\n",
              "  </svg>\n",
              "      </button>\n",
              "      \n",
              "  <style>\n",
              "    .colab-df-container {\n",
              "      display:flex;\n",
              "      flex-wrap:wrap;\n",
              "      gap: 12px;\n",
              "    }\n",
              "\n",
              "    .colab-df-convert {\n",
              "      background-color: #E8F0FE;\n",
              "      border: none;\n",
              "      border-radius: 50%;\n",
              "      cursor: pointer;\n",
              "      display: none;\n",
              "      fill: #1967D2;\n",
              "      height: 32px;\n",
              "      padding: 0 0 0 0;\n",
              "      width: 32px;\n",
              "    }\n",
              "\n",
              "    .colab-df-convert:hover {\n",
              "      background-color: #E2EBFA;\n",
              "      box-shadow: 0px 1px 2px rgba(60, 64, 67, 0.3), 0px 1px 3px 1px rgba(60, 64, 67, 0.15);\n",
              "      fill: #174EA6;\n",
              "    }\n",
              "\n",
              "    [theme=dark] .colab-df-convert {\n",
              "      background-color: #3B4455;\n",
              "      fill: #D2E3FC;\n",
              "    }\n",
              "\n",
              "    [theme=dark] .colab-df-convert:hover {\n",
              "      background-color: #434B5C;\n",
              "      box-shadow: 0px 1px 3px 1px rgba(0, 0, 0, 0.15);\n",
              "      filter: drop-shadow(0px 1px 2px rgba(0, 0, 0, 0.3));\n",
              "      fill: #FFFFFF;\n",
              "    }\n",
              "  </style>\n",
              "\n",
              "      <script>\n",
              "        const buttonEl =\n",
              "          document.querySelector('#df-56473775-b827-4e07-b6f6-f2c6791ba0fc button.colab-df-convert');\n",
              "        buttonEl.style.display =\n",
              "          google.colab.kernel.accessAllowed ? 'block' : 'none';\n",
              "\n",
              "        async function convertToInteractive(key) {\n",
              "          const element = document.querySelector('#df-56473775-b827-4e07-b6f6-f2c6791ba0fc');\n",
              "          const dataTable =\n",
              "            await google.colab.kernel.invokeFunction('convertToInteractive',\n",
              "                                                     [key], {});\n",
              "          if (!dataTable) return;\n",
              "\n",
              "          const docLinkHtml = 'Like what you see? Visit the ' +\n",
              "            '<a target=\"_blank\" href=https://colab.research.google.com/notebooks/data_table.ipynb>data table notebook</a>'\n",
              "            + ' to learn more about interactive tables.';\n",
              "          element.innerHTML = '';\n",
              "          dataTable['output_type'] = 'display_data';\n",
              "          await google.colab.output.renderOutput(dataTable, element);\n",
              "          const docLink = document.createElement('div');\n",
              "          docLink.innerHTML = docLinkHtml;\n",
              "          element.appendChild(docLink);\n",
              "        }\n",
              "      </script>\n",
              "    </div>\n",
              "  </div>\n",
              "  "
            ]
          },
          "metadata": {},
          "execution_count": 72
        }
      ]
    },
    {
      "cell_type": "code",
      "source": [
        "px.histogram(df2.sort_values(by='children'), x='children',title='Number of children frequency', template='plotly_dark', text_auto='.0f')"
      ],
      "metadata": {
        "colab": {
          "base_uri": "https://localhost:8080/",
          "height": 542
        },
        "id": "8bUSEbZ7yXty",
        "outputId": "c3ae40a5-943c-495d-bbc0-45d6369e5d6f"
      },
      "execution_count": 73,
      "outputs": [
        {
          "output_type": "display_data",
          "data": {
            "text/html": [
              "<html>\n",
              "<head><meta charset=\"utf-8\" /></head>\n",
              "<body>\n",
              "    <div>            <script src=\"https://cdnjs.cloudflare.com/ajax/libs/mathjax/2.7.5/MathJax.js?config=TeX-AMS-MML_SVG\"></script><script type=\"text/javascript\">if (window.MathJax) {MathJax.Hub.Config({SVG: {font: \"STIX-Web\"}});}</script>                <script type=\"text/javascript\">window.PlotlyConfig = {MathJaxConfig: 'local'};</script>\n",
              "        <script src=\"https://cdn.plot.ly/plotly-2.8.3.min.js\"></script>                <div id=\"d48e015d-c831-4eb5-9dbb-dedf9b236751\" class=\"plotly-graph-div\" style=\"height:525px; width:100%;\"></div>            <script type=\"text/javascript\">                                    window.PLOTLYENV=window.PLOTLYENV || {};                                    if (document.getElementById(\"d48e015d-c831-4eb5-9dbb-dedf9b236751\")) {                    Plotly.newPlot(                        \"d48e015d-c831-4eb5-9dbb-dedf9b236751\",                        [{\"alignmentgroup\":\"True\",\"bingroup\":\"x\",\"hovertemplate\":\"children=%{x}<br>count=%{y}<extra></extra>\",\"legendgroup\":\"\",\"marker\":{\"color\":\"#636efa\",\"pattern\":{\"shape\":\"\"}},\"name\":\"\",\"offsetgroup\":\"\",\"orientation\":\"v\",\"showlegend\":false,\"texttemplate\":\"%{value:.0f}\",\"x\":[0,0,0,0,0,0,0,0,0,0,0,0,0,0,0,0,0,0,0,0,0,0,0,0,0,0,0,0,0,0,0,0,0,0,0,0,0,0,0,0,0,0,0,0,0,0,0,0,0,0,0,0,0,0,0,0,0,0,0,0,0,0,0,0,0,0,0,0,0,0,0,0,0,0,0,0,0,0,0,0,0,0,0,0,0,0,0,0,0,0,0,0,0,0,0,0,0,0,0,0,0,0,0,0,0,0,0,0,0,0,0,0,0,0,0,0,0,0,0,0,0,0,0,0,0,0,0,0,0,0,0,0,0,0,0,0,0,0,0,0,0,0,0,0,0,0,0,0,0,0,0,0,0,0,0,0,0,0,0,0,0,0,0,0,0,0,0,0,0,0,0,0,0,0,0,0,0,0,0,0,0,0,0,0,0,0,0,0,0,0,0,0,0,0,0,0,0,0,0,0,0,0,0,0,0,0,0,0,0,0,0,0,0,0,0,0,0,0,0,0,0,0,0,0,0,0,0,0,0,0,0,0,0,0,0,0,0,0,0,0,0,0,0,0,0,0,0,0,0,0,0,0,0,0,0,0,0,0,0,0,0,0,0,0,0,0,0,0,0,0,0,0,0,0,0,0,0,0,0,0,0,0,0,0,0,0,0,0,0,0,0,0,0,0,0,0,0,0,0,0,0,0,0,0,0,0,0,0,0,0,0,0,0,0,0,0,0,0,0,0,0,0,0,0,0,0,0,0,0,0,0,0,0,0,0,0,0,0,0,0,0,0,0,0,0,0,0,0,0,0,0,0,0,0,0,0,0,0,0,0,0,0,0,0,0,0,0,0,0,0,0,0,0,0,0,0,0,0,0,0,0,0,0,0,0,0,0,0,0,0,0,0,0,0,0,0,0,0,0,0,0,0,0,0,0,0,0,0,0,0,0,0,0,0,0,0,0,0,0,0,0,0,0,0,0,0,0,0,0,0,0,0,0,0,0,0,0,0,0,0,0,0,0,0,0,0,0,0,0,0,0,0,0,0,0,0,0,0,0,0,0,0,0,0,0,0,0,0,0,0,0,0,0,0,0,0,0,0,0,0,0,0,0,0,0,0,0,0,0,0,0,0,0,0,0,0,0,0,0,0,0,0,0,0,0,0,0,0,0,0,0,0,0,0,0,0,0,0,0,0,0,0,0,0,0,0,0,0,0,0,0,0,0,0,0,0,0,0,0,0,0,0,0,0,0,0,0,0,0,0,0,0,0,0,0,0,0,0,0,0,0,0,0,0,0,0,0,0,1,1,1,1,1,1,1,1,1,1,1,1,1,1,1,1,1,1,1,1,1,1,1,1,1,1,1,1,1,1,1,1,1,1,1,1,1,1,1,1,1,1,1,1,1,1,1,1,1,1,1,1,1,1,1,1,1,1,1,1,1,1,1,1,1,1,1,1,1,1,1,1,1,1,1,1,1,1,1,1,1,1,1,1,1,1,1,1,1,1,1,1,1,1,1,1,1,1,1,1,1,1,1,1,1,1,1,1,1,1,1,1,1,1,1,1,1,1,1,1,1,1,1,1,1,1,1,1,1,1,1,1,1,1,1,1,1,1,1,1,1,1,1,1,1,1,1,1,1,1,1,1,1,1,1,1,1,1,1,1,1,1,1,1,1,1,1,1,1,1,1,1,1,1,1,1,1,1,1,1,1,1,1,1,1,1,1,1,1,1,1,1,1,1,1,1,1,1,1,1,1,1,1,1,1,1,1,1,1,1,1,1,1,1,1,1,1,1,1,1,1,1,1,1,1,1,1,1,1,1,1,1,1,1,1,1,1,1,1,1,1,1,1,1,1,1,1,1,1,1,1,1,1,1,1,1,1,1,1,1,1,1,1,1,1,1,1,1,1,1,1,1,1,1,1,1,1,1,1,1,1,1,1,1,1,1,1,1,1,1,1,1,1,1,1,1,1,1,1,1,1,1,1,1,1,1,1,1,1,1,1,1,1,1,1,1,1,2,2,2,2,2,2,2,2,2,2,2,2,2,2,2,2,2,2,2,2,2,2,2,2,2,2,2,2,2,2,2,2,2,2,2,2,2,2,2,2,2,2,2,2,2,2,2,2,2,2,2,2,2,2,2,2,2,2,2,2,2,2,2,2,2,2,2,2,2,2,2,2,2,2,2,2,2,2,2,2,2,2,2,2,2,2,2,2,2,2,2,2,2,2,2,2,2,2,2,2,2,2,2,2,2,2,2,2,2,2,2,2,2,2,2,2,2,2,2,2,2,2,2,2,2,2,2,2,2,2,2,2,2,2,2,2,2,2,2,2,2,2,2,2,2,2,2,2,2,2,2,2,2,2,2,2,2,2,2,2,2,2,2,2,2,2,2,2,2,2,2,2,2,2,2,2,2,2,2,2,2,2,2,2,2,2,2,2,2,2,2,2,2,2,2,2,2,2,2,2,2,2,2,2,2,2,2,2,2,2,2,2,2,2,2,2,2,2,2,2,2,2,2,2,2,2,2,2,2,2,2,2,2,3,3,3,3,3,3,3,3,3,3,3,3,3,3,3,3,3,3,3,3,3,3,3,3,3,3,3,3,3,3,3,3,3,3,3,3,3,3,3,3,3,3,3,3,3,3,3,3,3,3,3,3,3,3,3,3,3,3,3,3,3,3,3,3,3,3,3,3,3,3,3,3,3,3,3,3,3,3,3,3,3,3,3,3,3,3,3,3,3,3,3,3,3,3,3,3,3,3,3,3,3,3,3,3,3,3,3,3,3,3,3,3,3,3,3,3,3,3,3,3,3,3,3,3,3,3,3,3,3,3,3,3,3,3,3,3,3,3,3,3,3,3,3,3,3,3,3,3,3,3,3,3,3,3,3,3,4,4,4,4,4,4,4,4,4,4,4,4,4,4,4,4,4,4,4,4,4,4,4,4,4,5,5,5,5,5,5,5,5,5,5,5,5,5,5,5,5,5],\"xaxis\":\"x\",\"yaxis\":\"y\",\"type\":\"histogram\"}],                        {\"template\":{\"data\":{\"barpolar\":[{\"marker\":{\"line\":{\"color\":\"rgb(17,17,17)\",\"width\":0.5},\"pattern\":{\"fillmode\":\"overlay\",\"size\":10,\"solidity\":0.2}},\"type\":\"barpolar\"}],\"bar\":[{\"error_x\":{\"color\":\"#f2f5fa\"},\"error_y\":{\"color\":\"#f2f5fa\"},\"marker\":{\"line\":{\"color\":\"rgb(17,17,17)\",\"width\":0.5},\"pattern\":{\"fillmode\":\"overlay\",\"size\":10,\"solidity\":0.2}},\"type\":\"bar\"}],\"carpet\":[{\"aaxis\":{\"endlinecolor\":\"#A2B1C6\",\"gridcolor\":\"#506784\",\"linecolor\":\"#506784\",\"minorgridcolor\":\"#506784\",\"startlinecolor\":\"#A2B1C6\"},\"baxis\":{\"endlinecolor\":\"#A2B1C6\",\"gridcolor\":\"#506784\",\"linecolor\":\"#506784\",\"minorgridcolor\":\"#506784\",\"startlinecolor\":\"#A2B1C6\"},\"type\":\"carpet\"}],\"choropleth\":[{\"colorbar\":{\"outlinewidth\":0,\"ticks\":\"\"},\"type\":\"choropleth\"}],\"contourcarpet\":[{\"colorbar\":{\"outlinewidth\":0,\"ticks\":\"\"},\"type\":\"contourcarpet\"}],\"contour\":[{\"colorbar\":{\"outlinewidth\":0,\"ticks\":\"\"},\"colorscale\":[[0.0,\"#0d0887\"],[0.1111111111111111,\"#46039f\"],[0.2222222222222222,\"#7201a8\"],[0.3333333333333333,\"#9c179e\"],[0.4444444444444444,\"#bd3786\"],[0.5555555555555556,\"#d8576b\"],[0.6666666666666666,\"#ed7953\"],[0.7777777777777778,\"#fb9f3a\"],[0.8888888888888888,\"#fdca26\"],[1.0,\"#f0f921\"]],\"type\":\"contour\"}],\"heatmapgl\":[{\"colorbar\":{\"outlinewidth\":0,\"ticks\":\"\"},\"colorscale\":[[0.0,\"#0d0887\"],[0.1111111111111111,\"#46039f\"],[0.2222222222222222,\"#7201a8\"],[0.3333333333333333,\"#9c179e\"],[0.4444444444444444,\"#bd3786\"],[0.5555555555555556,\"#d8576b\"],[0.6666666666666666,\"#ed7953\"],[0.7777777777777778,\"#fb9f3a\"],[0.8888888888888888,\"#fdca26\"],[1.0,\"#f0f921\"]],\"type\":\"heatmapgl\"}],\"heatmap\":[{\"colorbar\":{\"outlinewidth\":0,\"ticks\":\"\"},\"colorscale\":[[0.0,\"#0d0887\"],[0.1111111111111111,\"#46039f\"],[0.2222222222222222,\"#7201a8\"],[0.3333333333333333,\"#9c179e\"],[0.4444444444444444,\"#bd3786\"],[0.5555555555555556,\"#d8576b\"],[0.6666666666666666,\"#ed7953\"],[0.7777777777777778,\"#fb9f3a\"],[0.8888888888888888,\"#fdca26\"],[1.0,\"#f0f921\"]],\"type\":\"heatmap\"}],\"histogram2dcontour\":[{\"colorbar\":{\"outlinewidth\":0,\"ticks\":\"\"},\"colorscale\":[[0.0,\"#0d0887\"],[0.1111111111111111,\"#46039f\"],[0.2222222222222222,\"#7201a8\"],[0.3333333333333333,\"#9c179e\"],[0.4444444444444444,\"#bd3786\"],[0.5555555555555556,\"#d8576b\"],[0.6666666666666666,\"#ed7953\"],[0.7777777777777778,\"#fb9f3a\"],[0.8888888888888888,\"#fdca26\"],[1.0,\"#f0f921\"]],\"type\":\"histogram2dcontour\"}],\"histogram2d\":[{\"colorbar\":{\"outlinewidth\":0,\"ticks\":\"\"},\"colorscale\":[[0.0,\"#0d0887\"],[0.1111111111111111,\"#46039f\"],[0.2222222222222222,\"#7201a8\"],[0.3333333333333333,\"#9c179e\"],[0.4444444444444444,\"#bd3786\"],[0.5555555555555556,\"#d8576b\"],[0.6666666666666666,\"#ed7953\"],[0.7777777777777778,\"#fb9f3a\"],[0.8888888888888888,\"#fdca26\"],[1.0,\"#f0f921\"]],\"type\":\"histogram2d\"}],\"histogram\":[{\"marker\":{\"pattern\":{\"fillmode\":\"overlay\",\"size\":10,\"solidity\":0.2}},\"type\":\"histogram\"}],\"mesh3d\":[{\"colorbar\":{\"outlinewidth\":0,\"ticks\":\"\"},\"type\":\"mesh3d\"}],\"parcoords\":[{\"line\":{\"colorbar\":{\"outlinewidth\":0,\"ticks\":\"\"}},\"type\":\"parcoords\"}],\"pie\":[{\"automargin\":true,\"type\":\"pie\"}],\"scatter3d\":[{\"line\":{\"colorbar\":{\"outlinewidth\":0,\"ticks\":\"\"}},\"marker\":{\"colorbar\":{\"outlinewidth\":0,\"ticks\":\"\"}},\"type\":\"scatter3d\"}],\"scattercarpet\":[{\"marker\":{\"colorbar\":{\"outlinewidth\":0,\"ticks\":\"\"}},\"type\":\"scattercarpet\"}],\"scattergeo\":[{\"marker\":{\"colorbar\":{\"outlinewidth\":0,\"ticks\":\"\"}},\"type\":\"scattergeo\"}],\"scattergl\":[{\"marker\":{\"line\":{\"color\":\"#283442\"}},\"type\":\"scattergl\"}],\"scattermapbox\":[{\"marker\":{\"colorbar\":{\"outlinewidth\":0,\"ticks\":\"\"}},\"type\":\"scattermapbox\"}],\"scatterpolargl\":[{\"marker\":{\"colorbar\":{\"outlinewidth\":0,\"ticks\":\"\"}},\"type\":\"scatterpolargl\"}],\"scatterpolar\":[{\"marker\":{\"colorbar\":{\"outlinewidth\":0,\"ticks\":\"\"}},\"type\":\"scatterpolar\"}],\"scatter\":[{\"marker\":{\"line\":{\"color\":\"#283442\"}},\"type\":\"scatter\"}],\"scatterternary\":[{\"marker\":{\"colorbar\":{\"outlinewidth\":0,\"ticks\":\"\"}},\"type\":\"scatterternary\"}],\"surface\":[{\"colorbar\":{\"outlinewidth\":0,\"ticks\":\"\"},\"colorscale\":[[0.0,\"#0d0887\"],[0.1111111111111111,\"#46039f\"],[0.2222222222222222,\"#7201a8\"],[0.3333333333333333,\"#9c179e\"],[0.4444444444444444,\"#bd3786\"],[0.5555555555555556,\"#d8576b\"],[0.6666666666666666,\"#ed7953\"],[0.7777777777777778,\"#fb9f3a\"],[0.8888888888888888,\"#fdca26\"],[1.0,\"#f0f921\"]],\"type\":\"surface\"}],\"table\":[{\"cells\":{\"fill\":{\"color\":\"#506784\"},\"line\":{\"color\":\"rgb(17,17,17)\"}},\"header\":{\"fill\":{\"color\":\"#2a3f5f\"},\"line\":{\"color\":\"rgb(17,17,17)\"}},\"type\":\"table\"}]},\"layout\":{\"annotationdefaults\":{\"arrowcolor\":\"#f2f5fa\",\"arrowhead\":0,\"arrowwidth\":1},\"autotypenumbers\":\"strict\",\"coloraxis\":{\"colorbar\":{\"outlinewidth\":0,\"ticks\":\"\"}},\"colorscale\":{\"diverging\":[[0,\"#8e0152\"],[0.1,\"#c51b7d\"],[0.2,\"#de77ae\"],[0.3,\"#f1b6da\"],[0.4,\"#fde0ef\"],[0.5,\"#f7f7f7\"],[0.6,\"#e6f5d0\"],[0.7,\"#b8e186\"],[0.8,\"#7fbc41\"],[0.9,\"#4d9221\"],[1,\"#276419\"]],\"sequential\":[[0.0,\"#0d0887\"],[0.1111111111111111,\"#46039f\"],[0.2222222222222222,\"#7201a8\"],[0.3333333333333333,\"#9c179e\"],[0.4444444444444444,\"#bd3786\"],[0.5555555555555556,\"#d8576b\"],[0.6666666666666666,\"#ed7953\"],[0.7777777777777778,\"#fb9f3a\"],[0.8888888888888888,\"#fdca26\"],[1.0,\"#f0f921\"]],\"sequentialminus\":[[0.0,\"#0d0887\"],[0.1111111111111111,\"#46039f\"],[0.2222222222222222,\"#7201a8\"],[0.3333333333333333,\"#9c179e\"],[0.4444444444444444,\"#bd3786\"],[0.5555555555555556,\"#d8576b\"],[0.6666666666666666,\"#ed7953\"],[0.7777777777777778,\"#fb9f3a\"],[0.8888888888888888,\"#fdca26\"],[1.0,\"#f0f921\"]]},\"colorway\":[\"#636efa\",\"#EF553B\",\"#00cc96\",\"#ab63fa\",\"#FFA15A\",\"#19d3f3\",\"#FF6692\",\"#B6E880\",\"#FF97FF\",\"#FECB52\"],\"font\":{\"color\":\"#f2f5fa\"},\"geo\":{\"bgcolor\":\"rgb(17,17,17)\",\"lakecolor\":\"rgb(17,17,17)\",\"landcolor\":\"rgb(17,17,17)\",\"showlakes\":true,\"showland\":true,\"subunitcolor\":\"#506784\"},\"hoverlabel\":{\"align\":\"left\"},\"hovermode\":\"closest\",\"mapbox\":{\"style\":\"dark\"},\"paper_bgcolor\":\"rgb(17,17,17)\",\"plot_bgcolor\":\"rgb(17,17,17)\",\"polar\":{\"angularaxis\":{\"gridcolor\":\"#506784\",\"linecolor\":\"#506784\",\"ticks\":\"\"},\"bgcolor\":\"rgb(17,17,17)\",\"radialaxis\":{\"gridcolor\":\"#506784\",\"linecolor\":\"#506784\",\"ticks\":\"\"}},\"scene\":{\"xaxis\":{\"backgroundcolor\":\"rgb(17,17,17)\",\"gridcolor\":\"#506784\",\"gridwidth\":2,\"linecolor\":\"#506784\",\"showbackground\":true,\"ticks\":\"\",\"zerolinecolor\":\"#C8D4E3\"},\"yaxis\":{\"backgroundcolor\":\"rgb(17,17,17)\",\"gridcolor\":\"#506784\",\"gridwidth\":2,\"linecolor\":\"#506784\",\"showbackground\":true,\"ticks\":\"\",\"zerolinecolor\":\"#C8D4E3\"},\"zaxis\":{\"backgroundcolor\":\"rgb(17,17,17)\",\"gridcolor\":\"#506784\",\"gridwidth\":2,\"linecolor\":\"#506784\",\"showbackground\":true,\"ticks\":\"\",\"zerolinecolor\":\"#C8D4E3\"}},\"shapedefaults\":{\"line\":{\"color\":\"#f2f5fa\"}},\"sliderdefaults\":{\"bgcolor\":\"#C8D4E3\",\"bordercolor\":\"rgb(17,17,17)\",\"borderwidth\":1,\"tickwidth\":0},\"ternary\":{\"aaxis\":{\"gridcolor\":\"#506784\",\"linecolor\":\"#506784\",\"ticks\":\"\"},\"baxis\":{\"gridcolor\":\"#506784\",\"linecolor\":\"#506784\",\"ticks\":\"\"},\"bgcolor\":\"rgb(17,17,17)\",\"caxis\":{\"gridcolor\":\"#506784\",\"linecolor\":\"#506784\",\"ticks\":\"\"}},\"title\":{\"x\":0.05},\"updatemenudefaults\":{\"bgcolor\":\"#506784\",\"borderwidth\":0},\"xaxis\":{\"automargin\":true,\"gridcolor\":\"#283442\",\"linecolor\":\"#506784\",\"ticks\":\"\",\"title\":{\"standoff\":15},\"zerolinecolor\":\"#283442\",\"zerolinewidth\":2},\"yaxis\":{\"automargin\":true,\"gridcolor\":\"#283442\",\"linecolor\":\"#506784\",\"ticks\":\"\",\"title\":{\"standoff\":15},\"zerolinecolor\":\"#283442\",\"zerolinewidth\":2}}},\"xaxis\":{\"anchor\":\"y\",\"domain\":[0.0,1.0],\"title\":{\"text\":\"children\"}},\"yaxis\":{\"anchor\":\"x\",\"domain\":[0.0,1.0],\"title\":{\"text\":\"count\"}},\"legend\":{\"tracegroupgap\":0},\"title\":{\"text\":\"Number of children frequency\"},\"barmode\":\"relative\"},                        {\"responsive\": true}                    ).then(function(){\n",
              "                            \n",
              "var gd = document.getElementById('d48e015d-c831-4eb5-9dbb-dedf9b236751');\n",
              "var x = new MutationObserver(function (mutations, observer) {{\n",
              "        var display = window.getComputedStyle(gd).display;\n",
              "        if (!display || display === 'none') {{\n",
              "            console.log([gd, 'removed!']);\n",
              "            Plotly.purge(gd);\n",
              "            observer.disconnect();\n",
              "        }}\n",
              "}});\n",
              "\n",
              "// Listen for the removal of the full notebook cells\n",
              "var notebookContainer = gd.closest('#notebook-container');\n",
              "if (notebookContainer) {{\n",
              "    x.observe(notebookContainer, {childList: true});\n",
              "}}\n",
              "\n",
              "// Listen for the clearing of the current output cell\n",
              "var outputEl = gd.closest('.output');\n",
              "if (outputEl) {{\n",
              "    x.observe(outputEl, {childList: true});\n",
              "}}\n",
              "\n",
              "                        })                };                            </script>        </div>\n",
              "</body>\n",
              "</html>"
            ]
          },
          "metadata": {}
        }
      ]
    },
    {
      "cell_type": "code",
      "source": [
        "px.box(df2.sort_values(by='children'), y='charges', x='children', title='Children cost comparison',template='plotly_dark', notched=False)\n"
      ],
      "metadata": {
        "colab": {
          "base_uri": "https://localhost:8080/",
          "height": 542
        },
        "id": "0Yumub8AyiWS",
        "outputId": "0c0a9b8e-6383-4ea0-b09d-cc36aaf24d46"
      },
      "execution_count": 74,
      "outputs": [
        {
          "output_type": "display_data",
          "data": {
            "text/html": [
              "<html>\n",
              "<head><meta charset=\"utf-8\" /></head>\n",
              "<body>\n",
              "    <div>            <script src=\"https://cdnjs.cloudflare.com/ajax/libs/mathjax/2.7.5/MathJax.js?config=TeX-AMS-MML_SVG\"></script><script type=\"text/javascript\">if (window.MathJax) {MathJax.Hub.Config({SVG: {font: \"STIX-Web\"}});}</script>                <script type=\"text/javascript\">window.PlotlyConfig = {MathJaxConfig: 'local'};</script>\n",
              "        <script src=\"https://cdn.plot.ly/plotly-2.8.3.min.js\"></script>                <div id=\"c03e0c40-6d8a-4ed5-9d6f-fc15acd35a90\" class=\"plotly-graph-div\" style=\"height:525px; width:100%;\"></div>            <script type=\"text/javascript\">                                    window.PLOTLYENV=window.PLOTLYENV || {};                                    if (document.getElementById(\"c03e0c40-6d8a-4ed5-9d6f-fc15acd35a90\")) {                    Plotly.newPlot(                        \"c03e0c40-6d8a-4ed5-9d6f-fc15acd35a90\",                        [{\"alignmentgroup\":\"True\",\"hovertemplate\":\"children=%{x}<br>charges=%{y}<extra></extra>\",\"legendgroup\":\"\",\"marker\":{\"color\":\"#636efa\"},\"name\":\"\",\"notched\":false,\"offsetgroup\":\"\",\"orientation\":\"v\",\"showlegend\":false,\"x\":[0,0,0,0,0,0,0,0,0,0,0,0,0,0,0,0,0,0,0,0,0,0,0,0,0,0,0,0,0,0,0,0,0,0,0,0,0,0,0,0,0,0,0,0,0,0,0,0,0,0,0,0,0,0,0,0,0,0,0,0,0,0,0,0,0,0,0,0,0,0,0,0,0,0,0,0,0,0,0,0,0,0,0,0,0,0,0,0,0,0,0,0,0,0,0,0,0,0,0,0,0,0,0,0,0,0,0,0,0,0,0,0,0,0,0,0,0,0,0,0,0,0,0,0,0,0,0,0,0,0,0,0,0,0,0,0,0,0,0,0,0,0,0,0,0,0,0,0,0,0,0,0,0,0,0,0,0,0,0,0,0,0,0,0,0,0,0,0,0,0,0,0,0,0,0,0,0,0,0,0,0,0,0,0,0,0,0,0,0,0,0,0,0,0,0,0,0,0,0,0,0,0,0,0,0,0,0,0,0,0,0,0,0,0,0,0,0,0,0,0,0,0,0,0,0,0,0,0,0,0,0,0,0,0,0,0,0,0,0,0,0,0,0,0,0,0,0,0,0,0,0,0,0,0,0,0,0,0,0,0,0,0,0,0,0,0,0,0,0,0,0,0,0,0,0,0,0,0,0,0,0,0,0,0,0,0,0,0,0,0,0,0,0,0,0,0,0,0,0,0,0,0,0,0,0,0,0,0,0,0,0,0,0,0,0,0,0,0,0,0,0,0,0,0,0,0,0,0,0,0,0,0,0,0,0,0,0,0,0,0,0,0,0,0,0,0,0,0,0,0,0,0,0,0,0,0,0,0,0,0,0,0,0,0,0,0,0,0,0,0,0,0,0,0,0,0,0,0,0,0,0,0,0,0,0,0,0,0,0,0,0,0,0,0,0,0,0,0,0,0,0,0,0,0,0,0,0,0,0,0,0,0,0,0,0,0,0,0,0,0,0,0,0,0,0,0,0,0,0,0,0,0,0,0,0,0,0,0,0,0,0,0,0,0,0,0,0,0,0,0,0,0,0,0,0,0,0,0,0,0,0,0,0,0,0,0,0,0,0,0,0,0,0,0,0,0,0,0,0,0,0,0,0,0,0,0,0,0,0,0,0,0,0,0,0,0,0,0,0,0,0,0,0,0,0,0,0,0,0,0,0,0,0,0,0,0,0,0,0,0,0,0,0,0,0,0,0,0,0,0,0,0,0,0,0,0,0,0,0,0,0,0,0,0,0,0,0,0,0,0,0,0,0,0,0,0,0,0,0,0,0,0,0,0,0,0,0,0,1,1,1,1,1,1,1,1,1,1,1,1,1,1,1,1,1,1,1,1,1,1,1,1,1,1,1,1,1,1,1,1,1,1,1,1,1,1,1,1,1,1,1,1,1,1,1,1,1,1,1,1,1,1,1,1,1,1,1,1,1,1,1,1,1,1,1,1,1,1,1,1,1,1,1,1,1,1,1,1,1,1,1,1,1,1,1,1,1,1,1,1,1,1,1,1,1,1,1,1,1,1,1,1,1,1,1,1,1,1,1,1,1,1,1,1,1,1,1,1,1,1,1,1,1,1,1,1,1,1,1,1,1,1,1,1,1,1,1,1,1,1,1,1,1,1,1,1,1,1,1,1,1,1,1,1,1,1,1,1,1,1,1,1,1,1,1,1,1,1,1,1,1,1,1,1,1,1,1,1,1,1,1,1,1,1,1,1,1,1,1,1,1,1,1,1,1,1,1,1,1,1,1,1,1,1,1,1,1,1,1,1,1,1,1,1,1,1,1,1,1,1,1,1,1,1,1,1,1,1,1,1,1,1,1,1,1,1,1,1,1,1,1,1,1,1,1,1,1,1,1,1,1,1,1,1,1,1,1,1,1,1,1,1,1,1,1,1,1,1,1,1,1,1,1,1,1,1,1,1,1,1,1,1,1,1,1,1,1,1,1,1,1,1,1,1,1,1,1,1,1,1,1,1,1,1,1,1,1,1,1,1,1,1,1,1,1,2,2,2,2,2,2,2,2,2,2,2,2,2,2,2,2,2,2,2,2,2,2,2,2,2,2,2,2,2,2,2,2,2,2,2,2,2,2,2,2,2,2,2,2,2,2,2,2,2,2,2,2,2,2,2,2,2,2,2,2,2,2,2,2,2,2,2,2,2,2,2,2,2,2,2,2,2,2,2,2,2,2,2,2,2,2,2,2,2,2,2,2,2,2,2,2,2,2,2,2,2,2,2,2,2,2,2,2,2,2,2,2,2,2,2,2,2,2,2,2,2,2,2,2,2,2,2,2,2,2,2,2,2,2,2,2,2,2,2,2,2,2,2,2,2,2,2,2,2,2,2,2,2,2,2,2,2,2,2,2,2,2,2,2,2,2,2,2,2,2,2,2,2,2,2,2,2,2,2,2,2,2,2,2,2,2,2,2,2,2,2,2,2,2,2,2,2,2,2,2,2,2,2,2,2,2,2,2,2,2,2,2,2,2,2,2,2,2,2,2,2,2,2,2,2,2,2,2,2,2,2,2,2,3,3,3,3,3,3,3,3,3,3,3,3,3,3,3,3,3,3,3,3,3,3,3,3,3,3,3,3,3,3,3,3,3,3,3,3,3,3,3,3,3,3,3,3,3,3,3,3,3,3,3,3,3,3,3,3,3,3,3,3,3,3,3,3,3,3,3,3,3,3,3,3,3,3,3,3,3,3,3,3,3,3,3,3,3,3,3,3,3,3,3,3,3,3,3,3,3,3,3,3,3,3,3,3,3,3,3,3,3,3,3,3,3,3,3,3,3,3,3,3,3,3,3,3,3,3,3,3,3,3,3,3,3,3,3,3,3,3,3,3,3,3,3,3,3,3,3,3,3,3,3,3,3,3,3,3,4,4,4,4,4,4,4,4,4,4,4,4,4,4,4,4,4,4,4,4,4,4,4,4,4,5,5,5,5,5,5,5,5,5,5,5,5,5,5,5,5,5],\"x0\":\" \",\"xaxis\":\"x\",\"y\":[16884.924,5438.7491,2104.1134,2352.96845,3201.24515,10976.24575,2020.5523,9541.69555,9504.3103,44400.4064,9863.4718,5469.0066,2457.502,12146.971,12231.6136,9875.6804,12979.358,1263.249,2217.6012,40419.0191,18246.4955,1984.4533,1242.26,7222.78625,6185.3208,10713.644,34617.84065,12129.61415,3736.4647,11365.952,42983.4585,1977.815,3366.6697,14410.9321,20149.3229,13143.86485,1712.227,12430.95335,8280.6227,12244.531,1136.3994,27037.9141,45710.20785,2007.945,3943.5954,4399.731,43254.41795,3757.8448,8827.2099,1627.28245,14313.8463,38792.6856,1815.8759,7731.85785,2136.88225,1131.5066,1877.9294,2842.76075,55135.40209,2680.9493,1621.8827,12523.6048,13393.756,5266.3656,11743.9341,4402.233,11657.7189,12622.1795,1526.312,12323.936,27533.9129,17904.52705,34439.8559,11848.141,21195.818,3062.50825,19539.243,1906.35825,14210.53595,11833.7823,23065.4207,36307.7983,3070.8087,11842.62375,14319.031,12797.20962,17748.5062,7448.40395,9869.8102,1146.7966,12741.16745,1917.3184,13457.9608,5662.225,1252.407,2731.9122,18310.742,10072.05505,11658.11505,2207.69745,10601.412,22144.032,11165.41765,1632.03625,2497.0383,2203.47185,1744.465,20878.78443,35147.52848,11840.77505,2534.39375,1824.2854,1622.1885,4347.02335,1253.936,48885.13561,1748.774,24513.09126,2196.4732,12574.049,1534.3045,21797.0004,1769.53165,1969.614,3260.199,4185.0979,1621.3402,2134.9015,9140.951,28950.4692,46889.2612,46599.1084,2727.3951,7323.734819,23082.95533,5969.723,12638.195,2254.7967,2897.3235,37079.372,1149.3959,7345.084,12730.9996,11454.0215,5910.944,1967.0227,13470.86,36197.699,6837.3687,17878.90068,3935.1799,1646.4297,10923.9332,2494.022,2128.43105,3761.292,12222.8983,1664.9996,3206.49135,1242.816,13635.6379,11842.442,5709.1644,1633.0444,9174.13565,11070.535,17468.9839,9283.562,3558.62025,25678.77845,12957.118,1880.07,3972.9247,3213.62205,32548.3405,3044.2133,11455.28,2498.4144,9361.3268,1256.299,11362.755,3857.75925,25656.57526,3994.1778,9866.30485,5397.6167,11482.63485,1708.0014,14043.4767,19214.70553,13831.1152,27346.04207,13887.204,10231.4999,3268.84665,13390.559,45008.9555,2974.126,10601.63225,3989.841,2200.83085,5227.98875,10982.5013,11093.6229,2154.361,2899.48935,19350.3689,2850.68375,2459.7201,2632.992,13126.67745,8671.19125,4134.08245,33307.5508,5699.8375,2055.3249,1702.4553,12890.05765,5415.6612,13844.7972,39722.7462,12235.8392,2203.73595,1674.6323,23045.56616,11363.2832,20420.60465,10338.9316,8988.15875,2396.0959,34166.273,14254.6082,10214.636,1728.897,20709.02034,9991.03765,19673.33573,3176.2877,3704.3545,36898.73308,27117.99378,52590.82939,2261.5688,5979.731,8442.667,26125.67477,10594.2257,11938.25595,14283.4594,8534.6718,3732.6251,34828.654,1515.3449,11931.12525,1708.92575,62592.87309,37829.7242,2464.6188,16115.3045,33900.653,4571.41305,1731.677,28101.33305,12981.3457,13143.33665,7050.0213,10795.93733,2205.9808,1629.8335,8283.6807,33907.548,4357.04365,10959.33,20167.33603,11345.519,2699.56835,14449.8544,12224.35085,3171.6149,1135.9407,1633.9618,18648.4217,1241.565,16232.847,4415.1588,6474.013,10197.7722,4544.2348,26926.5144,10704.47,34254.05335,1880.487,3021.80915,17043.3414,2741.948,11286.5387,41676.0811,10577.087,8125.7845,12644.589,17496.306,33732.6867,2473.3341,21774.32215,35069.37452,13041.921,13451.122,13462.52,4320.41085,6250.435,13470.8044,7348.142,12233.828,9487.6442,1121.8739,2217.46915,1628.4709,12982.8747,6358.77645,48673.5588,11534.87265,8688.85885,1634.5734,37270.1512,42111.6647,1875.344,40974.1649,15817.9857,10965.446,5458.04645,8782.469,1141.4451,13129.60345,8457.818,5966.8874,2690.1138,2585.85065,27218.43725,5272.1758,1682.597,29330.98315,10422.91665,13555.0049,13063.883,2117.33885,14692.66935,3353.284,2527.81865,20234.85475,1704.70015,33475.81715,3161.454,7325.0482,39727.614,14394.5579,3353.4703,10594.50155,8277.523,17929.30337,2480.9791,1981.5819,5757.41345,13974.45555,1909.52745,13204.28565,2102.2647,34672.1472,10796.35025,11353.2276,2250.8352,4992.3764,12950.0712,4137.5227,1759.338,2322.6218,16138.76205,7804.1605,4889.0368,4500.33925,4518.82625,14571.8908,13887.9685,5267.81815,34472.841,1972.95,21232.18226,8269.044,5383.536,12124.9924,8798.593,2020.177,21595.38229,9850.432,44423.803,13747.87235,9264.797,29141.3603,2166.732,5400.9805,7421.19455,12557.6053,4883.866,48173.361,3046.062,10435.06525,2137.6536,8835.26495,9722.7695,1137.4697,1639.5631,34838.873,8124.4084,5649.715,9644.2525,14901.5167,1737.376,2130.6759,8444.474,13012.20865,37133.8982,7147.105,2302.3,20630.28351,1625.43375,1631.6683,13217.0945,8601.3293,13352.0998,18955.22017,11735.87905,12142.5786,1631.8212,30259.99556,13822.803,7419.4779,11658.37915,13429.0354,35585.576,2198.18985,2404.7338,24393.6224,4646.759,9144.565,47055.5321,2866.091,13770.0979,11566.30055,2867.1196,35491.64,11944.59435,11743.299,3556.9223,1615.7667,11073.176,2150.469,43578.9394,17352.6803,2523.1695,14711.7438,7935.29115,6571.02435,29523.1656,24476.47851,12648.7034,1986.9334,1743.214,2755.02095,1532.4697,11356.6609,36219.40545,41097.16175,5920.1041,11837.16,33750.2918,16577.7795,8026.6666,11082.5772,1727.785,2026.9741,12629.8967,13880.949,21344.8467,2211.13075,3645.0894,6186.127,15820.699,16297.846,1704.5681,22412.6485,10355.641,48824.45,10226.2842,3172.018,37742.5757,2483.736,25081.76784,10564.8845,14256.1928,34779.615,19515.5416,9625.92,2689.4954,24227.33724,2156.7518,13981.85035,43921.1837,14451.83515,6948.7008,21223.6758,12815.44495,15518.18025,36950.2567,28923.13692,10602.385,2457.21115,3756.6216,2155.6815,9634.538,13844.506,21348.706,36149.4835,1261.442,3866.8552,36837.467,2138.0707,2045.68525,13415.0381,19964.7463,1261.859,11856.4115,20781.48892,42303.69215,2721.3208,27808.7251,38126.2465,13616.3586,2855.43755,1826.843,3176.8159,7789.635,1632.56445,18033.9679,1391.5287,11090.7178,39611.7577,12029.2867,1607.5101,2395.17155,1837.2819,8116.68,13405.3903,1705.6245,16586.49771,21984.47061,2257.47525,1635.73365,13228.84695,8932.084,1137.011,3554.203,3385.39915,12404.8791,11830.6072,14133.03775,24603.04837,17081.08,5028.1466,7526.70645,10791.96,14474.675,8556.907,11512.405,2902.9065,16657.71745,4350.5144,24520.264,9386.1613,12333.828,9910.35985,7624.63,6664.68595,1832.094,28340.18885,10807.4863,7443.64305,1842.519,9048.0273,7358.17565,2730.10785,10106.13425,28468.91901,10942.13205,3471.4096,4719.52405,7727.2532,41034.2214,2904.088,38282.7495,6781.3542,4441.21315,8627.5411,7623.518,3490.5491,35160.13457,3947.4131,37165.1638,5354.07465,2416.955,19040.876,14358.36437,7152.6714,9583.8933,8062.764,16796.41194,11946.6259,25517.11363,7050.642,9447.25035,5630.45785,9877.6077,10959.6947,4040.55825,7518.02535,9957.7216,40904.1995,10065.413,4746.344,18903.49141,5484.4673,7046.7222,5002.7827,2103.08,4462.7218,6849.026,21677.28345,11554.2236,5245.2269,48970.2476,10450.552,11576.13,7045.499,5488.262,12032.326,14349.8544,16450.8947,18218.16139,12044.342,26140.3603,10825.2537,6282.235,2789.0574,5246.047,2221.56445,10436.096,7633.7206,11394.06555,19107.7796,3594.17085,6289.7549,39725.51805,2639.0429,2719.27975,19719.6947,8023.13545,7626.993,9288.0267,39556.4945,11945.1327,6238.298,10928.849,39871.7043,5855.9025,4076.497,7445.918,23401.30575,5125.2157,4527.18295,8765.249,4454.40265,3766.8838,20009.63365,3309.7926,3875.7341,3392.9768,28476.73499,41999.52,5012.471,3227.1211,12609.88702,20773.62775,1980.07,1711.0268,2331.519,17560.37975,42211.1382,9872.701,8871.1517,7077.1894,6117.4945,4337.7352,11674.13,2709.24395,4562.8421,8551.347,5377.4578,39047.285,6610.1097,5003.853,6775.961,3392.3652,18963.17192,6600.20595,3561.8889,3277.161,47928.03,6770.1925,48517.56315,7337.748,8233.0975,6067.12675,2775.19215,11305.93455,48675.5177,9861.025,3292.52985,38245.59327,13937.6665,41919.097,8232.6388,5240.765,27724.28875,21082.16,4747.0529,8342.90875,8334.5896,51194.55914,4894.7533,6858.4796,4795.6568,4151.0287,6079.6715,5594.8455,8823.98575,15359.1045,6272.4772,8428.0693,5976.8311,3238.4357,43943.8761,4779.6023,17626.23951,12913.9924,58571.07448,31620.00106,2219.4451,37607.5277,6373.55735,39774.2763,9058.7303,4667.60765,11763.0009,8547.6913,8334.45755,2643.2685,27000.98473,26109.32905,28287.89766,4738.2682,6940.90985,4536.259,4243.59005,11272.33139,3167.45585,6555.07035,4762.329,8240.5896,4239.89265,8964.06055,14418.2804,9290.1395,7345.7266,9377.9047,19594.80965,4074.4537,8539.671,1725.5523,39125.33225,4032.2407,3208.787,7639.41745,22462.04375,5974.3847,5478.0368,22218.1149,4149.736,1720.3537,10461.9794,47403.88,9880.068,5472.449,7147.4728,4751.07,2597.779,28868.6639,9778.3472,10797.3362,1964.78,2201.0971,23288.9284,1837.237,13224.693,19521.9682,2710.82855,37701.8768,38709.176,9724.53,13725.47184,7650.77375,9617.66245,2585.269,30166.61817,9447.3824,18328.2381,21771.3423,6500.2359,9855.1314,13019.16105,8703.456,23244.7902,22331.5668,5148.5526,22192.43711,26392.26029,3410.324,6393.60345,4237.12655,4133.64165,4766.022,6496.886,23887.6627,7153.5539,13112.6048,9566.9909,17085.2676,6389.37785,1727.54,6112.35295,17178.6824,8930.93455,11879.10405,5385.3379,3378.91,7441.053,3577.999,9282.4806,2362.22905,8068.185,1719.4363,34806.4677,26236.57997,17179.522,10579.711,40273.6455,10085.846,11326.71487,21978.6769,7742.1098,9182.17,23568.272,20277.80751,3659.346,9391.346,9249.4952,5373.36425,47896.79135,12347.172,20296.86345,2709.1119,3956.07145,4718.20355,9964.06,42969.8527,41661.602,5116.5004,6123.5688,6875.961,6338.0756,6457.8434,4433.9159,11163.568,12096.6512,9630.397,10325.206,21259.37795,10118.424,12629.1656,3987.926,7144.86265,5261.46945,6313.759,3579.8287,7162.0122,6640.54485,14426.07385,4529.477,4670.64,17361.7661,3393.35635,15019.76005,22395.74424,4058.1161,4433.3877,4438.2634,23241.47453,43896.3763,8515.7587,4340.4409,7201.70085,7726.854,18767.7377,6406.4107,22478.6,14235.072,36397.576,6198.7518,10806.839,8347.1643,6203.90175,7740.337,36124.5737,6686.4313,12268.63225,34303.1672,38415.474,21880.82,8978.1851,16776.30405,36910.60803,47496.49445,10493.9458,38711.0,4934.705,8733.22925,10370.91255,5729.0053,11881.358,13607.36875,22493.65964,11884.04858,5327.40025,47269.854,44641.1974,6082.405,47291.055,5124.1887,7133.9025,32734.1863,39836.519,49577.6624,38344.566,21098.55405,6877.9801,4949.7587,23563.01618,8603.8234,3877.30425,5989.52365,24535.69855,4189.1131,37484.4493,5836.5204,26018.95052,6593.5083,14988.432,8310.83915,9193.8385,2801.2588,7256.7231,6710.1919,45702.02235,19444.2658,4753.6368,6986.697,13224.05705,7261.741,4463.2051,11150.78,6933.24225,9095.06825,38511.6283,3925.7582,2566.4707,3847.674,9225.2564,7209.4918,11187.6567,16069.08475,8219.2039,8413.46305,3537.703,8520.026,24059.68019,7371.772,5584.3057,7640.3092,19144.57652,24667.419,4428.88785,11013.7119,8825.086,3056.3881,23807.2406,4266.1658,42760.5022,12925.886,7441.501,5031.26955,33471.97189,24915.04626,3500.6123,29186.48236,42856.838,7729.64575,11244.3769,7265.7025,40103.89,5375.038,10156.7832,46200.9851,9715.841,2803.69785,12928.7911,40003.33225,42560.4304,9800.8882,8527.532,18806.14547,43813.8661,7173.35995,27375.90478,7749.1564,11737.84884,12829.4551,47305.305,44260.7499,8604.48365,44585.45587,3484.331,10107.2206,20177.67113,12646.207,4349.462,4435.0942,39241.442,6571.544,12265.5069,23306.547,10848.1343,19442.3535,4889.9995,4058.71245,11881.9696,18608.262,8017.06115,44202.6536,8823.279,19798.05455,6455.86265,8968.33,12643.3778,4564.19145,15230.32405,3279.86855,23967.38305,5257.50795,36085.219,9411.005,4719.73655,5152.134,25333.33284,2913.569,15006.57945,30284.64294,5846.9176,4673.3922,32108.66282,38998.546,8302.53565,2304.0022,47462.894,4906.40965,7160.094,26467.09737,18157.876,8116.26885,4931.647,4922.9159,8027.968,3180.5101,8211.1002,11396.9002,11729.6795,3981.9768,14119.62,8516.829,12269.68865,18972.495,36021.0112,6311.952,6402.29135,9304.7019,20984.0936,7160.3303,3077.0955,7731.4271,14455.64405,10043.249,6600.361,10269.46,4449.462,10600.5483,38746.3551,6748.5912,4466.6214,18804.7524,11411.685,25992.82104,8522.003,32787.45859,5425.02335,7281.5056,6652.5288,8252.2843,8059.6791,4618.0799,18765.87545,10141.1362,18223.4512,3906.127,6746.7425,14001.1338,24873.3849,25382.297,15555.18875,15612.19335,39983.42595,11436.73815,30063.58055,9101.798,9563.029,9620.3307,8944.1151,6196.448,8615.3,6796.86325,6184.2994,12475.3513,13430.265,9301.89355,4296.2712,6753.038,13919.8229,5926.846,60021.39897,16085.1275,16455.70785,12479.70895,21659.9301,46718.16325,7682.67,10381.4787,6985.50695,42124.5153,3481.868,3861.20965,7537.1639,5972.378,8410.04685,18838.70366,46255.1125,25309.489,3443.064,43753.33705,8891.1395,5325.651,4391.652,6548.19505,7151.092,24106.91255,30942.1918,11488.31695,15161.5344,3597.596,3591.48,12105.32,6360.9936,9414.92,5253.524,11253.421,11987.1682,30184.9367,5209.57885,14001.2867,39597.4072,4005.4225,8538.28845,4661.28635,19199.944,16420.49455,7986.47525,7418.522,27322.73386,6551.7501,9704.66805,20745.9891,5138.2567,40720.55105,10702.6424,24915.22085,9500.57305,19933.458,6334.34355,12495.29085,35595.5898,19749.38338,6128.79745,10115.00885,12094.478,14382.70905,4827.90495,15170.069,4846.92015,8605.3615,6414.178,4837.5823,10264.4421,19361.9988,5428.7277,11264.541,11085.5868,11741.726,7985.815,6113.23105,20462.99766,7196.867,24869.8368,11289.10925,36189.1017,4260.744,14007.222,7228.21565,40941.2854,7954.517,27941.28758,46661.4424,46151.1245,41949.2441,24180.9335,5312.16985,48549.17835,18259.216,8606.2174,37465.34375,12485.8009,46130.5265,12363.547,13047.33235,5934.3798,5693.4305,10560.4917,14590.63205,40932.4295,17663.1442,4234.927,21472.4788,15828.82173,40182.246,36580.28216,19496.71917,12949.1554,10736.87075,4504.6624,11520.09985,10407.08585,11015.1747,8162.71625,6059.173,4561.1885,14394.39815,10977.2063,7512.267,11033.6617,5708.867,17942.106,11299.343,4877.98105,7243.8136,24671.66334,17128.42608,6653.7886,4915.05985,4687.797,11552.904,6799.458,9222.4026,5615.369,5080.096,19023.26,6666.243,14478.33015,8965.79575,8596.8278,8582.3023,9788.8659,10096.97,4830.63],\"y0\":\" \",\"yaxis\":\"y\",\"type\":\"box\"}],                        {\"template\":{\"data\":{\"barpolar\":[{\"marker\":{\"line\":{\"color\":\"rgb(17,17,17)\",\"width\":0.5},\"pattern\":{\"fillmode\":\"overlay\",\"size\":10,\"solidity\":0.2}},\"type\":\"barpolar\"}],\"bar\":[{\"error_x\":{\"color\":\"#f2f5fa\"},\"error_y\":{\"color\":\"#f2f5fa\"},\"marker\":{\"line\":{\"color\":\"rgb(17,17,17)\",\"width\":0.5},\"pattern\":{\"fillmode\":\"overlay\",\"size\":10,\"solidity\":0.2}},\"type\":\"bar\"}],\"carpet\":[{\"aaxis\":{\"endlinecolor\":\"#A2B1C6\",\"gridcolor\":\"#506784\",\"linecolor\":\"#506784\",\"minorgridcolor\":\"#506784\",\"startlinecolor\":\"#A2B1C6\"},\"baxis\":{\"endlinecolor\":\"#A2B1C6\",\"gridcolor\":\"#506784\",\"linecolor\":\"#506784\",\"minorgridcolor\":\"#506784\",\"startlinecolor\":\"#A2B1C6\"},\"type\":\"carpet\"}],\"choropleth\":[{\"colorbar\":{\"outlinewidth\":0,\"ticks\":\"\"},\"type\":\"choropleth\"}],\"contourcarpet\":[{\"colorbar\":{\"outlinewidth\":0,\"ticks\":\"\"},\"type\":\"contourcarpet\"}],\"contour\":[{\"colorbar\":{\"outlinewidth\":0,\"ticks\":\"\"},\"colorscale\":[[0.0,\"#0d0887\"],[0.1111111111111111,\"#46039f\"],[0.2222222222222222,\"#7201a8\"],[0.3333333333333333,\"#9c179e\"],[0.4444444444444444,\"#bd3786\"],[0.5555555555555556,\"#d8576b\"],[0.6666666666666666,\"#ed7953\"],[0.7777777777777778,\"#fb9f3a\"],[0.8888888888888888,\"#fdca26\"],[1.0,\"#f0f921\"]],\"type\":\"contour\"}],\"heatmapgl\":[{\"colorbar\":{\"outlinewidth\":0,\"ticks\":\"\"},\"colorscale\":[[0.0,\"#0d0887\"],[0.1111111111111111,\"#46039f\"],[0.2222222222222222,\"#7201a8\"],[0.3333333333333333,\"#9c179e\"],[0.4444444444444444,\"#bd3786\"],[0.5555555555555556,\"#d8576b\"],[0.6666666666666666,\"#ed7953\"],[0.7777777777777778,\"#fb9f3a\"],[0.8888888888888888,\"#fdca26\"],[1.0,\"#f0f921\"]],\"type\":\"heatmapgl\"}],\"heatmap\":[{\"colorbar\":{\"outlinewidth\":0,\"ticks\":\"\"},\"colorscale\":[[0.0,\"#0d0887\"],[0.1111111111111111,\"#46039f\"],[0.2222222222222222,\"#7201a8\"],[0.3333333333333333,\"#9c179e\"],[0.4444444444444444,\"#bd3786\"],[0.5555555555555556,\"#d8576b\"],[0.6666666666666666,\"#ed7953\"],[0.7777777777777778,\"#fb9f3a\"],[0.8888888888888888,\"#fdca26\"],[1.0,\"#f0f921\"]],\"type\":\"heatmap\"}],\"histogram2dcontour\":[{\"colorbar\":{\"outlinewidth\":0,\"ticks\":\"\"},\"colorscale\":[[0.0,\"#0d0887\"],[0.1111111111111111,\"#46039f\"],[0.2222222222222222,\"#7201a8\"],[0.3333333333333333,\"#9c179e\"],[0.4444444444444444,\"#bd3786\"],[0.5555555555555556,\"#d8576b\"],[0.6666666666666666,\"#ed7953\"],[0.7777777777777778,\"#fb9f3a\"],[0.8888888888888888,\"#fdca26\"],[1.0,\"#f0f921\"]],\"type\":\"histogram2dcontour\"}],\"histogram2d\":[{\"colorbar\":{\"outlinewidth\":0,\"ticks\":\"\"},\"colorscale\":[[0.0,\"#0d0887\"],[0.1111111111111111,\"#46039f\"],[0.2222222222222222,\"#7201a8\"],[0.3333333333333333,\"#9c179e\"],[0.4444444444444444,\"#bd3786\"],[0.5555555555555556,\"#d8576b\"],[0.6666666666666666,\"#ed7953\"],[0.7777777777777778,\"#fb9f3a\"],[0.8888888888888888,\"#fdca26\"],[1.0,\"#f0f921\"]],\"type\":\"histogram2d\"}],\"histogram\":[{\"marker\":{\"pattern\":{\"fillmode\":\"overlay\",\"size\":10,\"solidity\":0.2}},\"type\":\"histogram\"}],\"mesh3d\":[{\"colorbar\":{\"outlinewidth\":0,\"ticks\":\"\"},\"type\":\"mesh3d\"}],\"parcoords\":[{\"line\":{\"colorbar\":{\"outlinewidth\":0,\"ticks\":\"\"}},\"type\":\"parcoords\"}],\"pie\":[{\"automargin\":true,\"type\":\"pie\"}],\"scatter3d\":[{\"line\":{\"colorbar\":{\"outlinewidth\":0,\"ticks\":\"\"}},\"marker\":{\"colorbar\":{\"outlinewidth\":0,\"ticks\":\"\"}},\"type\":\"scatter3d\"}],\"scattercarpet\":[{\"marker\":{\"colorbar\":{\"outlinewidth\":0,\"ticks\":\"\"}},\"type\":\"scattercarpet\"}],\"scattergeo\":[{\"marker\":{\"colorbar\":{\"outlinewidth\":0,\"ticks\":\"\"}},\"type\":\"scattergeo\"}],\"scattergl\":[{\"marker\":{\"line\":{\"color\":\"#283442\"}},\"type\":\"scattergl\"}],\"scattermapbox\":[{\"marker\":{\"colorbar\":{\"outlinewidth\":0,\"ticks\":\"\"}},\"type\":\"scattermapbox\"}],\"scatterpolargl\":[{\"marker\":{\"colorbar\":{\"outlinewidth\":0,\"ticks\":\"\"}},\"type\":\"scatterpolargl\"}],\"scatterpolar\":[{\"marker\":{\"colorbar\":{\"outlinewidth\":0,\"ticks\":\"\"}},\"type\":\"scatterpolar\"}],\"scatter\":[{\"marker\":{\"line\":{\"color\":\"#283442\"}},\"type\":\"scatter\"}],\"scatterternary\":[{\"marker\":{\"colorbar\":{\"outlinewidth\":0,\"ticks\":\"\"}},\"type\":\"scatterternary\"}],\"surface\":[{\"colorbar\":{\"outlinewidth\":0,\"ticks\":\"\"},\"colorscale\":[[0.0,\"#0d0887\"],[0.1111111111111111,\"#46039f\"],[0.2222222222222222,\"#7201a8\"],[0.3333333333333333,\"#9c179e\"],[0.4444444444444444,\"#bd3786\"],[0.5555555555555556,\"#d8576b\"],[0.6666666666666666,\"#ed7953\"],[0.7777777777777778,\"#fb9f3a\"],[0.8888888888888888,\"#fdca26\"],[1.0,\"#f0f921\"]],\"type\":\"surface\"}],\"table\":[{\"cells\":{\"fill\":{\"color\":\"#506784\"},\"line\":{\"color\":\"rgb(17,17,17)\"}},\"header\":{\"fill\":{\"color\":\"#2a3f5f\"},\"line\":{\"color\":\"rgb(17,17,17)\"}},\"type\":\"table\"}]},\"layout\":{\"annotationdefaults\":{\"arrowcolor\":\"#f2f5fa\",\"arrowhead\":0,\"arrowwidth\":1},\"autotypenumbers\":\"strict\",\"coloraxis\":{\"colorbar\":{\"outlinewidth\":0,\"ticks\":\"\"}},\"colorscale\":{\"diverging\":[[0,\"#8e0152\"],[0.1,\"#c51b7d\"],[0.2,\"#de77ae\"],[0.3,\"#f1b6da\"],[0.4,\"#fde0ef\"],[0.5,\"#f7f7f7\"],[0.6,\"#e6f5d0\"],[0.7,\"#b8e186\"],[0.8,\"#7fbc41\"],[0.9,\"#4d9221\"],[1,\"#276419\"]],\"sequential\":[[0.0,\"#0d0887\"],[0.1111111111111111,\"#46039f\"],[0.2222222222222222,\"#7201a8\"],[0.3333333333333333,\"#9c179e\"],[0.4444444444444444,\"#bd3786\"],[0.5555555555555556,\"#d8576b\"],[0.6666666666666666,\"#ed7953\"],[0.7777777777777778,\"#fb9f3a\"],[0.8888888888888888,\"#fdca26\"],[1.0,\"#f0f921\"]],\"sequentialminus\":[[0.0,\"#0d0887\"],[0.1111111111111111,\"#46039f\"],[0.2222222222222222,\"#7201a8\"],[0.3333333333333333,\"#9c179e\"],[0.4444444444444444,\"#bd3786\"],[0.5555555555555556,\"#d8576b\"],[0.6666666666666666,\"#ed7953\"],[0.7777777777777778,\"#fb9f3a\"],[0.8888888888888888,\"#fdca26\"],[1.0,\"#f0f921\"]]},\"colorway\":[\"#636efa\",\"#EF553B\",\"#00cc96\",\"#ab63fa\",\"#FFA15A\",\"#19d3f3\",\"#FF6692\",\"#B6E880\",\"#FF97FF\",\"#FECB52\"],\"font\":{\"color\":\"#f2f5fa\"},\"geo\":{\"bgcolor\":\"rgb(17,17,17)\",\"lakecolor\":\"rgb(17,17,17)\",\"landcolor\":\"rgb(17,17,17)\",\"showlakes\":true,\"showland\":true,\"subunitcolor\":\"#506784\"},\"hoverlabel\":{\"align\":\"left\"},\"hovermode\":\"closest\",\"mapbox\":{\"style\":\"dark\"},\"paper_bgcolor\":\"rgb(17,17,17)\",\"plot_bgcolor\":\"rgb(17,17,17)\",\"polar\":{\"angularaxis\":{\"gridcolor\":\"#506784\",\"linecolor\":\"#506784\",\"ticks\":\"\"},\"bgcolor\":\"rgb(17,17,17)\",\"radialaxis\":{\"gridcolor\":\"#506784\",\"linecolor\":\"#506784\",\"ticks\":\"\"}},\"scene\":{\"xaxis\":{\"backgroundcolor\":\"rgb(17,17,17)\",\"gridcolor\":\"#506784\",\"gridwidth\":2,\"linecolor\":\"#506784\",\"showbackground\":true,\"ticks\":\"\",\"zerolinecolor\":\"#C8D4E3\"},\"yaxis\":{\"backgroundcolor\":\"rgb(17,17,17)\",\"gridcolor\":\"#506784\",\"gridwidth\":2,\"linecolor\":\"#506784\",\"showbackground\":true,\"ticks\":\"\",\"zerolinecolor\":\"#C8D4E3\"},\"zaxis\":{\"backgroundcolor\":\"rgb(17,17,17)\",\"gridcolor\":\"#506784\",\"gridwidth\":2,\"linecolor\":\"#506784\",\"showbackground\":true,\"ticks\":\"\",\"zerolinecolor\":\"#C8D4E3\"}},\"shapedefaults\":{\"line\":{\"color\":\"#f2f5fa\"}},\"sliderdefaults\":{\"bgcolor\":\"#C8D4E3\",\"bordercolor\":\"rgb(17,17,17)\",\"borderwidth\":1,\"tickwidth\":0},\"ternary\":{\"aaxis\":{\"gridcolor\":\"#506784\",\"linecolor\":\"#506784\",\"ticks\":\"\"},\"baxis\":{\"gridcolor\":\"#506784\",\"linecolor\":\"#506784\",\"ticks\":\"\"},\"bgcolor\":\"rgb(17,17,17)\",\"caxis\":{\"gridcolor\":\"#506784\",\"linecolor\":\"#506784\",\"ticks\":\"\"}},\"title\":{\"x\":0.05},\"updatemenudefaults\":{\"bgcolor\":\"#506784\",\"borderwidth\":0},\"xaxis\":{\"automargin\":true,\"gridcolor\":\"#283442\",\"linecolor\":\"#506784\",\"ticks\":\"\",\"title\":{\"standoff\":15},\"zerolinecolor\":\"#283442\",\"zerolinewidth\":2},\"yaxis\":{\"automargin\":true,\"gridcolor\":\"#283442\",\"linecolor\":\"#506784\",\"ticks\":\"\",\"title\":{\"standoff\":15},\"zerolinecolor\":\"#283442\",\"zerolinewidth\":2}}},\"xaxis\":{\"anchor\":\"y\",\"domain\":[0.0,1.0],\"title\":{\"text\":\"children\"}},\"yaxis\":{\"anchor\":\"x\",\"domain\":[0.0,1.0],\"title\":{\"text\":\"charges\"}},\"legend\":{\"tracegroupgap\":0},\"title\":{\"text\":\"Children cost comparison\"},\"boxmode\":\"group\"},                        {\"responsive\": true}                    ).then(function(){\n",
              "                            \n",
              "var gd = document.getElementById('c03e0c40-6d8a-4ed5-9d6f-fc15acd35a90');\n",
              "var x = new MutationObserver(function (mutations, observer) {{\n",
              "        var display = window.getComputedStyle(gd).display;\n",
              "        if (!display || display === 'none') {{\n",
              "            console.log([gd, 'removed!']);\n",
              "            Plotly.purge(gd);\n",
              "            observer.disconnect();\n",
              "        }}\n",
              "}});\n",
              "\n",
              "// Listen for the removal of the full notebook cells\n",
              "var notebookContainer = gd.closest('#notebook-container');\n",
              "if (notebookContainer) {{\n",
              "    x.observe(notebookContainer, {childList: true});\n",
              "}}\n",
              "\n",
              "// Listen for the clearing of the current output cell\n",
              "var outputEl = gd.closest('.output');\n",
              "if (outputEl) {{\n",
              "    x.observe(outputEl, {childList: true});\n",
              "}}\n",
              "\n",
              "                        })                };                            </script>        </div>\n",
              "</body>\n",
              "</html>"
            ]
          },
          "metadata": {}
        }
      ]
    },
    {
      "cell_type": "markdown",
      "source": [
        "# 💡 Insights:"
      ],
      "metadata": {
        "id": "uBxXRuEBysJX"
      }
    },
    {
      "cell_type": "markdown",
      "source": [
        "We have a bias data about children as the data has way more 0 children rows than the others\n",
        "\n",
        "The minimum charges increase the more children the person has\n",
        "\n",
        "The mediam of charges are not too different comparing each children classification\n",
        "\n",
        "The impact is where the charges start. However, there are other factors that pumps the charges up more than the number of children"
      ],
      "metadata": {
        "id": "UelesPjqy8Rm"
      }
    }
  ]
}